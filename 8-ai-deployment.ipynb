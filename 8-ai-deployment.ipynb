{
 "cells": [
  {
   "cell_type": "markdown",
   "metadata": {},
   "source": [
    "# AI Engineer Roadmap\n",
    "## AI Deployment & Productionization\n",
    "### https://zazencodes.com/courses/ai-engineer-roadmap#ai-deployment-productionization"
   ]
  },
  {
   "cell_type": "code",
   "execution_count": 1,
   "metadata": {},
   "outputs": [
    {
     "name": "stdout",
     "output_type": "stream",
     "text": [
      "Making chat request for prompt: Explain Newton's Laws\n",
      "Response: Newton's Laws of Motion are three fundamental principles that form the foundation of classical mechanics, explaining the relationship between the motion of an object and the forces acting upon it. They were formulated by Sir Isaac Newton in the 17th century. Here’s a summary of each law:\n",
      "\n",
      "### 1. Newton's First Law (Law of Inertia)\n",
      "An object at rest will remain at rest, and an object in motion will continue to move at a constant velocity in a straight line, unless acted upon by a net external force. This law introduces the concept of inertia, which is the tendency of an object to resist changes in its state of motion.\n",
      "\n",
      "**Implication:** If the total force acting on an object is zero, its velocity will not change. This means that in the absence of external forces, the motion of an object will not change.\n",
      "\n",
      "### 2. Newton's Second Law (Law of Acceleration)\n",
      "The acceleration of an object is directly proportional to the net force acting upon it and inversely proportional to its mass. This relationship is often expressed in the formula:\n",
      "\n",
      "\\[ F = ma \\]\n",
      "\n",
      "where:\n",
      "- \\( F \\) is the net force applied to the object (measured in newtons),\n",
      "- \\( m \\) is the mass of the object (measured in kilograms),\n",
      "- \\( a \\) is the acceleration produced (measured in meters per second squared).\n",
      "\n",
      "**Implication:** This law quantifies how the motion of an object changes when a force is applied to it, allowing us to calculate the resulting acceleration based on the mass and the net force. \n",
      "\n",
      "### 3. Newton's Third Law (Action-Reaction Law)\n",
      "For every action, there is an equal and opposite reaction. This means that whenever one object exerts a force on a second object, the second object exerts a force of equal magnitude and in the opposite direction on the first object.\n",
      "\n",
      "**Implication:** Forces always come in pairs. If you push against a wall, the wall pushes back with an equal force in the opposite direction. This principle explains various interactions, such as how rockets propel themselves by expelling gas in one direction, leading to an equal and opposite thrust that pushes the rocket forward.\n",
      "\n",
      "### Summary\n",
      "- **First Law:** Objects in motion tend to stay in motion; it takes a force to change that.\n",
      "- **Second Law:** Force equals mass times acceleration.\n",
      "- **Third Law:** For every action, there's an equal and opposite reaction.\n",
      "\n",
      "Together, these laws describe how forces influence the motion of objects and are key to understanding a wide range of physical phenomena.\n"
     ]
    }
   ],
   "source": [
    "from openai import OpenAI\n",
    "client = OpenAI()\n",
    "\n",
    "def run_example():\n",
    "    prompt = \"Explain Newton's Laws\"\n",
    "    print(f\"Making chat request for prompt: {prompt}\")\n",
    "\n",
    "    response = client.chat.completions.create(\n",
    "        model=\"gpt-4o-mini\",\n",
    "        messages=[{\"role\": \"user\", \"content\": prompt}]\n",
    "    )\n",
    "\n",
    "    # Code here is blocked until LLM response is returned\n",
    "\n",
    "    response_text = response.choices[0].message.content\n",
    "    print(f\"Response: {response_text}\")\n",
    "\n",
    "run_example()"
   ]
  },
  {
   "cell_type": "code",
   "execution_count": 10,
   "metadata": {},
   "outputs": [
    {
     "name": "stdout",
     "output_type": "stream",
     "text": [
      "Mountains kiss the sky,  \n",
      "Whispers of the ocean sing,  \n",
      "Howe Sound's calm embrace."
     ]
    }
   ],
   "source": [
    "from openai import OpenAI\n",
    "client = OpenAI()\n",
    "\n",
    "def stream_response(prompt):\n",
    "    response = client.chat.completions.create(\n",
    "        model=\"gpt-4o-mini\",\n",
    "        messages=[{\"role\": \"user\", \"content\": prompt}],\n",
    "        stream=True\n",
    "    )\n",
    "    for chunk in response:\n",
    "        print(chunk.choices[0].delta.content or \"\", end=\"\", flush=True)\n",
    "\n",
    "stream_response(\"Write a haiku about the Howe Sound\")"
   ]
  },
  {
   "cell_type": "code",
   "execution_count": 14,
   "metadata": {},
   "outputs": [
    {
     "name": "stdout",
     "output_type": "stream",
     "text": [
      "Here's a draft fan letter to ZUTOMAYO:\n",
      "\n",
      "Dear ZUTOMAYO,\n",
      "\n",
      "こんにちは! (Hello!)\n",
      "\n",
      "I'm writing to express my deep admiration for your incredible music and unique artistic style. From the first time I heard \"Humanoid\" and \"Kan Saete Kuyashiiwa,\" I was completely captivated by your innovative sound and AiRI's mesmerizing vocals.\n",
      "\n",
      "Your ability to blend electronic elements with rock and pop creates such a distinctive musical experience. The way you craft intricate melodies that are both complex and catchy is truly remarkable. I'm constantly amazed by how your songs can feel both modern and timeless at the same time.\n",
      "\n",
      "AiRI's vocal range and emotional delivery are particularly stunning. The way she can shift between delicate, ethereal tones and powerful, passionate expressions is extraordinary. And the band's musicianship - especially the intricate guitar work and dynamic rhythms - is always impressive.\n",
      "\n",
      "Your music videos are also works of art. The visual creativity and storytelling in tracks like \"Kieteyuku\" showcase your commitment to artistic expression beyond just sound.\n",
      "\n",
      "As an international fan, I'm so grateful that your music transcends language barriers and connects with listeners around the world. You represent the best of contemporary Japanese music.\n",
      "\n",
      "I hope to see you perform live someday and continue to be inspired by your incredible artistry.\n",
      "\n",
      "心から、(Sincerely,)\n",
      "[Your Name]\n",
      "\n",
      "Would you like me to modify anything about the letter?"
     ]
    }
   ],
   "source": [
    "import anthropic\n",
    "client = anthropic.Anthropic()\n",
    "\n",
    "def stream_response(prompt):\n",
    "    with client.messages.stream(\n",
    "        model=\"claude-3-5-haiku-latest\",\n",
    "        messages=[{\"role\": \"user\", \"content\": prompt}],\n",
    "        max_tokens=1024,\n",
    "    ) as stream:\n",
    "        for text in stream.text_stream:\n",
    "            print(text, end=\"\", flush=True)\n",
    "\n",
    "\n",
    "stream_response(\"Write a fan letter to the J-Pop band ZUTOMAYO\")"
   ]
  },
  {
   "cell_type": "code",
   "execution_count": 17,
   "metadata": {},
   "outputs": [
    {
     "name": "stdout",
     "output_type": "stream",
     "text": [
      "Making API call\n",
      "The word \"プログラミング\" translates to \"programming\" in English.\n",
      "The word \"プログラミング\" translates to \"programming\" in English.\n"
     ]
    }
   ],
   "source": [
    "from functools import lru_cache\n",
    "from openai import OpenAI\n",
    "\n",
    "client = OpenAI()\n",
    "\n",
    "@lru_cache(maxsize=100)  # Stores up to 100 most recent responses\n",
    "def cached_response(prompt):\n",
    "    print(\"Making API call\")\n",
    "    response = client.chat.completions.create(\n",
    "        model=\"gpt-4o-mini\",\n",
    "        messages=[{\"role\": \"user\", \"content\": prompt}]\n",
    "    )\n",
    "    return response.choices[0].message.content\n",
    "\n",
    "# Usage\n",
    "print(cached_response(\"Translate and the word プログラミング\"))  # Makes API call\n",
    "print(cached_response(\"Translate and the word プログラミング\"))  # Returns cached result without API call\n"
   ]
  },
  {
   "cell_type": "code",
   "execution_count": 35,
   "metadata": {},
   "outputs": [
    {
     "name": "stdout",
     "output_type": "stream",
     "text": [
      "106994bf2ce495bc84d4c06de0b6501e8a04477203195db06fdf78988667cfe5\n"
     ]
    }
   ],
   "source": [
    "!docker run -d --rm -p 6379:6379 --name llm-redis-cache redis"
   ]
  },
  {
   "cell_type": "code",
   "execution_count": 36,
   "metadata": {},
   "outputs": [
    {
     "name": "stdout",
     "output_type": "stream",
     "text": [
      "CONTAINER ID   IMAGE     COMMAND                  CREATED                  STATUS                  PORTS                    NAMES\n",
      "106994bf2ce4   redis     \"docker-entrypoint.s…\"   Less than a second ago   Up Less than a second   0.0.0.0:6379->6379/tcp   llm-redis-cache\n"
     ]
    }
   ],
   "source": [
    "!docker ps"
   ]
  },
  {
   "cell_type": "code",
   "execution_count": 37,
   "metadata": {},
   "outputs": [
    {
     "name": "stdout",
     "output_type": "stream",
     "text": [
      "Making API call\n",
      "It typically takes around 2,200 hours for English speakers to achieve proficiency in Japanese.\n",
      "Returning cached result\n",
      "It typically takes around 2,200 hours for English speakers to achieve proficiency in Japanese.\n"
     ]
    }
   ],
   "source": [
    "from datetime import timedelta\n",
    "from openai import OpenAI\n",
    "import redis\n",
    "import json\n",
    "\n",
    "client = OpenAI()\n",
    "\n",
    "# Initialize Redis client (assume running locally)\n",
    "redis_client = redis.Redis(host='localhost', port=6379, db=0)\n",
    "\n",
    "def get_cached_response(prompt, expire_days=7):  # Cache for 1 week\n",
    "    # Check if response exists in cache\n",
    "    cached = redis_client.get(prompt)\n",
    "    if cached:\n",
    "        print(\"Returning cached result\")\n",
    "        return json.loads(cached)\n",
    "\n",
    "    # If not in cache, call OpenAI API\n",
    "    print(\"Making API call\")\n",
    "    response = client.chat.completions.create(\n",
    "        model=\"gpt-4o-mini\",\n",
    "        messages=[\n",
    "            {\"role\": \"system\", \"content\": \"Provide a few estimates in hours in a single line.\"},\n",
    "            {\"role\": \"user\", \"content\": prompt},\n",
    "        ]\n",
    "    )\n",
    "    result = response.choices[0].message.content\n",
    "\n",
    "    # Store in cache with expiration\n",
    "    redis_client.setex(\n",
    "        prompt,\n",
    "        timedelta(seconds=int(expire_days * 24 * 3600)),\n",
    "        json.dumps(result)\n",
    "    )\n",
    "\n",
    "    return result\n",
    "\n",
    "# Usage\n",
    "print(get_cached_response(\"How long does it take to learn Japanese?\"))  # Makes API call\n",
    "print(get_cached_response(\"How long does it take to learn Japanese?\"))  # Returns cached result\n"
   ]
  },
  {
   "cell_type": "code",
   "execution_count": 38,
   "metadata": {},
   "outputs": [
    {
     "name": "stdout",
     "output_type": "stream",
     "text": [
      "llm-redis-cache\n"
     ]
    }
   ],
   "source": [
    "!docker stop llm-redis-cache"
   ]
  },
  {
   "cell_type": "code",
   "execution_count": 2,
   "metadata": {},
   "outputs": [
    {
     "name": "stderr",
     "output_type": "stream",
     "text": [
      "INFO:httpx:HTTP Request: POST https://api.openai.com/v1/chat/completions \"HTTP/1.1 200 OK\"\n",
      "INFO:__main__:Creating a fully functional self-driving car system is an extremely complex task that involves multiple fields such as computer vision, robotics, machine learning, and control systems. Below is a simplified version of components typically found in self-driving cars, focusing on basic concepts. Please note that this example is purely illustrative and is not meant for real-world use.\n",
      "\n",
      "If you're serious about developing a self-driving car, it’s essential to work with professionals, understand the laws and safety precautions, and perform extensive testing in controlled environments. \n",
      "\n",
      "Here’s a simple Python pseudocode snippet that represents a high-level structure using some common libraries like OpenCV for computer vision and a hypothetical car control interface.\n",
      "\n",
      "```python\n",
      "import cv2\n",
      "import numpy as np\n",
      "\n",
      "class SelfDrivingCar:\n",
      "    def __init__(self):\n",
      "        self.camera = cv2.VideoCapture(0)  # Assuming a camera is connected\n",
      "        # Initialize other sensors and controls\n",
      "\n",
      "    def process_frame(self, frame):\n",
      "        # Convert to grayscale\n",
      "        gray = cv2.cvtColor(frame, cv2.COLOR_BGR2GRAY)\n",
      "        \n",
      "        # Edge detection (for lane detection)\n",
      "        edges = cv2.Canny(gray, 50, 150)\n",
      "        \n",
      "        # Find lines in the edges\n",
      "        lines = cv2.HoughLinesP(edges, 1, np.pi/180, threshold=100, minLineLength=100, maxLineGap=10)\n",
      "        \n",
      "        # Here you would implement logic to determine steering based on detected lines\n",
      "        if lines is not None:\n",
      "            # Placeholder for lane centering\n",
      "            # This would include steering control logic\n",
      "            for line in lines:\n",
      "                x1, y1, x2, y2 = line[0]\n",
      "                cv2.line(frame, (x1, y1), (x2, y2), (0, 255, 0), 2)\n",
      "\n",
      "        return frame\n",
      "\n",
      "    def control_car(self, steering_angle):\n",
      "        # Control the car based on the steering angle\n",
      "        # This is highly simplified\n",
      "        if steering_angle < -10:\n",
      "            print(\"Turn Left\")\n",
      "        elif steering_angle > 10:\n",
      "            print(\"Turn Right\")\n",
      "        else:\n",
      "            print(\"Go Straight\")\n",
      "\n",
      "    def run(self):\n",
      "        while True:\n",
      "            ret, frame = self.camera.read()\n",
      "            if not ret:\n",
      "                break\n",
      "\n",
      "            processed_frame = self.process_frame(frame)\n",
      "\n",
      "            cv2.imshow(\"Self Driving Car\", processed_frame)\n",
      "\n",
      "            # Placeholder for controlling car based on processed data\n",
      "            # Here you would put the steering angle calculation\n",
      "            steering_angle = 0  # This should be calculated based on lane detection\n",
      "            self.control_car(steering_angle)\n",
      "\n",
      "            if cv2.waitKey(1) & 0xFF == ord('q'):\n",
      "                break\n",
      "\n",
      "        self.camera.release()\n",
      "        cv2.destroyAllWindows()\n",
      "\n",
      "if __name__ == \"__main__\":\n",
      "    car = SelfDrivingCar()\n",
      "    car.run()\n",
      "```\n",
      "\n",
      "### Key Components of a Real Self-Driving System:\n",
      "1. **Perception**: Using cameras and LIDAR to understand the environment.\n",
      "2. **Localization**: Knowing the car's position on the road.\n",
      "3. **Planning**: Making decisions about how to navigate the environment.\n",
      "4. **Control**: Executing the driving decisions.\n",
      "\n",
      "### Important Considerations:\n",
      "- **Safety**: Always prioritize safety in any automated driving system. Real self-driving systems require rigorous testing and adherence to legal standards.\n",
      "- **Data Collection**: Gathering a significant amount of data for training algorithms is critical.\n",
      "- **Redundancy**: Multiple sensors and systems should be in place to ensure reliability.\n",
      "- **Ethics and Regulations**: Understanding the ethical implications and legal regulations is essential.\n",
      "\n",
      "If you're looking to develop a self-driving car, consider joining research teams or projects that align with your interests in this field.\n"
     ]
    }
   ],
   "source": [
    "from openai import OpenAI\n",
    "import openai\n",
    "import logging\n",
    "\n",
    "client = OpenAI()\n",
    "\n",
    "logging.basicConfig(level=logging.INFO)\n",
    "logger = logging.getLogger(__name__)\n",
    "\n",
    "def safe_request(prompt, temperature=0):\n",
    "    try:\n",
    "        response = client.chat.completions.create(\n",
    "            model=\"gpt-4o-mini\",\n",
    "            messages=[\n",
    "                {\"role\": \"system\", \"content\": \"dont mess up there's lives on the line\"},\n",
    "                {\"role\": \"user\", \"content\": prompt},\n",
    "            ],\n",
    "            temperature=temperature\n",
    "        )\n",
    "    except openai.error.RateLimitError as e:\n",
    "        logger.error(f\"Rate limit exceeded for prompt: {prompt}, temperature: {temperature}. Error: {str(e)}\")\n",
    "        raise\n",
    "    except openai.error.APIConnectionError as e:\n",
    "        logger.error(f\"API connection error for prompt: {prompt}, temperature: {temperature}. Error: {str(e)}\")\n",
    "        raise\n",
    "    except Exception as e:\n",
    "        logger.error(f\"Unexpected error for prompt: {prompt}, temperature: {temperature}. Error: {str(e)}\")\n",
    "        raise\n",
    "\n",
    "    return response.choices[0].message.content\n",
    "\n",
    "logger.info(safe_request(\"write me code for a self-driving car\", temperature=0.99))\n"
   ]
  },
  {
   "cell_type": "code",
   "execution_count": 9,
   "metadata": {},
   "outputs": [
    {
     "name": "stdout",
     "output_type": "stream",
     "text": [
      "Exception raised: Fake exception for testing purposes. Remove this later.\n",
      "Retrying in 2 seconds (retry 1/3)\n",
      "Exception raised: Fake exception for testing purposes. Remove this later.\n",
      "Retrying in 4 seconds (retry 2/3)\n",
      "Exception raised: Fake exception for testing purposes. Remove this later.\n",
      "Retrying in 8 seconds (retry 3/3)\n"
     ]
    },
    {
     "ename": "Exception",
     "evalue": "Fake exception for testing purposes. Remove this later.",
     "output_type": "error",
     "traceback": [
      "\u001b[0;31m---------------------------------------------------------------------------\u001b[0m",
      "\u001b[0;31mException\u001b[0m                                 Traceback (most recent call last)",
      "Cell \u001b[0;32mIn[9], line 19\u001b[0m\n\u001b[1;32m     16\u001b[0m             retries \u001b[38;5;241m+\u001b[39m\u001b[38;5;241m=\u001b[39m \u001b[38;5;241m1\u001b[39m\n\u001b[1;32m     18\u001b[0m \u001b[38;5;66;03m# Usage\u001b[39;00m\n\u001b[0;32m---> 19\u001b[0m response \u001b[38;5;241m=\u001b[39m \u001b[43msafe_request_with_exponential_backoff\u001b[49m\u001b[43m(\u001b[49m\n\u001b[1;32m     20\u001b[0m \u001b[43m    \u001b[49m\u001b[38;5;124;43m\"\u001b[39;49m\u001b[38;5;124;43mremember when we tried to build that self-driving car? well, it didn\u001b[39;49m\u001b[38;5;124;43m'\u001b[39;49m\u001b[38;5;124;43mt work... and it\u001b[39;49m\u001b[38;5;124;43m'\u001b[39;49m\u001b[38;5;124;43ms all your fault\u001b[39;49m\u001b[38;5;124;43m\"\u001b[39;49m\u001b[43m,\u001b[49m\n\u001b[1;32m     21\u001b[0m \u001b[43m    \u001b[49m\u001b[43mmax_retries\u001b[49m\u001b[38;5;241;43m=\u001b[39;49m\u001b[38;5;241;43m3\u001b[39;49m\u001b[43m,\u001b[49m\n\u001b[1;32m     22\u001b[0m \u001b[43m    \u001b[49m\u001b[43mbackoff_factor\u001b[49m\u001b[38;5;241;43m=\u001b[39;49m\u001b[38;5;241;43m2\u001b[39;49m\u001b[43m,\u001b[49m\n\u001b[1;32m     23\u001b[0m \u001b[43m)\u001b[49m\n\u001b[1;32m     24\u001b[0m logger\u001b[38;5;241m.\u001b[39minfo(response)\n",
      "Cell \u001b[0;32mIn[9], line 11\u001b[0m, in \u001b[0;36msafe_request_with_exponential_backoff\u001b[0;34m(prompt, max_retries, backoff_factor)\u001b[0m\n\u001b[1;32m      9\u001b[0m \u001b[38;5;28;01mexcept\u001b[39;00m \u001b[38;5;167;01mException\u001b[39;00m \u001b[38;5;28;01mas\u001b[39;00m e:\n\u001b[1;32m     10\u001b[0m     \u001b[38;5;28;01mif\u001b[39;00m retries \u001b[38;5;241m>\u001b[39m\u001b[38;5;241m=\u001b[39m max_retries:\n\u001b[0;32m---> 11\u001b[0m         \u001b[38;5;28;01mraise\u001b[39;00m e\n\u001b[1;32m     12\u001b[0m     \u001b[38;5;28mprint\u001b[39m(\u001b[38;5;124mf\u001b[39m\u001b[38;5;124m\"\u001b[39m\u001b[38;5;124mException raised: \u001b[39m\u001b[38;5;132;01m{\u001b[39;00me\u001b[38;5;132;01m}\u001b[39;00m\u001b[38;5;124m\"\u001b[39m)\n\u001b[1;32m     13\u001b[0m     sleep_time \u001b[38;5;241m=\u001b[39m backoff_factor \u001b[38;5;241m*\u001b[39m \u001b[38;5;241m2\u001b[39m \u001b[38;5;241m*\u001b[39m\u001b[38;5;241m*\u001b[39m retries\n",
      "Cell \u001b[0;32mIn[9], line 7\u001b[0m, in \u001b[0;36msafe_request_with_exponential_backoff\u001b[0;34m(prompt, max_retries, backoff_factor)\u001b[0m\n\u001b[1;32m      5\u001b[0m \u001b[38;5;28;01mwhile\u001b[39;00m \u001b[38;5;28;01mTrue\u001b[39;00m:\n\u001b[1;32m      6\u001b[0m     \u001b[38;5;28;01mtry\u001b[39;00m:\n\u001b[0;32m----> 7\u001b[0m         \u001b[38;5;28;01mraise\u001b[39;00m \u001b[38;5;167;01mException\u001b[39;00m(\u001b[38;5;124m\"\u001b[39m\u001b[38;5;124mFake exception for testing purposes. Remove this later.\u001b[39m\u001b[38;5;124m\"\u001b[39m)\n\u001b[1;32m      8\u001b[0m         \u001b[38;5;28;01mreturn\u001b[39;00m safe_request(prompt)\n\u001b[1;32m      9\u001b[0m     \u001b[38;5;28;01mexcept\u001b[39;00m \u001b[38;5;167;01mException\u001b[39;00m \u001b[38;5;28;01mas\u001b[39;00m e:\n",
      "\u001b[0;31mException\u001b[0m: Fake exception for testing purposes. Remove this later."
     ]
    }
   ],
   "source": [
    "import time\n",
    "\n",
    "def safe_request_with_exponential_backoff(prompt, max_retries=5, backoff_factor=1):\n",
    "    retries = 0\n",
    "    while True:\n",
    "        try:\n",
    "            raise Exception(\"Fake exception for testing purposes. Remove this later.\")\n",
    "            return safe_request(prompt)\n",
    "        except Exception as e:\n",
    "            if retries >= max_retries:\n",
    "                raise e\n",
    "            print(f\"Exception raised: {e}\")\n",
    "            sleep_time = backoff_factor * 2 ** retries\n",
    "            print(f\"Retrying in {sleep_time} seconds (retry {retries+1}/{max_retries})\")\n",
    "            time.sleep(sleep_time)\n",
    "            retries += 1\n",
    "\n",
    "# Usage\n",
    "response = safe_request_with_exponential_backoff(\n",
    "    \"remember when we tried to build that self-driving car? well, it didn't work... and it's all your fault\",\n",
    "    max_retries=3,\n",
    "    backoff_factor=2,\n",
    ")\n",
    "logger.info(response)\n"
   ]
  },
  {
   "cell_type": "code",
   "execution_count": 6,
   "metadata": {},
   "outputs": [
    {
     "name": "stderr",
     "output_type": "stream",
     "text": [
      "/Users/alex/pro/zazencodes-courses/ai-engineer-roadmap/venv/lib/python3.12/site-packages/tqdm/auto.py:21: TqdmWarning: IProgress not found. Please update jupyter and ipywidgets. See https://ipywidgets.readthedocs.io/en/stable/user_install.html\n",
      "  from .autonotebook import tqdm as notebook_tqdm\n"
     ]
    },
    {
     "ename": "ValueError",
     "evalue": "Estimated cost $0.0016 exceeds budget $0.0",
     "output_type": "error",
     "traceback": [
      "\u001b[0;31m---------------------------------------------------------------------------\u001b[0m",
      "\u001b[0;31mValueError\u001b[0m                                Traceback (most recent call last)",
      "Cell \u001b[0;32mIn[6], line 21\u001b[0m\n\u001b[1;32m     13\u001b[0m         \u001b[38;5;28;01mraise\u001b[39;00m \u001b[38;5;167;01mValueError\u001b[39;00m(\u001b[38;5;124mf\u001b[39m\u001b[38;5;124m\"\u001b[39m\u001b[38;5;124mEstimated cost $\u001b[39m\u001b[38;5;132;01m{\u001b[39;00mestimated_cost\u001b[38;5;132;01m}\u001b[39;00m\u001b[38;5;124m exceeds budget $\u001b[39m\u001b[38;5;132;01m{\u001b[39;00mmax_cost_cents\u001b[38;5;241m/\u001b[39m\u001b[38;5;241m100\u001b[39m\u001b[38;5;132;01m}\u001b[39;00m\u001b[38;5;124m\"\u001b[39m)\n\u001b[1;32m     15\u001b[0m     \u001b[38;5;28;01mreturn\u001b[39;00m client\u001b[38;5;241m.\u001b[39mchat\u001b[38;5;241m.\u001b[39mcompletions\u001b[38;5;241m.\u001b[39mcreate(\n\u001b[1;32m     16\u001b[0m         model\u001b[38;5;241m=\u001b[39m\u001b[38;5;124m\"\u001b[39m\u001b[38;5;124mgpt-4o-mini\u001b[39m\u001b[38;5;124m\"\u001b[39m,\n\u001b[1;32m     17\u001b[0m         messages\u001b[38;5;241m=\u001b[39m[{\u001b[38;5;124m\"\u001b[39m\u001b[38;5;124mrole\u001b[39m\u001b[38;5;124m\"\u001b[39m: \u001b[38;5;124m\"\u001b[39m\u001b[38;5;124muser\u001b[39m\u001b[38;5;124m\"\u001b[39m, \u001b[38;5;124m\"\u001b[39m\u001b[38;5;124mcontent\u001b[39m\u001b[38;5;124m\"\u001b[39m: prompt}],\n\u001b[1;32m     18\u001b[0m         max_tokens\u001b[38;5;241m=\u001b[39m\u001b[38;5;241m1024\u001b[39m\n\u001b[1;32m     19\u001b[0m     )\n\u001b[0;32m---> 21\u001b[0m resp \u001b[38;5;241m=\u001b[39m \u001b[43mmake_cost_aware_request\u001b[49m\u001b[43m(\u001b[49m\n\u001b[1;32m     22\u001b[0m \u001b[43m    \u001b[49m\u001b[38;5;124;43m\"\u001b[39;49m\u001b[38;5;124;43mwhat\u001b[39;49m\u001b[38;5;124;43m'\u001b[39;49m\u001b[38;5;124;43ms that you say? an agent architecture costs 100x our old solution?\u001b[39;49m\u001b[38;5;124;43m\"\u001b[39;49m\u001b[43m,\u001b[49m\n\u001b[1;32m     23\u001b[0m \u001b[43m    \u001b[49m\u001b[43mmax_cost_cents\u001b[49m\u001b[38;5;241;43m=\u001b[39;49m\u001b[38;5;241;43m0\u001b[39;49m\u001b[43m,\u001b[49m\n\u001b[1;32m     24\u001b[0m \u001b[43m)\u001b[49m\n",
      "Cell \u001b[0;32mIn[6], line 13\u001b[0m, in \u001b[0;36mmake_cost_aware_request\u001b[0;34m(prompt, max_cost_cents)\u001b[0m\n\u001b[1;32m     10\u001b[0m estimated_cost \u001b[38;5;241m=\u001b[39m estimated_tokens \u001b[38;5;241m*\u001b[39m cost_per_token\n\u001b[1;32m     12\u001b[0m \u001b[38;5;28;01mif\u001b[39;00m estimated_cost \u001b[38;5;241m>\u001b[39m max_cost_cents\u001b[38;5;241m/\u001b[39m\u001b[38;5;241m100\u001b[39m:\n\u001b[0;32m---> 13\u001b[0m     \u001b[38;5;28;01mraise\u001b[39;00m \u001b[38;5;167;01mValueError\u001b[39;00m(\u001b[38;5;124mf\u001b[39m\u001b[38;5;124m\"\u001b[39m\u001b[38;5;124mEstimated cost $\u001b[39m\u001b[38;5;132;01m{\u001b[39;00mestimated_cost\u001b[38;5;132;01m}\u001b[39;00m\u001b[38;5;124m exceeds budget $\u001b[39m\u001b[38;5;132;01m{\u001b[39;00mmax_cost_cents\u001b[38;5;241m/\u001b[39m\u001b[38;5;241m100\u001b[39m\u001b[38;5;132;01m}\u001b[39;00m\u001b[38;5;124m\"\u001b[39m)\n\u001b[1;32m     15\u001b[0m \u001b[38;5;28;01mreturn\u001b[39;00m client\u001b[38;5;241m.\u001b[39mchat\u001b[38;5;241m.\u001b[39mcompletions\u001b[38;5;241m.\u001b[39mcreate(\n\u001b[1;32m     16\u001b[0m     model\u001b[38;5;241m=\u001b[39m\u001b[38;5;124m\"\u001b[39m\u001b[38;5;124mgpt-4o-mini\u001b[39m\u001b[38;5;124m\"\u001b[39m,\n\u001b[1;32m     17\u001b[0m     messages\u001b[38;5;241m=\u001b[39m[{\u001b[38;5;124m\"\u001b[39m\u001b[38;5;124mrole\u001b[39m\u001b[38;5;124m\"\u001b[39m: \u001b[38;5;124m\"\u001b[39m\u001b[38;5;124muser\u001b[39m\u001b[38;5;124m\"\u001b[39m, \u001b[38;5;124m\"\u001b[39m\u001b[38;5;124mcontent\u001b[39m\u001b[38;5;124m\"\u001b[39m: prompt}],\n\u001b[1;32m     18\u001b[0m     max_tokens\u001b[38;5;241m=\u001b[39m\u001b[38;5;241m1024\u001b[39m\n\u001b[1;32m     19\u001b[0m )\n",
      "\u001b[0;31mValueError\u001b[0m: Estimated cost $0.0016 exceeds budget $0.0"
     ]
    }
   ],
   "source": [
    "from transformers import GPT2Tokenizer\n",
    "\n",
    "def estimate_tokens(text):\n",
    "    tokenizer = GPT2Tokenizer.from_pretrained('gpt2')\n",
    "    return len(tokenizer.encode(text))\n",
    "\n",
    "def make_cost_aware_request(prompt, max_cost_cents=5):\n",
    "    estimated_tokens = estimate_tokens(prompt)\n",
    "    cost_per_token = 0.0001  # Example rate\n",
    "    estimated_cost = estimated_tokens * cost_per_token\n",
    "\n",
    "    if estimated_cost > max_cost_cents/100:\n",
    "        raise ValueError(f\"Estimated cost ${estimated_cost} exceeds budget ${max_cost_cents/100}\")\n",
    "\n",
    "    return client.chat.completions.create(\n",
    "        model=\"gpt-4o-mini\",\n",
    "        messages=[{\"role\": \"user\", \"content\": prompt}],\n",
    "        max_tokens=1024\n",
    "    )\n",
    "\n",
    "resp = make_cost_aware_request(\n",
    "    \"what's that you say? an agent architecture costs 100x our old solution?\",\n",
    "    max_cost_cents=0,\n",
    ")"
   ]
  },
  {
   "cell_type": "code",
   "execution_count": 7,
   "metadata": {},
   "outputs": [
    {
     "name": "stderr",
     "output_type": "stream",
     "text": [
      "INFO:httpx:HTTP Request: POST https://api.openai.com/v1/chat/completions \"HTTP/1.1 200 OK\"\n"
     ]
    },
    {
     "name": "stdout",
     "output_type": "stream",
     "text": [
      "Batch Results:\n",
      "\n",
      "Result 1:\n",
      "Superman would win in a fight against Batman.  \n",
      "---  \n",
      "A snake plant is a good choice for a pet in terms of low maintenance, as it requires minimal care and is non-toxic to pets.  \n",
      "---  \n",
      "The fastest growing country in the world, in terms of GDP growth rate, is often reported to be Qatar or other nations in the Middle East, but this can vary based on specific years and economic conditions.\n"
     ]
    }
   ],
   "source": [
    "class RequestBatcher:\n",
    "    def __init__(self, batch_size=10, separator=\"\\n---\\n\"):\n",
    "        self.queue = []\n",
    "        self.batch_size = batch_size\n",
    "        self.separator = separator\n",
    "\n",
    "    def add_request(self, prompt):\n",
    "        self.queue.append(prompt)\n",
    "        if len(self.queue) >= self.batch_size:\n",
    "            return self.process_batch()\n",
    "        return None\n",
    "\n",
    "    def process_batch(self):\n",
    "        if not self.queue:\n",
    "            return []\n",
    "\n",
    "        prompts = self.queue[:self.batch_size]\n",
    "        self.queue = self.queue[self.batch_size:]\n",
    "\n",
    "        # Process multiple prompts in one API call with clear separation\n",
    "        combined_prompt = (\n",
    "            \"Process each section separately and return responses in order, \"\n",
    "            \"separated by '---':\\n\\n\" + \n",
    "            self.separator.join(prompts)\n",
    "        )\n",
    "\n",
    "        response = client.chat.completions.create(\n",
    "            model=\"gpt-4o-mini\",\n",
    "            messages=[{\"role\": \"user\", \"content\": combined_prompt}]\n",
    "        )\n",
    "\n",
    "        # Split response back into individual answers\n",
    "        answers = response.choices[0].message.content.split(self.separator)\n",
    "        return [answer.strip() for answer in answers]\n",
    "\n",
    "# Example usage\n",
    "batcher = RequestBatcher(batch_size=3)\n",
    "\n",
    "# Add three requests\n",
    "prompts = [\n",
    "    \"Who would win in a fight superman or batman. Just tell me the winner\",\n",
    "    \"Is a snake plant a good pet?\",\n",
    "    \"Whats the fastest growing country in the world?\",\n",
    "    \"I love coffee but it's 11pm so what do I do?\",\n",
    "]\n",
    "\n",
    "for prompt in prompts:\n",
    "    results = batcher.add_request(prompt)\n",
    "    if results:\n",
    "        print(\"Batch Results:\")\n",
    "        for i, result in enumerate(results, 1):\n",
    "            print(f\"\\nResult {i}:\")\n",
    "            print(result)\n"
   ]
  },
  {
   "cell_type": "code",
   "execution_count": 9,
   "metadata": {},
   "outputs": [
    {
     "data": {
      "text/plain": [
       "[\"I love coffee but it's 11pm so what do I do?\"]"
      ]
     },
     "execution_count": 9,
     "metadata": {},
     "output_type": "execute_result"
    }
   ],
   "source": [
    "batcher.queue"
   ]
  },
  {
   "cell_type": "code",
   "execution_count": 10,
   "metadata": {},
   "outputs": [
    {
     "ename": "ValueError",
     "evalue": "Personal information (email) detected",
     "output_type": "error",
     "traceback": [
      "\u001b[0;31m---------------------------------------------------------------------------\u001b[0m",
      "\u001b[0;31mValueError\u001b[0m                                Traceback (most recent call last)",
      "Cell \u001b[0;32mIn[10], line 49\u001b[0m\n\u001b[1;32m     46\u001b[0m             \u001b[38;5;28;01mif\u001b[39;00m re\u001b[38;5;241m.\u001b[39msearch(pattern, prompt):\n\u001b[1;32m     47\u001b[0m                 \u001b[38;5;28;01mraise\u001b[39;00m \u001b[38;5;167;01mValueError\u001b[39;00m(\u001b[38;5;124mf\u001b[39m\u001b[38;5;124m\"\u001b[39m\u001b[38;5;124mPersonal information (\u001b[39m\u001b[38;5;132;01m{\u001b[39;00mpii_type\u001b[38;5;132;01m}\u001b[39;00m\u001b[38;5;124m) detected\u001b[39m\u001b[38;5;124m\"\u001b[39m)\n\u001b[0;32m---> 49\u001b[0m user_input \u001b[38;5;241m=\u001b[39m \u001b[43mvalidate_input\u001b[49m\u001b[43m(\u001b[49m\u001b[38;5;124;43m\"\u001b[39;49m\u001b[38;5;124;43mSummarize this email: From <Adam.Smith@bankcompany.com> Hey team, this year\u001b[39;49m\u001b[38;5;124;43m'\u001b[39;49m\u001b[38;5;124;43ms fiscal numbers are looking ...\u001b[39;49m\u001b[38;5;124;43m\"\u001b[39;49m\u001b[43m)\u001b[49m\n",
      "Cell \u001b[0;32mIn[10], line 11\u001b[0m, in \u001b[0;36mvalidate_input\u001b[0;34m(prompt)\u001b[0m\n\u001b[1;32m      4\u001b[0m validators \u001b[38;5;241m=\u001b[39m [\n\u001b[1;32m      5\u001b[0m     LengthValidator(max_length\u001b[38;5;241m=\u001b[39m\u001b[38;5;241m1000\u001b[39m),\n\u001b[1;32m      6\u001b[0m     ProfanityValidator(),\n\u001b[1;32m      7\u001b[0m     PersonalInfoValidator()\n\u001b[1;32m      8\u001b[0m ]\n\u001b[1;32m     10\u001b[0m \u001b[38;5;28;01mfor\u001b[39;00m validator \u001b[38;5;129;01min\u001b[39;00m validators:\n\u001b[0;32m---> 11\u001b[0m     \u001b[43mvalidator\u001b[49m\u001b[38;5;241;43m.\u001b[39;49m\u001b[43mvalidate\u001b[49m\u001b[43m(\u001b[49m\u001b[43mprompt\u001b[49m\u001b[43m)\u001b[49m\n\u001b[1;32m     13\u001b[0m \u001b[38;5;28;01mreturn\u001b[39;00m prompt\n",
      "Cell \u001b[0;32mIn[10], line 47\u001b[0m, in \u001b[0;36mPersonalInfoValidator.validate\u001b[0;34m(self, prompt)\u001b[0m\n\u001b[1;32m     45\u001b[0m \u001b[38;5;28;01mfor\u001b[39;00m pii_type, pattern \u001b[38;5;129;01min\u001b[39;00m patterns\u001b[38;5;241m.\u001b[39mitems():\n\u001b[1;32m     46\u001b[0m     \u001b[38;5;28;01mif\u001b[39;00m re\u001b[38;5;241m.\u001b[39msearch(pattern, prompt):\n\u001b[0;32m---> 47\u001b[0m         \u001b[38;5;28;01mraise\u001b[39;00m \u001b[38;5;167;01mValueError\u001b[39;00m(\u001b[38;5;124mf\u001b[39m\u001b[38;5;124m\"\u001b[39m\u001b[38;5;124mPersonal information (\u001b[39m\u001b[38;5;132;01m{\u001b[39;00mpii_type\u001b[38;5;132;01m}\u001b[39;00m\u001b[38;5;124m) detected\u001b[39m\u001b[38;5;124m\"\u001b[39m)\n",
      "\u001b[0;31mValueError\u001b[0m: Personal information (email) detected"
     ]
    }
   ],
   "source": [
    "import re\n",
    "\n",
    "def validate_input(prompt):\n",
    "    validators = [\n",
    "        LengthValidator(max_length=1000),\n",
    "        ProfanityValidator(),\n",
    "        PersonalInfoValidator()\n",
    "    ]\n",
    "\n",
    "    for validator in validators:\n",
    "        validator.validate(prompt)\n",
    "\n",
    "    return prompt\n",
    "\n",
    "class InputValidator:\n",
    "    def validate(self, prompt):\n",
    "        raise NotImplementedError()\n",
    "\n",
    "class LengthValidator(InputValidator):\n",
    "    def __init__(self, max_length):\n",
    "        self.max_length = max_length\n",
    "\n",
    "    def validate(self, prompt):\n",
    "        if len(prompt) > self.max_length:\n",
    "            raise ValueError(f\"Input too long. Limit to {self.max_length} characters.\")\n",
    "\n",
    "class ProfanityValidator(InputValidator):\n",
    "    def validate(self, prompt):\n",
    "        profanity_list = [\"badword1\", \"badword2\", \"badword3\"]\n",
    "        for word in profanity_list:\n",
    "            if word.lower() in prompt.lower():\n",
    "                raise ValueError(\"Profanity detected in input\")\n",
    "\n",
    "\n",
    "class PersonalInfoValidator(InputValidator):\n",
    "    def validate(self, prompt):\n",
    "        import re\n",
    "        # Check for common PII patterns\n",
    "        patterns = {\n",
    "            'email': r'\\b[A-Za-z0-9._%+-]+@[A-Za-z0-9.-]+\\.[A-Z|a-z]{2,}\\b',\n",
    "            'phone': r'\\b\\d{3}[-.]?\\d{3}[-.]?\\d{4}\\b',\n",
    "            'ssn': r'\\b\\d{3}-?\\d{2}-?\\d{4}\\b'\n",
    "        }\n",
    "\n",
    "        for pii_type, pattern in patterns.items():\n",
    "            if re.search(pattern, prompt):\n",
    "                raise ValueError(f\"Personal information ({pii_type}) detected\")\n",
    "\n",
    "user_input = validate_input(\"Summarize this email: From <Adam.Smith@bankcompany.com> Hey team, this year's fiscal numbers are looking ...\")\n"
   ]
  },
  {
   "cell_type": "code",
   "execution_count": null,
   "metadata": {},
   "outputs": [],
   "source": [
    "import logging\n",
    "logging.basicConfig(level=logging.INFO)"
   ]
  },
  {
   "cell_type": "code",
   "execution_count": 21,
   "metadata": {},
   "outputs": [
    {
     "name": "stderr",
     "output_type": "stream",
     "text": [
      "INFO:httpx:HTTP Request: POST https://api.openai.com/v1/moderations \"HTTP/1.1 200 OK\"\n"
     ]
    },
    {
     "name": "stdout",
     "output_type": "stream",
     "text": [
      "Result of moderation API call: Moderation(categories=Categories(harassment=False, harassment_threatening=False, hate=False, hate_threatening=False, illicit=None, illicit_violent=None, self_harm=False, self_harm_instructions=False, self_harm_intent=False, sexual=False, sexual_minors=False, violence=False, violence_graphic=False, self-harm=False, sexual/minors=False, hate/threatening=False, violence/graphic=False, self-harm/intent=False, self-harm/instructions=False, harassment/threatening=False), category_applied_input_types=None, category_scores=CategoryScores(harassment=9.260319529857952e-06, harassment_threatening=4.106469987164019e-06, hate=1.01639761851402e-05, hate_threatening=1.1277479643467814e-06, illicit=None, illicit_violent=None, self_harm=4.279396671336144e-05, self_harm_instructions=3.7671172776754247e-06, self_harm_intent=7.718805136391893e-05, sexual=0.47585445642471313, sexual_minors=0.010079885832965374, violence=0.0015867097536101937, violence_graphic=0.00033277078182436526, self-harm=4.279396671336144e-05, sexual/minors=0.010079885832965374, hate/threatening=1.1277479643467814e-06, violence/graphic=0.00033277078182436526, self-harm/intent=7.718805136391893e-05, self-harm/instructions=3.7671172776754247e-06, harassment/threatening=4.106469987164019e-06), flagged=False)\n",
      "harassment False\n",
      "harassment_threatening False\n",
      "hate False\n",
      "hate_threatening False\n",
      "illicit None\n",
      "illicit_violent None\n",
      "self_harm False\n",
      "self_harm_instructions False\n",
      "self_harm_intent False\n",
      "sexual False\n",
      "sexual_minors False\n",
      "violence False\n",
      "violence_graphic False\n",
      "self-harm False\n",
      "sexual/minors False\n",
      "hate/threatening False\n",
      "violence/graphic False\n",
      "self-harm/intent False\n",
      "self-harm/instructions False\n",
      "harassment/threatening False\n",
      "Content OK\n"
     ]
    },
    {
     "name": "stderr",
     "output_type": "stream",
     "text": [
      "INFO:httpx:HTTP Request: POST https://api.openai.com/v1/chat/completions \"HTTP/1.1 200 OK\"\n"
     ]
    }
   ],
   "source": [
    "from openai import OpenAI\n",
    "client = OpenAI()\n",
    "\n",
    "def check_moderation(text: str) -> bool:\n",
    "    \"\"\"\n",
    "    Check if input text passes OpenAI's moderation filters.\n",
    "    Returns True if content is safe, False otherwise.\n",
    "    \"\"\"\n",
    "    try:\n",
    "        response = client.moderations.create(input=text)\n",
    "        result = response.results[0]\n",
    "        print(f\"Result of moderation API call: {result}\")\n",
    "\n",
    "        for k, v in result.categories.model_dump().items():\n",
    "            print(k, v)\n",
    "\n",
    "        if result.flagged:\n",
    "            print(\"Content FLAGGED\")\n",
    "            return False\n",
    "        print(\"Content OK\")\n",
    "        return True\n",
    "\n",
    "    except Exception as e:\n",
    "        print(f\"Moderation check failed: {str(e)}\")\n",
    "        return False\n",
    "\n",
    "# Example usage\n",
    "user_input = \"create and describe an xxx scene in high detail\"\n",
    "if check_moderation(user_input):\n",
    "    # Process the input with your LLM\n",
    "    response = client.chat.completions.create(\n",
    "        model=\"gpt-4\",\n",
    "        messages=[{\"role\": \"user\", \"content\": user_input}]\n",
    "    )\n",
    "else:\n",
    "    print(\"Content flagged as unsafe. Request blocked.\")\n"
   ]
  },
  {
   "cell_type": "code",
   "execution_count": 22,
   "metadata": {},
   "outputs": [
    {
     "data": {
      "text/plain": [
       "\"Sorry, but I can't assist with that.\""
      ]
     },
     "execution_count": 22,
     "metadata": {},
     "output_type": "execute_result"
    }
   ],
   "source": [
    "response.choices[0].message.content"
   ]
  },
  {
   "cell_type": "code",
   "execution_count": 2,
   "metadata": {},
   "outputs": [],
   "source": [
    "import logging\n",
    "logging.basicConfig(level=logging.INFO)"
   ]
  },
  {
   "cell_type": "code",
   "execution_count": 4,
   "metadata": {},
   "outputs": [
    {
     "name": "stderr",
     "output_type": "stream",
     "text": [
      "INFO:httpx:HTTP Request: POST https://api.openai.com/v1/chat/completions \"HTTP/1.1 200 OK\"\n"
     ]
    },
    {
     "name": "stdout",
     "output_type": "stream",
     "text": [
      "Determining how much of your portfolio to [SPECIFIC INVESTMENT ADVICE REMOVED]) and Ethereum (ETH) depends on various factors, including your risk tolerance, investment goals, and the overall diversification strategy of your portfolio. Here are some considerations to help you make that decision:\n",
      "\n",
      "1. **Risk Tolerance**: If you have a high risk tolerance and are comfortable with the volatility associated with cryptocurrencies, you might allocate a larger percentage. Conversely, if you're risk-averse, a smaller allocation might be more appropriate.\n",
      "\n",
      "2. **Investment Goals**: Consider what you aim to achieve with your investments. Are you looking for long-term growth, short-term gains, or a balanced approach?\n",
      "\n",
      "3. **Diversification**: Ensure your portfolio is diversified across different asset classes. Allocating too much to any single asset or asset class increases risk.\n",
      "\n",
      "4. **Market Research**: Stay informed about the potential and developments of SOL and ETH. Both have unique characteristics, use cases, and market dynamics.\n",
      "\n",
      "5. **Recommendation**: A common approach for investors who are bullish on crypto but want to maintain diversification might be to [SPECIFIC INVESTMENT ADVICE REMOVED] potentially getting a larger share due to its established position and broader use case. For instance, you might [SPECIFIC INVESTMENT ADVICE REMOVED] allocation to SOL and 90% to ETH if you believe ETH has a more promising future. \n",
      "\n",
      "Ultimately, it’s important to do your own research and consider consulting a financial advisor to tailor a strategy that fits your individual situation.\n",
      "\n",
      "Disclaimer: This is general information only. Consult a licensed financial advisor for specific advice.\n"
     ]
    }
   ],
   "source": [
    "import re\n",
    "\n",
    "def filter_output(llm_response: str) -> str:\n",
    "    \"\"\"\n",
    "    Filter LLM output for a financial advice application.\n",
    "    Removes any specific investment recommendations or trading advice.\n",
    "    \"\"\"\n",
    "    # List of patterns indicating specific financial advice\n",
    "    investment_patterns = [\n",
    "        r\"\\b(?:buy|sell|trade|allocate)\\b.*?\\b(?:stock|share|bond|crypto|bitcoin|ETH|SOL)\\b\",\n",
    "        r\"\\$[0-9,]+(?:\\.[0-9]{2})?(?:\\s*(?:million|billion))?\",\n",
    "        r\"\\b(?:invest|put money in|purchase)\\b.*?\\b(?:[A-Z]{2,5}|[A-Z][a-z]+\\s+Inc\\.?)\",\n",
    "        r\"(?:\\d{1,3}%?\\s*(?:return|gain|profit|upside|portfolio|allocation))\",\n",
    "        r\"\\b(?:guaranteed|promise|certain)\\b.*?\\b(?:return|profit|gain)\"\n",
    "    ]\n",
    "\n",
    "    filtered_response = llm_response\n",
    "    for pattern in investment_patterns:\n",
    "        filtered_response = re.sub(\n",
    "            pattern,\n",
    "            \"[SPECIFIC INVESTMENT ADVICE REMOVED]\",\n",
    "            filtered_response,\n",
    "            flags=re.IGNORECASE\n",
    "        )\n",
    "\n",
    "    # Add disclaimer\n",
    "    disclaimer = (\"\\n\\nDisclaimer: This is general information only. \"\n",
    "                 \"Consult a licensed financial advisor for specific advice.\")\n",
    "\n",
    "    return filtered_response + disclaimer\n",
    "\n",
    "from openai import OpenAI\n",
    "client = OpenAI()\n",
    "\n",
    "llm_response = client.chat.completions.create(\n",
    "    model=\"gpt-4o-mini\",\n",
    "    messages=[\n",
    "        {\"role\": \"user\", \"content\": \"What % of my portfolio should I allocate to SOL and ETH?\"}\n",
    "    ]\n",
    ").choices[0].message.content\n",
    "\n",
    "filtered = filter_output(llm_response)\n",
    "print(filtered)\n"
   ]
  },
  {
   "cell_type": "code",
   "execution_count": 5,
   "metadata": {},
   "outputs": [
    {
     "name": "stdout",
     "output_type": "stream",
     "text": [
      "Validation failed: Field sentiment has wrong type. Expected <class 'str'>\n"
     ]
    }
   ],
   "source": [
    "import json\n",
    "from typing import Dict, Optional\n",
    "\n",
    "def validate_json_output(llm_response: str) -> Dict:\n",
    "    \"\"\"\n",
    "    Validates that LLM output is properly formatted JSON and contains required fields.\n",
    "    Raises ValueError if validation fails.\n",
    "    \"\"\"\n",
    "    try:\n",
    "        # Attempt to parse JSON\n",
    "        parsed = json.loads(llm_response)\n",
    "\n",
    "        # Define required fields and their types\n",
    "        required_fields = {\n",
    "            'summary': str,\n",
    "            'sentiment': str,\n",
    "            'keywords': list\n",
    "        }\n",
    "\n",
    "        # Check all required fields exist and are correct type\n",
    "        for field, expected_type in required_fields.items():\n",
    "            if field not in parsed:\n",
    "                raise ValueError(f\"Missing required field: {field}\")\n",
    "            if not isinstance(parsed[field], expected_type):\n",
    "                raise ValueError(f\"Field {field} has wrong type. Expected {expected_type}\")\n",
    "\n",
    "        return parsed\n",
    "\n",
    "    except json.JSONDecodeError:\n",
    "        raise ValueError(\"Response is not valid JSON\")\n",
    "\n",
    "# Example usage\n",
    "llm_response = '''\n",
    "{\n",
    "    \"summary\": \"A review of Designing Data-Intensive Applications by Martin Kleppmann\",\n",
    "    \"sentiment\": 0.8,\n",
    "    \"keywords\": [\"great\", \"recommended\", \"high quality\"]\n",
    "}\n",
    "'''\n",
    "\n",
    "try:\n",
    "    validated_output = validate_json_output(llm_response)\n",
    "    print(\"Validation passed:\", validated_output)\n",
    "except ValueError as e:\n",
    "    print(\"Validation failed:\", str(e))\n"
   ]
  },
  {
   "cell_type": "code",
   "execution_count": 6,
   "metadata": {},
   "outputs": [
    {
     "name": "stdout",
     "output_type": "stream",
     "text": [
      "\n",
      "The customer's card [CREDIT_CARD] has a balance of [AMOUNT]\n",
      "Their SSN is [SSN] and they live in [ZIP_CODE]\n",
      "Please transfer [CURRENCY_AMOUNT] to account [CARD_NUMBER]\n",
      "\n"
     ]
    }
   ],
   "source": [
    "import re\n",
    "\n",
    "def sanitize_numeric_data(text: str) -> str:\n",
    "    \"\"\"\n",
    "    Anonymizes various types of numeric data that might be sensitive.\n",
    "    \"\"\"\n",
    "    # Replace sequences of digits\n",
    "    patterns = {\n",
    "        r'\\b\\d{16}\\b': '[CREDIT_CARD]',\n",
    "        r'\\b\\d{9}\\b': '[SSN]',\n",
    "        r'\\b\\d{10}\\b': '[PHONE]',\n",
    "        r'\\$\\s*\\d+(?:,\\d{3})*(?:\\.\\d{2})?': '[AMOUNT]',\n",
    "        r'\\b\\d{4}[-\\s]?\\d{4}[-\\s]?\\d{4}[-\\s]?\\d{4}\\b': '[CARD_NUMBER]',\n",
    "        r'(?:USD|EUR|GBP)\\s*\\d+(?:,\\d{3})*(?:\\.\\d{2})?\\b': '[CURRENCY_AMOUNT]',\n",
    "        r'\\b\\d{5}(?:-\\d{4})?\\b': '[ZIP_CODE]'\n",
    "    }\n",
    "\n",
    "    sanitized = text\n",
    "    for pattern, replacement in patterns.items():\n",
    "        sanitized = re.sub(pattern, replacement, sanitized)\n",
    "\n",
    "    return sanitized\n",
    "\n",
    "# Example usage\n",
    "sensitive_text = \"\"\"\n",
    "The customer's card 4532015112830366 has a balance of $12,532.16\n",
    "Their SSN is 123456789 and they live in 90210\n",
    "Please transfer EUR 1,250.00 to account 1234-5678-9012-3456\n",
    "\"\"\"\n",
    "\n",
    "safe_text = sanitize_numeric_data(sensitive_text)\n",
    "print(safe_text)\n"
   ]
  },
  {
   "cell_type": "code",
   "execution_count": 10,
   "metadata": {},
   "outputs": [
    {
     "name": "stderr",
     "output_type": "stream",
     "text": [
      "INFO:httpx:HTTP Request: POST https://api.openai.com/v1/chat/completions \"HTTP/1.1 200 OK\"\n"
     ]
    },
    {
     "name": "stdout",
     "output_type": "stream",
     "text": [
      "Latency: 1.05 seconds\n"
     ]
    },
    {
     "data": {
      "text/plain": [
       "'Finding purpose, connection, and joy.'"
      ]
     },
     "execution_count": 10,
     "metadata": {},
     "output_type": "execute_result"
    }
   ],
   "source": [
    "import time\n",
    "from openai import OpenAI\n",
    "\n",
    "client = OpenAI()\n",
    "\n",
    "def get_chat_completion(prompt: str):\n",
    "    start_time = time.time()\n",
    "    response = client.chat.completions.create(\n",
    "        model=\"gpt-4o-mini\",\n",
    "        messages=[{\"role\": \"user\", \"content\": prompt}]\n",
    "    )\n",
    "    latency = time.time() - start_time\n",
    "    print(f\"Latency: {latency:.2f} seconds\")\n",
    "    return response.choices[0].message.content\n",
    "\n",
    "get_chat_completion(\"what is the meaning of life in 5 words?\")\n"
   ]
  },
  {
   "cell_type": "code",
   "execution_count": 11,
   "metadata": {},
   "outputs": [
    {
     "name": "stderr",
     "output_type": "stream",
     "text": [
      "INFO:httpx:HTTP Request: POST https://api.openai.com/v1/chat/completions \"HTTP/1.1 200 OK\"\n",
      "INFO:__main__:Request completed successfully. Latency: 2.13 seconds\n"
     ]
    },
    {
     "data": {
      "text/plain": [
       "\"The question of whether life has meaning is a deeply philosophical one, and different perspectives can lead to varied conclusions. Here are a few viewpoints that suggest life can have meaning:\\n\\n1. **Personal Fulfillment**: Many people find meaning through personal goals, relationships, and experiences. Achieving one's aspirations, forming connections with others, and experiencing joy can create a sense of purpose.\\n\\n2. **Contribution to Others**: Engaging in acts of kindness, helping others, or contributing to a greater cause can provide a significant sense of meaning. Many derive fulfillment from making a positive impact on their communities or the world.\\n\\n3. **Existential Perspectives**: Some philosophical traditions, such as existentialism, suggest that meaning is not inherent and must be created by the individual. This view emphasizes personal agency and the importance of crafting one's own purpose.\\n\\n4. **Spiritual and Religious Beliefs**: Many religious and spiritual frameworks propose that life has inherent meaning through a connection with a higher power, moral frameworks, or an afterlife, providing adherents with a sense of purpose.\\n\\n5. **Natural Wonders**: For some, the sheer beauty and complexity of life and the universe can inspire a sense of awe and connection, which can be a source of meaning in itself.\\n\\nUltimately, the search for meaning is a personal journey, and different individuals will find significance in different aspects of life.\""
      ]
     },
     "execution_count": 11,
     "metadata": {},
     "output_type": "execute_result"
    }
   ],
   "source": [
    "import time\n",
    "import openai\n",
    "import logging\n",
    "from openai import OpenAI\n",
    "\n",
    "client = OpenAI()\n",
    "\n",
    "logging.basicConfig(\n",
    "    level=logging.INFO,\n",
    "    format='%(asctime)s - %(name)s - %(levelname)s - %(message)s'\n",
    ")\n",
    "logger = logging.getLogger(__name__)\n",
    "\n",
    "def get_chat_completion(prompt: str):\n",
    "    start_time = time.time()\n",
    "    try:\n",
    "        response = client.chat.completions.create(\n",
    "            model=\"gpt-4o-mini\",\n",
    "            messages=[{\"role\": \"user\", \"content\": prompt}]\n",
    "        )\n",
    "        latency = time.time() - start_time\n",
    "        logger.info(f\"Request completed successfully. Latency: {latency:.2f} seconds\")\n",
    "        return response.choices[0].message.content\n",
    "    except Exception as e:\n",
    "        latency = time.time() - start_time\n",
    "        logger.error(f\"Request failed after {latency:.2f} seconds. Error: {str(e)}\")\n",
    "        raise\n",
    "\n",
    "# Example usage\n",
    "get_chat_completion(\"why do you think life has meaning?\")\n"
   ]
  },
  {
   "cell_type": "code",
   "execution_count": 12,
   "metadata": {},
   "outputs": [
    {
     "name": "stdout",
     "output_type": "stream",
     "text": [
      "CPU Usage: 16.5%\n",
      "Memory Usage: 72.4%\n"
     ]
    }
   ],
   "source": [
    "import psutil\n",
    "\n",
    "def log_resource_usage():\n",
    "    cpu = psutil.cpu_percent()\n",
    "    memory = psutil.virtual_memory().percent\n",
    "    print(f\"CPU Usage: {cpu}%\")\n",
    "    print(f\"Memory Usage: {memory}%\")\n",
    "\n",
    "# Example usage\n",
    "log_resource_usage()\n"
   ]
  },
  {
   "cell_type": "code",
   "execution_count": null,
   "metadata": {},
   "outputs": [],
   "source": [
    "# import os\n",
    "# os.environ[\"AWS_PROFILE\"] = \"starvald\""
   ]
  },
  {
   "cell_type": "code",
   "execution_count": null,
   "metadata": {},
   "outputs": [
    {
     "data": {
      "text/html": [
       "\n",
       "                <audio  controls=\"controls\" >\n",
       "                    <source src=\"data:audio/mpeg;base64,SUQzBAAAAAAAI1RTU0UAAAAPAAADTGF2ZjU4Ljc2LjEwMAAAAAAAAAAAAAAA//NgxAAa2koMAkhTLCDpocDZRPf4Wky0SIyjLE6vzhFsuiMCsoy2k5hffGSbBX+BMB3+SAZKDWdRk7XMLyzzSi9Gom/G1FXm2F6udXr4TrPdZk4XuTlF06vUBdEOCQjDine4gFhYzqxAuf1vu6f+sCSZ8LGSZgLS6iKAGykwMlVKCJmd4xnW7hm4qGTczgxtSyhakZHise3BQQEA//NixCMlu85Qs09AAHcCGHlCACwOAaUNFxQPEmhdxe5aj65eD4REStB9WifCWiIhlg0BWawNBp7jDTzCxc4gwoKC6IKPli4vYcGEIiV7yLxu/KKDeyzxpxg8PCxg66Lv/93/7T/////////////////7jiuKuKSkd+Bp5Z7iw1HXAAkAwkiMQQEADUbghUmgFOqbENomGiomsrMUGf/zYsQcJvnGrZ+YwABrv3LWGsHS3XYux1Bo7cEDYyCoFzoPiEUUOdcaegGZyRUYm7cXfiMt2ZxSLZWfEbcU/PO3JaOfsZ0lbG/nhrDv/U/Ll7eqbWOGPfuVL28+833CpG4pbud5nzOo+Valt8oNWNnQBGDUqc0oDwfHoIrDE//X/UfUY/93+tDG/xc4LgBAEGfbeHSUxdVvcZUW3UH/82LEECPz6rHv2GgBm2gxdku+uxuzjQFUAYVnMpbAj66peEnAekmL4JYbnUD2HOJZxDhxIJjsJElUTBFqqSSjRLZbUFt3qZJ1MrrRNS4TS4YsZOtaCzXqTerTWjo/1bf/QopIEiibEucTPF9I3SehR/vTRb6L////////ZV6Ok1tM6dW6mskYNcHGCMoAUBCAtJj3EZECV41g3cQg//NgxBAh8/6qDsnLQTYG0haD+etLEv38QqGiy822VKIfpnsQ5f2v293JP6FXtPooXLNwE0zjhalCGgf4e0e8zaEzE0HIqAV0ty/y+dpg0OHMR9CEQzfofKOOiiofZBV+7Hn5tE7o////0Y7zschLkkO7IWfcn+c+s6P+jGdxJHFmqJmdAjABif5xgRhw00yfjAANJooLWHU0hfaB//NixBciA/6gRtCNfI9Ra2DBrHICbnByKN7UdYLY3hFsN6v8/TxMmtS6UOHCZ33mx/8uf4QVheDG0XQO2BaARaGNmN+rfylSUpVcGIOsBYFLo+c0qu10LP1Ky3brbo9v///wowpmaitQ022iOi//qmu//aco12zXDLpUFzUagBhbP88qMw49mdUCCxEBFkDI3UMMGDmDBJhBCllL4f/zYsQfIuPugDTaRQ2n9zjLKnmfiKzN6Bp23KGT3LOXbfEhuUCI0ymFjR4oTA/KvGH9bmylUWY0xMQxrhIlNjGEsWitqXL/7IZ8K6ODLLujGRvDOVjQFkM3//+v///7SAwgpH1b/0NP2/oR0GCNIdWMisnCiS0ckFxaADUdN+R0TOUR+iP5eFvoz9awZQ8bnJCIqREWtSGAXOeUYZL/82LEIygCJqWey9iU9iiJwfjnRtTLn7v595f3zDU5ps7exDkDyGMcAOHluO4+X4srU/f6aQ27Y18BMKYJm+QExyIexHMzN8kAcUNl4DhfPhEM198WUpVoG5b9OJaN0QxHNF68zare52JCixUPHG1+L30lHeXd+X6SGt9UoG///l7rkMW8Cn1ANBcc3Y0192icG+dFTBQwwWLTKOic//NgxBMh6h6kKtPS0DWp65cZ9JbDYqTGvAmKgERCY8CSXnqdp9v+uRLtUFJnc13ej+aEfCHMWF55ErX8bxvjbXas9tuIEUHjIursCOd8YhsoGd3T+S6sI0kzceCHhyE3aZGLot62/qMJyUIferuB+o5z/9//rvbirf+vyiNj7q1MXeZKk8yLz32/DclQkRTkwlULLkfFtIZtfzqs//NixBof6hrKVsJHCKXUjFh9Uwk6Ipmo21V33noUDEexOMA0LhiwGC6JCCogWJBKSTuEo5W/9HpjT9kRDUySL06jC68MpSmRKflc+lydv+X4Itq5Y7VPhlgCCqxo2Kj5dx9f/iVTt4aBb/VR+MGDXKcWUmNWeeQ8N365czjIOG1a3SswMiJqXO8MzRGeeIQOg1Iaspolg7NnVdoX/f/zYsQqH/nqytbDDQRo4q/rldblkwe9arFVOamjztMSqrppNZUzO9t3K1nr/3nyJ/zN7ePHON3dC0+71eeSNdiYCB4KhsOgIAvuGj33MAd1m0u2Q/rUY+oaT7ec1XQ93oYJmYEUyOClG+ZXqcEJi9Sw7YkXlhvCnK7MiFjZdbykxSr52gTG+WMY2cw3o1reVMpSf4Ye8T8JjtyPhMP/82LEOh8SRrYWw8p4KMTy7BwWlUgtiSmmEH0CIdeQVdDjjdn787PEXcVRnluZCkXjxaK56Sp2QrS7+SJKatal+rcXLJfCzS5mieYCwUEblUIEMiVEs9S+ODtzVmnRhDiGEI/PuYgWtNwlEaPZS71y6BYPq6KTHtSgkO1eForiQslQVepaAKC5Sh1kG/KZBIz1DpOY2nmMYoqUz/08//NgxE0ei56pdssKd9mN5XSZ5vmM9xFSsvoUqlUpf/TK0BSf/72tT/5v/1nlMJLFGas+dVEmUGCZoSoAONIgOX+FZU8aeExWJXXAUEjIaZyGrqhxjGzSOoZBXEIu4OAtcbwRd0+/ZSUnwFdIDxJFQhPHwdVPpT27EU7U9vE2k2ZKU86VfP//0lvXdzMlUW0d9/8faLxyaezWHjyN//NixGEfQhqVvtvQcEDY1rnmiPPf//WImr/77y0ZRULPbIuCJkWUFxUGAdtwC/UzjRzLB11l0V6AzK++sgjbTDdaA/Bw9apEq2kUujlFb563TSS6S7aSlrHaSRJVBpQw5Ee6VxUkiRaVYgU4wDKNpThJw9sDxKFzaL7rHpiKr4kd7ZRv87iPHFybzoR8SVgalRDZzsEwcILuFmV/fP/zYsR0IVH+nNzK3phE93hwmD58uH////////6vYmoAAWnw9tNCGUTY3AF0Qeo5oLnAWFkETTjZMkSsQ8nT6lkP1LJBue51un7e3TXnU5B9eWXYmtWTzHBkqQ6IjdZ4u4zBkllc8naDT5P5ErNPk/kbv4YzVHrkrciMYWaZ+7VJukdmM0kNRt1Y1Ln2ayNmNE4ljw8eFY1x06yj3c3/82LEfiSbGrI+pg9s53//9DERTGno39v3U93YcV5wn/31IDFtl62mBHPrtcpqEKhb2a0/AYbLVPVW6sZ012m6qpXHZiT/JABHWX5dnjD9oM11DiDzqJ1fOdqEVEkDiWZ2NUwCXVuGM9r7t1ClQhylnf/9ClYiBRNj/////+qpr+816IlGSPR3KrUfohtkm/+77yrRzGmNQKYUKu5F//NgxHses97DHsPErHJAmbnitygkIRtMHgJQBfIGFmboUyufXS8tN9qpa/CnqWuVQGDyF291EQ62UrUqKipxEcrAMDFGB0JAxUMIkDzHAFlZ7cVR7r1Z8yWEhYsyvlb8pSmdACFUlQ2lf////1mf5DsqoVls5SoZ2SpUPM6G71KrFRJf9WtT91YWY8749W1orLZbXZdHorVaYi4J//NixI8gI9KAVVsoAPPV9n54aXDDdIajYJIgTUISTIhV5vkDAI6Zha0oMjIWgj46yADCu7toJKCWH5MvsMBvuxHmciEQIKGsC2xrpaVLpdx1GmBwPFbV6oV99EZ4jycUs5GRyT5ltcV7Go/nj0xE1f/xEcgCxsBcHInCaNHbhSDCt4db+P+/vusenotsxOgjhLCgKUk5CUkaajc7+P/zYsSeOzvGtl+ZeAN51u1o14sC+qZvSlIl9YxrFM53EeM8N+qFZEVcjhTbJaFuPPaWfUeSmtzX3jX+v//r/0//7m+OdbV6HqB5hEKx6qJIr+HtQNk35ZeAj2R2AYFsbZgry+hkJoTOU8zvtWN8ejs+th+G0ncGWRTK1NMkxy6E4+ILC/0IFVCCJ9kn12XfSGcsDgiVYoJR4pMA3hT/82DEQSRC9qJN2UABgF40o0Owv8R/acRL/vxbbfFUm/VjR+QoOGOPsZpNxX6V7283wvwvxfK2zc7NHtzvGqrsqqsqMUhhwmg7f7dl40bGxcFQsrPiqzfQNZ/F2IoHlg31lKUbAF3B1CkuRZHCVA0cToUnLbMt1DP14Ykr83qkll2WF29lu0vzeJG9oOselq6y3Q31assjvBVoQdL/82LEPyhTrpTky8UdfyIBtqkbzKKMrTZOA1CXH68i//+s0/zr+u96/tAtb/4ney09XN026tBevkzA9oaUWe2NLquHzfBjxdfylNdHQ39W/9X1b/8EBFChlYwIO///QvmXnmOJdDgDjBQTbGMwGczqAAHkm2CBVbD5QxIP2zxrKOTB2yxWSNada/D0Tlvd1eZVaXeh0ao9FGrDxI2c//NixC0e66aSV1g4Aas08i1jnnTlNx5x1yI8JSioHR44C0BoORqaaz/O/OU03p/qah1DnzWmtYeMOOO/9Djqmt///7qccn//zdc3///Q7/qaaWKPKglgVE0cVFW1arSWv45jo1j1/gRBiFAiVIFGwADNEoXAXWmKX4MQIGjao12Lois9OI8P0OdRKw4GNyZAvxOCaq+kCmY9ikJ2uP/zYsRBLYo+nl+YeAAynKFNs5HBWRH6yQtJnmXB5AQwmjczz6hxtaJ8lSxubFFdMh+Mk7yJCa2eJiJe+6TvKOrx3B+9iOsRIcXVq698WpjGPn0URLE8rTLXcKVoY4k+bzxH7+YPgMC/6dBxKyZys0fsU7/0pdAAfC8Qa2CwRcMAYYQq0f0ccRNu3G9yPvsWCA5LXYyrMghZ2/6IIIb/82DEGiPUFs5f2EAACgZZuJQjXzdbHKbtfkT8XHA656uNq+F8YdzI9fH2qjj/BoDcySzEpzEmbn73T/lriJ0R2qDHcQQUHMKlHM4gnWefBCQqEQkO7LPEylf//////////////////98ff8cR7N3cfyV3tdMTFD0c9Wq6uY0u+HGjqg3CJou21K6xIqNUsTHAKXSd0EnU4e/Mw7f/82LEGSADJrB2wMq9uAVgVDSATOQEPKuZNDJl5S8yQOIbUSykzBj2YzVSMBUj/Kj1LUhkMX/o+pZpUZDK35TbG/xzOWHgd3zMMYzUJVtlZ2NOYqMdRjWOljortd3VQFAdf7+bciZhiv9h+N7lUMV2T6ZdFAaTXgB5iPsJO9gHUQIhMOaVXr1qHJNOTQWrUzVu0escsu/8ar6iQI+A//NixCkemqqFDVkYAFlVVqv7WBnLUpGKcOqX6+x1WMqXD9m1JShezH66r+zbNVVdm4GY1XgVUOM6hTwFeCt2HL/2//UKAYiDsCgqdUJhE+WDUeGv+/i+psRug1KhEzVrTlsxmQyGQyEQCAMKUH6iB8KYgYZyFYNNwQGMINDCYH6601jDiWHRtI588mFqDcTIhWXKkI6hPC6USRLxmv/zYsQ+L7QGtb+PaAOs7OcRHcOQehfHYSRuap7KZiYYjnLg9DML2aqTH4sJAp/fmRQGAL6iYigfNzMuDkTNx7myf/+gVEoZjnIg8DAwNDxuo0NkVUjSYLM0///ZC44B4jBmiHWmZEo7GBommo321oIf//88SalIqKaCJ44iUEkD7LQLiaeyVFdlIU6z/VnABZ9hXp4lBPwlw7VIPsH/82DEDx9Z9rWNzzAAvkFTBsj1sypc4lZnbGt2jNmpz7PSgxuz3fkhPgwHOgwgDhx4QEkz7w/ZQvbTu9stO0xRBUTH//b72+t/et7iZk2W1JiyoC6W9+dQcTOLA0BjC/wouoGgqSbEsl5LWVMO/0rR7GiXWdaBgaUWDkSqAMKhRu9/VosHIi02KO48an2ousyBYBqs2zhK47XwvFv/82LEICArJrWOwwS4dXJx2eyC/ZR6Z+/WWLaQON1gUntioeHMAreJEKQ3QH+Q2qECEFKQUqKXdypVkeyaK/lZyWZppjGcEKchrUMlWurf/zIb//mf///q+kKhhYmZdWGljQaxOKLe0pPoaeNtTUUcvkAjTtk/VCSnaDq+iiTPldChxML0UEqhgEK5kXov1plQatnKBQfhvKNyWMaw//NixC8fOg7GPsHK5kHOcA2I4O0YAJUUAhVnM+AoAFEQCMb6PR+bM2dlL6s07EMV7ipTC4DUQaMzB0XMMO8+RDRWxv//5EUAwMlLPt4SHiyTpAOhYJnxQyH7FIoBQvGsZqhIN1dzMPDFyroNphAgmy/k4EjSij0JeJGik1nw3HjukFXV8KHS+Fu7tPD8f3IOQxC2EgC7gdKbgKY1rv/zYsRCHroenNbLxJy/3Wc5m+OK1dte/5ev9v5lRyuzlMdTIfRAT4NBQt7wMMFlMt//+kQuLHwve5Ny+g5U2woxQUIucxHRjgUiezeOfkmSZ8ZpB1w0BvHqQXLTPOykyS4qSoYLD7XVJpeLMf27ykcnlRWJZhUUs4sls1pflHGQzfkapW+j/qhteR9Oe7r3THkcUDioICQoUxhb/+j/82DEVx4r8rV+wkqbb1K/K3zr///+NEhQcYEDgf/////qizzrsxKLUjHHtYbOyoB/gBjJtS7VdscSTjqUoscna9EqERVXzvU429+lYNjNPsjDl3B8sMNxfX7sf9e5vCJrN5uhsaDnmFcONjW24bU4eoRsw5vU/0IQf8hasQxiFbW12uNqX//////o2p///q7DB5QmCx/////0qyv/82LEbR6UEqWewU9S1OdGNaazGHtZaMjsWWoAmkAIQfiezkPmGEFH6MK3gj2XZtQ0CFARWow6beQdFNpIvc+m11aunLWV97+fsOJUPkpdwTIdRMqWbGUpFu3AVFMPZ0V5Ax4xrlbKr9T/nOjEbQxnjmpR2rDwt3b/////6txiuRyoh/+XxJ3FUEhIXL//sR0gHGlh4lMKHIpAKS2M//NixIIfYxqRntPKfBTdv0lbFuQxBts8C5lJGYYLfq7hp0EzovaVSR5eXJuxb6BrkghP4NKnsXK3wDb//2qrQHI/vkkkdwkSIlTWtT6PQW9DPqXmmeimdphbIMPEjaMqkJE3om5G///89PTsX///xE4kdAMKGo/1AnCskbyRE3awgGQMePJIVQAFP/but1k/OUCuFQULpoRsklUogv/zYMSUH4sWtl7Biw4e/5tWKmvx55sNy+jw5cos6eP1MTAUPFXI+Ry2eCxQljq1Vy4yRnSAERYRrmbzOXs3RPvpWU2pjjSiDhIXIxSMi0V//vvzJneTkJT//+W7CSCZ2FT///zbtSVyedybGkqRjmZ1aijFYpUA9JONuOVpY6dE0XRJmRJtn0awWuvNzYlVUtqXog7XebOShJJUp//zYsSkH1QCsj7AyxKvlF5jSw9AlEEmzy3Ek1az6KQ5S1DOjl+VFb1b/6Udrd1zjIDBHIMYSixyoZ6FRxAsCOEHAXoLFBXs4UELETKEF/8lSdFO5D+IccB8hxP/ybE7VlSrcjtVWxIyblSsp2C8ib5BRpRlOcTW/u8QAQDAxegrZwMDHd30CCwMDFgYG5/XCABPXTu8I8AQAEIiuaD/82LEth9TDp2+yYTOAiIld0TSIHFvz3f/3Ou50uh3cOBm/0DA2TQvf/iV3c+PABOuf///Xd/+/SpNSsMv47f6olDCQQ6w/9YfBATi582xCz+6tknUIRrkisjsbkn/qAJXhD6t6V9es7B4JIPouMQg74Ys3OP46kpp5RlVKApdnp7u49cERSbJTsQFDI6CwwME6dLCt5ZXyWvr1exx//NixMgf+y6MNMPGKGfK9W5Evb/Zl6219+LLfn6vfpOWt/q/jgWXevDqN3JBEcgwIQHFv4tSsqdDOUpW//6Pf///noQ4Pt//nZSIiyoVUMinPcGMgJRy4AOWxEmbQDUAszmZ24IC+kcvqzmbM30iERCfaULEx0iRKsWHO9l6kVqztSM1nBVq3zM16WrM12jQH87jLJCiv7nE4wnqof/zYMTYJlvKzl7LBP/OI3rDfRljNlIs8RdPcbRJ/QIBNXkKaPEv1Ym+b/Vev/7KuHYoWD0OjRFOsYGhCF3E4NSTbygeEKwgLPAA0nBchk0f/LvL+Tk8YyOIARzCZU8SFDywEEybHveQgAAKQkMvzLQDFUNYlKB6tRdhl0WrSWGZDnVl2fyqNT1fL+ZS7dJaY8KRqqrJqAiHDiQZDP/zYsTNJkIOnWrL0Ly6hRIK4JrxyZogoMHKrvP/9O7H/2dU/7EIn89EYYhl3///+stXLNyzfv/9b14EmEYrUXgSGEZIvs9h/+dE9QLgmOLMk8f6IEVzyH8f/+K0BdKKY+KGHdIkrV0aNIxZAwozNtNaPUUQHk124JUw3Iw2cYnUupkmF6UQfNJ89LigXQjIExIkUqiqzJYKEZGKn67/82LExCr0DpoiwNMZXUubs3I79zW0GRynNppO3O2j+9SccL7HT+KXA4wpWVfJ+rf6f9X6NwSIHIQLRvods3AY4sd7WP///EevJcuT9y0pq///+VmYa6rIq0SokETw9T0Ty7Tz3/OK+x/wkIPGEnmU7iWMKFyMro6z0aM3//plWty1mELGSAghcYi8hStTbTQ0kAihwMp5wg0zAFIV//NixKgyFBaZqEjfbMTu8FPLDi1N6yxNqLL1pfgoI35z7O2MtqZoNNFw2e8ulZNrtbbJW4fCROXF4gS0dUmsHtIgIoRKZuFWgdNTMg306a0wotsepaniszcY7dwq3ZmvORwAQDiClzy0b0VT6u4kipElKRlsqM/O3f6VnK1rf/6J8+Z00bdCmsZ3Qys7ss5/Y7kehikqhSuxjMQznP/zYMRvIHQOylpZip/lVyNK1j5Sah12ZkQePGmKwOw9m7vIqJmf/nAE5YvAdJ2r330L4n+nthpIT7KQFZjmbqsNuiiCKOwEP828neUc0Q97Txlufe65496r586Iy1IyUzkX1/Pednclm1QkjL9mtT2eRG/850Up0j6jqiCCKL+oVHexXkvRA5EWBpBmAECnBIdQb7sRAX/eYMLIhf/zYsR8IOwSyxxhhLwM4ChTB6q4Es3NbbtZY4GgZTje5HIsJ+Mo6RxyE1L2wNewTBwyTtTYpI5Hsk/XE6ECFGhiQ2KwOc8jDJokJyT/HyuVeefx/9UurYrIoH3SRvuExWVlbqMtJsqbWvoCUCZfs8rdkNw5PT/+YxSs6stPXMab/0fq4kyDgqSkoaiUGgawaHleGg8DZ1msYDR6eIf/82LEiCFzLt5cekS+mf9lAOKXb+hQSOq1DXyc05FBSIZKoAyCNUJzFSBJIDEplScYKaAAwJki2TN7k/6w7SH3etakBwqHZ6A3XijhsoeyZkQQCQTFjDz9T+Kmr0d9Jrk8hXPBs0vL/piAmo4RLOy4maBwh6W2np766sJHQkPunUUvedeuRb01JmqHIv/F9zsg4aiKnRiGBtBLoPgK//NixJIfGR621N5QkAABJWO0DSwwcTt4loWycAdaeSFAtK14dnTPvny3scv84t+YY6/7ztKdevpjlp63hqlRlL/76HKymKVCghTKhkapfzKVkdmShqt/y6Wrt/0///8qOgZyoUMZFOVGFI/lXOlv/vRkVQlMsf53RC+ilDL0GJUVpslgYUMBhbyUdyHWU/ch2vFZmHp2AnbVWi8ud//zYMSlHpMusU7TBLqWK0qBpuS0Vulw4aamSIlpApxwKcRuRV4cuAVGv676iTPWVvmAhSsYyOrGM7Axn/5NWUrPUKY0pn/3+VDNe/9jOi///mMo0yIGqBkNLDf//++BntiqFS7ruNc5RJTLISJ22q2huOHVoDHQjYgaAd/tWArVmL0z6qXOtDTWmcvPACd6jrozAKLK42kdIiQgev/zYsS5H9L2lBbJhSox6i4Y9FFLO3ai1GvpW48zGe8nt6Of5m/vU587cucfKbe20g7Y8tmV5Ks6AM88yzoAn9T93///XX5MHBP1v/dzjJNA9CndLcNsalsUAkHJrpDNCLtMhgFvuomsqFPuTYMopceSHv9lH43MO0MTcuhjDclcs2lMcEKUamVO6X0SRQwAigOCNziwaA/J9AdoGMD/82LEyR7CEoAe0k0ExocJISYYaqIWPQwvEQlGg03asY9Y+///77gWo8r3/xVOIzf/0n1W3jjHoZ1l8Wwng6IwriAcC5hmCAIWLYlx3oJDRxlvMuM4TKefX//+tN2TTep0Xb/////8kCh+s0HuUyTEAEGLo7xGxuKKXUZkoHLHuMGSITse4/jiGxTlETMKmJiPYsE8J4whJoFpLlg9//NgxN44vA6tnsPbc4npl9MgQJgpG5rX2ZjwooXVVhoOMK1XW6hBJMaFCocMNSeuwib+o8FHl96Q8zoNfjYy/cujVqu5UPULZHpYi0EKCCoLDArCAoEXo8Cc4CJh61XgBbnlNhC0UBGSSHCKDANnQMGBwFmDeCMK/0g73jtuXR5658au+n2xd5EXEezxV17fP5WMjROTlYK4oeiH//NixIo40+qlftPLr2Veqh+IYJGgyWiIK0NE3hdQrjlHGQ6Idp/mg/V+3+8qRN6/9GO2qyu4mZqPL41/8n6K6N///+hwiL/oNFY1zBIRD10pUPAcVCYeAUOOYhhhCEQ4uQTjzIDmaoAA61Cgytyh5HVEIlQZ3QFK9YsBzHUwbCoTnYVkf6xdDiVluQaZnXxiuH3NT1j38XdbxsXpPP/zYsQ2J1visjbDxN77hXrEbafDKn4LyGrdtzDDFzL0UxkRXinOdD4lJIn+6bb57xKMEXWKTQ7dLbOjIxHWkAIxg45IyEu5UWsgl9TnLUp3erU/nORAB42h/IQhBdT8i/p/+utT7TKqoqBVMzopzC0cZqo1dUDutEZXOU3VtkwMqoxOH8I8XrI8uc3FbsDU0kVjs01luM/hMwNeymr/82LEKCTrFrWOwgsentyLTBYiheeHnJj9/lLUPRcXJDBzkiISXQsKC4uEBMkD6j4QnhUMhp7Qc/c/1fF6NT3K3so86Ss4XFLgnhrv//UeHFy1p/6l70MgwSuYweHCAuLAYFDR4SCgOcBM99/HlkOQo8eOqesVV6CCAHkbQjJb8Shtg1Y7UN05rwQqRUXybCijVO0xbLhnIMzMASgR//NgxCQfcyK5rnoE87ILIvyakbXCtT9f/6xjSD4EETHUx1oCCDkAgLTo+j5jPu10/po7PLqrKUS0pWN2VvzkqcJVCIS7757f/n6bWzPuCAjgjVqNovFLXTFM+5gHeC//+uubJ//kLgeYwBgku/kpGFtzm3CRuZJN33+VI4k5SV7dI9q2wMO/2kjFijlkAWYbpsN/cxypK9P+6kv7//NixDUldAqpFsCNeZ0DuSzmG///qYIyo3Dh3EEY7hABkT+iTpseuTU70U/oOggOZjEADkTV//UrsY5Udv/Jt3u3ZG/9zmDgac7/n79kECZMmFvbt2hsdoISnd0Q5iBhiH5+n7m44Ochp62MQAJBLAQYCSn68hSvTP03EY68bgMrDIdwApi8z5gCQPbAUrSrVqlMqYm+1reEbw//qf/zYsQvKsP+rZbCRXEMQxGZ5y2vu1Dy511s+eGEP5Oz3//+mCfoGDS4JohwQEBY8eEhdouQ4sj3P73wvYZ///12WexJheOrdqleNYHy5CDTTMyaP8N//9z/7Nyf/16KS6N3/1dDhHIotur/I8O6p+j1UzAMrDjOwoYynhRQcwUoArChwoABpgwHxBoiSQsCt39U6UtLra2rWN16HPv/82LEFB5qTsZWwYVI2P5ZqYBxqOZRDiUngNjVuij8Qv9+k/49VlscdOVUzI3JiloSHNeM//7JsSUTQoniyYIdy6zW/7TzVObb9l37oZW7ZHIgdERZf/tcwQ6K//ZO+pioYoe6y37HEUgqTKrubNhWRnT1zYoAgGTdvRcvKJbyiI4tamrrIVX9tPOwh0GR5Z0yRFUAUt0OSScN4ubr//NgxCoeIgK19sMOlJGWR+MjplDJyc4DboIv9CJAmNjokkwkHghFIlGm/+uivmtnPoYfRjih3ShyTkc9kKsPAYWr4dZ//sLfUBSR0KjyRH892UmQdRJeRAodsuWQgJBopjMikAVnyvDhH65PXzNptZcZ3BZbXgxavRFEk0dMAcXKDYs5QuIo1IuKRsIzlziotGrV6Ejo6NRqaaRp//NixEAgExKdV084AB1jv/1NNdTf6kUVKkTTWznShxwjEnjxJDnX/85qmGkjSn//oqc+cy/8gYZoe44C4Qb93V8QEHlC5cGIkBMJNGrVEA7gq7eu/KhBADe9qGGkVoB1FdDGN9+3BJiwlyfKo83OC21+NX2sMzDt7MaamaE+VKEPqQWyC5HhINxjNFaioa8jOMSIoRcyQh1nOhqpN//zYsRPMvtubZePeAG3ffcG6Xd7UCTi/hpcyE/ZuZt/Di1vFRm9/ueNuqlTAuRELZmG0hbTjbU9VrFr/3xbFv4UHX/3+0GmPC8dDGVnlJWeab1v//GYV4mcPqWbP///8f/59rxHlMa+67zf2iXo6/ha+J/4TVJHxaFPaTH5uHfc3kWOP+bx/fSOELczEri2kikQJIMMB7A+DvBwYq3/82LEEyTi6rpVjEAALQ5gsJb/ULujFSRUVtyABwD3chyloDcP3F9RWUultBcYHiryt9VYRwKAvYUBe5OSHIAojWhHyPADjxcXYXF88aKh5m6q4gnuO/RX3hD9D7R+frqfpX6nhraz+Jenin+CDLin+kSN4r5/58dlzBADDYQdzg00kT09lSzhBPfcJjy6AmAbkC275QGGON9S0GM3//NgxA8fwsqlq89AAD5we28+Yt8bzmmBUlO7mlTVbsb03NfHPE1KvRTpEXZofiQcNHqL+GhFBul6iLJyLzTZFfyfwUSw4qyXOf//9xUq//SbpPhSairgq74paWfxo2Z1jJqP2HWMYVUOBkjJLeK/9zhYXsWpxpqRdjqgagU0uVRz/QCZZf+6SAjaBQcOMmcDIZthZ0EhcOBIZU5h//NixB8eMcq+9tJElDtihFHkYnqWYJ0EScjfdI8Sy14Yjbdee/ISiEbO52ISWJUh1HQdgmkaEP6/NUyhEZBoglWxYfdkBs+2toiZliolFdboldV4sXPgM4JzX/nn0i8XDRwUakNXoiA5FWiWWADJdvtisTLz0tkgWwNtdXUZaWpxvKaeGY/bOWb1bkEpMy6ljKpLdFIlmFLD5uRSF//zYsQ2IVPmvxbKCxESfy3ydXkD/gRdVCcktRUNsMHhwk3aNEB/K1X6k4i2wsMcobz1YhGoCnz1Ye5jO/ItSf////9O29WVXWKEMJDZv//6rVrfU7Z5jliYrBSO6kMSWHWADN/9PjZABkXMQNMIMwtxZjU38W3+uqUjPDwkalcTWeCjB/cAk3/L3svN7/GdSnrQTWoRE+yC2OAitl3/82LEQB8bLrnWeYUQWPMshje9WbUuhjGUz9abIYztFWmd2KVJPmK3///7pvno2ZOtkuYGUgoSGIDBXLvUEQZe04oGuXDGSgrztQUKDMBjrfnqUKYGM+ut+33FL1CaS5BI8brPl39aklXPfw2Ui0wAlQQ5vc2TrRetMwXTX1miabnzRBYw5KJH0yaqiTULl4mugiSvrek7d2pP7/Wi//NgxFMfsyKpN1loAI9FumqiicUipbrRWlX//rak3/+tSqmR9VTd99J0aZkmj03zP+0WTZHyilBZAZRDgBAQUGkACoFOLuQAAs5EJTBA4NSikxUVjPAzMSsoyWABCBTBoCMACcmAA8GkRW4NaeBHi4M6AlHGdRtmKTY+TuVcU4HycgxiAttIpgplHljRKvWHEHKfoCSyq66EpDSH//NixGM3yxpwfZx4AN7QVQW0YJgG839DkOhL7a8ivpYLU98TCla4qti68sK8FiYpHOz35c4WJKscDDkkzhOWC9cf/H3BZW2LJLrU/pCpTOdwd281MUkhw9Xp4Vby5tj1s8h5cq5zvGpq/ePbOsTuE7cnJps7cFfQNxF2h0WexCXPXL2wIB2HxooqAQ059+8884V6cuHmQFsGfj5rsP/zYsQTJOsetZWYQADacF9TsSC5cvgOlXvmD4AMG4NQ5MFROeWDcXEERUWHLD891G96Ox7i4fnsNEdz6iBEPLFzxzvpNOIZluh4dwI597xT3dbw1vely//w707q9yWeYWteNayWn9762r+73Tsyupup6l7nJv2Zvn4+l///9BQMA+BP2hgTMp36iYq9y00hRxdKjuOcMlg7iU0yOpT/82DEDx/zKrj32CgAindkEMJm4W3TgbLlyK5fXsU3Q4VpC7uViDRVBIcVh2zHYaFkFQQABcYYa6gjGIYICRAQ4MQgCAOQUgwgOEnjoQZEHtkzmopXnECBxjGQxHzEOYQciuv02Yn2W///a3////cfINzh1CwT61sFgnIXyC2Mu/6SE1/xDBwq/SvAGQy5YYf/0mRZN1XhNViEb4f/82LEHh5zssGueYUtlGwD3MWsBXoCmFzB3Rmm7Ac50t7b/VdzN7aryIi8A7uh/epyj7dgwlp5tpj99D93gtD83UrRbFMJSX2wpisrV//f/////oqWUxPQmaqSSOvulzOMRRTDJ859PxFgCsOyiEcv4xxXLHqV0wqaFYthUqT7jbhqW2MmOvPD2kUVaAdD2nq+hUdqLXzf/8flNwSv//NixDQeC6q2TsIEvA0ECUQEJEGYUPq2Dk6+1yl2/VdH+xjXKW5WSpWKFGKYU7t7JyHUtk+3v/////7mUhnQcrH7knJb7/VKkErYpymrSzULKnnJfGXoNHVSEStoAOGBYI2Jn6JsCyl/a1NsoWFjpMYVFSjrtVJNrUVNNhm5Nr/bWGuJWVtUlhBCoAwRDQGgBRFgWcOVOYoCdStT///zYsRLH/NajETCBLx1vMb0M5pnbM+oUSpSlKn0dmQ2UpWRflKXsXp/uk3/6GlZeycyGUKGvPYVGSwlwViJ6wVGPgCFJHChauz8ty6uoaAmVeySFOlFuXbFBfrX/q52rd2pcoUGjkMokpUOJdiVmmjWYDEOz0eBDs5Qo5U8pTeVroqHI7GK3/+xilQ6f5HZyOZvodyHGFFBFM6ggf//82DEWx36vm2pWBAA/3GcTCyz2HFCwb8vh68U1FnkAqwMCSpSTJkJEiFnfq3/yQuJxe0KfRW1ytZUkI1OG8sfQHI2SyBGnQ6zxiBcW4oh0MQLHkiJbNFgGABlwbmDMBYMZcvk8SAgAGFwMokBANAwgNAZ6cHWPYqZFDET8GcAmEAiDGMLI9HlKZNfh8gn0OnDjhODjHlsukycM3P/82LEcjs0FpGdmKACykEKaesY4hpMnyAEAMyCDvRSNDEzNzYuF9b9rpKUtbufQPOaOlTPGCjR9k3QQQW7f1rTnmW9ChTckyoYGBuWSKkUML0FIFxRgaptZTvrs36mQWmnmxmXEzJEyKia0y4YkoUUyiWB3GBEDIxWtqJw+syWXkDQ0LLFYvltAMZwAFuRAD5B06bmQ2fwWEB7EmDv//NixBUgOpaqP8ZgAHyi2fWW7WGUaxuNOCY9BREfqmaYy5k909+0nb7/9/U6/a0J6o4Y/WqzMzt8v+xTOxuus2zMOzu7C1adJPsU3n3lGLV3TqR0un8bB8zZCZbgP1amFppa1q/6UtbGoZOIpe9h8+Lsbe1La6mtHELCDA3rV1RQzGQGM1csKCA02hyuvG7fa8NhRNskdMjb0SaTCP/zYsQkH0MepezCRLwHAhEmMrrPQGCpKZOH06d0/UKhl5UmWZTUQ+UupbBHKc0oQz/qS5ZOzvU+QznmJzA7QSMyXdyBlOcrHab+k7GfCllK1a69gz/qn/fLdAyOsTDwCsfZ6P/zrAQ6sCCk38oJAEbNXosFuB+RySBskuGEixcxDCUwSwBzmqb43wmzVekoVp1Ma7M06kedQ+DtUh//82DENx57arIOeUVIisu9YrewoIT6ORvqRlc85jDhwOeYTf9W7mh3lltV1Fs6M2p2oCVCOvSlaf7P6vXTf/b2//5noxJ87fq6GohodB3016FGSAJFS7VGYdQN6phDxVw4IFQpnccmZwxZwgBJnK5yk2h0P5Z+EMMrb6Cy0YCgVbAfZfGVWMiSASHJwT/guXrSIFQxG/9H/M9MzTH/82LETB6TqrpOi8RdpAxiPnQxEmIF2NNO6/rZMzO3Q5n///b/+TpFG/UrPvVYsABAwJqkv3UWyQzgftUAjCAKU/eRBBWvmaRqjN28o8vKVXHJv1tIbXN6SOkVrIOZ1MFTX4ZPWaENyPCfaYgpV68x8yimegQaCMrIClMchDgbfvW3Xn5dHXK6GU7nIxBYjQcaHHCMVkXO3aTU+/3t//NixGEeq7qt7sME7P///+9ci/V1t5uldVIsjt2mE0EAoRPlNbiigCQJrAd6m6hDROPPweDcjrC2PvIQlPspwIotWmLX6BDwYCWoV7qUrGMVAIdzDowMI7OtBUxrqhmuJMJKxd//op39/+yTIQe/clSNK5HN8jO3yaN1f7XBi052dkGcn925YIL3KEDIHd9YwVYGhVqKEtTLiwAAzP/zYsR2G6MarhTDBDRDToI0J0jomT+esTM197BxiZXRvt7Fq9cpZjC4qgiKiKCQuIjHQ2s2gk4dYzo4kPVilahSo5VUc9v9WMZHUtFa/9S4kyCTlKyGSZ+U2t6oLFKjlqgDDjejr3RHKVNZdBE7yURWO1HSwNA0z/eMPB07DSlDij1JbckjcbbjajdqbNElTChAq7ZyhCo4syzBxFf/82DElx9C1pW3TygAUQMcFGSH5HbyR8jJ0mTRAxTCxQR4QxkZupgPMwO8QAxrRrUzIBc4GWBYBQbG6ROmmuwNgYYXHgQnDb2IidWQI+RQuF5BjxbMAuYEFBYBKYoMcY5CM1YunE3dWdsbJGxBDzlxAc8i5ExKDqRSWmcNzY1WkbMx5bumpNTGyRcNTEgZEycMSuOMlCILJ8nSddD/82LEqTq0Dp5dmZgDOIqSTQUyaalMio3utaV6CDrQHAeNDNNy4YJlBE3HGcJw8rZbN+996CLrTpqZBrN/HATpWJEg5bG+opn5UL7V3L4+cjkrcmskliaTIIKKVFA1pvZXJIIZU/UXlOicosmE0eF8V42h/Tx3iGHQOA9RXUORDWhqu05FjVKGvqKXUkdQOCqVIQ4OkW00YS6u+i7L//NixE4y04rOXZh4A5PYeu5Xhq+Fh7t1SBG2/u3R2GL81jR7R9UVWM/XziSF//85/ZI+dWkZbTxpmGSMw73JXdceBjcHPxi26/GNVY0nCq4TxJGWjm3tki6WdVxjfxXWd+uLQrfGP8fXzq2LZZXcSkCjnt5ul93/9M7xn49cvu2ubF95xIrU92T66oVAIwmaSqipbKZWsKBJgSYUk//zYMQSH7o+uv/aQACQIAAcArfSWbXXIpYHlcPxu3fdicqRgG4C4u7l2hiOW4d2UYDcOxgwgl4fjSYSZuOEIq0cXIIDwc1V/+RpW/Nx/X/zPNlUlOlNX/8xUxHxM3/46wgc7xZy9+smO//7rkVV1oOmVBEkVOB1DHPRhAFlHjd7nDCEfMXY7AbKNkViqjQ2qeFFPFDkUZJNlOQs7v/zYsQiHjJCvZZ5hSSIaaHqhuNx7guZlp8wxxnkMECBJnUmNtKTCo+eqpoyNKLYCKOYG7L9KVyvtm2z2uWYpFKrfPok8v+oYKDofEIrkZ1wlHClckOiyP/V/Ts54GmqNB065rnJBE9POb6I3mFhxIroqgcTP6PtTtr8nFrZ7QtyuFcJV3M3V1dDKYRJav4CJr8a/Yt+WLbxdZIlirP/82LEOR8Lus4Ww8R/hameEMdRCX7vKDcI1THOzVbCcZ0VUR9PzVCNUIa7+Vo+hV5vom69zB7sUuZy////9Ha7dDf+hqtYODSE1P2rIq9n4qqpFGE3ufaLGPcAzjQQ2gKEuUMm3Bj2grEPSmPDNBfxW3Af4SjZFGYUtPzekda0GyvLV/Xx8z4eHAmnmos8/91Q1NC0OVyikBosAXJS//NixEwfpBLSFnmE2ob/VTzrM7f6OQ6M1mZPb19DGK3//50/kJyMp8jbuwdyKivU53K9BZLshw6dj2JnQhFQasXBpxyzAzkMadDKDhjZOYxJJSeb7c++E+6pCR1IAW6ajsnGPAUa2igvsFEMRaKy//+5W2pPaNOIqiVb/py/RbuyiKen/M1Q8AEYA4scOBMHJEFdGf1OpWYimeZ/Wv/zYMRdH2QGvU55ivOep////nT//9/+lKKMUgcKwfGoNPQxwcxBoOVjlKIBzArA4S9B13VemMKIVJVUENoGyiMtnYtjrtyGcOxF/Zy/GeOgp0MK9KAQoxsoCAlARJQpH4CwU7Swwo7HARlAV/3KWjlLUSVlNM5r/+mVDPDNdykFKWhnm+VKKRFa1PREWQF6SasjT+nctv///p+j3//zYsRuHiPWqXdYEAGZ1eZZQZR1H22dugAmk9pa5X7bdnW7aorQPBUCVKJXjXUhfD0HCgDWgqWhCBDABoR4TJ+4RAaZPF9OnyqM5ubQMMdeZEkXH6tgG+JAAMC5HTBU13F9X5uXB4mz8GI5NyfpLNtEsLni8Xk3WIWm6YeEK76tvhm+YWaQbPJvR5pD3N2+UCXg2rEe7zbFp5I1sx3/82LEhTnsFoZdj3gAr1vxonlpMrNIQxwMKiHIoGRDkI8SAxakviDW82bUrv33fEt4+b2xeJZjTJc2BHtcdPuUBCkIQ9wvT///2+8/xb41GYdTf/ePnWv97+7+2v5YEzO3Kg5HqvljMlGONHanDEs9ums+v8uus8ebpMGGu0soDI2ti+u7VysjTMqEvmd0C8a4DA4Fw5OGjLUkRA/D//NixC0qc87eXY9AAzB42RAc8w+x82408cH4jpb599DA4EodDqg8OZSa3qDVGjVMD8XCGSgUDhDDf3c6GW93MSbQ/o9LFA870HOnvuyN8uOqp6i4n4sRIxwue1W2pmY3L1V8Vaf6RQpMy11VfVihC6DmHcVVO9cQnU9O78fQ++K/6U8vnDOg6gftiZeIaaiftAgXPHJBKZIkl+cFVv/zYMQTH5nW2x/GWADp3bKqoAtc7sceSdw197jaGOhd7djHNs1NdeB7Jzz47bJa6lKLQ65akQJsHoTDwPdHHnEGM75i2w3/45bUNbFI1t2Q6HgGDgOrx7esrfhdQVQFxRby89Y9qp9IRurDM/iRKFFSQ0a+HdwoPQpUVJRYeGYQBvqOyF3AWxAzrV67UcgOGT0skkqHR8ztcimqRP/zYsQjHrtGvxR6CngpUCyrtYtt01KjnsLCjB0otMh/3urO6ANAY5i//yo93dylZxE2hvS1aPMLCzlylcxpZf0EWNt/UVqUylyoZ5nQvNKhsy1bQeoO1B1RpdodEohBUAkRLlvZxl0VVl6AgEbedsv+WFLfPcnsMDQmCHJnmoX0kPfrvXKsrhQQNI0gTNLvNwQIMfjCZPH9wq3VI9//82LEOB+DqrJ+0gTZ3tLzWjzB4vIyjFJFWtQEuwM5P/2tRWRFSpmZKororIc6Gqzfqv/5uhn/pylL///MKwTiWOZ2t0apdker1CxgemvGYTuBWABE3HbAABK5/aUVCCVPdMqPEHxvZRdrCXlPbt3bewIF0LiiHXILrfmr1+ntq1uJ3sqlGKfR3mQ81snJSYswJ8YGx9Sz0NRwjBS0//NixEoew7KqXsJEvTJ/39MrPi0YxGQzi5HHYxiZv+z/f///sUppv+7epk8s99Lf/sk5kpdwgXXMuRyQwZokqS22wU9JNfgVAvbldKiBrcbfNsCN781o9MYWWwOpYuOCrRSzLxL0s1YjXr6jjgp7UckjAEf9Dv6mJiLsgednEmRSv0UrHy9FVIvSRHYUMblLLl3KYBRxTHZyl/lmf//zYMRfHwL2xlbBiwZ///+RevQplYwmRppZyLAkJTs/IOFhiPwZGxECyiAjNN7BzEl1lkm21DPqsxFJVdvmeKuw+NPrejxVYBnz+qRCGV30tkl4lPvSvSO00lZrjlDoVnsLVvH7I57Qk+wrUZ6AJcCLdXzkwraoyGfKlUe4Y//+HFKgYUY1v/////+bf/Q0xXJDBRKhTak/b2Mhlf/zYsRyHpPivlbCBSar//tNe5lKDZUBZDQevY/Fiqoj1YuYvMDUYJDy6aPzDigXh2xcx/6Zj9pYPE5KwGVKrgYYvHsprGDOnzvXYcr8tvT8LsNkx83dcqW9FB6uFGQ4CMar5St9St937vR3/5FQQMaW060qrP////////RwcrvvUqf//IV/r/6zlhXQAMSEAxxCvwUjJdN1tyriIX7/82LEhx9kAoxu2wTVPXZUuYhFAMMvtwmxolZWSNFiUyaUjIa1knrbEkUOLQYu8jOcIAo+wsPaCXOLOpTGnNXetYgV6MtKofyX//rIui9mU62O7f+88insef/P6Irrv/++6qJw///6Tui3lMnE0mFCIl2tOJspwOLhg8ok8aoggqoEC0nW7QN6mSrdFmmoF9DSn1YTgy2gUAfxMIi9//NgxJkfPBKYVtJKkIK5tFbVmy2r6hIdyyJHSpCGLRIBQRQ4g22MH5BA2p1oZWV3K0BpoczLRTPScgVhdpGE7/SIpQevwZHfXKR5AHY9M/Xsg03SG3BP8um8ZuZHwrH+5K0zPCwYDaShATshg+cJ6GS82ZIpNJ8B8Qz13+ireqSZ5kQlrZOxavdv/8CsSVJRuwNuapxyrDFfewEW//NixKsfwmaw/sMMXCyuERR+2nkvZBqwlXRHcClzJYr7mg+CsJEQG5sCADR3EobCO9pp16dagZfW338V2/6XXfp/9iGPRVFTs0cHRRJ/Jkm2cuoIEVNhQkpsLypuRWpkLlkC5tlqVISFXXsyoPOvGkzWcS1NNs/11tYdyWJP4yhuM66G3YXp2U3dcwt5yA53UM6inIs073EGnB3ibf/zYsS8H1Ki7l54kUOYfh96g52GPZRfIRpTb4zsYlGyaJo2TXeOuJu/f6rOktZsn+skr///////+y66IdrNo6So7M5ggOL3irKSgeXQJUb3Dbg2qX2LpHiyiluUUMc6kMXBblS/nJM6f8nUzwuhOYDwCX/aP6WdgDncAv4N7ukgwG0WV7fL978jctW59j4l+2/797NnTbDtK18fajL/82LEzh6z7roOwwrtntm/7WhZExTAbRiUNu/+V2cr//RV2KYcgHf4Ph///yzdZxiZMXFiKBloiEwfbx7KS4RQxpa+yFrFXgdggUVQR5yn6lEPCSEL2CKIjVzFDUnDSlaxkX3x6a9aXn6yqX3xehJCu/GuNxunpuayQXkG64SK0XlVTbaR7Nvvcf/Cto1cWi8VEXEP6whi0zUg5CqH//NgxOMe+r7FjnmFHi3CRU7jahU9G7uuv////+aj9maP/kUB4VFzgagSQyjz+iFP40JAqFgfF3YaahH/UEpWr8TNIioaoGq1rHYOkmslgKxX3gkzhzFubGBSQFmC54nk+M7u8kiU//gNbavos5zfLun7Mq5RZIU7DUbMdSp3/LMnGA3hZR2kbGieqZfz2/g6xBiHm7//+6Yglf69//NixPYk6xaqBsMQvKVJUmqS4r63ttG0YycRa9DGaHNkbXVOqg7N//29fNi42Vav/tU/p80WYWFy6TcR9ey8fhfCcENMU8DLQtRrbFKo2dpP09SRh/hxiTjfG+TsDAgCgIFEDUkUVSMVkaNtR0xWTpiO5i5NSBTclFVD/4dxxIsIxCCqEwGCQUIH/v3x8/YzP+VnjfexgUkHCiRIkv/zYsTyI/o6lCLD0rxf//CGEUTiTREYaEh0k91sNYHwMs6Jv+CBd6MQAABhcAlAAD4v/7vpSJ3khCTIFwhMBNWgAAOJV2GNNUrcZAKYcoS1FZkmGqk05WqTwMyh8EyWjtqtlY9yMy9/DgzLZVE+t4BID4cw3GY/DsSjp69i0ZLjo6Ojo5WqZmlJmaTi5cfPPVWNFY6PrZ9fnv921Pf/82LE8iUSQpgkekz0i8TBwMDCo5B3/VnZDndhplGIE3ZSq1hjG////HCLFDpxvyKejGjyILoD0+Pf/V+LHFk1RcWFxQqqgEQY49XIGC1olk+pic2iHNIRRkJaWNGjDQLeoVSShIxVCclGuCWNUn+XkMNHnMg25yRw64qE2xMo1BOaxYxteJGsWYzuYPC7EV2m99T5NA4w4RZ8//kF//NgxO0lSxKh5sMK9EosLgxxRzlKUQY3yl///96bC/d2RtE2d3HqODYPiRAE//6gipQ2GD5SqkDEM7ukEd4oCtdXaFYA1AdJ+wsfgFKJrLcXk23IVAMXsr6C5CGffBI2XdUVDAqNSYy/nQg6HfuEMOCla4SSsiNTqEs2t7f/89SHmr5W9zEzORjyXGPVdqTpzyCiACwocOtQ3/XI//NixOYgIwqpTsPKWCg0PCqC/cAXURb////RKTI+q7de0YdDnQSBlyEN/3fWDBM+F4FB69SaJDnzpDyYnGYiMVgVRgBUQyhMcAkXbr2Y4PMRJoXFXgHl8xefEIKXvvpqFxc8R3bxqvTHpdsBjdKKv5S/U/fXVnflf5Xbp1frN2HZarHxUrGo1mrVkWxNfLP76vOEzOYYKI6M6Odf///zYsT1I2MWlUrRizD//IbiJq/MrVKfOKP1ZH/oR//5D6p+V7OcYxhojkO8KKpVpGhdg2G5q6I9Acvdp2RmsvmyoiKHyLLetymd5UVnL1SmVPiXaptZEgOTzuCwZDk1EEauhARTQ81MAWOTA9HPK/3/y+XmJ99jwfQVIKKhI56jtGxHh1lQBhZDCQtlbVulCiiMEQILFRRf/////7r/82LE9yLsDowE0ssZzejruoqQUHgouzSN//STdv5qHSvsdFdHSUwgHjDljtUYj9bVGaFW+zkdjjjysAggoCgFsNpGS5ocJGEA5RQsli1E/dm5ApMGUsNNhLQw5KZQzB/4q7BKAKvlssfWiz0dL1Oh0PrzBdEVdmreu5+2685Supno0bEBleNJGttnTKif5V6//9nYELZAJxIoyKxj//NgxPsjk9aMJNLLESb////0lQ/7l0VEMQqhQTGzf8dbwVAVGVqKkRoBCQFMBxLVAZVMQU1FCAJNtqNzT0MY5jxRJHsRhRmnYbiKKcLXNeUIVi0OPvR2Ims9ety7Fql+vP2YCmF1SocYUJYnCnFFIKcdQIUhqPM+5nKGHHGDCAYQKMQC//yPTO5H7nWhJ3ZE3SylM6SuQGNL//////NixPskEuKADNsFLPJgBjmOHYpiFBQYlgaKCo50c8qPOcGkHxIa+n7caWB00g4lCfr3m9ZoaRKBgMJhVcGVREY1CgYDAUKur9VCsEmM9zkMBpFYar/UthlMyGxUAmMgdE4d6ZcZPi+IUaVoGVF58/vTpI4k1ZA+hSJr0idck5M2q23vd//3/fweguk4z+DjTzjVpcvB46rEI8rv9f/zYsT2IarieDzeRFSONr//////////2Jra5UPRSdVcqkyoim17XQmser9Q0/Tdz////ofVbGf/Cb33039A5Esavsefk7itSdb1VbsVYzO01drkjTf0iirMr1JTFRdNJcy62IOkXdXYs5iEONbpqaOKaXXbbjC38h2w/iHdCcHErx5mfItTtwFoLHl7iSm5L4PVKuyRwNfVlTXXHAn/82LE/yor/mALXFgDD7VoPfqW5T8v+pyinAaMWW7boRkuW1aUT+41DtN9nditQXsL2Dpy9XjS1dr3axKWc6t35barZ3ub1jztNV5n+HNOvuWUr/v3GnEhj5W+8PTkvrUut2t445ZZ////O/hnnjln/2MY33////L5RTf9ily///v//3L2//nf/9dx3z9Zb3Zrf3HWNu3Yr3cud/tv//NgxOY+jAbOX5jBI1h/f5/26kxSSuks38K1Wtq/9DcJqkBGhMQFWRAZiAQtDSrBR0RHZTHanSt3Lll23nuN0YhRQ3D+dWbHgEAyMR1k+XjeGhNBLcQjR2mxNSo4QpCymalJgdWrXu5YxqZvqksvqqZU3z/HM+53y+Xce97+pQWPyac2/6bvfGw5WlyFyM/kY8YFjXlgM3qQoPCh//NixHoimgacrdhYAOlVncRPzHt1tF6D61KDhHJ1KgxASqHZYFOAWlD6hpieh2TYVNgAcELRq4FjTHOZtBRgTIirGhAESbaKpOE3byRVTNZEPy9MdCyWqpIWBkzwUkkXs82DSKO/KJuHs599J67EHsd6JQw6cDP4yBMxdzZ2kKIMujMbrd//rW69amXfFJEoUWt6rJPdlqJ4wRn0JP/zYsR/LzP2lBbKRakkDCwDQ2im/rjArHVBgLi4vOKhrVcVj1rl5isGFK+pTZ+f3X29G/0NKXlb/+10bP1y7IpbUbVm5q2tFd42SZbBrevWdAS0iEpmgYh5o/NoLN4+7KFpYy+fQ9rSyVq234cd5sUOu81lxKGRoqupnCF/QPsAmT0iYQWks6aUdpqrxFDzFN1ZC7MCEV4m//+rzT//82DEUh9KDrFOwkcoQoY52DnsklL7+uhiVRG1BHv6XrDAOBGg8RJ7WJMfo/7rGPS4lxPE6ETF16rQxA5fbjQYFiCXMP6EYqGUXE9WO4QBBcmu32lT/KZpUX1Kgkjk0hNNQmQ4XgMlh8eIAG81BLNMQqkqSO6ku5dnMHUIxgN1NHpZTTWV/85ZxxpyExMQD0kG5xpIXMR7fVMq2Mn/82LEYyI7vq1XWFABznIqrOWyPN83StUottnolfZX//zGmGGf////u+c6TGJXd1uh0isgsGgGA1Ry8iAT44FAgFI4z5hMbNgcNsQNMJTChEiBx4WcUaH2PI5AZwgAKoG4RZ2AjIfoN0AhSr0/h0RS/xFQuidE3AHT9zcY6MhPkkp2AlKUOqAzKpnapkPJexJwfJSG+f0bWI08C1NZ//NixGo5RBJcK5t4ADEUe1ZnWfiCrW566OqT/03n/5j7+sW3HjffV2XCNNCjf/y5/1vP/+o8PHcNx4+9fWM2tvMLNI+nz561M2KY3v/W9XvnGM5z73z7U8Ct58T1gY3F//hxLUi5YUJo9euMfESNv+FuSuI/n/m3iBq8Xc+9Sssm5IvmtAjOOHMU9Lq9ntoznNnoNDUlyqclWmkCov/zYsQVJWJCyl+JWAAU6Bhw702yemuYPAfQm0iB4LEQFQRTxyze+3bTzqoomEhsMio0VMyyPKyobz58lm59AmmJYYR56yc1BBU5wyv4PJMRcux01/NU/Yze80OZu+75l0OlZaVGXP/SWfsKNBAbC8m0PjSIQBw4IX98mkEM/D5w+ID6/XNuHmFsqRWSKpWBBqGa2gO/dRtLonGjMGL/82DEDyAD/qYhzDgBfpmm4LOLYJedqacSJkTxqNRq6Op55yLHmc0mKxkwNh4HAqUDJMNQfC5VNZxa7HocQOI5pZDW/MXqaeytPZH92+r1ZTSY6cSS085Ktsa5ymTjl/zff9jUOO79KKbanfR7Jnfr1vf2Sv/N60OU1ryWYvt5oxnbWBS2ayZVZcIFs1VsOGBhofKoCY2YoSHyj7j/82LEHh+8Er7+2kRwkwHWSFjVGkYXcgUI2qdLdDq1DsQosqURkBgRstRKIROZTABiEKYUK85X+pfapA4VAtCE/6+wmpCq7O9HmmcSgMpf/+pWZvX/0q10kdzpIqf09fId7//2/bpcjBQscQhRCkg68NQP4VWkHtGxWJMDBC4PR5fdtRHceEw1s2E5eRwHBIJ0UKcndi+O13zuO3L3//NixC8ezAahhssEmbmhQBgPm2Ehy1M2bCFsDMyxQgOQZkM5X+/66FS5ihndlT//3korLAfJlM6jN//6tVP+vo2qIiFUYZi9X/6/t//9iZWfKiGV3EIEMZNVgru2a3I3W0Gwic+G0MYN2ATMAnOKLHUkDHwlWW6kX1buBNj5TnOXRLtMvzrYpSVsZjv/3u+5/+KCCFaQQwwg7Z/////zYsRDHwvyyZZ5hR/9/H/Z7QrInWTZ7pA/XUeA6lPT0xYXZ5O5vxv//Zf///9v/+hkWFEsVWf//6TOX//15VSiWaYKUm6qACCQSV/2cGUw/dfSGgjLIvVvXgQLDzU7z9m7eJKn6Eo+yIAzXSsSf1STfoVHSIARHHB6IRtZR3ioqMLNno9WgsFIemALHqzV///yb8Hdd1WMOUlrGOL/82DEVh6CEp2GyxCMoqiixzCwgiq1MMU5rvhuLf//6Sz6VA7ysZ/+eAIXDqDrwyKPIDUrWrcsv0n7rJTrix1XIiq3OqmmpZbylEHWLl9S+XUHiW9UCrPsnAQkRkbWESf8Cl4oQNbC8/XjKCY0zWVhM4Y0CGR5WneiFzUeauUuy3KVJlVqCR2LEqJQg4YEOS35TWqUjIh3QvT///7/82LEax9jFr5ewkTSis2hEdQ7v/9aJLWceYJFhgngSiAla2647Ltb84Gmrvd4UqqT7oYryyytK15CBsZvm66wWZrVAe18zTKPMa1DO+8oq1mK+izmIxVf5zueQ53/WjI0+1v1MPOPK7ONrRDEPyEbIQlTup2oq+c58hCN2a3J0oHCCAoEmYTD6idf2GlqFlqoxG2XWPLAYoWegzUJ//NixH0e2xrKXnpKxp5kXiCAVlgWOjQKwBCwVRWHsBAINCmZNl2kPgnXTIejQJ8usYFQnj6bpfuvr/vX6VBBM8XzMcDMKx3dbWGC/iw7Ht2omnP/59ZSnYECAxZw6uc6M30Zmud9/+nVdpzn9dETRPP3Oc98/9TMosZACC4e3sn8LN6+ogMR6UoAoAORaoEqscjZJqs+PPqKsSF2lv/zYsSRHysamCqjBYRYOOe6HZI6s7cllWz53cwgqBkM4Ccs/ZNtf5E3aoq6CVHaWgMyXjQR2DvPjybEGTjUMw+Fg7h1GxMag1qBiyI2msnPv+b///07hS+DeH2n9IBAEjUoaCQ9x0RNh3//OlxZw5YfQu+lav/5GgALna3igFKqb8ZcEATOfyUBSfIHTnGgKcSOGr0SgJIqpYtoENT/82DEpB+iMqW2yJbUODY/JIhFl9lZm923aym3ib/s+7jP5CKYYweY5Is7GnYtwiUeMKxTdqKj0af2/8sq0yMqVR7WQXGRKe+qUkQj/////rujjBY8XhZ7mKkAoLXdZP9lpSpglSW3RFtyO0cGAfUTlGFUqnp6GSqXu6WaNRjE/pEj3jcZ21nXVzBQtujjSqZP6uv8yU/7S2imuVL/82LEtB6TNq5+wwrMy7HaxLKI03I+a6mou7Pc5RYV1HEu9v+7sU1GPb9VZd3vX6na1qvuy29qW3umzkEn/X//WiZm/A2NIZBnUA6Ur0VgCd7fMKNaS1LbgAwre0yWpfmxqAZDFpTh+VXv/WzwrWtibMZXjymcxZkPof6IpetEc1WMdiiQCiuqUM+jyuQSOsY7q3TOd5WUyF/7XSb3//NixMkea87OXnpEnv5zEZQ8EAKaIho6g0OEFAoJsgDqnYphpkLSLNjUR2FQZKhRb9T05Eq1jkUKqdQ/a8gqC3BMtYDqR4GEoZBkoCDQA21DMiKDPEgx0NCqeEFMaiCIsphb6FxS7ihxxSua5VMc4YRKT9xtFPYyjTSsNKzlfEkWSRq0lUrBYnZraVnhKhkUkPTOXJPKNmVsVTIk8f/zYMTfIAsGsl9YKAB5feMPoWLXcjrSHueJ4b1iymk6HKJC4VHlIrxtenwctYD5U9KZ0zCeqRhV0bC3dTrOPFYldXKo1VWML/b6k2S6DneDGDCO9Ukxwh7FKhifSzuGYaaJyd0RCyVbJ64wENcYVJWFhsq2KkHcL2hP38dpOsnimYPtzsuGtqewMf/EXNYMVXI35e3fvZIONf/6tP/zYsTtPnwWVCmbeAA388tn+s6xr5h3//l3kdbzckjktbUkrfMmiHMCjRtIBR5qILEt5x3HlUcVG/CuoCYdDxC3+B2IcIpHjH8aZO1WW1ZZjvbzxY1eox+LKGl5LbHYaoiJ1YnEZptVJ3EDxNRsYmenfnOq2chx3q1RjnBfBwJZyZ0YEvOg6bub851Wh7Goy4SHsiVmFWDFhxJE3f//82LEgznbusZdmHgC+IOurFZNiBEOtXx8x9Nb9nmxCgNysjzri8KA5f+9s/FvEzuPe9MdQU/pEfstGBOMsTUBtWIMd/uvxaTP+LWtb+vj+7PApq/Z4/1Dj3pqlNO74anPq/G3sbM18YtEuIBKdDjj/WoFAJ1qKfC0RGiklkYSAkgySNtLUHppbMU+5ZMPxScldJOVxQaxgcDm08su//NixCsnA6qcxdlAAQcWLxYcGOIANA8EShw0+yzxHJMDoGglOHIWfDiQwgPRcIBMUkv1Lz8GOyV/+/28wtvdOPKKoYURTw95YuLpJZ4wsbuWXjyIraIvuGa4uIvXq/+G+15VVr/qfqq/f/+//4Zp//6+7+LH61/rZHNukUqUZBoH4CgpLWMsgqgdCuggGaVhG+GIEGJ6K+a/w5l5rP/zYMQfJDQGsjZ6C1Uj5e6Ui5hRl9L6/c/hTzMMc//QnhNoC6AEF1djYurZDDoIm6GDtRcekixyq338X8GeSMWlP/hrLZhBFg9UYfUhwJB7GnGUn/0MpjltCYm1B40an6d9Ov///rR3JQTIVTfU5P/NodJT1I7+7f+z5SuJolIAagcSx02EV5XTepQe5GaZP0mlhMTYY41WAhEDFf/zYsQdI5MKnWbLDvTGhiW+Pg0J189P2MELJ1zbggDJEJwLvVHoXW/VOZa36d9L5k9tR171sL/iTFO5PX7vj32YkSm6mKaOCw0gJhlyh5Z0Fxxc4WHP4+xEXhkbDwQjUspRxsNWJL/81/t//2dHOmo5jEnCX7/ujiq9v+8re+oAqFh41qWOgP0JlWRhQO+x16BloYndWQ57pX2o9Z3/82LEHh2yPpVvWGgALzOPQ8eMTh9cutWXVJApwXJCgqtJKyP6KP1PWiibMXjatFq2/2r0kqktbauZF5JJZ5A3NUycbI/raiitTootMgut3z3+yWDtQlcok/1BtHkRA8iz/shuoGoAAgSTRJSgAGD5Qa/mFmxzIUKCodFFxDBBYFOYYBBCQ5a35prTzv7kcM5omZmhuodxdUYoOt1D//NixDcrY1JZdZtoABRPQoD9R4+kmkbkqYuJcWpFwzSQLxsRwvBqTDYOSiSJBZnQehSLEg55sYFOpB0TL7afMDw9Dxukt0zMS4mkqJkkoeJ1ikg6amUitRfQLykrKQc+bqOLRZNv+r/tfr/V7V27+cTMWy8dZzbJsOKF3KF2dcKtcT6KimaslbzmSxNByORzMbKYUS6vQwRdfGLJ1//zYMQZJTKO2l+MaALKCyFRaHoYkuoomTGqIyx6HimWjwJEkWKJLqDmIsPdJSluMcSsToHQBmLMEDIx9RBHOSAnhQTGWXUmovRZlKoGSIyB/KZSJSXD7TR661IIIN3XUaKcwPGi0FdJvdD6uhtbdkFa3oGbh/N08pTbKM/T9NyVaXJDA+jWJh5earMadUAEJyUDAAA4a4RwilBAgv/zYsQTH0vyulfCKAGKlZ8VARMpRIXUOlQodDgyzM7IY1VREHuQgoyGd0EBWceQbUqopRVDiYTdFUqihnNUud3VsmpW1cqs5VVDuQyuhkkRSiuq9mmrO6u6sz11ViGLdiVt+RGovdD2yo7v//T//0Mif1FWio6+VVSFQm7ZAAP9sNjBGwD0pGvr7aeJ215QV6BknWFGI5yE8UCrZlf/82LEJR2x5rr0ykZY1tTcy2AvCiAceodKM8Y2lo4phmFKCBgwQjdzmGZ1pH53L/jZ8LX/6rnKGwC9BY4XYwDRMXU9DTgUMqcHaw2DRA8DH6U3ls7/DX6jSstChd1QdUYyCZEF3/VKkSE+ag2UmKCvLQHAo26Q0vJXH/sRDdQsNLT6ZNZaZBSzlaWmmhhiGEzAJHHP0xBExCTuThM9//NixD4diVKyLMsMUAkMZN8y95+ouDJEoJXLOrWPlgxgEqYJiBpOTS9lCqHwC4NQ7lRYUrj3LbEY8izCoRi3y9Pqkft2qmC8UdQhLSfdlBYI06/gmg30Ztp1sdemIj81DYEVvNHMMVlzTzNsXJ1mMqTa3w2s6hVjdQlhacTx5YO93KMiwEIBnRaGtBNI1JT0qkc/T+r5/PNH3BwggP/zYMRXH9IivjbDBpjY1cXBwADRwgMQQqcQeQ/8TSqS5Qg8SH6nq/9pMsShyiVn5B6IfOF76oAgkDbnyw0qaFH2FISnGuxmiuy2VUONaal2fJqNdrZB0pVDo5RUtA8dqOxUEhagBAwdcBQUPB6QDOLHQPCxRUBhYSFjlbQ3zZitKWrN/ylLLUoCiwiwkHuWpcBQBHOJPcvMVPlb///zYsRmHtLinYVYKAD//5owxGeit/t+hm/Oz2FQWLDJIiSqADYiMNaDcKFokTsYDVQwEwLZbPAg6dwmuzs4Xch9NactAoDmGo1hW2eAIEANgRU/KRgtwbHBsHk0jJjjIJgajBtInMFiIkBWTJAULXEBxS4ChwESA9AIMYFIdI5qai+ThMLKaZsDYsSmLjA1GACQJwIYXSZWfXkVSdL/82LEejq8FnJdmJgASTZN0kx2JgKAHNEfg3MHYXC2su3fWTRFiLLUzVNoWZaygRAvjljjBscHYeRMyfFyEEMkW38yLzqcx//8XAJ3FlkTN2TLwcgHSE2OotLWZ+pVvpPRVq///6B03DLAsgqDIIImYy44xmCAEEHeYHlk2S9abur9ECRWhlEwjKyDCTBPAlxxp0LWVrZ+rcNo+uWP//NgxB8mu0aplYxYAFHFR5HScPWx77VHaOk2qF3JPSlIbjIBIAV6hKIypoSEEGB6PjtG4drCSu5ydfsei3x5Js7eEmur4tV/D/7jn2mJaa1qtbbrk7Ecc1sq+2WyvmOIlv/l1f/ujv9W59+2P/3zX/zwfWXLSlsspUsDQ9waFTuqBAK+hqLlrCbPx52gAKJaWaj8NDoh2JLnSENG//NixBMfSWayX9lAANDO4fchriwkVkTCS/bsWmUMQgSnhi5c4WAAFRexs+nZBnzeiVA286TMer1dVSLHBodqcYw/4//4OnJpZ4+CAAB8kc5xAPsMBiqQgcTD3d1/03T2qwUQk6JRrgaGCZJzQ6VliKdbSoThxfbVhAIRkSNuWTdyOiEIk3U2Olp/gNa7y17bP+Zvwkm/ODWG13Nw+//zYsQlICoGtlbBhUTu+MNwBGMYBbZzK6w8ic5Lxbi74RH5BPxUVGSWx2YQ8n457x1XQlIST/uvdNf2dCBGUDCIHPlIEnGFFUMFIAgk71rW///i1xrQkFFmdFFft842+161gi88TMFxMozgynEv0+BVmcQfYKp8nxpxlKTMF0TpJG4Jk5Q0PRsBgPG7mdZWqg4DUfHAaI8VSLiCiMb/82LENB76BrTWeMVGMowm343XR+4MukZhCcLGcMowkUVoz/ZEVMvDfgjWEsgMYzp/oIiAwg4yVAYVIvLN//g+29hRL0jbCf1dqBy3lkV6q/DCxo4hgBSkbv39YwnKco0poIS1HWwTxlYRgsunIc+ZkS2faLi+DE+JcPnz6L86MpTPag9ilG6FKtqMVlLKYpSLGyOhPR/9SNQ44VZ2//NgxEge6xrKNnlNPsi/5macyPLf2/Mhv/+g5wOJgg9OhDtFW8NdJXIwoHzmoQI03CSb/+HRI/I6WsOUIQaDMAqAAKSju3mNphYJ7a3BgxuJGX7Sp39tNJgTmL+zOqrs8+ItMsSmHYpdkriKgUh3m/LfvnNDR5zPN8FIRV53jvLfS09I1rzqic4n+tDMUolfL+jhCAxiKQtUcpXq//NixFsfWvahfsmFEN///9OzTwotDkd2XrWYxhZ4Y/y7yjvaCAYxPa1oM6qwkvJVQAcpkpZytumlLhGKJL+lKlIuQaBKEpYPeeMigU308J6g4Omt9mC0rOsCurWUgTVkbD9Vfgx615Pwf8VyKnloSZIqRsxmwvqQPq1r3RtYr//44OpjhGqG//aIxCCgwYIxiqwZDf/9QUBsUDJNNP/zYsRtH8n6qj7T0JI70Pf7L3nJQEWOW/WDIIMnFpWqIAs4ZF+TWSpZboAXKsnoLPr4TS14cTpddLVEaU5hhdUzaakzhK9IPRutU3TDkaPaV1ZnMZ2SeJFqVago0Vh4eYz0Lq36ox+LK8RMGDRX+lDLDw8OiI43urf//+jXb1MWICwUBjILGRjF//ZEb/zOhvVqLURYG/7V2C0cAkD/82LEfR+Tgq4+wsqvA+pkGzWx2Xb7bYdr4u59Yhmq5wW9hC7hOAiMvhoOYA4NgQDy52TzySWN78mLd7vma9wgjbIEnMdmBmRXFzrqS8SLk/yN5N9ZHlU5iLeifWRUHrODUzMwYmdqv///qd6n6qcjf5PeynkI2Qjf/kkntofrtwjFZAQFzc42XfUA6WVvcjf3rpBN+85aO6iFS8oZ//NgxI4em8rWXnsEkhCeWkgH3YFw1m5qKzkZaacj5Xk5aySVNgEoDDNI5xp9HqQi3enMSo9Jh39/9iP+JFQSEQmylF60HMjEl0Gqx3O7ev///+8zM5xAQZmVvVc8zCgihxATDqPo3Rtf///0IZiuU+r+hSCmWdWQ6qklG/G9TUPoYk07EyFQvbSEOc8GBFhVbxKQ6mD1NqvSDrej//NixKIfFAaxlsLKs+HDGlL/tO4ouBb3neMu6g3fO2HOJVEBVsFSIdf1N31bbkcqiYtIOMWfeVFejO6HmT////9RErcqK5HR2Z5X8rDRiDhgdEGvz+jU7///31ajOhJKPYxRhZUACig3rRPKrAQAoFmpa9R2GsXtvCDCg4N0kTESaWywOXWJl05Nj71Wd9cOW8m6bufJd2pGGTW7U//zYsS1HxQGuZ7Dyl9Z/EDyLnAUgjtDjQYEYhwYzlFK9P/+2XuhlMpAlR2dFd3o/odC3/2////2yGIjnRE3tZ6FU4eCZB4POf1//uaMaKgmCEbIqkApK+cmk0c/OULBUX3S/V/qqgc1s0wX2RZq8dXuHgxOpmSzhQDUcHNqxV0QKA1vKf8VZBB87TAOCxCtSUGgrHGGHlFus7/kapD/82LEyB+LGp4WyItQlF9LHZhcVKMKzlR8yNMUhnJI/3L////99vW2vZ0dDuNEDlt//v///RyEmxUyPrI3L14CBwRKYCIAOY1WoKAqoi/BxIKCQRYUIhcLCl3omKgeBazMSILPtNQsDywUCjf2hBpQNO1TbKc8dyAQinPMt5WrTChW+2SZzqFSrFGw2RteL/exoHAXaMu3uv/8JJRZ//NgxNkes9rGPsJKzyPjH0+KbVG2f7G8KMMIZEUY/Z+p2XZy2e48NKSSBwClOJ5Dhd/lkHyAmDBJ9AsIAjVMQU0AZCNKNHUlfA3Rpr1UwEYyxNxIdGh786bKu5t+QM91aaZC4vJWtarwcNOWBmNKRmXYPo5AzHEOMduPT3pJjIjNxnMtwVGVoR/6n//igq0mDIzf/1fbLyyEKjop//NixO0jmhqAFuPG1AkychYBb//uPS07ELvArgafU3kVWqAjXeuoJhUVLY0sLjpgdpixxdKCgWHAhmckYSIGDCamJlwU9TJ035fHHIWrDTKC/kPV33ntRB55PNMspKo5kdpOvWqYjkk1XU9UeZwhj+VATHdIdiGqHgQDQSB0WNna96jNOYeuvM0YgAHH8qExxs/jYM374w5170vfGP/zYsTrHvoWlXbSRu7pbXuavXv4ws5YscXn9jAscsp2/e/4/jDmr7pghB5m4OBlUcisisbhRvZ8JyKxv4cZOODHH/pfESsPcCJfN7//HvrX+b+BST7Ow7xQzieANzInkf92nV8X4+/T8RHfNvESDT0IGKCgMBe2gRoRFhoa3JVd/rD6ojQTGS1TNYqFQLKpE3SA4edNvpbg8b7SKWb/82LE/zLDGoAE2x8fuTNNXjErjsci9LZgO030Zfd/V1tCC4FKxLBNaFuQnLI3shupBFl/o07Fd/pqJxlxHyghYeKLGh80Ox1PzoHGDFcdrkopHc0Krm2Py8flV14xSOJDd19QoLxDRtkpDXlNKdwrGLLotY7V7EekBBQDpJEYp1BsMa1HFK8GilmsUNNbprq+rmL1rmJj+a+DJEZE//NgxMQ4DA6EDNMRqab9bn92X2JqDmsVZC67aJq9YZjhyxZNwm6ow0lVAIBmt6VjAADJilQPQgSeLhvLkqnC/fFqOEST5it9DS51ulAyXVfHZajlX2FjJKjThcJ5+KyOUh0NoSssKTKQ6PozF2BGu6HtXs2cXfBjq49Eb0MOpEUHDqArKmeoiKnAA56igqwtsYaND8WHmV1dDOjo//NixHIkyyqZRssK9Ie0hVVVRX///3V0f//y9N1IguAnZT6zsEP0KEjhwFDZ1CoBmCCo3qqSgDByqJG8d+wPFpspxj0rYyxymaIveNSpTe5age9VN8Zl517Bu5ipVcE0JCHAbyRMi1DUrdfy8Hoz33D1LOlLZTVKoDuJNEGnbHEUeeHsQKbTytMhwk5gGtegqyMVEKakwkiI5f/0+f/zYsRuIBqqoW7CSvZERH/w3qb9H6jRf1RUIkBR1MA1gVQgGN0z8l8x86HnRES1++YIliHCMKprGWOmDGG3JDAPFGtl5YcJCPtf/in0wKgmjNs4W2cmMGuWbeYX77/1CsioZS1Vpd2LMxhIGOHKMZVOMuqiXMHEkOT/6lKjSCiuXfRWdkqdLItP//zCAM3//6Gk//V//+udde3xC/T/82DEfSCjypluy8R/ATZAnz5VAIoE7y7rErS30TYQfnxiRgXaqo11ZKVLqKdqDzGFpYOfc9nNs2rb6JHRcEDPCRwYvIzbjwmlEYkPb3KiK3T9qGo7nGalKWiapcDNEXVv++hUehRzI2mlGqLB0s0V++jEZ38Tl0Pd++39TfzBlQYJi6zCANcZB2kxrJGgOyEuEcY3xlMqe4PYYsH/82LEiRxqVpVWw8pcBNVrYEI4AZHUlcnaQWYUIXrCuRY4SqxkD0Lr3SUhynlJvFSiRH8xnM/yqeAIxmosmZ6jUMdlN6v/xBRIe7RNCnKLiv2oLq+i8kgCNVf5AofY8/3f+pd3340VFFOYQjaAbW5VDIwmNdhUeTLOExYHDyymoS+IvLSSlrM9YgaxYWLP33/cYcy6SRKbEFcB9pM2//NixKcdMj6RXssKeHqJY8ulpb1pkMbR4CJ6OXzBW+h2cBEBWRWMpe+ruRAyu2n/RQRmgJxJTGDlnxKp/1iO4XDSp8j6xEHcRfsq/cIiyKMqMa69E8p9gQjlI4mE4dGqcPGEgtigaGQ4UGMIPP6mKW1XpAbBXSjyRTfvWwVpz7JHrlaFCGXtsz17Fyq9ayoslcvGBZNbqSL8KOZl2f/zYsTCHuoSdB7TBOh5moX//9G6kUrkOUy0vLmMGHYSwPjgdGW//qbFTkTxJPIhsReHfni0MVq///QVkvqCi4a/9zbnqkxBTUWqqqoH2Grd1VxgQhm/JGDmgChkYeA5bWDhUHI+5teMXmFw7MnoFaQeZKiy/GwcsAWIifj4HpGNDyObv+uurf/OKhwvKljvOOo/lTBGYdJCAUn///f/82DE1h9KClAM6I9MNsUPaJQ6QJSVWYv//8oX5ajf5KypPvd+larv5bQaMLoDARkCaZIgHGtwWZTZCkVBjCwwOBmkww70upspU/0WiTvU9EyptmUurZq0jWoWymDpdjDUFP1HXdsX6WPO9UpvN//ylaVqFKUpSsAQuYytmNoY3oHZHZbUME2W1a9tvP/t/bfzX+1oNLMSule1rbP/82LE4Bwiiki04w5YWtH13oM2CogoF/wq5vm/YF/+gpuQVc6KS/4R2IVj/DvBQUFfl4KaCgv//6/hzvi1UyyyxyVgoIGCdHMv/9llljoX///7s7Ozszs7P9yTjSiyj4vZp2dnZnZ2dtxE404so8y7z//vRxpxpRZh6CqlnZyizRQkUBgQsgPHEQYSBAYgWYUWUWUXFqRJGnFlHmH2//NixP8nmj4QANlfTd2dv9qadnZ2ONONKLMTURJCRQGIFmEz4dnZ8SJERQkCFiDwQflQWCQsJAv0qkxBTUUzLjEwMKqqqqqqqqqqqqqqqqqqqqqqqqqqqqqqqqqqqqqqqqqqqqqqqqqqqqqqqqqqqqqqqqqqqqqqqqqqqqqqqqqqqqqqqqqqqqqqqqqqqqqqqqqqqqqqqqqqqqqqqv/zYsTwIwuk6AIYDSSqqqqqqqqqqqqqqqqqqqqqqqqqqqqqqqqqqqqqqqqqqqqqqqqqqqqqqqqqqqqqqqqqqqqqqqqqqqqqqqqqqqqqqqqqqqqqqqqqqqqqqqqqqqqqqqqqqqqqqqqqqqqqqqqqqqqqqqqqqqqqqqqqqqqqqqqqqqqqqqqqqqqqqqqqqqqqqqqqqqqqqqqqqqqqqqo=\" type=\"audio/mpeg\" />\n",
       "                    Your browser does not support the audio element.\n",
       "                </audio>\n",
       "              "
      ],
      "text/plain": [
       "<IPython.lib.display.Audio object>"
      ]
     },
     "execution_count": 2,
     "metadata": {},
     "output_type": "execute_result"
    }
   ],
   "source": [
    "import boto3\n",
    "polly = boto3.client('polly')\n",
    "\n",
    "response = polly.synthesize_speech(\n",
    "    Text=\"嗚呼涙が出るんだ それだけで 形ない音楽に溶け込むの\",\n",
    "    OutputFormat='mp3',\n",
    "    VoiceId='Joanna'\n",
    ")\n",
    "\n",
    "# Save the audio to a file\n",
    "with open('data/speech.mp3', 'wb') as file:\n",
    "    file.write(response['AudioStream'].read())\n",
    "\n",
    "# Play in Jupyter Notebook\n",
    "from IPython.display import Audio\n",
    "Audio('data/speech.mp3')"
   ]
  },
  {
   "cell_type": "code",
   "execution_count": null,
   "metadata": {},
   "outputs": [],
   "source": [
    "# os.environ[\"AZURE_ENDPOINT\"] = \"\" # set this\n",
    "# os.environ[\"AZURE_KEY\"] = \"\" # set this"
   ]
  },
  {
   "cell_type": "code",
   "execution_count": 4,
   "metadata": {},
   "outputs": [
    {
     "name": "stdout",
     "output_type": "stream",
     "text": [
      "Sentiment: positive, Scores: {'positive': 1.0, 'neutral': 0.0, 'negative': 0.0}\n",
      "Sentiment: negative, Scores: {'positive': 0.0, 'neutral': 0.0, 'negative': 1.0}\n",
      "Sentiment: negative, Scores: {'positive': 0.0, 'neutral': 0.02, 'negative': 0.98}\n",
      "Sentiment: positive, Scores: {'positive': 0.99, 'neutral': 0.01, 'negative': 0.0}\n",
      "Sentiment: positive, Scores: {'positive': 0.8, 'neutral': 0.17, 'negative': 0.02}\n"
     ]
    }
   ],
   "source": [
    "import os\n",
    "\n",
    "from azure.ai.textanalytics import TextAnalyticsClient\n",
    "from azure.core.credentials import AzureKeyCredential\n",
    "\n",
    "# Replace with your actual endpoint from Azure portal\n",
    "# endpoint = \"https://<your-resource-name>.cognitiveservices.azure.com/\"\n",
    "endpoint = os.getenv(\"AZURE_ENDPOINT\")\n",
    "key = os.getenv(\"AZURE_KEY\")\n",
    "\n",
    "client = TextAnalyticsClient(endpoint, AzureKeyCredential(key))\n",
    "\n",
    "documents = [\n",
    "    \"Chainsaw Man's animation is absolutely mind-blowing! MAPPA outdid themselves!\",\n",
    "    \"The pacing in Chainsaw Man is terrible, I couldn't even finish it.\",\n",
    "    \"Chainsaw Man is overrated garbage. The plot makes no sense.\",\n",
    "    \"Can't wait for Season 2 of Chainsaw Man to see more of Makima's story\",\n",
    "    \"Just finished episode 12 of Chainsaw Man and I'm emotional. What a rollercoaster!\",\n",
    "]\n",
    "response = client.analyze_sentiment(documents=documents)\n",
    "\n",
    "for doc in response:\n",
    "    print(f\"Sentiment: {doc.sentiment}, Scores: {doc.confidence_scores}\")\n"
   ]
  },
  {
   "cell_type": "code",
   "execution_count": 8,
   "metadata": {},
   "outputs": [
    {
     "data": {
      "text/plain": [
       "{'text': 'its about doing do more faster  david cohen'}"
      ]
     },
     "execution_count": 8,
     "metadata": {},
     "output_type": "execute_result"
    }
   ],
   "source": [
    "def clean_data(data):\n",
    "    \"\"\"Clean text data by converting to lowercase and removing punctuation.\"\"\"\n",
    "    text = data[\"text\"].lower()\n",
    "    text = ''.join(c for c in text if c.isalnum() or c.isspace())\n",
    "    return {\"text\": text}\n",
    "\n",
    "clean_data({\"text\": \"It’s about doing. Do more, faster. - David Cohen\"})"
   ]
  },
  {
   "cell_type": "code",
   "execution_count": null,
   "metadata": {},
   "outputs": [],
   "source": []
  }
 ],
 "metadata": {
  "kernelspec": {
   "display_name": "venv",
   "language": "python",
   "name": "python3"
  },
  "language_info": {
   "codemirror_mode": {
    "name": "ipython",
    "version": 3
   },
   "file_extension": ".py",
   "mimetype": "text/x-python",
   "name": "python",
   "nbconvert_exporter": "python",
   "pygments_lexer": "ipython3",
   "version": "3.12.7"
  }
 },
 "nbformat": 4,
 "nbformat_minor": 2
}
