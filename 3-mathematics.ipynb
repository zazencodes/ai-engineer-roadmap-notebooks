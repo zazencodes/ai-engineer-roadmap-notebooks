{
 "cells": [
  {
   "cell_type": "markdown",
   "metadata": {},
   "source": [
    "# AI Engineer Roadmap\n",
    "## Mathematics\n",
    "### https://zazencodes.com/courses/ai-engineer-roadmap#mathematics"
   ]
  },
  {
   "cell_type": "code",
   "execution_count": 1,
   "metadata": {},
   "outputs": [
    {
     "name": "stdout",
     "output_type": "stream",
     "text": [
      "0.23850876315526814\n"
     ]
    }
   ],
   "source": [
    "import numpy as np\n",
    "u = np.random.uniform(0, 1)  # generates one random number between 0 and 1\n",
    "print(u)\n"
   ]
  },
  {
   "cell_type": "code",
   "execution_count": 4,
   "metadata": {},
   "outputs": [
    {
     "name": "stdout",
     "output_type": "stream",
     "text": [
      "[-1.15792309 -0.89141746 -0.52147722  0.17207065 -0.8497819   2.0878442\n",
      "  0.16309437  0.3698146  -1.04814567 -1.81385651]\n"
     ]
    }
   ],
   "source": [
    "mu = 0\n",
    "sigma = 1\n",
    "samples = np.random.normal(mu, sigma, size=10)  # Standard normal distribution\n",
    "print(samples)"
   ]
  },
  {
   "cell_type": "code",
   "execution_count": 5,
   "metadata": {},
   "outputs": [
    {
     "name": "stdout",
     "output_type": "stream",
     "text": [
      "(-1.5272703953672073, -0.9528606882956586)\n"
     ]
    }
   ],
   "source": [
    "def box_muller():\n",
    "    \"\"\"\n",
    "    Box-Muller Transform: Take two uniform random numbers and convert them to two normal random numbers\n",
    "    \"\"\"\n",
    "    u1 = np.random.uniform(0, 1)\n",
    "    u2 = np.random.uniform(0, 1)\n",
    "    z1 = np.sqrt(-2 * np.log(u1)) * np.cos(2 * np.pi * u2)\n",
    "    z2 = np.sqrt(-2 * np.log(u1)) * np.sin(2 * np.pi * u2)\n",
    "    return z1, z2\n",
    "\n",
    "\n",
    "print(box_muller())\n"
   ]
  },
  {
   "cell_type": "code",
   "execution_count": 12,
   "metadata": {},
   "outputs": [
    {
     "name": "stdout",
     "output_type": "stream",
     "text": [
      "Spam (0.67% probability)\n"
     ]
    }
   ],
   "source": [
    "from sklearn.naive_bayes import MultinomialNB\n",
    "from sklearn.feature_extraction.text import CountVectorizer\n",
    "\n",
    "# Data\n",
    "emails = [\"Buy now!\", \"Limited offer\", \"Hello friend\", \"Meeting schedule\"]\n",
    "labels = [1, 1, 0, 0]  # 1 = Spam, 0 = Not Spam\n",
    "\n",
    "# Transform text to feature vectors\n",
    "vectorizer = CountVectorizer()\n",
    "X = vectorizer.fit_transform(emails)\n",
    "\n",
    "# Train Naive Bayes model\n",
    "model = MultinomialNB()\n",
    "model.fit(X, labels)\n",
    "\n",
    "# Predict on new data\n",
    "test_email = vectorizer.transform([\"Special offer\"])\n",
    "prediction = model.predict(test_email)\n",
    "prediction_proba = model.predict_proba(test_email)\n",
    "\n",
    "\n",
    "if prediction[0] == 0:\n",
    "    print(f\"Not Spam ({prediction_proba[0][0]:.2f}% probability)\")\n",
    "elif prediction[0] == 1:\n",
    "    print(f\"Spam ({prediction_proba[0][1]:.2f}% probability)\")"
   ]
  },
  {
   "cell_type": "code",
   "execution_count": null,
   "metadata": {},
   "outputs": [],
   "source": []
  },
  {
   "cell_type": "code",
   "execution_count": null,
   "metadata": {},
   "outputs": [],
   "source": []
  },
  {
   "cell_type": "code",
   "execution_count": null,
   "metadata": {},
   "outputs": [],
   "source": []
  },
  {
   "cell_type": "code",
   "execution_count": null,
   "metadata": {},
   "outputs": [],
   "source": []
  }
 ],
 "metadata": {
  "kernelspec": {
   "display_name": "venv",
   "language": "python",
   "name": "python3"
  },
  "language_info": {
   "codemirror_mode": {
    "name": "ipython",
    "version": 3
   },
   "file_extension": ".py",
   "mimetype": "text/x-python",
   "name": "python",
   "nbconvert_exporter": "python",
   "pygments_lexer": "ipython3",
   "version": "3.12.7"
  }
 },
 "nbformat": 4,
 "nbformat_minor": 2
}
