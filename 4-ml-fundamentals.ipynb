{
 "cells": [
  {
   "cell_type": "markdown",
   "metadata": {},
   "source": [
    "# AI Engineer Roadmap\n",
    "## ML Fundamentals\n",
    "### https://zazencodes.com/courses/ai-engineer-roadmap#ml-fundamentals"
   ]
  },
  {
   "cell_type": "code",
   "execution_count": 3,
   "metadata": {},
   "outputs": [
    {
     "name": "stdout",
     "output_type": "stream",
     "text": [
      "Predicted Price: $340,000.00\n"
     ]
    }
   ],
   "source": [
    "from sklearn.linear_model import LinearRegression\n",
    "import numpy as np\n",
    "\n",
    "# Training data: square footage and bedrooms (input) and price (output)\n",
    "X = np.array([[1200, 2], [1500, 3], [1800, 3], [2000, 4]])  # Square footage, bedrooms\n",
    "y = np.array([240000, 300000, 360000, 400000])  # Prices\n",
    "\n",
    "# Create and train the model\n",
    "model = LinearRegression()\n",
    "model.fit(X, y)\n",
    "\n",
    "# Predict the price of a 1700 sqft house with 3 bedrooms\n",
    "predicted_price = model.predict([[1700, 3]])\n",
    "print(f\"Predicted Price: ${predicted_price[0]:,.2f}\")"
   ]
  },
  {
   "cell_type": "code",
   "execution_count": 2,
   "metadata": {},
   "outputs": [
    {
     "name": "stdout",
     "output_type": "stream",
     "text": [
      "Email Classification: normal\n"
     ]
    }
   ],
   "source": [
    "from sklearn.tree import DecisionTreeClassifier\n",
    "import numpy as np\n",
    "\n",
    "# Training data: [email_length, contains_urgent, contains_money]\n",
    "X = np.array([\n",
    "    [100, 0, 0],  # Normal email\n",
    "    [850, 1, 1],  # Spam email\n",
    "    [300, 0, 0],  # Normal email\n",
    "    [600, 1, 1],  # Spam email\n",
    "    [400, 0, 0],  # Normal email\n",
    "])\n",
    "y = np.array(['normal', 'spam', 'normal', 'spam', 'normal'])  # Labels\n",
    "\n",
    "# Create and train the model\n",
    "classifier = DecisionTreeClassifier()\n",
    "classifier.fit(X, y)\n",
    "\n",
    "# Predict if a new email is spam\n",
    "new_email = [[500, 1, 1]]  # Length: 500, contains \"urgent\" and \"money\"\n",
    "prediction = classifier.predict(new_email)\n",
    "print(f\"Email Classification: {prediction[0]}\")\n"
   ]
  },
  {
   "cell_type": "code",
   "execution_count": 1,
   "metadata": {},
   "outputs": [
    {
     "name": "stdout",
     "output_type": "stream",
     "text": [
      "Cluster assignments: [0 1 0 1 0 1 0 1 0]\n"
     ]
    }
   ],
   "source": [
    "from sklearn.cluster import KMeans\n",
    "import numpy as np\n",
    "\n",
    "# Customer data (standardized): [annual income, spending score, loyalty years]\n",
    "data = np.array([\n",
    "    [0.0, 0.42, 0.17], [0.13, 0.95, 0.67], [0.25, 0.0, 0.0], [0.38, 0.90, 0.50], [0.50, 0.43, 0.33],\n",
    "    [0.63, 0.89, 0.83], [0.75, 0.05, 0.17], [0.88, 1.0, 1.0], [1.0, 0.37, 0.33]\n",
    "])\n",
    "\n",
    "# Create and train the model\n",
    "kmeans = KMeans(n_clusters=2, random_state=0)\n",
    "kmeans.fit(data)\n",
    "\n",
    "# Assign clusters to customers\n",
    "clusters = kmeans.labels_\n",
    "print(f\"Cluster assignments: {clusters}\")"
   ]
  },
  {
   "cell_type": "code",
   "execution_count": 4,
   "metadata": {},
   "outputs": [
    {
     "name": "stdout",
     "output_type": "stream",
     "text": [
      "Action: left, Reward: -1\n",
      "Action: up, Reward: 0\n",
      "Action: down, Reward: -1\n",
      "Action: left, Reward: -1\n",
      "Action: up, Reward: 0\n"
     ]
    }
   ],
   "source": [
    "import random\n",
    "\n",
    "# Define environment and rewards\n",
    "actions = [\"left\", \"right\", \"up\", \"down\"]\n",
    "rewards = {\"left\": -1, \"right\": 1, \"up\": 0, \"down\": -1}\n",
    "\n",
    "# Simulate an agent taking random actions\n",
    "for _ in range(5):  # Five moves\n",
    "    action = random.choice(actions)\n",
    "    reward = rewards[action]\n",
    "    print(f\"Action: {action}, Reward: {reward}\")\n"
   ]
  },
  {
   "cell_type": "code",
   "execution_count": 5,
   "metadata": {},
   "outputs": [
    {
     "name": "stdout",
     "output_type": "stream",
     "text": [
      "Not Spam\n"
     ]
    }
   ],
   "source": [
    "from sklearn.linear_model import LogisticRegression\n",
    "import numpy as np\n",
    "\n",
    "# Training data: [email_length, contains_urgent, contains_money]\n",
    "X = np.array([\n",
    "    [100, 0, 0],  # Normal email\n",
    "    [850, 1, 1],  # Spam email\n",
    "    [300, 0, 0],  # Normal email\n",
    "    [600, 1, 1],  # Spam email\n",
    "    [400, 0, 0],  # Normal email\n",
    "])\n",
    "y = np.array([0, 1, 0, 1, 0]) # Spam (1) or Not Spam (0)\n",
    "\n",
    "# Train the model\n",
    "model = LogisticRegression()\n",
    "model.fit(X, y)\n",
    "\n",
    "# Predict spam for a new email with feature values [500, 0, 0]\n",
    "prediction = model.predict([[500, 0, 0]])\n",
    "print(\"Spam\" if prediction[0] == 1 else \"Not Spam\")\n"
   ]
  },
  {
   "cell_type": "code",
   "execution_count": 1,
   "metadata": {},
   "outputs": [
    {
     "name": "stdout",
     "output_type": "stream",
     "text": [
      "Legitimate\n"
     ]
    },
    {
     "name": "stderr",
     "output_type": "stream",
     "text": [
      "/Users/alex/pro/ai-engineer-roadmap/venv/lib/python3.12/site-packages/xgboost/core.py:158: UserWarning: [09:23:40] WARNING: /Users/runner/work/xgboost/xgboost/src/learner.cc:740: \n",
      "Parameters: { \"use_label_encoder\" } are not used.\n",
      "\n",
      "  warnings.warn(smsg, UserWarning)\n"
     ]
    }
   ],
   "source": [
    "from xgboost import XGBClassifier\n",
    "import numpy as np\n",
    "\n",
    "# Training data: [transaction amount, number of transactions, time since last transaction]\n",
    "X = np.array([[100, 10, 24], [200, 15, 48], [50, 5, 1], [300, 20, 72]])\n",
    "y = np.array([0, 0, 1, 1])  # Fraudulent (1) or Legitimate (0)\n",
    "\n",
    "# Train the model\n",
    "model = XGBClassifier(use_label_encoder=False, eval_metric=\"logloss\")\n",
    "model.fit(X, y)\n",
    "\n",
    "# Predict fraud for a transaction with amount=150, transactions=12, time=36\n",
    "prediction = model.predict([[150, 12, 36]])\n",
    "print(\"Fraudulent\" if prediction[0] == 1 else \"Legitimate\")\n"
   ]
  },
  {
   "cell_type": "code",
   "execution_count": 1,
   "metadata": {},
   "outputs": [
    {
     "name": "stdout",
     "output_type": "stream",
     "text": [
      "    Name   Age   Salary\n",
      "0  Alice  25.0  50000.0\n",
      "3  David  22.0  52000.0\n"
     ]
    }
   ],
   "source": [
    "import pandas as pd\n",
    "\n",
    "# Sample DataFrame\n",
    "data = {'Name': ['Alice', 'Bob', 'Charlie', 'David'],\n",
    "       'Age': [25, None, 30, 22],\n",
    "       'Salary': [50000, 60000, None, 52000]}\n",
    "df = pd.DataFrame(data)\n",
    "\n",
    "# Drop rows with missing values\n",
    "df_cleaned = df.dropna()\n",
    "print(df_cleaned)\n"
   ]
  },
  {
   "cell_type": "code",
   "execution_count": 2,
   "metadata": {},
   "outputs": [
    {
     "name": "stdout",
     "output_type": "stream",
     "text": [
      "      Name        Age   Salary\n",
      "0    Alice  25.000000  50000.0\n",
      "1      Bob  25.666667  60000.0\n",
      "2  Charlie  30.000000  52000.0\n",
      "3    David  22.000000  52000.0\n"
     ]
    }
   ],
   "source": [
    "# Fill missing Age with the mean\n",
    "df['Age'] = df['Age'].fillna(df['Age'].mean())\n",
    "\n",
    "# Fill missing Salary with the median\n",
    "df['Salary'] = df['Salary'].fillna(df['Salary'].median())\n",
    "print(df)\n"
   ]
  },
  {
   "cell_type": "code",
   "execution_count": 3,
   "metadata": {},
   "outputs": [
    {
     "name": "stdout",
     "output_type": "stream",
     "text": [
      "[1000]\n"
     ]
    }
   ],
   "source": [
    "import numpy as np\n",
    "\n",
    "# Sample data\n",
    "data = [1, 2, 2, 3, 3, 4, 100, 2, 3, 4, 2, 1000]\n",
    "\n",
    "# Calculate Z-scores\n",
    "mean = np.mean(data)\n",
    "std_dev = np.std(data)\n",
    "z_scores = [(x - mean) / std_dev for x in data]\n",
    "\n",
    "# Identify outliers with |Z-score| > 3\n",
    "outliers = [x for x, z in zip(data, z_scores) if abs(z) > 3]\n",
    "print(outliers)\n"
   ]
  },
  {
   "cell_type": "code",
   "execution_count": 6,
   "metadata": {},
   "outputs": [
    {
     "name": "stdout",
     "output_type": "stream",
     "text": [
      "Original data:               [1, 2, 2, 3, 3, 4, 100, 2, 3, 4, 2, 1000]\n",
      "After removing outliers:     [1, 2, 2, 3, 3, 4, 100, 2, 3, 4, 2]\n",
      "After capping outliers:      [1.11, 2, 2, 3, 3, 4, 100, 2, 3, 4, 2, 901.0000000000005]\n",
      "After replacing with median: [1, 2, 2, 3, 3, 4, 3.0, 2, 3, 4, 2, 3.0]\n"
     ]
    }
   ],
   "source": [
    "def remove_outliers_zscore(data, threshold=3):\n",
    "    z_scores = np.abs((data - np.mean(data)) / np.std(data))\n",
    "    return [x for x, z in zip(data, z_scores) if z < threshold]\n",
    "\n",
    "# Cap outliers using percentiles (Winsorization)\n",
    "def cap_outliers(data, lower_percentile=1, upper_percentile=99):\n",
    "    lower = np.percentile(data, lower_percentile)\n",
    "    upper = np.percentile(data, upper_percentile)\n",
    "    return [min(max(x, lower), upper) for x in data]\n",
    "\n",
    "# Replace with median for extreme values\n",
    "def replace_with_median(data, threshold=3):\n",
    "    median = np.median(data)\n",
    "    mad = np.median(np.abs(data - median))\n",
    "    modified = [median if abs((x - median) / mad) > threshold else x for x in data]\n",
    "    return modified\n",
    "\n",
    "# Apply different methods\n",
    "cleaned_zscore = remove_outliers_zscore(data)\n",
    "capped_data = cap_outliers(data)\n",
    "median_replaced = replace_with_median(data)\n",
    "\n",
    "print(\"Original data:              \", data)\n",
    "print(\"After removing outliers:    \", cleaned_zscore)\n",
    "print(\"After capping outliers:     \", capped_data)\n",
    "print(\"After replacing with median:\", median_replaced)\n"
   ]
  },
  {
   "cell_type": "code",
   "execution_count": 8,
   "metadata": {},
   "outputs": [
    {
     "name": "stdout",
     "output_type": "stream",
     "text": [
      "Original data:\n",
      " [   1    2    3  100    2    3 1000]\n",
      "\n",
      "Robust scaled:\n",
      " [-0.04040404 -0.02020202  0.          1.95959596 -0.02020202  0.\n",
      " 20.14141414]\n",
      "\n",
      "Log transformed:\n",
      " [0.69314718 1.09861229 1.38629436 4.61512052 1.09861229 1.38629436\n",
      " 6.90875478]\n"
     ]
    }
   ],
   "source": [
    "from sklearn.preprocessing import RobustScaler\n",
    "\n",
    "# Sample data with outliers\n",
    "data = np.array([1, 2, 3, 100, 2, 3, 1000]).reshape(-1, 1)\n",
    "\n",
    "# Apply robust scaling\n",
    "robust_scaler = RobustScaler()\n",
    "scaled_data = robust_scaler.fit_transform(data)\n",
    "\n",
    "# Apply log transformation (adding 1 to handle zeros)\n",
    "log_data = np.log1p(data)\n",
    "\n",
    "print(\"Original data:\\n\", data.ravel())\n",
    "print()\n",
    "print(\"Robust scaled:\\n\", scaled_data.ravel())\n",
    "print()\n",
    "print(\"Log transformed:\\n\", log_data.ravel())\n"
   ]
  },
  {
   "cell_type": "code",
   "execution_count": 9,
   "metadata": {},
   "outputs": [
    {
     "name": "stdout",
     "output_type": "stream",
     "text": [
      "[[0.  ]\n",
      " [0.25]\n",
      " [0.5 ]\n",
      " [0.75]\n",
      " [1.  ]]\n"
     ]
    }
   ],
   "source": [
    "from sklearn.preprocessing import MinMaxScaler\n",
    "\n",
    "data = [[1], [2], [3], [4], [5]]\n",
    "scaler = MinMaxScaler()\n",
    "scaled_data = scaler.fit_transform(data)\n",
    "print(scaled_data)\n"
   ]
  },
  {
   "cell_type": "code",
   "execution_count": 10,
   "metadata": {},
   "outputs": [
    {
     "name": "stdout",
     "output_type": "stream",
     "text": [
      "[[-1.41421356]\n",
      " [-0.70710678]\n",
      " [ 0.        ]\n",
      " [ 0.70710678]\n",
      " [ 1.41421356]]\n"
     ]
    }
   ],
   "source": [
    "from sklearn.preprocessing import StandardScaler\n",
    "\n",
    "data = [[10], [20], [30], [40], [50]]\n",
    "scaler = StandardScaler()\n",
    "standardized_data = scaler.fit_transform(data)\n",
    "print(standardized_data)\n"
   ]
  },
  {
   "cell_type": "code",
   "execution_count": 11,
   "metadata": {},
   "outputs": [
    {
     "name": "stdout",
     "output_type": "stream",
     "text": [
      "[[-0.05882353]\n",
      " [-0.01960784]\n",
      " [ 0.01960784]\n",
      " [ 3.82352941]]\n"
     ]
    }
   ],
   "source": [
    "from sklearn.preprocessing import RobustScaler\n",
    "\n",
    "data = [[1], [2], [3], [100]]  # Outlier included\n",
    "scaler = RobustScaler()\n",
    "robust_scaled_data = scaler.fit_transform(data)\n",
    "print(robust_scaled_data)\n"
   ]
  },
  {
   "cell_type": "code",
   "execution_count": 14,
   "metadata": {},
   "outputs": [
    {
     "name": "stdout",
     "output_type": "stream",
     "text": [
      "['hello world', 'helloworld', 'hello world', 'hello world']\n"
     ]
    }
   ],
   "source": [
    "import re\n",
    "\n",
    "# Sample text data\n",
    "text_data = [\" Hello World! \", \"Hello@#$World\", \"hello   world\", \"HELLO WORLD\"]\n",
    "\n",
    "def clean_text(text):\n",
    "    # Convert to lowercase\n",
    "    text = text.lower()\n",
    "    # Remove special characters\n",
    "    text = re.sub(r'[^a-zA-Z0-9\\s]', '', text)\n",
    "    # Remove extra whitespace\n",
    "    text = ' '.join(text.split())\n",
    "    return text\n",
    "\n",
    "# Clean the text data\n",
    "cleaned_text = [clean_text(text) for text in text_data]\n",
    "print(cleaned_text)\n"
   ]
  },
  {
   "cell_type": "code",
   "execution_count": 18,
   "metadata": {},
   "outputs": [
    {
     "name": "stdout",
     "output_type": "stream",
     "text": [
      "sample sentence common english words\n"
     ]
    },
    {
     "name": "stderr",
     "output_type": "stream",
     "text": [
      "[nltk_data] Downloading package stopwords to /Users/alex/nltk_data...\n",
      "[nltk_data]   Package stopwords is already up-to-date!\n",
      "[nltk_data] Downloading package punkt_tab to /Users/alex/nltk_data...\n",
      "[nltk_data]   Package punkt_tab is already up-to-date!\n"
     ]
    }
   ],
   "source": [
    "from nltk.tokenize import word_tokenize\n",
    "from nltk.corpus import stopwords\n",
    "import nltk\n",
    "\n",
    "# Download required NLTK data\n",
    "nltk.download('stopwords')\n",
    "nltk.download('punkt_tab')\n",
    "\n",
    "\n",
    "def process_text(text):\n",
    "    # Tokenize\n",
    "    tokens = word_tokenize(text.lower())\n",
    "    # Remove stopwords\n",
    "    stop_words = set(stopwords.words('english'))\n",
    "    tokens = [token for token in tokens if token not in stop_words]\n",
    "    # Join tokens back\n",
    "    return ' '.join(tokens)\n",
    "\n",
    "# Example usage\n",
    "text = \"This is a sample sentence with some common English words\"\n",
    "processed_text = process_text(text)\n",
    "print(processed_text)\n"
   ]
  },
  {
   "cell_type": "code",
   "execution_count": 19,
   "metadata": {},
   "outputs": [
    {
     "name": "stdout",
     "output_type": "stream",
     "text": [
      "   values  parsed_values\n",
      "0   1,234       1234.000\n",
      "1  $5,000       5000.000\n",
      "2   42.5%          0.425\n",
      "3     N/A            NaN\n",
      "4    1.5M    1500000.000\n"
     ]
    }
   ],
   "source": [
    "import pandas as pd\n",
    "import numpy as np\n",
    "\n",
    "# Sample data with mixed number formats\n",
    "data = {\n",
    "    'values': ['1,234', '$5,000', '42.5%', 'N/A', '1.5M']\n",
    "}\n",
    "df = pd.DataFrame(data)\n",
    "\n",
    "def parse_numbers(value):\n",
    "    try:\n",
    "        # Remove currency symbols and commas\n",
    "        value = str(value).replace('$', '').replace(',', '')\n",
    "        # Handle percentages\n",
    "        if '%' in value:\n",
    "            return float(value.replace('%', '')) / 100\n",
    "        # Handle millions\n",
    "        if 'M' in value:\n",
    "            return float(value.replace('M', '')) * 1_000_000\n",
    "        # Convert to float\n",
    "        return float(value)\n",
    "    except:\n",
    "        return np.nan\n",
    "\n",
    "# Apply parsing\n",
    "df['parsed_values'] = df['values'].apply(parse_numbers)\n",
    "print(df)\n"
   ]
  },
  {
   "cell_type": "code",
   "execution_count": 20,
   "metadata": {},
   "outputs": [
    {
     "name": "stdout",
     "output_type": "stream",
     "text": [
      "          dates parsed_dates custom_parsed_dates\n",
      "0    2023-01-01   2023-01-01          2023-01-01\n",
      "1    01/15/2023   2023-01-15          2023-01-15\n",
      "2  Jan 20, 2023   2023-01-20          2023-01-20\n",
      "3    2023.02.01   2023-02-01          2023-02-01\n",
      "4      20230301   2023-03-01          2023-03-01\n"
     ]
    }
   ],
   "source": [
    "from datetime import datetime\n",
    "import pandas as pd\n",
    "\n",
    "# Sample data with different date formats\n",
    "dates = {\n",
    "    'dates': [\n",
    "        '2023-01-01',\n",
    "        '01/15/2023',\n",
    "        'Jan 20, 2023',\n",
    "        '2023.02.01',\n",
    "        '20230301'\n",
    "    ]\n",
    "}\n",
    "df = pd.DataFrame(dates)\n",
    "\n",
    "# Parse dates using pandas\n",
    "df['parsed_dates'] = pd.to_datetime(df['dates'], format='mixed')\n",
    "\n",
    "# Custom date parsing function for specific formats\n",
    "def parse_custom_date(date_str):\n",
    "    formats = [\n",
    "        '%Y-%m-%d',\n",
    "        '%m/%d/%Y',\n",
    "        '%b %d, %Y',\n",
    "        '%Y.%m.%d',\n",
    "        '%Y%m%d'\n",
    "    ]\n",
    "\n",
    "    for fmt in formats:\n",
    "        try:\n",
    "            return datetime.strptime(date_str, fmt)\n",
    "        except ValueError:\n",
    "            continue\n",
    "    return None\n",
    "\n",
    "# Apply custom parsing\n",
    "df['custom_parsed_dates'] = df['dates'].apply(parse_custom_date)\n",
    "print(df)\n"
   ]
  },
  {
   "cell_type": "code",
   "execution_count": 21,
   "metadata": {},
   "outputs": [
    {
     "name": "stdout",
     "output_type": "stream",
     "text": [
      "   Height  Weight        BMI\n",
      "0     170      70  24.221453\n",
      "1     165      60  22.038567\n",
      "2     180      80  24.691358\n"
     ]
    }
   ],
   "source": [
    " import pandas as pd\n",
    "\n",
    " # Sample DataFrame\n",
    " data = {'Height': [170, 165, 180], 'Weight': [70, 60, 80]}\n",
    " df = pd.DataFrame(data)\n",
    "\n",
    " # Create a new feature: BMI (Body Mass Index)\n",
    " df['BMI'] = df['Weight'] / (df['Height'] / 100) ** 2\n",
    " print(df)\n"
   ]
  },
  {
   "cell_type": "code",
   "execution_count": 22,
   "metadata": {},
   "outputs": [
    {
     "name": "stdout",
     "output_type": "stream",
     "text": [
      "   Height  Weight        BMI       Date Day_of_Week\n",
      "0     170      70  24.221453 2024-01-01      Monday\n",
      "1     165      60  22.038567 2024-01-02     Tuesday\n",
      "2     180      80  24.691358 2024-01-03   Wednesday\n"
     ]
    }
   ],
   "source": [
    "df['Date'] = pd.to_datetime(['2024-01-01', '2024-01-02', '2024-01-03'])\n",
    "df['Day_of_Week'] = df['Date'].dt.day_name()\n",
    "print(df)\n"
   ]
  },
  {
   "cell_type": "code",
   "execution_count": 23,
   "metadata": {},
   "outputs": [
    {
     "name": "stdout",
     "output_type": "stream",
     "text": [
      "   Height  Weight        BMI       Date Day_of_Week                Review  \\\n",
      "0     170      70  24.221453 2024-01-01      Monday        Great product!   \n",
      "1     165      60  22.038567 2024-01-02     Tuesday               Not bad   \n",
      "2     180      80  24.691358 2024-01-03   Wednesday  Terrible experience.   \n",
      "\n",
      "   Review_Length  \n",
      "0             14  \n",
      "1              7  \n",
      "2             20  \n"
     ]
    }
   ],
   "source": [
    "df['Review'] = ['Great product!', 'Not bad', 'Terrible experience.']\n",
    "df['Review_Length'] = df['Review'].apply(len)\n",
    "print(df)\n"
   ]
  },
  {
   "cell_type": "code",
   "execution_count": 25,
   "metadata": {},
   "outputs": [
    {
     "name": "stdout",
     "output_type": "stream",
     "text": [
      "[0.12609839 0.03224898 0.38591743 0.4557352 ]\n"
     ]
    }
   ],
   "source": [
    "# Random Forests provide feature importance scores based on how much\n",
    "# each feature contributes to decreasing impurity across all trees\n",
    "from sklearn.ensemble import RandomForestClassifier\n",
    "from sklearn.datasets import load_iris\n",
    "\n",
    "# Load sample iris dataset\n",
    "X, y = load_iris(return_X_y=True)\n",
    "\n",
    "# Initialize and train the random forest\n",
    "model = RandomForestClassifier()\n",
    "model.fit(X, y)\n",
    "\n",
    "# Get feature importance scores - higher scores mean more important features\n",
    "print(model.feature_importances_)\n"
   ]
  },
  {
   "cell_type": "code",
   "execution_count": 26,
   "metadata": {},
   "outputs": [
    {
     "name": "stdout",
     "output_type": "stream",
     "text": [
      "[False False  True  True]\n"
     ]
    },
    {
     "name": "stderr",
     "output_type": "stream",
     "text": [
      "/Users/alex/pro/zazencodes-courses/ai-engineer-roadmap/venv/lib/python3.12/site-packages/sklearn/linear_model/_logistic.py:465: ConvergenceWarning: lbfgs failed to converge (status=1):\n",
      "STOP: TOTAL NO. of ITERATIONS REACHED LIMIT.\n",
      "\n",
      "Increase the number of iterations (max_iter) or scale the data as shown in:\n",
      "    https://scikit-learn.org/stable/modules/preprocessing.html\n",
      "Please also refer to the documentation for alternative solver options:\n",
      "    https://scikit-learn.org/stable/modules/linear_model.html#logistic-regression\n",
      "  n_iter_i = _check_optimize_result(\n"
     ]
    }
   ],
   "source": [
    "# Recursive Feature Elimination (RFE) iteratively removes features\n",
    "# by training the model multiple times and eliminating the weakest feature\n",
    "# until the desired number of features is reached\n",
    "from sklearn.feature_selection import RFE\n",
    "from sklearn.linear_model import LogisticRegression\n",
    "\n",
    "# Initialize the model\n",
    "model = LogisticRegression()\n",
    "\n",
    "# Create RFE selector that will select 2 best features\n",
    "rfe = RFE(model, n_features_to_select=2)\n",
    "\n",
    "# Fit RFE - this will iteratively eliminate features\n",
    "rfe = rfe.fit(X, y)\n",
    "\n",
    "# Print boolean mask of selected features (True = selected)\n",
    "print(rfe.support_)\n"
   ]
  },
  {
   "cell_type": "code",
   "execution_count": 27,
   "metadata": {},
   "outputs": [
    {
     "name": "stdout",
     "output_type": "stream",
     "text": [
      "Original features shape: (150, 4)\n",
      "Selected features shape: (150, 2)\n",
      "Feature scores: [ 119.26450218   49.16004009 1180.16118225  960.0071468 ]\n",
      "Selected features: [False False  True  True]\n"
     ]
    }
   ],
   "source": [
    "from sklearn.feature_selection import SelectKBest, f_classif\n",
    "from sklearn.datasets import load_iris\n",
    "\n",
    "# Create a selector that will keep the 2 best features\n",
    "# f_classif measures the relationship between each feature and the target variable\n",
    "selector = SelectKBest(score_func=f_classif, k=2)\n",
    "\n",
    "# Fit the selector and transform the data\n",
    "X_selected = selector.fit_transform(X, y)\n",
    "\n",
    "print(\"Original features shape:\", X.shape)\n",
    "print(\"Selected features shape:\", X_selected.shape)\n",
    "print(\"Feature scores:\", selector.scores_)\n",
    "print(\"Selected features:\", selector.get_support())\n"
   ]
  },
  {
   "cell_type": "code",
   "execution_count": 29,
   "metadata": {},
   "outputs": [
    {
     "name": "stdout",
     "output_type": "stream",
     "text": [
      "[[-2.68412563  0.31939725]\n",
      " [-2.71414169 -0.17700123]\n",
      " [-2.88899057 -0.14494943]\n",
      " [-2.74534286 -0.31829898]\n",
      " [-2.72871654  0.32675451]]\n",
      "Explained variance ratio: [0.92461872 0.05306648]\n"
     ]
    }
   ],
   "source": [
    "from sklearn.decomposition import PCA\n",
    "\n",
    "pca = PCA(n_components=2)\n",
    "X_pca = pca.fit_transform(X)\n",
    "print(X_pca[:5])\n",
    "print(\"Explained variance ratio:\", pca.explained_variance_ratio_)\n"
   ]
  },
  {
   "cell_type": "code",
   "execution_count": 30,
   "metadata": {},
   "outputs": [
    {
     "name": "stdout",
     "output_type": "stream",
     "text": [
      "[[ 5.91274714 -2.30203322]\n",
      " [ 5.57248242 -1.97182599]\n",
      " [ 5.44697714 -2.09520636]\n",
      " [ 5.43645948 -1.87038151]\n",
      " [ 5.87564494 -2.32829018]]\n",
      "Explained variance ratio: [0.52875361 0.44845576]\n"
     ]
    }
   ],
   "source": [
    "from sklearn.decomposition import TruncatedSVD\n",
    "\n",
    "svd = TruncatedSVD(n_components=2, random_state=42)\n",
    "X_svd = svd.fit_transform(X)\n",
    "print(X_svd[:5])\n",
    "print(\"Explained variance ratio:\", svd.explained_variance_ratio_)\n"
   ]
  },
  {
   "cell_type": "code",
   "execution_count": 33,
   "metadata": {},
   "outputs": [
    {
     "name": "stdout",
     "output_type": "stream",
     "text": [
      "[[-26.62385    -2.969567 ]\n",
      " [-29.334204   -2.056246 ]\n",
      " [-29.084578   -3.2681649]\n",
      " [-29.577831   -2.9022093]\n",
      " [-26.578043   -3.3951583]]\n"
     ]
    }
   ],
   "source": [
    "from sklearn.manifold import TSNE\n",
    "\n",
    "tsne = TSNE(n_components=2, perplexity=30, random_state=42)\n",
    "X_tsne = tsne.fit_transform(X)\n",
    "print(X_tsne[:5])\n"
   ]
  },
  {
   "cell_type": "code",
   "execution_count": 34,
   "metadata": {},
   "outputs": [
    {
     "name": "stdout",
     "output_type": "stream",
     "text": [
      "Training set size: 105\n",
      "Testing set size: 22\n",
      "Evaluation set size: 23\n"
     ]
    }
   ],
   "source": [
    "from sklearn.model_selection import train_test_split\n",
    "from sklearn.datasets import load_iris\n",
    "\n",
    "# Load dataset\n",
    "X, y = load_iris(return_X_y=True)\n",
    "\n",
    "# First split: training (70%) vs test+eval (30%)\n",
    "X_train, X_temp, y_train, y_temp = train_test_split(X, y, test_size=0.3, random_state=42)\n",
    "\n",
    "# Second split: test (15%) and eval (15%) from the temp set\n",
    "X_test, X_eval, y_test, y_eval = train_test_split(X_temp, y_temp, test_size=0.5, random_state=42)\n",
    "\n",
    "print(\"Training set size:\", len(X_train))\n",
    "print(\"Testing set size:\", len(X_test))\n",
    "print(\"Evaluation set size:\", len(X_eval))\n"
   ]
  },
  {
   "cell_type": "code",
   "execution_count": 36,
   "metadata": {},
   "outputs": [
    {
     "name": "stdout",
     "output_type": "stream",
     "text": [
      "Accuracy: 1.0\n",
      "Accuracy: 1.0\n",
      "Accuracy: 0.9333333333333333\n",
      "Accuracy: 0.9666666666666667\n",
      "Accuracy: 0.9666666666666667\n"
     ]
    }
   ],
   "source": [
    "from sklearn.model_selection import KFold\n",
    "from sklearn.linear_model import LogisticRegression\n",
    "from sklearn.metrics import accuracy_score\n",
    "\n",
    "kf = KFold(n_splits=5, shuffle=True, random_state=42)\n",
    "model = LogisticRegression()\n",
    "\n",
    "for train_index, test_index in kf.split(X):\n",
    "    X_train, X_test = X[train_index], X[test_index]\n",
    "    y_train, y_test = y[train_index], y[test_index]\n",
    "    model.fit(X_train, y_train)\n",
    "    predictions = model.predict(X_test)\n",
    "    print(\"Accuracy:\", accuracy_score(y_test, predictions))\n"
   ]
  },
  {
   "cell_type": "code",
   "execution_count": 37,
   "metadata": {},
   "outputs": [
    {
     "name": "stdout",
     "output_type": "stream",
     "text": [
      "Accuracy: 1.0\n",
      "Accuracy: 0.9666666666666667\n",
      "Accuracy: 0.9333333333333333\n",
      "Accuracy: 1.0\n",
      "Accuracy: 0.9333333333333333\n"
     ]
    },
    {
     "name": "stderr",
     "output_type": "stream",
     "text": [
      "/Users/alex/pro/zazencodes-courses/ai-engineer-roadmap/venv/lib/python3.12/site-packages/sklearn/linear_model/_logistic.py:465: ConvergenceWarning: lbfgs failed to converge (status=1):\n",
      "STOP: TOTAL NO. of ITERATIONS REACHED LIMIT.\n",
      "\n",
      "Increase the number of iterations (max_iter) or scale the data as shown in:\n",
      "    https://scikit-learn.org/stable/modules/preprocessing.html\n",
      "Please also refer to the documentation for alternative solver options:\n",
      "    https://scikit-learn.org/stable/modules/linear_model.html#logistic-regression\n",
      "  n_iter_i = _check_optimize_result(\n"
     ]
    }
   ],
   "source": [
    "from sklearn.model_selection import StratifiedKFold\n",
    "from sklearn.linear_model import LogisticRegression\n",
    "from sklearn.metrics import accuracy_score\n",
    "\n",
    "# Initialize stratified k-fold\n",
    "skf = StratifiedKFold(n_splits=5, shuffle=True, random_state=42)\n",
    "model = LogisticRegression()\n",
    "\n",
    "# Perform stratified k-fold cross validation\n",
    "for train_index, test_index in skf.split(X, y):\n",
    "    X_train, X_test = X[train_index], X[test_index]\n",
    "    y_train, y_test = y[train_index], y[test_index]\n",
    "    model.fit(X_train, y_train)\n",
    "    predictions = model.predict(X_test)\n",
    "    print(\"Accuracy:\", accuracy_score(y_test, predictions))\n"
   ]
  },
  {
   "cell_type": "code",
   "execution_count": 39,
   "metadata": {},
   "outputs": [
    {
     "name": "stdout",
     "output_type": "stream",
     "text": [
      "Fold 1:\n",
      "Training set size: 25, Test set size: 25\n",
      "MSE: 0.0\n",
      "\n",
      "Fold 2:\n",
      "Training set size: 50, Test set size: 25\n",
      "MSE: 1.0\n",
      "\n",
      "Fold 3:\n",
      "Training set size: 75, Test set size: 25\n",
      "MSE: 0.018868056956335345\n",
      "\n",
      "Fold 4:\n",
      "Training set size: 100, Test set size: 25\n",
      "MSE: 0.3483620695449156\n",
      "\n",
      "Fold 5:\n",
      "Training set size: 125, Test set size: 25\n",
      "MSE: 0.12217397712069693\n",
      "\n"
     ]
    }
   ],
   "source": [
    "from sklearn.model_selection import TimeSeriesSplit\n",
    "from sklearn.linear_model import LinearRegression\n",
    "from sklearn.metrics import mean_squared_error\n",
    "\n",
    "# Initialize time series split\n",
    "tscv = TimeSeriesSplit(n_splits=5)\n",
    "model = LinearRegression()\n",
    "\n",
    "# Perform time series cross validation\n",
    "for i, (train_index, test_index) in enumerate(tscv.split(X)):\n",
    "    X_train, X_test = X[train_index], X[test_index]\n",
    "    y_train, y_test = y[train_index], y[test_index]\n",
    "    model.fit(X_train, y_train)\n",
    "    predictions = model.predict(X_test)\n",
    "    print(f\"Fold {i+1}:\")\n",
    "    print(f\"Training set size: {len(X_train)}, Test set size: {len(X_test)}\")\n",
    "    print(f\"MSE: {mean_squared_error(y_test, predictions)}\\n\")\n"
   ]
  },
  {
   "cell_type": "code",
   "execution_count": 41,
   "metadata": {},
   "outputs": [
    {
     "name": "stdout",
     "output_type": "stream",
     "text": [
      "Training Logistic Regression with Manual K-Fold Cross-Validation\n",
      "Fold 1 Accuracy: 0.820\n",
      "Fold 2 Accuracy: 0.860\n",
      "Fold 3 Accuracy: 0.810\n",
      "Fold 4 Accuracy: 0.870\n",
      "Fold 5 Accuracy: 0.830\n",
      "\n",
      "Cross-Validation Accuracies: [0.82, 0.86, 0.81, 0.87, 0.83]\n",
      "Mean Accuracy: 0.838\n"
     ]
    }
   ],
   "source": [
    "from sklearn.datasets import make_classification\n",
    "from sklearn.linear_model import LogisticRegression\n",
    "from sklearn.metrics import accuracy_score\n",
    "from sklearn.model_selection import KFold\n",
    "import numpy as np\n",
    "\n",
    "# Generate a binary classification dataset\n",
    "X, y = make_classification(n_samples=500, n_features=10, n_informative=5, n_redundant=2, random_state=42)\n",
    "\n",
    "# Initialize K-Fold cross-validation\n",
    "kf = KFold(n_splits=5, shuffle=True, random_state=42)\n",
    "accuracies = []\n",
    "\n",
    "print(\"Training Logistic Regression with Manual K-Fold Cross-Validation\")\n",
    "\n",
    "for fold, (train_idx, test_idx) in enumerate(kf.split(X), start=1):\n",
    "    # Split data into training and testing sets for this fold\n",
    "    X_train, X_test = X[train_idx], X[test_idx]\n",
    "    y_train, y_test = y[train_idx], y[test_idx]\n",
    "\n",
    "    # Initialize and train the model\n",
    "    model = LogisticRegression()\n",
    "    model.fit(X_train, y_train)\n",
    "\n",
    "    # Make predictions and calculate accuracy\n",
    "    y_pred = model.predict(X_test)\n",
    "    accuracy = accuracy_score(y_test, y_pred)\n",
    "    accuracies.append(accuracy)\n",
    "\n",
    "    print(f\"Fold {fold} Accuracy: {accuracy:.3f}\")\n",
    "\n",
    "# Final results\n",
    "print(f\"\\nCross-Validation Accuracies: {accuracies}\")\n",
    "print(f\"Mean Accuracy: {np.mean(accuracies):.3f}\")\n"
   ]
  },
  {
   "cell_type": "code",
   "execution_count": 42,
   "metadata": {},
   "outputs": [
    {
     "name": "stdout",
     "output_type": "stream",
     "text": [
      "\n",
      "Training Support Vector Machine (SVM) with Feature Scaling\n",
      "Cross-Validation Accuracies: [0.84 0.87 0.82 0.81 0.85]\n",
      "Mean Accuracy: 0.838\n"
     ]
    }
   ],
   "source": [
    "from sklearn.svm import SVC\n",
    "from sklearn.preprocessing import StandardScaler\n",
    "from sklearn.pipeline import Pipeline\n",
    "from sklearn.model_selection import cross_val_score\n",
    "\n",
    "# Define a pipeline with scaling and SVM\n",
    "pipeline = Pipeline([\n",
    "    ('scaler', StandardScaler()),  # Standardize features\n",
    "    ('svm', SVC(kernel='linear', C=1.0))  # Linear Support Vector Machine\n",
    "])\n",
    "\n",
    "# Perform cross-validation\n",
    "print(\"\\nTraining Support Vector Machine (SVM) with Feature Scaling\")\n",
    "scores = cross_val_score(pipeline, X, y, cv=5, scoring='accuracy')\n",
    "\n",
    "# Results\n",
    "print(f\"Cross-Validation Accuracies: {scores}\")\n",
    "print(f\"Mean Accuracy: {np.mean(scores):.3f}\")\n"
   ]
  },
  {
   "cell_type": "code",
   "execution_count": 43,
   "metadata": {},
   "outputs": [
    {
     "name": "stdout",
     "output_type": "stream",
     "text": [
      "\n",
      "Training XGBoost with Polynomial Features\n"
     ]
    },
    {
     "name": "stderr",
     "output_type": "stream",
     "text": [
      "/Users/alex/pro/zazencodes-courses/ai-engineer-roadmap/venv/lib/python3.12/site-packages/xgboost/core.py:158: UserWarning: [20:38:44] WARNING: /Users/runner/work/xgboost/xgboost/src/learner.cc:740: \n",
      "Parameters: { \"use_label_encoder\" } are not used.\n",
      "\n",
      "  warnings.warn(smsg, UserWarning)\n",
      "/Users/alex/pro/zazencodes-courses/ai-engineer-roadmap/venv/lib/python3.12/site-packages/xgboost/core.py:158: UserWarning: [20:38:44] WARNING: /Users/runner/work/xgboost/xgboost/src/learner.cc:740: \n",
      "Parameters: { \"use_label_encoder\" } are not used.\n",
      "\n",
      "  warnings.warn(smsg, UserWarning)\n",
      "/Users/alex/pro/zazencodes-courses/ai-engineer-roadmap/venv/lib/python3.12/site-packages/xgboost/core.py:158: UserWarning: [20:38:44] WARNING: /Users/runner/work/xgboost/xgboost/src/learner.cc:740: \n",
      "Parameters: { \"use_label_encoder\" } are not used.\n",
      "\n",
      "  warnings.warn(smsg, UserWarning)\n",
      "/Users/alex/pro/zazencodes-courses/ai-engineer-roadmap/venv/lib/python3.12/site-packages/xgboost/core.py:158: UserWarning: [20:38:44] WARNING: /Users/runner/work/xgboost/xgboost/src/learner.cc:740: \n",
      "Parameters: { \"use_label_encoder\" } are not used.\n",
      "\n",
      "  warnings.warn(smsg, UserWarning)\n"
     ]
    },
    {
     "name": "stdout",
     "output_type": "stream",
     "text": [
      "Cross-Validation Accuracies: [0.9  0.92 0.89 0.88 0.91]\n",
      "Mean Accuracy: 0.900\n"
     ]
    },
    {
     "name": "stderr",
     "output_type": "stream",
     "text": [
      "/Users/alex/pro/zazencodes-courses/ai-engineer-roadmap/venv/lib/python3.12/site-packages/xgboost/core.py:158: UserWarning: [20:38:45] WARNING: /Users/runner/work/xgboost/xgboost/src/learner.cc:740: \n",
      "Parameters: { \"use_label_encoder\" } are not used.\n",
      "\n",
      "  warnings.warn(smsg, UserWarning)\n"
     ]
    }
   ],
   "source": [
    "from xgboost import XGBClassifier\n",
    "from sklearn.preprocessing import PolynomialFeatures\n",
    "from sklearn.pipeline import Pipeline\n",
    "from sklearn.model_selection import cross_val_score\n",
    "\n",
    "# Create a pipeline with polynomial features and XGBoost\n",
    "pipeline = Pipeline([\n",
    "    ('poly', PolynomialFeatures(degree=2, include_bias=False)),  # Add polynomial features\n",
    "    ('scaler', StandardScaler()),  # Standardize features\n",
    "    ('xgb', XGBClassifier(use_label_encoder=False, eval_metric='logloss'))  # XGBoost Classifier\n",
    "])\n",
    "\n",
    "# Perform cross-validation\n",
    "print(\"\\nTraining XGBoost with Polynomial Features\")\n",
    "scores = cross_val_score(pipeline, X, y, cv=5, scoring='accuracy')\n",
    "\n",
    "# Results\n",
    "print(f\"Cross-Validation Accuracies: {scores}\")\n",
    "print(f\"Mean Accuracy: {np.mean(scores):.3f}\")\n"
   ]
  },
  {
   "cell_type": "code",
   "execution_count": 47,
   "metadata": {},
   "outputs": [
    {
     "name": "stdout",
     "output_type": "stream",
     "text": [
      "Accuracy: 0.61\n",
      "Precision: 0.58\n",
      "Recall: 0.64\n",
      "F1 Score: 0.61\n"
     ]
    }
   ],
   "source": [
    "from sklearn.metrics import accuracy_score, precision_score, recall_score, f1_score\n",
    "\n",
    "# Example predictions and labels\n",
    "y_true = [0, 1, 1, 1, 0, 1, 0, 1, 0, 0, 1, 1, 0, 1, 0, 0, 0, 0, 0, 1, 1, 0, 1]\n",
    "y_pred = [0, 1, 0, 1, 0, 0, 1, 1, 0, 1, 1, 0, 0, 1, 1, 0, 0, 1, 1, 1, 1, 0, 0]\n",
    "\n",
    "\n",
    "# Calculate metrics\n",
    "accuracy = accuracy_score(y_true, y_pred)\n",
    "precision = precision_score(y_true, y_pred)\n",
    "recall = recall_score(y_true, y_pred)\n",
    "f1 = f1_score(y_true, y_pred)\n",
    "\n",
    "print(f\"Accuracy: {accuracy:.2f}\")    # Proportion of correctly classified samples\n",
    "print(f\"Precision: {precision:.2f}\")  # Fraction of true positives among predicted positives\n",
    "print(f\"Recall: {recall:.2f}\")        # Fraction of true positives among actual positives\n",
    "print(f\"F1 Score: {f1:.2f}\")          # Harmonic mean of precision and recall\n"
   ]
  },
  {
   "cell_type": "code",
   "execution_count": 48,
   "metadata": {},
   "outputs": [
    {
     "name": "stdout",
     "output_type": "stream",
     "text": [
      "MSE: 0.19\n",
      "MAE: 0.38\n",
      "R-squared: 0.98\n"
     ]
    }
   ],
   "source": [
    "from sklearn.metrics import mean_squared_error, mean_absolute_error, r2_score\n",
    "import numpy as np\n",
    "\n",
    "# Example predictions and labels\n",
    "y_true = [3.0, -0.5, 2.0, 7.0, 1.5, 4.2, -2.1, 8.9, 3.3, 5.7, 2.8, -1.4, 6.1, 0.8, 4.5]\n",
    "y_pred = [2.5, 0.0, 2.0, 8.0, 1.8, 3.9, -1.8, 9.2, 3.0, 5.2, 3.1, -1.0, 5.8, 1.2, 4.8]\n",
    "\n",
    "# Calculate metrics\n",
    "mse = mean_squared_error(y_true, y_pred)\n",
    "mae = mean_absolute_error(y_true, y_pred)\n",
    "r2 = r2_score(y_true, y_pred)\n",
    "\n",
    "print(f\"MSE: {mse:.2f}\")      # Average squared difference between predicted and actual values\n",
    "print(f\"MAE: {mae:.2f}\")      # Average absolute difference between predicted and actual values\n",
    "print(f\"R-squared: {r2:.2f}\") # Proportion of variance explained by the model\n"
   ]
  },
  {
   "cell_type": "code",
   "execution_count": 50,
   "metadata": {},
   "outputs": [
    {
     "data": {
      "image/png": "[encoded data removed]",
      "text/plain": [
       "<Figure size 640x480 with 1 Axes>"
      ]
     },
     "metadata": {},
     "output_type": "display_data"
    }
   ],
   "source": [
    "from sklearn.metrics import roc_curve, roc_auc_score\n",
    "import matplotlib.pyplot as plt\n",
    "\n",
    "# Example predictions\n",
    "y_true = [0, 0, 1, 1, 0, 1, 0, 1, 0, 0, 1, 1, 0, 1, 0, 1, 0, 1, 1, 0, 0, 1, 1, 0, 0, 1, 1, 1, 1, 1, 1, 0, 1, 0, 0, 1, 1, 0, 0, 0]\n",
    "y_scores = [0.1, 0.4, 0.35, 0.8, 0.2, 0.7, 0.3, 0.9, 0.15, 0.25, 0.65, 0.75, 0.1, 0.85, 0.2, 0.95, 0.3, 0.6, 0.8, 0.1, 0.67, 0.63, 0.54, 0.0, 0.27, 0.41, 0.67, 0.87, 0.66, 0.98, 0.32, 0.41, 0.02, 0.95, 0.7, 0.81, 0.96, 0.92, 0.27, 0.43]\n",
    "\n",
    "\n",
    "# Compute ROC curve\n",
    "fpr, tpr, thresholds = roc_curve(y_true, y_scores)\n",
    "auc = roc_auc_score(y_true, y_scores)\n",
    "\n",
    "# Plot\n",
    "plt.plot(fpr, tpr, label=f\"AUC = {auc:.2f}\")\n",
    "plt.plot([0, 1], [0, 1], 'k--')  # Add diagonal line\n",
    "plt.xlabel(\"False Positive Rate\")\n",
    "plt.ylabel(\"True Positive Rate\")\n",
    "plt.title(\"ROC Curve\")\n",
    "plt.legend()\n",
    "plt.grid(True)\n",
    "plt.show()\n"
   ]
  },
  {
   "cell_type": "code",
   "execution_count": 51,
   "metadata": {},
   "outputs": [
    {
     "data": {
      "image/png": "[encoded data removed]",
      "text/plain": [
       "<Figure size 640x480 with 2 Axes>"
      ]
     },
     "metadata": {},
     "output_type": "display_data"
    },
    {
     "name": "stdout",
     "output_type": "stream",
     "text": [
      "True Negatives: 8\n",
      "False Positives: 3\n",
      "False Negatives: 3\n",
      "True Positives: 11\n"
     ]
    }
   ],
   "source": [
    "from sklearn.metrics import confusion_matrix, ConfusionMatrixDisplay\n",
    "import matplotlib.pyplot as plt\n",
    "\n",
    "# Example predictions and labels\n",
    "y_true = [0, 1, 1, 1, 0, 1, 0, 1, 0, 0, 1, 1, 0, 1, 0, 1, 0, 1, 1, 0, 1, 0, 1, 0, 1]\n",
    "y_pred = [0, 1, 1, 0, 0, 1, 1, 1, 0, 1, 1, 0, 0, 1, 0, 1, 1, 1, 1, 0, 0, 0, 1, 0, 1]\n",
    "\n",
    "# Generate confusion matrix\n",
    "cm = confusion_matrix(y_true, y_pred)\n",
    "disp = ConfusionMatrixDisplay(confusion_matrix=cm,\n",
    "                             display_labels=['Negative', 'Positive'])\n",
    "\n",
    "# Plot with customization\n",
    "disp.plot(cmap='Blues', values_format='d')\n",
    "plt.title('Confusion Matrix')\n",
    "plt.grid(False)\n",
    "plt.show()\n",
    "\n",
    "# Print additional metrics\n",
    "tn, fp, fn, tp = cm.ravel()\n",
    "print(f\"True Negatives: {tn}\")   # Correctly predicted negative cases\n",
    "print(f\"False Positives: {fp}\")  # Incorrectly predicted as positive when actually negative\n",
    "print(f\"False Negatives: {fn}\")  # Incorrectly predicted as negative when actually positive\n",
    "print(f\"True Positives: {tp}\")   # Correctly predicted positive cases\n"
   ]
  },
  {
   "cell_type": "code",
   "execution_count": 52,
   "metadata": {},
   "outputs": [
    {
     "name": "stdout",
     "output_type": "stream",
     "text": [
      "Best Parameters: {'max_depth': 10, 'min_samples_split': 8, 'n_estimators': 100}\n",
      "Best Score: 0.9733333333333333\n"
     ]
    }
   ],
   "source": [
    "from sklearn.model_selection import GridSearchCV\n",
    "from sklearn.ensemble import RandomForestClassifier\n",
    "\n",
    "# Example dataset\n",
    "from sklearn.datasets import load_iris\n",
    "X, y = load_iris(return_X_y=True)\n",
    "\n",
    "# Define model and hyperparameter grid\n",
    "model = RandomForestClassifier()\n",
    "param_grid = {\n",
    "    'n_estimators': [10, 50, 100, 200],\n",
    "    'max_depth': [None, 10, 20, 30],\n",
    "    'min_samples_split': [3, 5, 8]\n",
    "}\n",
    "\n",
    "# Perform grid search\n",
    "grid_search = GridSearchCV(model, param_grid, cv=3, scoring='accuracy')\n",
    "grid_search.fit(X, y)\n",
    "\n",
    "print(f\"Best Parameters: {grid_search.best_params_}\")\n",
    "print(f\"Best Score: {grid_search.best_score_}\")\n"
   ]
  },
  {
   "cell_type": "code",
   "execution_count": 54,
   "metadata": {},
   "outputs": [
    {
     "name": "stderr",
     "output_type": "stream",
     "text": [
      "/Users/alex/pro/zazencodes-courses/ai-engineer-roadmap/venv/lib/python3.12/site-packages/tqdm/auto.py:21: TqdmWarning: IProgress not found. Please update jupyter and ipywidgets. See https://ipywidgets.readthedocs.io/en/stable/user_install.html\n",
      "  from .autonotebook import tqdm as notebook_tqdm\n",
      "[I 2025-02-27 08:12:03,453] A new study created in memory with name: no-name-a71fcaf9-52ba-43a4-8313-72467436f367\n",
      "[I 2025-02-27 08:12:03,498] Trial 0 finished with value: 0.9466666666666667 and parameters: {'n_estimators': 26, 'max_depth': 29, 'min_samples_split': 2}. Best is trial 0 with value: 0.9466666666666667.\n",
      "[I 2025-02-27 08:12:03,560] Trial 1 finished with value: 0.96 and parameters: {'n_estimators': 39, 'max_depth': 19, 'min_samples_split': 6}. Best is trial 1 with value: 0.96.\n",
      "[I 2025-02-27 08:12:03,717] Trial 2 finished with value: 0.9533333333333333 and parameters: {'n_estimators': 107, 'max_depth': 16, 'min_samples_split': 4}. Best is trial 1 with value: 0.96.\n",
      "[I 2025-02-27 08:12:03,769] Trial 3 finished with value: 0.9666666666666667 and parameters: {'n_estimators': 34, 'max_depth': 9, 'min_samples_split': 9}. Best is trial 3 with value: 0.9666666666666667.\n",
      "[I 2025-02-27 08:12:04,003] Trial 4 finished with value: 0.9533333333333333 and parameters: {'n_estimators': 164, 'max_depth': 5, 'min_samples_split': 8}. Best is trial 3 with value: 0.9666666666666667.\n",
      "[I 2025-02-27 08:12:04,072] Trial 5 finished with value: 0.9533333333333333 and parameters: {'n_estimators': 45, 'max_depth': 24, 'min_samples_split': 8}. Best is trial 3 with value: 0.9666666666666667.\n",
      "[I 2025-02-27 08:12:04,256] Trial 6 finished with value: 0.9666666666666667 and parameters: {'n_estimators': 120, 'max_depth': 8, 'min_samples_split': 6}. Best is trial 3 with value: 0.9666666666666667.\n",
      "[I 2025-02-27 08:12:04,464] Trial 7 finished with value: 0.9666666666666667 and parameters: {'n_estimators': 145, 'max_depth': 25, 'min_samples_split': 3}. Best is trial 3 with value: 0.9666666666666667.\n",
      "[I 2025-02-27 08:12:04,498] Trial 8 finished with value: 0.9466666666666667 and parameters: {'n_estimators': 20, 'max_depth': 27, 'min_samples_split': 8}. Best is trial 3 with value: 0.9666666666666667.\n",
      "[I 2025-02-27 08:12:04,586] Trial 9 finished with value: 0.96 and parameters: {'n_estimators': 59, 'max_depth': 26, 'min_samples_split': 2}. Best is trial 3 with value: 0.9666666666666667.\n",
      "[I 2025-02-27 08:12:04,699] Trial 10 finished with value: 0.9533333333333333 and parameters: {'n_estimators': 71, 'max_depth': 11, 'min_samples_split': 10}. Best is trial 3 with value: 0.9666666666666667.\n",
      "[I 2025-02-27 08:12:04,866] Trial 11 finished with value: 0.9533333333333333 and parameters: {'n_estimators': 109, 'max_depth': 6, 'min_samples_split': 6}. Best is trial 3 with value: 0.9666666666666667.\n",
      "[I 2025-02-27 08:12:05,064] Trial 12 finished with value: 0.9533333333333333 and parameters: {'n_estimators': 132, 'max_depth': 11, 'min_samples_split': 10}. Best is trial 3 with value: 0.9666666666666667.\n",
      "[I 2025-02-27 08:12:05,191] Trial 13 finished with value: 0.9533333333333333 and parameters: {'n_estimators': 80, 'max_depth': 11, 'min_samples_split': 5}. Best is trial 3 with value: 0.9666666666666667.\n",
      "[I 2025-02-27 08:12:05,467] Trial 14 finished with value: 0.9533333333333333 and parameters: {'n_estimators': 188, 'max_depth': 8, 'min_samples_split': 7}. Best is trial 3 with value: 0.9666666666666667.\n",
      "[I 2025-02-27 08:12:05,615] Trial 15 finished with value: 0.9533333333333333 and parameters: {'n_estimators': 96, 'max_depth': 16, 'min_samples_split': 9}. Best is trial 3 with value: 0.9666666666666667.\n",
      "[I 2025-02-27 08:12:05,824] Trial 16 finished with value: 0.96 and parameters: {'n_estimators': 138, 'max_depth': 13, 'min_samples_split': 5}. Best is trial 3 with value: 0.9666666666666667.\n",
      "[I 2025-02-27 08:12:06,005] Trial 17 finished with value: 0.96 and parameters: {'n_estimators': 121, 'max_depth': 20, 'min_samples_split': 7}. Best is trial 3 with value: 0.9666666666666667.\n",
      "[I 2025-02-27 08:12:06,030] Trial 18 finished with value: 0.9533333333333333 and parameters: {'n_estimators': 10, 'max_depth': 8, 'min_samples_split': 9}. Best is trial 3 with value: 0.9666666666666667.\n",
      "[I 2025-02-27 08:12:06,278] Trial 19 finished with value: 0.96 and parameters: {'n_estimators': 166, 'max_depth': 14, 'min_samples_split': 6}. Best is trial 3 with value: 0.9666666666666667.\n"
     ]
    },
    {
     "name": "stdout",
     "output_type": "stream",
     "text": [
      "Best Parameters: {'n_estimators': 34, 'max_depth': 9, 'min_samples_split': 9}\n",
      "Best Score: 0.9666666666666667\n"
     ]
    }
   ],
   "source": [
    "import optuna\n",
    "from sklearn.ensemble import RandomForestClassifier\n",
    "from sklearn.model_selection import cross_val_score\n",
    "\n",
    "# Example dataset\n",
    "from sklearn.datasets import load_iris\n",
    "X, y = load_iris(return_X_y=True)\n",
    "\n",
    "# Objective function that Optuna will optimize\n",
    "def objective(trial):\n",
    "\n",
    "    # Define hyperparameter search spaces (i.e. between 10-200, 5-30, 2-10)\n",
    "    n_estimators = trial.suggest_int('n_estimators', 10, 200)\n",
    "    max_depth = trial.suggest_int('max_depth', 5, 30)\n",
    "    min_samples_split = trial.suggest_int('min_samples_split', 2, 10)\n",
    "\n",
    "    # Create Random Forest model with the suggested hyperparameters\n",
    "    model = RandomForestClassifier(\n",
    "        n_estimators=n_estimators,\n",
    "        max_depth=max_depth,\n",
    "        min_samples_split=min_samples_split\n",
    "    )\n",
    "\n",
    "    # Perform cross validation and return mean accuracy score\n",
    "    # cv=3 means 3-fold cross validation\n",
    "    score = cross_val_score(model, X, y, cv=3, scoring='accuracy').mean()\n",
    "    return score\n",
    "\n",
    "# Create an Optuna study object that maximizes the objective\n",
    "study = optuna.create_study(direction='maximize')\n",
    "\n",
    "# Run optimization for 20 trials\n",
    "study.optimize(objective, n_trials=20)\n",
    "\n",
    "print(f\"Best Parameters: {study.best_params}\")\n",
    "print(f\"Best Score: {study.best_value}\")\n"
   ]
  },
  {
   "cell_type": "code",
   "execution_count": 55,
   "metadata": {},
   "outputs": [
    {
     "name": "stdout",
     "output_type": "stream",
     "text": [
      "Training shape: (1700, 20) (1700,)\n",
      "Eval shape: (300, 20) (300,)\n",
      "Logistic Regression: Accuracy = 0.9067, F1 = 0.9041\n",
      "Random Forest:       Accuracy = 0.9267, F1 = 0.9262\n",
      "Gradient Boosting:   Accuracy = 0.9533, F1 = 0.9514\n",
      "\n",
      "The best model based on the eval set is: Gradient Boosting with F1 = 0.9514\n"
     ]
    }
   ],
   "source": [
    "import numpy as np\n",
    "from sklearn.datasets import make_classification\n",
    "from sklearn.model_selection import train_test_split\n",
    "from sklearn.linear_model import LogisticRegression\n",
    "from sklearn.ensemble import RandomForestClassifier, GradientBoostingClassifier\n",
    "from sklearn.metrics import accuracy_score, f1_score\n",
    "\n",
    "RANDOM_STATE=42\n",
    "\n",
    "# 1. Generate a synthetic classification dataset\n",
    "X, y = make_classification(n_samples=2000, n_features=20, n_informative=10,\n",
    "                           n_redundant=5, n_classes=2, random_state=RANDOM_STATE)\n",
    "\n",
    "# 2. Split into CV and eval sets (this would have been done earlier, such that eval set has not yet been used)\n",
    "X_cv, X_eval, y_cv, y_eval = train_test_split(X, y, test_size=0.15, random_state=RANDOM_STATE)\n",
    "\n",
    "print(\"Training shape:\", X_cv.shape, y_cv.shape)\n",
    "print(\"Eval shape:\", X_eval.shape, y_eval.shape)\n",
    "\n",
    "# 3. Define three different models with chosen hyperparameters\n",
    "# These hyperparameters are hypothetical \"good\" choices based on prior tuning on the CV data.\n",
    "\n",
    "model_logreg = LogisticRegression(C=0.5, solver='liblinear', random_state=RANDOM_STATE)\n",
    "model_rf = RandomForestClassifier(n_estimators=100, max_depth=10, min_samples_split=5, random_state=RANDOM_STATE)\n",
    "model_gb = GradientBoostingClassifier(n_estimators=150, learning_rate=0.1, max_depth=5, random_state=RANDOM_STATE)\n",
    "\n",
    "# 4. Train each model on the CV set\n",
    "model_logreg.fit(X_cv, y_cv)\n",
    "model_rf.fit(X_cv, y_cv)\n",
    "model_gb.fit(X_cv, y_cv)\n",
    "\n",
    "# 5. Evaluate on the eval set\n",
    "logreg_preds = model_logreg.predict(X_eval)\n",
    "rf_preds = model_rf.predict(X_eval)\n",
    "gb_preds = model_gb.predict(X_eval)\n",
    "\n",
    "# Choose a metric: let's use accuracy and also look at F1 score for more insight\n",
    "logreg_accuracy = accuracy_score(y_eval, logreg_preds)\n",
    "rf_accuracy = accuracy_score(y_eval, rf_preds)\n",
    "gb_accuracy = accuracy_score(y_eval, gb_preds)\n",
    "\n",
    "logreg_f1 = f1_score(y_eval, logreg_preds)\n",
    "rf_f1 = f1_score(y_eval, rf_preds)\n",
    "gb_f1 = f1_score(y_eval, gb_preds)\n",
    "\n",
    "# Print results\n",
    "print(\"Logistic Regression: Accuracy = {:.4f}, F1 = {:.4f}\".format(logreg_accuracy, logreg_f1))\n",
    "print(\"Random Forest:       Accuracy = {:.4f}, F1 = {:.4f}\".format(rf_accuracy, rf_f1))\n",
    "print(\"Gradient Boosting:   Accuracy = {:.4f}, F1 = {:.4f}\".format(gb_accuracy, gb_f1))\n",
    "\n",
    "# 6. Select the best model based on the evaluation set results\n",
    "# Let's prioritize F1 score (just as an example); we could choose accuracy or a combination of metrics.\n",
    "models = {\n",
    "    \"Logistic Regression\": (logreg_accuracy, logreg_f1),\n",
    "    \"Random Forest\": (rf_accuracy, rf_f1),\n",
    "    \"Gradient Boosting\": (gb_accuracy, gb_f1)\n",
    "}\n",
    "\n",
    "best_model = None\n",
    "best_f1 = -1\n",
    "for name, (acc, f1) in models.items():\n",
    "    if f1 > best_f1:\n",
    "        best_f1 = f1\n",
    "        best_model = name\n",
    "\n",
    "print(\"\\nThe best model based on the eval set is: {} with F1 = {:.4f}\".format(best_model, best_f1))\n"
   ]
  },
  {
   "cell_type": "code",
   "execution_count": null,
   "metadata": {},
   "outputs": [
    {
     "name": "stdout",
     "output_type": "stream",
     "text": [
      "Accuracy: 0.93\n",
      "AUC: 0.95\n"
     ]
    }
   ],
   "source": [
    "from sklearn.datasets import load_breast_cancer\n",
    "from sklearn.model_selection import train_test_split\n",
    "from sklearn.pipeline import Pipeline\n",
    "from sklearn.preprocessing import StandardScaler\n",
    "from sklearn.tree import DecisionTreeClassifier\n",
    "from sklearn.metrics import roc_curve, auc\n",
    "\n",
    "# Load binary classification dataset\n",
    "data = load_breast_cancer()\n",
    "X_train, X_test, y_train, y_test = train_test_split(data.data, data.target, test_size=0.3, random_state=42)\n",
    "\n",
    "# Create pipeline with preprocessing and model\n",
    "pipeline = Pipeline([\n",
    "    ('scaler', StandardScaler()),\n",
    "    ('classifier', DecisionTreeClassifier(random_state=42, max_depth=2))\n",
    "])\n",
    "\n",
    "# Train the pipeline\n",
    "pipeline.fit(X_train, y_train)\n",
    "\n",
    "# Get predictions and probabilities\n",
    "y_pred = pipeline.predict(X_test)\n",
    "y_pred_proba = pipeline.predict_proba(X_test)[:,1]\n",
    "\n",
    "# Calculate accuracy\n",
    "accuracy = pipeline.score(X_test, y_test)\n",
    "print(f\"Accuracy: {accuracy:.2f}\")\n",
    "\n",
    "# Calculate ROC curve and AUC\n",
    "fpr, tpr, _ = roc_curve(y_test, y_pred_proba)\n",
    "roc_auc = auc(fpr, tpr)\n",
    "print(f\"AUC: {roc_auc:.2f}\")\n"
   ]
  },
  {
   "cell_type": "code",
   "execution_count": 59,
   "metadata": {},
   "outputs": [
    {
     "name": "stdout",
     "output_type": "stream",
     "text": [
      "Epoch 1/50\n"
     ]
    },
    {
     "name": "stderr",
     "output_type": "stream",
     "text": [
      "/Users/alex/pro/zazencodes-courses/ai-engineer-roadmap/venv/lib/python3.12/site-packages/keras/src/layers/core/dense.py:87: UserWarning: Do not pass an `input_shape`/`input_dim` argument to a layer. When using Sequential models, prefer using an `Input(shape)` object as the first layer in the model instead.\n",
      "  super().__init__(activity_regularizer=activity_regularizer, **kwargs)\n"
     ]
    },
    {
     "name": "stdout",
     "output_type": "stream",
     "text": [
      "\u001b[1m32/32\u001b[0m \u001b[32m━━━━━━━━━━━━━━━━━━━━\u001b[0m\u001b[37m\u001b[0m \u001b[1m1s\u001b[0m 4ms/step - accuracy: 0.1682 - loss: 2.2537 - val_accuracy: 0.6429 - val_loss: 1.8672\n",
      "Epoch 2/50\n",
      "\u001b[1m32/32\u001b[0m \u001b[32m━━━━━━━━━━━━━━━━━━━━\u001b[0m\u001b[37m\u001b[0m \u001b[1m0s\u001b[0m 2ms/step - accuracy: 0.5470 - loss: 1.7558 - val_accuracy: 0.8135 - val_loss: 1.1754\n",
      "Epoch 3/50\n",
      "\u001b[1m32/32\u001b[0m \u001b[32m━━━━━━━━━━━━━━━━━━━━\u001b[0m\u001b[37m\u001b[0m \u001b[1m0s\u001b[0m 2ms/step - accuracy: 0.6917 - loss: 1.1537 - val_accuracy: 0.8492 - val_loss: 0.6781\n",
      "Epoch 4/50\n",
      "\u001b[1m32/32\u001b[0m \u001b[32m━━━━━━━━━━━━━━━━━━━━\u001b[0m\u001b[37m\u001b[0m \u001b[1m0s\u001b[0m 2ms/step - accuracy: 0.8122 - loss: 0.6883 - val_accuracy: 0.8929 - val_loss: 0.4659\n",
      "Epoch 5/50\n",
      "\u001b[1m32/32\u001b[0m \u001b[32m━━━━━━━━━━━━━━━━━━━━\u001b[0m\u001b[37m\u001b[0m \u001b[1m0s\u001b[0m 2ms/step - accuracy: 0.8574 - loss: 0.5049 - val_accuracy: 0.9087 - val_loss: 0.3676\n",
      "Epoch 6/50\n",
      "\u001b[1m32/32\u001b[0m \u001b[32m━━━━━━━━━━━━━━━━━━━━\u001b[0m\u001b[37m\u001b[0m \u001b[1m0s\u001b[0m 2ms/step - accuracy: 0.8984 - loss: 0.3974 - val_accuracy: 0.9246 - val_loss: 0.2935\n",
      "Epoch 7/50\n",
      "\u001b[1m32/32\u001b[0m \u001b[32m━━━━━━━━━━━━━━━━━━━━\u001b[0m\u001b[37m\u001b[0m \u001b[1m0s\u001b[0m 2ms/step - accuracy: 0.8955 - loss: 0.3478 - val_accuracy: 0.9087 - val_loss: 0.2755\n",
      "Epoch 8/50\n",
      "\u001b[1m32/32\u001b[0m \u001b[32m━━━━━━━━━━━━━━━━━━━━\u001b[0m\u001b[37m\u001b[0m \u001b[1m0s\u001b[0m 2ms/step - accuracy: 0.9283 - loss: 0.3010 - val_accuracy: 0.9286 - val_loss: 0.2362\n",
      "Epoch 9/50\n",
      "\u001b[1m32/32\u001b[0m \u001b[32m━━━━━━━━━━━━━━━━━━━━\u001b[0m\u001b[37m\u001b[0m \u001b[1m0s\u001b[0m 2ms/step - accuracy: 0.9260 - loss: 0.2575 - val_accuracy: 0.9325 - val_loss: 0.2304\n",
      "Epoch 10/50\n",
      "\u001b[1m32/32\u001b[0m \u001b[32m━━━━━━━━━━━━━━━━━━━━\u001b[0m\u001b[37m\u001b[0m \u001b[1m0s\u001b[0m 2ms/step - accuracy: 0.9355 - loss: 0.2302 - val_accuracy: 0.9286 - val_loss: 0.2173\n",
      "Epoch 11/50\n",
      "\u001b[1m32/32\u001b[0m \u001b[32m━━━━━━━━━━━━━━━━━━━━\u001b[0m\u001b[37m\u001b[0m \u001b[1m0s\u001b[0m 2ms/step - accuracy: 0.9284 - loss: 0.2233 - val_accuracy: 0.9405 - val_loss: 0.1984\n",
      "Epoch 12/50\n",
      "\u001b[1m32/32\u001b[0m \u001b[32m━━━━━━━━━━━━━━━━━━━━\u001b[0m\u001b[37m\u001b[0m \u001b[1m0s\u001b[0m 3ms/step - accuracy: 0.9532 - loss: 0.1861 - val_accuracy: 0.9365 - val_loss: 0.2084\n",
      "Epoch 13/50\n",
      "\u001b[1m32/32\u001b[0m \u001b[32m━━━━━━━━━━━━━━━━━━━━\u001b[0m\u001b[37m\u001b[0m \u001b[1m0s\u001b[0m 2ms/step - accuracy: 0.9307 - loss: 0.2078 - val_accuracy: 0.9325 - val_loss: 0.2064\n",
      "Epoch 14/50\n",
      "\u001b[1m32/32\u001b[0m \u001b[32m━━━━━━━━━━━━━━━━━━━━\u001b[0m\u001b[37m\u001b[0m \u001b[1m0s\u001b[0m 2ms/step - accuracy: 0.9682 - loss: 0.1373 - val_accuracy: 0.9405 - val_loss: 0.1744\n",
      "Epoch 15/50\n",
      "\u001b[1m32/32\u001b[0m \u001b[32m━━━━━━━━━━━━━━━━━━━━\u001b[0m\u001b[37m\u001b[0m \u001b[1m0s\u001b[0m 2ms/step - accuracy: 0.9507 - loss: 0.1529 - val_accuracy: 0.9484 - val_loss: 0.1744\n",
      "Epoch 16/50\n",
      "\u001b[1m32/32\u001b[0m \u001b[32m━━━━━━━━━━━━━━━━━━━━\u001b[0m\u001b[37m\u001b[0m \u001b[1m0s\u001b[0m 2ms/step - accuracy: 0.9758 - loss: 0.1250 - val_accuracy: 0.9325 - val_loss: 0.1660\n",
      "Epoch 17/50\n",
      "\u001b[1m32/32\u001b[0m \u001b[32m━━━━━━━━━━━━━━━━━━━━\u001b[0m\u001b[37m\u001b[0m \u001b[1m0s\u001b[0m 2ms/step - accuracy: 0.9643 - loss: 0.1255 - val_accuracy: 0.9484 - val_loss: 0.1733\n",
      "Epoch 18/50\n",
      "\u001b[1m32/32\u001b[0m \u001b[32m━━━━━━━━━━━━━━━━━━━━\u001b[0m\u001b[37m\u001b[0m \u001b[1m0s\u001b[0m 2ms/step - accuracy: 0.9739 - loss: 0.1101 - val_accuracy: 0.9405 - val_loss: 0.1609\n",
      "Epoch 19/50\n",
      "\u001b[1m32/32\u001b[0m \u001b[32m━━━━━━━━━━━━━━━━━━━━\u001b[0m\u001b[37m\u001b[0m \u001b[1m0s\u001b[0m 2ms/step - accuracy: 0.9566 - loss: 0.1358 - val_accuracy: 0.9405 - val_loss: 0.1778\n",
      "Epoch 20/50\n",
      "\u001b[1m32/32\u001b[0m \u001b[32m━━━━━━━━━━━━━━━━━━━━\u001b[0m\u001b[37m\u001b[0m \u001b[1m0s\u001b[0m 2ms/step - accuracy: 0.9687 - loss: 0.1101 - val_accuracy: 0.9444 - val_loss: 0.1759\n",
      "Epoch 21/50\n",
      "\u001b[1m32/32\u001b[0m \u001b[32m━━━━━━━━━━━━━━━━━━━━\u001b[0m\u001b[37m\u001b[0m \u001b[1m0s\u001b[0m 2ms/step - accuracy: 0.9801 - loss: 0.0828 - val_accuracy: 0.9365 - val_loss: 0.1659\n",
      "Epoch 22/50\n",
      "\u001b[1m32/32\u001b[0m \u001b[32m━━━━━━━━━━━━━━━━━━━━\u001b[0m\u001b[37m\u001b[0m \u001b[1m0s\u001b[0m 2ms/step - accuracy: 0.9808 - loss: 0.0813 - val_accuracy: 0.9405 - val_loss: 0.1542\n",
      "Epoch 23/50\n",
      "\u001b[1m32/32\u001b[0m \u001b[32m━━━━━━━━━━━━━━━━━━━━\u001b[0m\u001b[37m\u001b[0m \u001b[1m0s\u001b[0m 2ms/step - accuracy: 0.9795 - loss: 0.0831 - val_accuracy: 0.9365 - val_loss: 0.1659\n",
      "Epoch 24/50\n",
      "\u001b[1m32/32\u001b[0m \u001b[32m━━━━━━━━━━━━━━━━━━━━\u001b[0m\u001b[37m\u001b[0m \u001b[1m0s\u001b[0m 2ms/step - accuracy: 0.9733 - loss: 0.0957 - val_accuracy: 0.9444 - val_loss: 0.1666\n",
      "Epoch 25/50\n",
      "\u001b[1m32/32\u001b[0m \u001b[32m━━━━━━━━━━━━━━━━━━━━\u001b[0m\u001b[37m\u001b[0m \u001b[1m0s\u001b[0m 2ms/step - accuracy: 0.9733 - loss: 0.0865 - val_accuracy: 0.9444 - val_loss: 0.1542\n",
      "Epoch 26/50\n",
      "\u001b[1m32/32\u001b[0m \u001b[32m━━━━━━━━━━━━━━━━━━━━\u001b[0m\u001b[37m\u001b[0m \u001b[1m0s\u001b[0m 2ms/step - accuracy: 0.9859 - loss: 0.0580 - val_accuracy: 0.9484 - val_loss: 0.1547\n",
      "Epoch 27/50\n",
      "\u001b[1m32/32\u001b[0m \u001b[32m━━━━━━━━━━━━━━━━━━━━\u001b[0m\u001b[37m\u001b[0m \u001b[1m0s\u001b[0m 2ms/step - accuracy: 0.9807 - loss: 0.0783 - val_accuracy: 0.9484 - val_loss: 0.1460\n",
      "Epoch 28/50\n",
      "\u001b[1m32/32\u001b[0m \u001b[32m━━━━━━━━━━━━━━━━━━━━\u001b[0m\u001b[37m\u001b[0m \u001b[1m0s\u001b[0m 2ms/step - accuracy: 0.9803 - loss: 0.0730 - val_accuracy: 0.9444 - val_loss: 0.1516\n",
      "Epoch 29/50\n",
      "\u001b[1m32/32\u001b[0m \u001b[32m━━━━━━━━━━━━━━━━━━━━\u001b[0m\u001b[37m\u001b[0m \u001b[1m0s\u001b[0m 2ms/step - accuracy: 0.9842 - loss: 0.0628 - val_accuracy: 0.9524 - val_loss: 0.1634\n",
      "Epoch 30/50\n",
      "\u001b[1m32/32\u001b[0m \u001b[32m━━━━━━━━━━━━━━━━━━━━\u001b[0m\u001b[37m\u001b[0m \u001b[1m0s\u001b[0m 2ms/step - accuracy: 0.9898 - loss: 0.0558 - val_accuracy: 0.9405 - val_loss: 0.1553\n",
      "Epoch 31/50\n",
      "\u001b[1m32/32\u001b[0m \u001b[32m━━━━━━━━━━━━━━━━━━━━\u001b[0m\u001b[37m\u001b[0m \u001b[1m0s\u001b[0m 2ms/step - accuracy: 0.9843 - loss: 0.0554 - val_accuracy: 0.9524 - val_loss: 0.1456\n",
      "Epoch 32/50\n",
      "\u001b[1m32/32\u001b[0m \u001b[32m━━━━━━━━━━━━━━━━━━━━\u001b[0m\u001b[37m\u001b[0m \u001b[1m0s\u001b[0m 2ms/step - accuracy: 0.9730 - loss: 0.0767 - val_accuracy: 0.9405 - val_loss: 0.1450\n",
      "Epoch 33/50\n",
      "\u001b[1m32/32\u001b[0m \u001b[32m━━━━━━━━━━━━━━━━━━━━\u001b[0m\u001b[37m\u001b[0m \u001b[1m0s\u001b[0m 2ms/step - accuracy: 0.9943 - loss: 0.0442 - val_accuracy: 0.9524 - val_loss: 0.1568\n",
      "Epoch 34/50\n",
      "\u001b[1m32/32\u001b[0m \u001b[32m━━━━━━━━━━━━━━━━━━━━\u001b[0m\u001b[37m\u001b[0m \u001b[1m0s\u001b[0m 2ms/step - accuracy: 0.9852 - loss: 0.0439 - val_accuracy: 0.9484 - val_loss: 0.1467\n",
      "Epoch 35/50\n",
      "\u001b[1m32/32\u001b[0m \u001b[32m━━━━━━━━━━━━━━━━━━━━\u001b[0m\u001b[37m\u001b[0m \u001b[1m0s\u001b[0m 2ms/step - accuracy: 0.9817 - loss: 0.0637 - val_accuracy: 0.9444 - val_loss: 0.1360\n",
      "Epoch 36/50\n",
      "\u001b[1m32/32\u001b[0m \u001b[32m━━━━━━━━━━━━━━━━━━━━\u001b[0m\u001b[37m\u001b[0m \u001b[1m0s\u001b[0m 2ms/step - accuracy: 0.9837 - loss: 0.0539 - val_accuracy: 0.9524 - val_loss: 0.1422\n",
      "Epoch 37/50\n",
      "\u001b[1m32/32\u001b[0m \u001b[32m━━━━━━━━━━━━━━━━━━━━\u001b[0m\u001b[37m\u001b[0m \u001b[1m0s\u001b[0m 2ms/step - accuracy: 0.9787 - loss: 0.0607 - val_accuracy: 0.9444 - val_loss: 0.1424\n",
      "Epoch 38/50\n",
      "\u001b[1m32/32\u001b[0m \u001b[32m━━━━━━━━━━━━━━━━━━━━\u001b[0m\u001b[37m\u001b[0m \u001b[1m0s\u001b[0m 2ms/step - accuracy: 0.9826 - loss: 0.0592 - val_accuracy: 0.9603 - val_loss: 0.1297\n",
      "Epoch 39/50\n",
      "\u001b[1m32/32\u001b[0m \u001b[32m━━━━━━━━━━━━━━━━━━━━\u001b[0m\u001b[37m\u001b[0m \u001b[1m0s\u001b[0m 2ms/step - accuracy: 0.9887 - loss: 0.0507 - val_accuracy: 0.9603 - val_loss: 0.1287\n",
      "Epoch 40/50\n",
      "\u001b[1m32/32\u001b[0m \u001b[32m━━━━━━━━━━━━━━━━━━━━\u001b[0m\u001b[37m\u001b[0m \u001b[1m0s\u001b[0m 2ms/step - accuracy: 0.9859 - loss: 0.0544 - val_accuracy: 0.9524 - val_loss: 0.1284\n",
      "Epoch 41/50\n",
      "\u001b[1m32/32\u001b[0m \u001b[32m━━━━━━━━━━━━━━━━━━━━\u001b[0m\u001b[37m\u001b[0m \u001b[1m0s\u001b[0m 2ms/step - accuracy: 0.9872 - loss: 0.0479 - val_accuracy: 0.9524 - val_loss: 0.1276\n",
      "Epoch 42/50\n",
      "\u001b[1m32/32\u001b[0m \u001b[32m━━━━━━━━━━━━━━━━━━━━\u001b[0m\u001b[37m\u001b[0m \u001b[1m0s\u001b[0m 2ms/step - accuracy: 0.9899 - loss: 0.0448 - val_accuracy: 0.9484 - val_loss: 0.1352\n",
      "Epoch 43/50\n",
      "\u001b[1m32/32\u001b[0m \u001b[32m━━━━━━━━━━━━━━━━━━━━\u001b[0m\u001b[37m\u001b[0m \u001b[1m0s\u001b[0m 2ms/step - accuracy: 0.9946 - loss: 0.0397 - val_accuracy: 0.9405 - val_loss: 0.1446\n",
      "Epoch 44/50\n",
      "\u001b[1m32/32\u001b[0m \u001b[32m━━━━━━━━━━━━━━━━━━━━\u001b[0m\u001b[37m\u001b[0m \u001b[1m0s\u001b[0m 2ms/step - accuracy: 0.9901 - loss: 0.0336 - val_accuracy: 0.9524 - val_loss: 0.1386\n",
      "Epoch 45/50\n",
      "\u001b[1m32/32\u001b[0m \u001b[32m━━━━━━━━━━━━━━━━━━━━\u001b[0m\u001b[37m\u001b[0m \u001b[1m0s\u001b[0m 2ms/step - accuracy: 0.9919 - loss: 0.0334 - val_accuracy: 0.9563 - val_loss: 0.1220\n",
      "Epoch 46/50\n",
      "\u001b[1m32/32\u001b[0m \u001b[32m━━━━━━━━━━━━━━━━━━━━\u001b[0m\u001b[37m\u001b[0m \u001b[1m0s\u001b[0m 2ms/step - accuracy: 0.9912 - loss: 0.0327 - val_accuracy: 0.9484 - val_loss: 0.1476\n",
      "Epoch 47/50\n",
      "\u001b[1m32/32\u001b[0m \u001b[32m━━━━━━━━━━━━━━━━━━━━\u001b[0m\u001b[37m\u001b[0m \u001b[1m0s\u001b[0m 3ms/step - accuracy: 0.9909 - loss: 0.0329 - val_accuracy: 0.9603 - val_loss: 0.1332\n",
      "Epoch 48/50\n",
      "\u001b[1m32/32\u001b[0m \u001b[32m━━━━━━━━━━━━━━━━━━━━\u001b[0m\u001b[37m\u001b[0m \u001b[1m0s\u001b[0m 2ms/step - accuracy: 0.9892 - loss: 0.0312 - val_accuracy: 0.9484 - val_loss: 0.1351\n",
      "Epoch 49/50\n",
      "\u001b[1m32/32\u001b[0m \u001b[32m━━━━━━━━━━━━━━━━━━━━\u001b[0m\u001b[37m\u001b[0m \u001b[1m0s\u001b[0m 2ms/step - accuracy: 0.9954 - loss: 0.0214 - val_accuracy: 0.9444 - val_loss: 0.1378\n",
      "Epoch 50/50\n",
      "\u001b[1m32/32\u001b[0m \u001b[32m━━━━━━━━━━━━━━━━━━━━\u001b[0m\u001b[37m\u001b[0m \u001b[1m0s\u001b[0m 2ms/step - accuracy: 0.9849 - loss: 0.0376 - val_accuracy: 0.9603 - val_loss: 0.1247\n",
      "Test accuracy: 0.976\n",
      "\u001b[1m17/17\u001b[0m \u001b[32m━━━━━━━━━━━━━━━━━━━━\u001b[0m\u001b[37m\u001b[0m \u001b[1m0s\u001b[0m 2ms/step \n",
      "Sample prediction classes:\n",
      "Prediction: 6, Actual: 6\n",
      "Prediction: 9, Actual: 9\n",
      "Prediction: 3, Actual: 3\n",
      "Prediction: 7, Actual: 7\n",
      "Prediction: 2, Actual: 2\n",
      "Prediction: 1, Actual: 1\n",
      "Prediction: 5, Actual: 5\n",
      "Prediction: 2, Actual: 2\n",
      "Prediction: 5, Actual: 5\n",
      "Prediction: 2, Actual: 2\n",
      "Prediction: 1, Actual: 1\n",
      "Prediction: 9, Actual: 9\n",
      "Prediction: 4, Actual: 4\n",
      "Prediction: 0, Actual: 0\n",
      "Prediction: 4, Actual: 4\n"
     ]
    }
   ],
   "source": [
    "import tensorflow as tf\n",
    "from sklearn.datasets import load_digits\n",
    "from sklearn.model_selection import train_test_split\n",
    "import numpy as np\n",
    "\n",
    "# Load and preprocess data\n",
    "digits = load_digits()\n",
    "X = digits.data.astype('float32') / 16.0  # Normalize data\n",
    "y = tf.keras.utils.to_categorical(digits.target, 10)  # One-hot encode labels\n",
    "\n",
    "# Split the data\n",
    "X_train, X_test, y_train, y_test = train_test_split(X, y, test_size=0.3, random_state=42)\n",
    "\n",
    "# Build the model\n",
    "model = tf.keras.Sequential([\n",
    "    tf.keras.layers.Dense(128, activation='relu', input_shape=(64,)),\n",
    "    tf.keras.layers.Dropout(0.2),\n",
    "    tf.keras.layers.Dense(64, activation='relu'),\n",
    "    tf.keras.layers.Dropout(0.2),\n",
    "    tf.keras.layers.Dense(10, activation='softmax')\n",
    "])\n",
    "\n",
    "# Compile the model\n",
    "model.compile(\n",
    "    optimizer='adam',\n",
    "    loss='categorical_crossentropy',\n",
    "    metrics=['accuracy'],\n",
    ")\n",
    "\n",
    "# Train the model\n",
    "history = model.fit(\n",
    "    X_train,\n",
    "    y_train,\n",
    "    batch_size=32,\n",
    "    epochs=50,\n",
    "    validation_split=0.2,\n",
    "    verbose=1,\n",
    ")\n",
    "\n",
    "# Evaluate the model\n",
    "test_loss, test_accuracy = model.evaluate(X_test, y_test, verbose=0)\n",
    "print(f'Test accuracy: {test_accuracy:.3f}')\n",
    "\n",
    "# Make predictions\n",
    "predictions = model.predict(X_test)\n",
    "predicted_classes = np.argmax(predictions, axis=1)\n",
    "print(\"Sample prediction classes:\")\n",
    "for i in range(15):\n",
    "    print(f\"Prediction: {predicted_classes[i]}, Actual: {np.argmax(y_test[i])}\")\n"
   ]
  },
  {
   "cell_type": "code",
   "execution_count": 1,
   "metadata": {},
   "outputs": [
    {
     "name": "stdout",
     "output_type": "stream",
     "text": [
      "Epoch 1/50, Train Loss: 2.2110, Train Acc: 0.2876, Val Loss: 2.0519, Val Acc: 0.5079\n",
      "Epoch 6/50, Train Loss: 0.4684, Train Acc: 0.8726, Val Loss: 0.4079, Val Acc: 0.9008\n",
      "Epoch 11/50, Train Loss: 0.2408, Train Acc: 0.9284, Val Loss: 0.2429, Val Acc: 0.9444\n",
      "Epoch 16/50, Train Loss: 0.1555, Train Acc: 0.9602, Val Loss: 0.2006, Val Acc: 0.9325\n",
      "Epoch 21/50, Train Loss: 0.1237, Train Acc: 0.9632, Val Loss: 0.1611, Val Acc: 0.9524\n",
      "Epoch 26/50, Train Loss: 0.0977, Train Acc: 0.9721, Val Loss: 0.1425, Val Acc: 0.9484\n",
      "Epoch 31/50, Train Loss: 0.0837, Train Acc: 0.9692, Val Loss: 0.1255, Val Acc: 0.9603\n",
      "Epoch 36/50, Train Loss: 0.0597, Train Acc: 0.9821, Val Loss: 0.1124, Val Acc: 0.9643\n",
      "Epoch 41/50, Train Loss: 0.0480, Train Acc: 0.9881, Val Loss: 0.1341, Val Acc: 0.9563\n",
      "Epoch 46/50, Train Loss: 0.0397, Train Acc: 0.9891, Val Loss: 0.1160, Val Acc: 0.9643\n",
      "Epoch 50/50, Train Loss: 0.0339, Train Acc: 0.9920, Val Loss: 0.1333, Val Acc: 0.9484\n",
      "Test accuracy: 0.967\n",
      "Sample prediction classes:\n",
      "Prediction: 6, Actual: 6\n",
      "Prediction: 9, Actual: 9\n",
      "Prediction: 3, Actual: 3\n",
      "Prediction: 7, Actual: 7\n",
      "Prediction: 2, Actual: 2\n",
      "Prediction: 2, Actual: 1\n",
      "Prediction: 5, Actual: 5\n",
      "Prediction: 2, Actual: 2\n",
      "Prediction: 5, Actual: 5\n",
      "Prediction: 2, Actual: 2\n",
      "Prediction: 1, Actual: 1\n",
      "Prediction: 8, Actual: 9\n",
      "Prediction: 4, Actual: 4\n",
      "Prediction: 0, Actual: 0\n",
      "Prediction: 4, Actual: 4\n"
     ]
    }
   ],
   "source": [
    "import torch\n",
    "import torch.nn as nn\n",
    "import torch.optim as optim\n",
    "from torch.utils.data import DataLoader, TensorDataset\n",
    "from sklearn.datasets import load_digits\n",
    "from sklearn.model_selection import train_test_split\n",
    "import numpy as np\n",
    "\n",
    "# Load and preprocess data\n",
    "digits = load_digits()\n",
    "X = digits.data.astype('float32') / 16.0\n",
    "y = digits.target\n",
    "\n",
    "# Split the data\n",
    "X_train, X_test, y_train, y_test = train_test_split(X, y, test_size=0.3, random_state=42)\n",
    "\n",
    "# Convert to PyTorch tensors and create datasets\n",
    "train_dataset = TensorDataset(torch.FloatTensor(X_train), torch.LongTensor(y_train))\n",
    "test_dataset = TensorDataset(torch.FloatTensor(X_test), torch.LongTensor(y_test))\n",
    "\n",
    "# Split training data for validation (20%)\n",
    "train_size = int(0.8 * len(train_dataset))\n",
    "val_size = len(train_dataset) - train_size\n",
    "train_subset, val_subset = torch.utils.data.random_split(train_dataset, [train_size, val_size])\n",
    "\n",
    "# Create dataloaders\n",
    "train_loader = DataLoader(train_subset, batch_size=32, shuffle=True)\n",
    "val_loader = DataLoader(val_subset, batch_size=32)\n",
    "test_loader = DataLoader(test_dataset, batch_size=32)\n",
    "\n",
    "# Define the model\n",
    "model = nn.Sequential(\n",
    "    nn.Linear(64, 128),\n",
    "    nn.ReLU(),\n",
    "    nn.Dropout(0.2),\n",
    "    nn.Linear(128, 64),\n",
    "    nn.ReLU(),\n",
    "    nn.Dropout(0.2),\n",
    "    nn.Linear(64, 10)\n",
    ")\n",
    "\n",
    "# Define loss function and optimizer\n",
    "criterion = nn.CrossEntropyLoss()\n",
    "optimizer = optim.Adam(model.parameters())\n",
    "\n",
    "# Training function\n",
    "def train_epoch(model, loader, optimizer, criterion):\n",
    "    model.train()\n",
    "    running_loss = 0.0\n",
    "    correct = 0\n",
    "    total = 0\n",
    "    \n",
    "    for inputs, labels in loader:\n",
    "        optimizer.zero_grad()\n",
    "        outputs = model(inputs)\n",
    "        loss = criterion(outputs, labels)\n",
    "        loss.backward()\n",
    "        optimizer.step()\n",
    "        \n",
    "        running_loss += loss.item()\n",
    "        _, predicted = torch.max(outputs, 1)\n",
    "        total += labels.size(0)\n",
    "        correct += (predicted == labels).sum().item()\n",
    "    \n",
    "    return running_loss/len(loader), correct/total\n",
    "\n",
    "# Evaluation function\n",
    "def evaluate(model, loader, criterion):\n",
    "    model.eval()\n",
    "    running_loss = 0.0\n",
    "    correct = 0\n",
    "    total = 0\n",
    "    \n",
    "    with torch.no_grad():\n",
    "        for inputs, labels in loader:\n",
    "            outputs = model(inputs)\n",
    "            loss = criterion(outputs, labels)\n",
    "            running_loss += loss.item()\n",
    "            _, predicted = torch.max(outputs, 1)\n",
    "            total += labels.size(0)\n",
    "            correct += (predicted == labels).sum().item()\n",
    "    \n",
    "    return running_loss/len(loader), correct/total\n",
    "\n",
    "# Training loop\n",
    "for epoch in range(50):\n",
    "    train_loss, train_acc = train_epoch(model, train_loader, optimizer, criterion)\n",
    "    val_loss, val_acc = evaluate(model, val_loader, criterion)\n",
    "    \n",
    "    if epoch % 5 == 0 or epoch == 49:  # Print only every 5 epochs to reduce verbosity\n",
    "        print(f'Epoch {epoch+1}/50, Train Loss: {train_loss:.4f}, Train Acc: {train_acc:.4f}, '\n",
    "              f'Val Loss: {val_loss:.4f}, Val Acc: {val_acc:.4f}')\n",
    "\n",
    "# Test the model\n",
    "test_loss, test_acc = evaluate(model, test_loader, criterion)\n",
    "print(f'Test accuracy: {test_acc:.3f}')\n",
    "\n",
    "# Make predictions on test data\n",
    "model.eval()\n",
    "predictions = []\n",
    "true_labels = []\n",
    "\n",
    "with torch.no_grad():\n",
    "    for inputs, labels in test_loader:\n",
    "        outputs = model(inputs)\n",
    "        _, preds = torch.max(outputs, 1)\n",
    "        predictions.extend(preds.cpu().numpy())\n",
    "        true_labels.extend(labels.cpu().numpy())\n",
    "\n",
    "# Print sample predictions\n",
    "print(\"Sample prediction classes:\")\n",
    "for i in range(15):\n",
    "    print(f\"Prediction: {predictions[i]}, Actual: {true_labels[i]}\")"
   ]
  },
  {
   "cell_type": "code",
   "execution_count": 3,
   "metadata": {},
   "outputs": [
    {
     "name": "stderr",
     "output_type": "stream",
     "text": [
      "\u001b[31m2025/02/27 10:00:44 WARNING mlflow.models.model: Model logged without a signature and input example. Please set `input_example` parameter when logging the model to auto infer the model signature.\u001b[0m\n"
     ]
    },
    {
     "name": "stdout",
     "output_type": "stream",
     "text": [
      "Model logged with accuracy: 0.91\n"
     ]
    }
   ],
   "source": [
    "import mlflow\n",
    "import mlflow.sklearn\n",
    "from sklearn.ensemble import RandomForestClassifier\n",
    "from sklearn.datasets import load_iris\n",
    "from sklearn.model_selection import train_test_split\n",
    "\n",
    "# Load dataset\n",
    "data = load_iris()\n",
    "X_train, X_test, y_train, y_test = train_test_split(data.data, data.target, test_size=0.3)\n",
    "\n",
    "# Start an MLflow experiment\n",
    "with mlflow.start_run():\n",
    "    # Train a model\n",
    "    clf = RandomForestClassifier(n_estimators=100)\n",
    "    clf.fit(X_train, y_train)\n",
    "\n",
    "    # Log metrics and model\n",
    "    accuracy = clf.score(X_test, y_test)\n",
    "    mlflow.log_metric(\"accuracy\", accuracy)\n",
    "    mlflow.sklearn.log_model(clf, \"model\")\n",
    "\n",
    "    print(f\"Model logged with accuracy: {accuracy:.2f}\")\n"
   ]
  },
  {
   "cell_type": "code",
   "execution_count": null,
   "metadata": {},
   "outputs": [
    {
     "name": "stderr",
     "output_type": "stream",
     "text": [
      "\u001b[34m\u001b[1mwandb\u001b[0m: Using wandb-core as the SDK backend.  Please refer to https://wandb.me/wandb-core for more information.\n",
      "\u001b[34m\u001b[1mwandb\u001b[0m: Logging into wandb.ai. (Learn how to deploy a W&B server locally: https://wandb.me/wandb-server)\n",
      "\u001b[34m\u001b[1mwandb\u001b[0m: You can find your API key in your browser here: https://wandb.ai/authorize\n",
      "\u001b[34m\u001b[1mwandb\u001b[0m: Paste an API key from your profile and hit enter:"
     ]
    }
   ],
   "source": [
    "import wandb\n",
    "import torch\n",
    "import torch.nn as nn\n",
    "import torch.optim as optim\n",
    "\n",
    "# Initialize a W&B run\n",
    "wandb.init(project=\"mlops-example\")\n",
    "\n",
    "# Define a simple model\n",
    "class SimpleModel(nn.Module):\n",
    "    def __init__(self):\n",
    "        super(SimpleModel, self).__init__()\n",
    "        self.fc1 = nn.Linear(784, 128)\n",
    "        self.fc2 = nn.Linear(128, 10)\n",
    "\n",
    "    def forward(self, x):\n",
    "        x = torch.relu(self.fc1(x))\n",
    "        return torch.softmax(self.fc2(x), dim=1)\n",
    "\n",
    "model = SimpleModel()\n",
    "\n",
    "# Log hyperparameters\n",
    "config = {\"learning_rate\": 0.001, \"epochs\": 5}\n",
    "wandb.config.update(config)\n",
    "\n",
    "# Define loss and optimizer\n",
    "criterion = nn.CrossEntropyLoss()\n",
    "optimizer = optim.Adam(model.parameters(), lr=config[\"learning_rate\"])\n"
   ]
  },
  {
   "cell_type": "code",
   "execution_count": null,
   "metadata": {},
   "outputs": [],
   "source": []
  }
 ],
 "metadata": {
  "kernelspec": {
   "display_name": "venv",
   "language": "python",
   "name": "python3"
  },
  "language_info": {
   "codemirror_mode": {
    "name": "ipython",
    "version": 3
   },
   "file_extension": ".py",
   "mimetype": "text/x-python",
   "name": "python",
   "nbconvert_exporter": "python",
   "pygments_lexer": "ipython3",
   "version": "3.12.7"
  }
 },
 "nbformat": 4,
 "nbformat_minor": 2
}
