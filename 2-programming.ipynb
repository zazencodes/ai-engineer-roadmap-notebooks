{
 "cells": [
  {
   "cell_type": "markdown",
   "metadata": {},
   "source": [
    "# AI Engineer Roadmap\n",
    "## Programming\n",
    "### https://zazencodes.com/courses/ai-engineer-roadmap#programming"
   ]
  },
  {
   "cell_type": "code",
   "execution_count": 1,
   "metadata": {},
   "outputs": [
    {
     "name": "stdout",
     "output_type": "stream",
     "text": [
      "Jobs: ['AI Engineer', 'Dad'], Age: 35, Accuracy: 89.8, Successful: sometimes\n"
     ]
    }
   ],
   "source": [
    "# Define variables\n",
    "jobs = \"AI Engineer, Dad\"   # String\n",
    "age = 35                    # Integer\n",
    "accuracy = 89.8             # Float\n",
    "is_successful = True        # Boolean\n",
    "\n",
    "# Change data types\n",
    "jobs = [\"AI Engineer\", \"Dad\"]\n",
    "is_successful = \"sometimes\"\n",
    "\n",
    "print(f\"Jobs: {jobs}, Age: {age}, Accuracy: {accuracy}, Successful: {is_successful}\")\n"
   ]
  },
  {
   "cell_type": "code",
   "execution_count": 2,
   "metadata": {},
   "outputs": [
    {
     "name": "stdout",
     "output_type": "stream",
     "text": [
      "Linear Regression\n"
     ]
    }
   ],
   "source": [
    "# Example of a list\n",
    "models = [\"Linear Regression\", \"Decision Tree\", \"Neural Network\"]\n",
    "\n",
    "print(models[0])  # Access first item"
   ]
  },
  {
   "cell_type": "code",
   "execution_count": null,
   "metadata": {},
   "outputs": [
    {
     "name": "stdout",
     "output_type": "stream",
     "text": [
      "0.95\n"
     ]
    }
   ],
   "source": [
    "# Example of a dictionary\n",
    "model_metrics = {\"accuracy\": 0.95, \"precision\": 0.89}\n",
    "\n",
    "print(model_metrics[\"accuracy\"])  # Access value by key"
   ]
  },
  {
   "cell_type": "code",
   "execution_count": 4,
   "metadata": {},
   "outputs": [
    {
     "name": "stdout",
     "output_type": "stream",
     "text": [
      "True\n"
     ]
    }
   ],
   "source": [
    "# Example of a set\n",
    "unique_labels = {\"cat\", \"dog\", \"mouse\", \"cat\"}\n",
    "\n",
    "print(\"dog\" in unique_labels)"
   ]
  },
  {
   "cell_type": "code",
   "execution_count": 5,
   "metadata": {},
   "outputs": [
    {
     "name": "stdout",
     "output_type": "stream",
     "text": [
      "Moderate accuracy.\n"
     ]
    }
   ],
   "source": [
    "accuracy = 0.87\n",
    "if accuracy > 0.9:\n",
    "    print(\"High accuracy!\")\n",
    "elif accuracy > 0.8:\n",
    "    print(\"Moderate accuracy.\")\n",
    "else:\n",
    "    print(\"Needs improvement.\")\n"
   ]
  },
  {
   "cell_type": "code",
   "execution_count": 6,
   "metadata": {},
   "outputs": [
    {
     "name": "stdout",
     "output_type": "stream",
     "text": [
      "Training: Linear Regression\n",
      "Training: Decision Tree\n",
      "Training: Neural Network\n"
     ]
    }
   ],
   "source": [
    "# Looping through a list\n",
    "for model in models:\n",
    "    print(f\"Training: {model}\")\n"
   ]
  },
  {
   "cell_type": "code",
   "execution_count": 7,
   "metadata": {},
   "outputs": [
    {
     "name": "stdout",
     "output_type": "stream",
     "text": [
      "Metric: accuracy\n",
      "Metric: precision\n",
      "Score: 0.95\n",
      "Score: 0.89\n",
      "accuracy: 0.95\n",
      "precision: 0.89\n"
     ]
    }
   ],
   "source": [
    "# Loop through keys\n",
    "for key in model_metrics.keys():\n",
    "    print(f\"Metric: {key}\")\n",
    "\n",
    "# Loop through values\n",
    "for value in model_metrics.values():\n",
    "    print(f\"Score: {value}\")\n",
    "\n",
    "# Loop through key-value pairs\n",
    "for key, value in model_metrics.items():\n",
    "    print(f\"{key}: {value}\")\n"
   ]
  },
  {
   "cell_type": "code",
   "execution_count": 8,
   "metadata": {},
   "outputs": [
    {
     "name": "stdout",
     "output_type": "stream",
     "text": [
      "Model accuracy: 0.87\n"
     ]
    }
   ],
   "source": [
    "# Define a function to calculate accuracy\n",
    "def calculate_accuracy(true_positives, total):\n",
    "    if total <= 0:\n",
    "        raise ValueError(f\"Invalid total: {total}\")\n",
    "    accuracy = true_positives / total\n",
    "    return accuracy\n",
    "\n",
    "accuracy = calculate_accuracy(87, 100)\n",
    "print(f\"Model accuracy: {accuracy}\")"
   ]
  },
  {
   "cell_type": "code",
   "execution_count": 10,
   "metadata": {},
   "outputs": [
    {
     "name": "stdout",
     "output_type": "stream",
     "text": [
      "['Model training completed', 'Accuracy: 0.95']\n"
     ]
    }
   ],
   "source": [
    "# Writing text files\n",
    "with open(\"data/output.txt\", \"w\") as f:\n",
    "    f.write(\"Model training completed\\n\")\n",
    "    f.write(f\"Accuracy: {0.95}\")\n",
    "\n",
    "# Reading text files\n",
    "with open(\"data/output.txt\", \"r\") as f:\n",
    "    content = f.read()\n",
    "    lines = content.split(\"\\n\")\n",
    "\n",
    "print(lines)"
   ]
  },
  {
   "cell_type": "code",
   "execution_count": 11,
   "metadata": {},
   "outputs": [
    {
     "name": "stdout",
     "output_type": "stream",
     "text": [
      "2025-02-25 15:23:04 <class 'str'>\n",
      "2023-12-25 10:30:00 <class 'datetime.datetime'>\n"
     ]
    }
   ],
   "source": [
    "from datetime import datetime, timedelta\n",
    "\n",
    "# Create dates\n",
    "now = datetime.now()\n",
    "specific_date = datetime(2023, 12, 25, 10, 30)\n",
    "\n",
    "# Date arithmetic\n",
    "tomorrow = now + timedelta(days=1)\n",
    "last_week = now - timedelta(weeks=1)\n",
    "\n",
    "# Format dates\n",
    "formatted_date = now.strftime(\"%Y-%m-%d %H:%M:%S\")\n",
    "print(formatted_date, type(formatted_date))\n",
    "# Output: 2024-12-02 09:41:24 <class 'str'>\n",
    "\n",
    "# Parse dates\n",
    "date_string = \"2023-12-25 10:30:00\"\n",
    "parsed_date = datetime.strptime(date_string, \"%Y-%m-%d %H:%M:%S\")\n",
    "print(parsed_date, type(parsed_date))\n"
   ]
  },
  {
   "cell_type": "code",
   "execution_count": 12,
   "metadata": {},
   "outputs": [
    {
     "name": "stdout",
     "output_type": "stream",
     "text": [
      "{'model': 'neural_network', 'parameters': {'layers': [64, 32, 16], 'activation': 'relu'}, 'metrics': [0.95, 0.92, 0.94]}\n"
     ]
    }
   ],
   "source": [
    "import json\n",
    "\n",
    "# Sample data\n",
    "data = {\n",
    "    \"model\": \"neural_network\",\n",
    "    \"parameters\": {\n",
    "        \"layers\": [64, 32, 16],\n",
    "        \"activation\": \"relu\"\n",
    "    },\n",
    "    \"metrics\": [0.95, 0.92, 0.94]\n",
    "}\n",
    "\n",
    "# Write JSON to file\n",
    "with open(\"model_config.json\", \"w\") as f:\n",
    "    json.dump(data, f, indent=4)\n",
    "\n",
    "# Read JSON from file\n",
    "with open(\"model_config.json\", \"r\") as f:\n",
    "    loaded_data = json.load(f)\n",
    "\n",
    "print(loaded_data)"
   ]
  },
  {
   "cell_type": "code",
   "execution_count": 13,
   "metadata": {},
   "outputs": [
    {
     "name": "stdout",
     "output_type": "stream",
     "text": [
      "['2023-01-15', '2023-02-28']\n",
      "Training started on 2023-01-15 and ended on 2023-02-28\n"
     ]
    }
   ],
   "source": [
    "import re\n",
    "\n",
    "# Find all dates in text\n",
    "text = \"Training started on 2023-01-15, and ended on 2023-02-28!\"\n",
    "dates = re.findall(r\"\\d{4}-\\d{2}-\\d{2}\", text)\n",
    "print(dates)\n",
    "# Output: ['2023-01-15', '2023-02-28']\n",
    "\n",
    "# Replace patterns\n",
    "cleaned_text = re.sub(r\"[^\\w\\s-]\", \"\", text)  # Remove punctuation\n",
    "print(cleaned_text)\n"
   ]
  },
  {
   "cell_type": "code",
   "execution_count": 15,
   "metadata": {},
   "outputs": [
    {
     "name": "stdout",
     "output_type": "stream",
     "text": [
      "\n",
      "Listing all files in data/processed:\n",
      "\n",
      "Contents of file1.txt:\n",
      "This is file 1\n",
      "\n",
      "Contents of file2.csv:\n",
      "id,value\n",
      "1,100\n",
      "2,200\n",
      "\n",
      "Contents of file3.csv:\n",
      "name,score\n",
      "Alice,95\n",
      "Bob,87\n"
     ]
    }
   ],
   "source": [
    "import pathlib\n",
    "from pathlib import Path\n",
    "\n",
    "# Working with paths\n",
    "current_dir = Path.cwd()\n",
    "file_path = current_dir / \"data\" / \"dataset.csv\"\n",
    "\n",
    "# Create directories\n",
    "data_dir = Path(\"data/processed\")\n",
    "data_dir.mkdir(parents=True, exist_ok=True)\n",
    "\n",
    "# Create some sample files\n",
    "(data_dir / \"file1.txt\").write_text(\"This is file 1\")\n",
    "(data_dir / \"file2.csv\").write_text(\"id,value\\n1,100\\n2,200\")\n",
    "(data_dir / \"file3.csv\").write_text(\"name,score\\nAlice,95\\nBob,87\")\n",
    "\n",
    "# List files\n",
    "files = list(Path(\"data\").iterdir())\n",
    "csv_files = list(Path(\"data\").glob(\"*.csv\"))\n",
    "\n",
    "# Check file existence and print contents\n",
    "if file_path.exists():\n",
    "    print(f\"Found file: {file_path}\")\n",
    "\n",
    "print(\"\\nListing all files in data/processed:\")\n",
    "for file in data_dir.iterdir():\n",
    "    print(f\"\\nContents of {file.name}:\")\n",
    "    print(file.read_text())\n"
   ]
  },
  {
   "cell_type": "code",
   "execution_count": 16,
   "metadata": {},
   "outputs": [
    {
     "name": "stdout",
     "output_type": "stream",
     "text": [
      "[ 2  4  6  8 10]\n",
      "3.0\n"
     ]
    }
   ],
   "source": [
    "import numpy as np\n",
    "\n",
    "# Create an array\n",
    "data = np.array([1, 2, 3, 4, 5])\n",
    "\n",
    "# Perform operations\n",
    "print(data * 2)         # Element-wise multiplication\n",
    "# Output: [2 4 6 8 10]\n",
    "\n",
    "print(np.mean(data))    # Calculate the mean"
   ]
  },
  {
   "cell_type": "code",
   "execution_count": 17,
   "metadata": {},
   "outputs": [
    {
     "name": "stdout",
     "output_type": "stream",
     "text": [
      "2\n"
     ]
    }
   ],
   "source": [
    "# Create a 2D array\n",
    "matrix = np.array([[1, 2], [3, 4]])\n",
    "\n",
    "# Access elements\n",
    "print(matrix[0, 1])  # Element in the first row, second column"
   ]
  },
  {
   "cell_type": "code",
   "execution_count": null,
   "metadata": {},
   "outputs": [
    {
     "name": "stdout",
     "output_type": "stream",
     "text": [
      "[[0.94385021 0.08854403 0.69537097]\n",
      " [0.69999035 0.49960034 0.50270302]\n",
      " [0.89180317 0.08895364 0.84749637]]\n"
     ]
    }
   ],
   "source": [
    "np.random.seed(137)\n",
    "\n",
    "# Random numbers between 0 and 1\n",
    "random_data = np.random.rand(3, 3)\n",
    "\n",
    "print(random_data)"
   ]
  },
  {
   "cell_type": "code",
   "execution_count": 24,
   "metadata": {},
   "outputs": [
    {
     "name": "stdout",
     "output_type": "stream",
     "text": [
      "0    25\n",
      "1    30\n",
      "2    35\n",
      "Name: Age, dtype: int64\n",
      "(3, 2)\n",
      "3\n"
     ]
    }
   ],
   "source": [
    "import pandas as pd\n",
    "\n",
    "data = {\"Name\": [\"Alice\", \"Bob\", \"Charlie\"], \"Age\": [25, 30, 35]}\n",
    "df = pd.DataFrame(data)\n",
    "\n",
    "# Access a column\n",
    "print(df[\"Age\"])\n",
    "\n",
    "print(df.shape)\n",
    "\n",
    "print(len(df))\n"
   ]
  },
  {
   "cell_type": "code",
   "execution_count": 25,
   "metadata": {},
   "outputs": [
    {
     "data": {
      "image/png": "[encoded data removed]",
      "text/plain": [
       "<Figure size 640x480 with 1 Axes>"
      ]
     },
     "metadata": {},
     "output_type": "display_data"
    }
   ],
   "source": [
    "import matplotlib.pyplot as plt\n",
    "\n",
    "# Basic line plot\n",
    "x = [1, 2, 3, 4]\n",
    "y = [10, 20, 25, 30]\n",
    "plt.plot(x, y)\n",
    "plt.xlabel(\"X-axis\")\n",
    "plt.ylabel(\"Y-axis\")\n",
    "plt.title(\"Basic Plot\")\n",
    "plt.show()\n"
   ]
  },
  {
   "cell_type": "code",
   "execution_count": 26,
   "metadata": {},
   "outputs": [
    {
     "data": {
      "image/png": "[encoded data removed]",
      "text/plain": [
       "<Figure size 640x480 with 1 Axes>"
      ]
     },
     "metadata": {},
     "output_type": "display_data"
    }
   ],
   "source": [
    "# Scatter plot\n",
    "plt.scatter(x, y)\n",
    "plt.title(\"Scatter Plot\")\n",
    "plt.show()\n"
   ]
  },
  {
   "cell_type": "code",
   "execution_count": 27,
   "metadata": {},
   "outputs": [
    {
     "data": {
      "image/png": "[encoded data removed]",
      "text/plain": [
       "<Figure size 640x480 with 1 Axes>"
      ]
     },
     "metadata": {},
     "output_type": "display_data"
    }
   ],
   "source": [
    "\n",
    "\n",
    "# Histogram\n",
    "data = [1, 2, 2, 3, 3, 3, 4, 4, 5]\n",
    "plt.hist(data, bins=5)\n",
    "plt.title(\"Histogram\")\n",
    "plt.show()"
   ]
  },
  {
   "cell_type": "code",
   "execution_count": 29,
   "metadata": {},
   "outputs": [
    {
     "name": "stdout",
     "output_type": "stream",
     "text": [
      "[\n",
      "  {\n",
      "    \"userId\": 1,\n",
      "    \"id\": 1,\n",
      "    \"title\": \"sunt aut facere repellat provident occaecati excepturi optio reprehenderit\",\n",
      "    \"body\": \"quia et suscipit\\nsuscipit recusandae consequuntur expedita et cum\\nreprehenderit molestiae ut ut quas totam\\nnostrum rerum est autem sunt rem eveniet architecto\"\n",
      "  },\n",
      "  {\n",
      "    \"userId\": 1,\n",
      "    \"id\": 2,\n",
      "    \"title\": \"qui est esse\",\n",
      "    \"body\": \"est rerum tempore vitae\\nsequi sint nihil reprehenderit dolor beatae ea dolores neque\\nfugiat blanditiis voluptate porro vel nihil molestiae ut reiciendis\\nqui aperiam non debitis possimus qui neque nisi nulla\"\n",
      "  },\n",
      "  {\n",
      "    \"userId\": 1,\n",
      "    \"id\": 3,\n",
      "    \"title\": \"ea molestias quasi exercitationem repellat qui ipsa sit aut\",\n",
      "    \"body\": \"et iusto sed quo iure\\nvoluptatem occaecati omnis eligendi aut ad\\nvoluptatem doloribus vel accusantium quis pariatur\\nmolestiae porro eius odio et labore et velit aut\"\n",
      "  },\n",
      "  {\n",
      "    \"userId\": 1,\n",
      "    \"id\": 4,\n",
      "    \"title\": \"eum et est occaecati\",\n",
      "    \"body\": \"ullam et saepe reiciendis voluptatem adipisci\\nsit amet autem assumenda provident rerum culpa\\nquis hic commodi nesciunt rem tenetur doloremque ipsam iure\\nquis sunt voluptatem rerum illo velit\"\n",
      "  },\n",
      "  {\n",
      "    \"userId\": 1,\n",
      "    \"id\": 5,\n",
      "    \"title\": \"nesciunt quas odio\",\n",
      "    \"body\": \"repudiandae veniam quaerat sunt sed\\nalias aut fugiat sit autem sed est\\nvoluptatem omnis possimus esse voluptatibus quis\\nest aut tenetur dolor neque\"\n",
      "  },\n",
      "  {\n",
      "    \"userId\": 1,\n",
      "    \"id\": 6,\n",
      "    \"title\": \"dolorem eum magni eos aperiam quia\",\n",
      "    \"body\": \"ut aspernatur corporis harum nihil quis provident sequi\\nmollitia nobis aliquid molestiae\\nperspiciatis et ea nemo ab reprehenderit accusantium quas\\nvoluptate dolores velit et doloremque molestiae\"\n",
      "  },\n",
      "  {\n",
      "    \"userId\": 1,\n",
      "    \"id\": 7,\n",
      "    \"title\": \"magnam facilis autem\",\n",
      "    \"body\": \"dolore placeat quibusdam ea quo vitae\\nmagni quis enim qui quis quo nemo aut saepe\\nquidem repellat excepturi ut quia\\nsunt ut sequi eos ea sed quas\"\n",
      "  },\n",
      "  {\n",
      "    \"userId\": 1,\n",
      "    \"id\": 8,\n",
      "    \"title\": \"dolorem dolore est ipsam\",\n",
      "    \"body\": \"dignissimos aperiam dolorem qui eum\\nfacilis quibusdam animi sint suscipit qui sint possimus cum\\nquaerat magni maiores excepturi\\nipsam ut commodi dolor voluptatum modi aut vitae\"\n",
      "  },\n",
      "  {\n",
      "    \"userId\": 1,\n",
      "    \"id\": 9,\n",
      "    \"title\": \"nesciunt iure omnis dolorem tempora et accusantium\",\n",
      "    \"body\": \"consectetur animi nesciunt iure dolore\\nenim quia ad\\nveniam autem ut quam aut nobis\\net est aut quod aut provident voluptas autem voluptas\"\n",
      "  },\n",
      "  {\n",
      "    \"userId\": 1,\n",
      "    \"id\": 10,\n",
      "    \"title\": \"optio molestias id quia eum\",\n",
      "    \"body\": \"quo et expedita modi cum officia vel magni\\ndoloribus qui repudiandae\\nvero nisi sit\\nquos veniam quod sed accusamus veritatis error\"\n",
      "  },\n",
      "  {\n",
      "    \"userId\": 2,\n",
      "    \"id\": 11,\n",
      "    \"title\": \"et ea vero quia laudantium autem\",\n",
      "    \"body\": \"delectus reiciendis molestiae occaecati non minima eveniet qui voluptatibus\\naccusamus in eum beatae sit\\nvel qui neque voluptates ut commodi qui incidunt\\nut animi commodi\"\n",
      "  },\n",
      "  {\n",
      "    \"userId\": 2,\n",
      "    \"id\": 12,\n",
      "    \"title\": \"in quibusdam tempore odit est dolorem\",\n",
      "    \"body\": \"itaque id aut magnam\\npraesentium quia et ea odit et ea voluptas et\\nsapiente quia nihil amet occaecati quia id voluptatem\\nincidunt ea est distinctio odio\"\n",
      "  },\n",
      "  {\n",
      "    \"userId\": 2,\n",
      "    \"id\": 13,\n",
      "    \"title\": \"dolorum ut in voluptas mollitia et saepe quo animi\",\n",
      "    \"body\": \"aut dicta possimus sint mollitia voluptas commodi quo doloremque\\niste corrupti reiciendis voluptatem eius rerum\\nsit cumque quod eligendi laborum minima\\nperferendis recusandae assumenda consectetur porro architecto ipsum ipsam\"\n",
      "  },\n",
      "  {\n",
      "    \"userId\": 2,\n",
      "    \"id\": 14,\n",
      "    \"title\": \"voluptatem eligendi optio\",\n",
      "    \"body\": \"fuga et accusamus dolorum perferendis illo voluptas\\nnon doloremque neque facere\\nad qui dolorum molestiae beatae\\nsed aut voluptas totam sit illum\"\n",
      "  },\n",
      "  {\n",
      "    \"userId\": 2,\n",
      "    \"id\": 15,\n",
      "    \"title\": \"eveniet quod temporibus\",\n",
      "    \"body\": \"reprehenderit quos placeat\\nvelit minima officia dolores impedit repudiandae molestiae nam\\nvoluptas recusandae quis delectus\\nofficiis harum fugiat vitae\"\n",
      "  },\n",
      "  {\n",
      "    \"userId\": 2,\n",
      "    \"id\": 16,\n",
      "    \"title\": \"sint suscipit perspiciatis velit dolorum rerum ipsa laboriosam odio\",\n",
      "    \"body\": \"suscipit nam nisi quo aperiam aut\\nasperiores eos fugit maiores voluptatibus quia\\nvoluptatem quis ullam qui in alias quia est\\nconsequatur magni mollitia accusamus ea nisi voluptate dicta\"\n",
      "  },\n",
      "  {\n",
      "    \"userId\": 2,\n",
      "    \"id\": 17,\n",
      "    \"title\": \"fugit voluptas sed molestias voluptatem provident\",\n",
      "    \"body\": \"eos voluptas et aut odit natus earum\\naspernatur fuga molestiae ullam\\ndeserunt ratione qui eos\\nqui nihil ratione nemo velit ut aut id quo\"\n",
      "  },\n",
      "  {\n",
      "    \"userId\": 2,\n",
      "    \"id\": 18,\n",
      "    \"title\": \"voluptate et itaque vero tempora molestiae\",\n",
      "    \"body\": \"eveniet quo quis\\nlaborum totam consequatur non dolor\\nut et est repudiandae\\nest voluptatem vel debitis et magnam\"\n",
      "  },\n",
      "  {\n",
      "    \"userId\": 2,\n",
      "    \"id\": 19,\n",
      "    \"title\": \"adipisci placeat illum aut reiciendis qui\",\n",
      "    \"body\": \"illum quis cupiditate provident sit magnam\\nea sed aut omnis\\nveniam maiores ullam consequatur atque\\nadipisci quo iste expedita sit quos voluptas\"\n",
      "  },\n",
      "  {\n",
      "    \"userId\": 2,\n",
      "    \"id\": 20,\n",
      "    \"title\": \"doloribus ad provident suscipit at\",\n",
      "    \"body\": \"qui consequuntur ducimus possimus quisquam amet similique\\nsuscipit porro ipsam amet\\neos veritatis officiis exercitationem vel fugit aut necessitatibus totam\\nomnis rerum consequatur expedita quidem cumque explicabo\"\n",
      "  },\n",
      "  {\n",
      "    \"userId\": 3,\n",
      "    \"id\": 21,\n",
      "    \"title\": \"asperiores ea ipsam voluptatibus modi minima quia sint\",\n",
      "    \"body\": \"repellat aliquid praesentium dolorem quo\\nsed totam minus non itaque\\nnihil labore molestiae sunt dolor eveniet hic recusandae veniam\\ntempora et tenetur expedita sunt\"\n",
      "  },\n",
      "  {\n",
      "    \"userId\": 3,\n",
      "    \"id\": 22,\n",
      "    \"title\": \"dolor sint quo a velit explicabo quia nam\",\n",
      "    \"body\": \"eos qui et ipsum ipsam suscipit aut\\nsed omnis non odio\\nexpedita earum mollitia molestiae aut atque rem suscipit\\nnam impedit esse\"\n",
      "  },\n",
      "  {\n",
      "    \"userId\": 3,\n",
      "    \"id\": 23,\n",
      "    \"title\": \"maxime id vitae nihil numquam\",\n",
      "    \"body\": \"veritatis unde neque eligendi\\nquae quod architecto quo neque vitae\\nest illo sit tempora doloremque fugit quod\\net et vel beatae sequi ullam sed tenetur perspiciatis\"\n",
      "  },\n",
      "  {\n",
      "    \"userId\": 3,\n",
      "    \"id\": 24,\n",
      "    \"title\": \"autem hic labore sunt dolores incidunt\",\n",
      "    \"body\": \"enim et ex nulla\\nomnis voluptas quia qui\\nvoluptatem consequatur numquam aliquam sunt\\ntotam recusandae id dignissimos aut sed asperiores deserunt\"\n",
      "  },\n",
      "  {\n",
      "    \"userId\": 3,\n",
      "    \"id\": 25,\n",
      "    \"title\": \"rem alias distinctio quo quis\",\n",
      "    \"body\": \"ullam consequatur ut\\nomnis quis sit vel consequuntur\\nipsa eligendi ipsum molestiae et omnis error nostrum\\nmolestiae illo tempore quia et distinctio\"\n",
      "  },\n",
      "  {\n",
      "    \"userId\": 3,\n",
      "    \"id\": 26,\n",
      "    \"title\": \"est et quae odit qui non\",\n",
      "    \"body\": \"similique esse doloribus nihil accusamus\\nomnis dolorem fuga consequuntur reprehenderit fugit recusandae temporibus\\nperspiciatis cum ut laudantium\\nomnis aut molestiae vel vero\"\n",
      "  },\n",
      "  {\n",
      "    \"userId\": 3,\n",
      "    \"id\": 27,\n",
      "    \"title\": \"quasi id et eos tenetur aut quo autem\",\n",
      "    \"body\": \"eum sed dolores ipsam sint possimus debitis occaecati\\ndebitis qui qui et\\nut placeat enim earum aut odit facilis\\nconsequatur suscipit necessitatibus rerum sed inventore temporibus consequatur\"\n",
      "  },\n",
      "  {\n",
      "    \"userId\": 3,\n",
      "    \"id\": 28,\n",
      "    \"title\": \"delectus ullam et corporis nulla voluptas sequi\",\n",
      "    \"body\": \"non et quaerat ex quae ad maiores\\nmaiores recusandae totam aut blanditiis mollitia quas illo\\nut voluptatibus voluptatem\\nsimilique nostrum eum\"\n",
      "  },\n",
      "  {\n",
      "    \"userId\": 3,\n",
      "    \"id\": 29,\n",
      "    \"title\": \"iusto eius quod necessitatibus culpa ea\",\n",
      "    \"body\": \"odit magnam ut saepe sed non qui\\ntempora atque nihil\\naccusamus illum doloribus illo dolor\\neligendi repudiandae odit magni similique sed cum maiores\"\n",
      "  },\n",
      "  {\n",
      "    \"userId\": 3,\n",
      "    \"id\": 30,\n",
      "    \"title\": \"a quo magni similique perferendis\",\n",
      "    \"body\": \"alias dolor cumque\\nimpedit blanditiis non eveniet odio maxime\\nblanditiis amet eius quis tempora quia autem rem\\na provident perspiciatis quia\"\n",
      "  },\n",
      "  {\n",
      "    \"userId\": 4,\n",
      "    \"id\": 31,\n",
      "    \"title\": \"ullam ut quidem id aut vel consequuntur\",\n",
      "    \"body\": \"debitis eius sed quibusdam non quis consectetur vitae\\nimpedit ut qui consequatur sed aut in\\nquidem sit nostrum et maiores adipisci atque\\nquaerat voluptatem adipisci repudiandae\"\n",
      "  },\n",
      "  {\n",
      "    \"userId\": 4,\n",
      "    \"id\": 32,\n",
      "    \"title\": \"doloremque illum aliquid sunt\",\n",
      "    \"body\": \"deserunt eos nobis asperiores et hic\\nest debitis repellat molestiae optio\\nnihil ratione ut eos beatae quibusdam distinctio maiores\\nearum voluptates et aut adipisci ea maiores voluptas maxime\"\n",
      "  },\n",
      "  {\n",
      "    \"userId\": 4,\n",
      "    \"id\": 33,\n",
      "    \"title\": \"qui explicabo molestiae dolorem\",\n",
      "    \"body\": \"rerum ut et numquam laborum odit est sit\\nid qui sint in\\nquasi tenetur tempore aperiam et quaerat qui in\\nrerum officiis sequi cumque quod\"\n",
      "  },\n",
      "  {\n",
      "    \"userId\": 4,\n",
      "    \"id\": 34,\n",
      "    \"title\": \"magnam ut rerum iure\",\n",
      "    \"body\": \"ea velit perferendis earum ut voluptatem voluptate itaque iusto\\ntotam pariatur in\\nnemo voluptatem voluptatem autem magni tempora minima in\\nest distinctio qui assumenda accusamus dignissimos officia nesciunt nobis\"\n",
      "  },\n",
      "  {\n",
      "    \"userId\": 4,\n",
      "    \"id\": 35,\n",
      "    \"title\": \"id nihil consequatur molestias animi provident\",\n",
      "    \"body\": \"nisi error delectus possimus ut eligendi vitae\\nplaceat eos harum cupiditate facilis reprehenderit voluptatem beatae\\nmodi ducimus quo illum voluptas eligendi\\net nobis quia fugit\"\n",
      "  },\n",
      "  {\n",
      "    \"userId\": 4,\n",
      "    \"id\": 36,\n",
      "    \"title\": \"fuga nam accusamus voluptas reiciendis itaque\",\n",
      "    \"body\": \"ad mollitia et omnis minus architecto odit\\nvoluptas doloremque maxime aut non ipsa qui alias veniam\\nblanditiis culpa aut quia nihil cumque facere et occaecati\\nqui aspernatur quia eaque ut aperiam inventore\"\n",
      "  },\n",
      "  {\n",
      "    \"userId\": 4,\n",
      "    \"id\": 37,\n",
      "    \"title\": \"provident vel ut sit ratione est\",\n",
      "    \"body\": \"debitis et eaque non officia sed nesciunt pariatur vel\\nvoluptatem iste vero et ea\\nnumquam aut expedita ipsum nulla in\\nvoluptates omnis consequatur aut enim officiis in quam qui\"\n",
      "  },\n",
      "  {\n",
      "    \"userId\": 4,\n",
      "    \"id\": 38,\n",
      "    \"title\": \"explicabo et eos deleniti nostrum ab id repellendus\",\n",
      "    \"body\": \"animi esse sit aut sit nesciunt assumenda eum voluptas\\nquia voluptatibus provident quia necessitatibus ea\\nrerum repudiandae quia voluptatem delectus fugit aut id quia\\nratione optio eos iusto veniam iure\"\n",
      "  },\n",
      "  {\n",
      "    \"userId\": 4,\n",
      "    \"id\": 39,\n",
      "    \"title\": \"eos dolorem iste accusantium est eaque quam\",\n",
      "    \"body\": \"corporis rerum ducimus vel eum accusantium\\nmaxime aspernatur a porro possimus iste omnis\\nest in deleniti asperiores fuga aut\\nvoluptas sapiente vel dolore minus voluptatem incidunt ex\"\n",
      "  },\n",
      "  {\n",
      "    \"userId\": 4,\n",
      "    \"id\": 40,\n",
      "    \"title\": \"enim quo cumque\",\n",
      "    \"body\": \"ut voluptatum aliquid illo tenetur nemo sequi quo facilis\\nipsum rem optio mollitia quas\\nvoluptatem eum voluptas qui\\nunde omnis voluptatem iure quasi maxime voluptas nam\"\n",
      "  },\n",
      "  {\n",
      "    \"userId\": 5,\n",
      "    \"id\": 41,\n",
      "    \"title\": \"non est facere\",\n",
      "    \"body\": \"molestias id nostrum\\nexcepturi molestiae dolore omnis repellendus quaerat saepe\\nconsectetur iste quaerat tenetur asperiores accusamus ex ut\\nnam quidem est ducimus sunt debitis saepe\"\n",
      "  },\n",
      "  {\n",
      "    \"userId\": 5,\n",
      "    \"id\": 42,\n",
      "    \"title\": \"commodi ullam sint et excepturi error explicabo praesentium voluptas\",\n",
      "    \"body\": \"odio fugit voluptatum ducimus earum autem est incidunt voluptatem\\nodit reiciendis aliquam sunt sequi nulla dolorem\\nnon facere repellendus voluptates quia\\nratione harum vitae ut\"\n",
      "  },\n",
      "  {\n",
      "    \"userId\": 5,\n",
      "    \"id\": 43,\n",
      "    \"title\": \"eligendi iste nostrum consequuntur adipisci praesentium sit beatae perferendis\",\n",
      "    \"body\": \"similique fugit est\\nillum et dolorum harum et voluptate eaque quidem\\nexercitationem quos nam commodi possimus cum odio nihil nulla\\ndolorum exercitationem magnam ex et a et distinctio debitis\"\n",
      "  },\n",
      "  {\n",
      "    \"userId\": 5,\n",
      "    \"id\": 44,\n",
      "    \"title\": \"optio dolor molestias sit\",\n",
      "    \"body\": \"temporibus est consectetur dolore\\net libero debitis vel velit laboriosam quia\\nipsum quibusdam qui itaque fuga rem aut\\nea et iure quam sed maxime ut distinctio quae\"\n",
      "  },\n",
      "  {\n",
      "    \"userId\": 5,\n",
      "    \"id\": 45,\n",
      "    \"title\": \"ut numquam possimus omnis eius suscipit laudantium iure\",\n",
      "    \"body\": \"est natus reiciendis nihil possimus aut provident\\nex et dolor\\nrepellat pariatur est\\nnobis rerum repellendus dolorem autem\"\n",
      "  },\n",
      "  {\n",
      "    \"userId\": 5,\n",
      "    \"id\": 46,\n",
      "    \"title\": \"aut quo modi neque nostrum ducimus\",\n",
      "    \"body\": \"voluptatem quisquam iste\\nvoluptatibus natus officiis facilis dolorem\\nquis quas ipsam\\nvel et voluptatum in aliquid\"\n",
      "  },\n",
      "  {\n",
      "    \"userId\": 5,\n",
      "    \"id\": 47,\n",
      "    \"title\": \"quibusdam cumque rem aut deserunt\",\n",
      "    \"body\": \"voluptatem assumenda ut qui ut cupiditate aut impedit veniam\\noccaecati nemo illum voluptatem laudantium\\nmolestiae beatae rerum ea iure soluta nostrum\\neligendi et voluptate\"\n",
      "  },\n",
      "  {\n",
      "    \"userId\": 5,\n",
      "    \"id\": 48,\n",
      "    \"title\": \"ut voluptatem illum ea doloribus itaque eos\",\n",
      "    \"body\": \"voluptates quo voluptatem facilis iure occaecati\\nvel assumenda rerum officia et\\nillum perspiciatis ab deleniti\\nlaudantium repellat ad ut et autem reprehenderit\"\n",
      "  },\n",
      "  {\n",
      "    \"userId\": 5,\n",
      "    \"id\": 49,\n",
      "    \"title\": \"laborum non sunt aut ut assumenda perspiciatis voluptas\",\n",
      "    \"body\": \"inventore ab sint\\nnatus fugit id nulla sequi architecto nihil quaerat\\neos tenetur in in eum veritatis non\\nquibusdam officiis aspernatur cumque aut commodi aut\"\n",
      "  },\n",
      "  {\n",
      "    \"userId\": 5,\n",
      "    \"id\": 50,\n",
      "    \"title\": \"repellendus qui recusandae incidunt voluptates tenetur qui omnis exercitationem\",\n",
      "    \"body\": \"error suscipit maxime adipisci consequuntur recusandae\\nvoluptas eligendi et est et voluptates\\nquia distinctio ab amet quaerat molestiae et vitae\\nadipisci impedit sequi nesciunt quis consectetur\"\n",
      "  },\n",
      "  {\n",
      "    \"userId\": 6,\n",
      "    \"id\": 51,\n",
      "    \"title\": \"soluta aliquam aperiam consequatur illo quis voluptas\",\n",
      "    \"body\": \"sunt dolores aut doloribus\\ndolore doloribus voluptates tempora et\\ndoloremque et quo\\ncum asperiores sit consectetur dolorem\"\n",
      "  },\n",
      "  {\n",
      "    \"userId\": 6,\n",
      "    \"id\": 52,\n",
      "    \"title\": \"qui enim et consequuntur quia animi quis voluptate quibusdam\",\n",
      "    \"body\": \"iusto est quibusdam fuga quas quaerat molestias\\na enim ut sit accusamus enim\\ntemporibus iusto accusantium provident architecto\\nsoluta esse reprehenderit qui laborum\"\n",
      "  },\n",
      "  {\n",
      "    \"userId\": 6,\n",
      "    \"id\": 53,\n",
      "    \"title\": \"ut quo aut ducimus alias\",\n",
      "    \"body\": \"minima harum praesentium eum rerum illo dolore\\nquasi exercitationem rerum nam\\nporro quis neque quo\\nconsequatur minus dolor quidem veritatis sunt non explicabo similique\"\n",
      "  },\n",
      "  {\n",
      "    \"userId\": 6,\n",
      "    \"id\": 54,\n",
      "    \"title\": \"sit asperiores ipsam eveniet odio non quia\",\n",
      "    \"body\": \"totam corporis dignissimos\\nvitae dolorem ut occaecati accusamus\\nex velit deserunt\\net exercitationem vero incidunt corrupti mollitia\"\n",
      "  },\n",
      "  {\n",
      "    \"userId\": 6,\n",
      "    \"id\": 55,\n",
      "    \"title\": \"sit vel voluptatem et non libero\",\n",
      "    \"body\": \"debitis excepturi ea perferendis harum libero optio\\neos accusamus cum fuga ut sapiente repudiandae\\net ut incidunt omnis molestiae\\nnihil ut eum odit\"\n",
      "  },\n",
      "  {\n",
      "    \"userId\": 6,\n",
      "    \"id\": 56,\n",
      "    \"title\": \"qui et at rerum necessitatibus\",\n",
      "    \"body\": \"aut est omnis dolores\\nneque rerum quod ea rerum velit pariatur beatae excepturi\\net provident voluptas corrupti\\ncorporis harum reprehenderit dolores eligendi\"\n",
      "  },\n",
      "  {\n",
      "    \"userId\": 6,\n",
      "    \"id\": 57,\n",
      "    \"title\": \"sed ab est est\",\n",
      "    \"body\": \"at pariatur consequuntur earum quidem\\nquo est laudantium soluta voluptatem\\nqui ullam et est\\net cum voluptas voluptatum repellat est\"\n",
      "  },\n",
      "  {\n",
      "    \"userId\": 6,\n",
      "    \"id\": 58,\n",
      "    \"title\": \"voluptatum itaque dolores nisi et quasi\",\n",
      "    \"body\": \"veniam voluptatum quae adipisci id\\net id quia eos ad et dolorem\\naliquam quo nisi sunt eos impedit error\\nad similique veniam\"\n",
      "  },\n",
      "  {\n",
      "    \"userId\": 6,\n",
      "    \"id\": 59,\n",
      "    \"title\": \"qui commodi dolor at maiores et quis id accusantium\",\n",
      "    \"body\": \"perspiciatis et quam ea autem temporibus non voluptatibus qui\\nbeatae a earum officia nesciunt dolores suscipit voluptas et\\nanimi doloribus cum rerum quas et magni\\net hic ut ut commodi expedita sunt\"\n",
      "  },\n",
      "  {\n",
      "    \"userId\": 6,\n",
      "    \"id\": 60,\n",
      "    \"title\": \"consequatur placeat omnis quisquam quia reprehenderit fugit veritatis facere\",\n",
      "    \"body\": \"asperiores sunt ab assumenda cumque modi velit\\nqui esse omnis\\nvoluptate et fuga perferendis voluptas\\nillo ratione amet aut et omnis\"\n",
      "  },\n",
      "  {\n",
      "    \"userId\": 7,\n",
      "    \"id\": 61,\n",
      "    \"title\": \"voluptatem doloribus consectetur est ut ducimus\",\n",
      "    \"body\": \"ab nemo optio odio\\ndelectus tenetur corporis similique nobis repellendus rerum omnis facilis\\nvero blanditiis debitis in nesciunt doloribus dicta dolores\\nmagnam minus velit\"\n",
      "  },\n",
      "  {\n",
      "    \"userId\": 7,\n",
      "    \"id\": 62,\n",
      "    \"title\": \"beatae enim quia vel\",\n",
      "    \"body\": \"enim aspernatur illo distinctio quae praesentium\\nbeatae alias amet delectus qui voluptate distinctio\\nodit sint accusantium autem omnis\\nquo molestiae omnis ea eveniet optio\"\n",
      "  },\n",
      "  {\n",
      "    \"userId\": 7,\n",
      "    \"id\": 63,\n",
      "    \"title\": \"voluptas blanditiis repellendus animi ducimus error sapiente et suscipit\",\n",
      "    \"body\": \"enim adipisci aspernatur nemo\\nnumquam omnis facere dolorem dolor ex quis temporibus incidunt\\nab delectus culpa quo reprehenderit blanditiis asperiores\\naccusantium ut quam in voluptatibus voluptas ipsam dicta\"\n",
      "  },\n",
      "  {\n",
      "    \"userId\": 7,\n",
      "    \"id\": 64,\n",
      "    \"title\": \"et fugit quas eum in in aperiam quod\",\n",
      "    \"body\": \"id velit blanditiis\\neum ea voluptatem\\nmolestiae sint occaecati est eos perspiciatis\\nincidunt a error provident eaque aut aut qui\"\n",
      "  },\n",
      "  {\n",
      "    \"userId\": 7,\n",
      "    \"id\": 65,\n",
      "    \"title\": \"consequatur id enim sunt et et\",\n",
      "    \"body\": \"voluptatibus ex esse\\nsint explicabo est aliquid cumque adipisci fuga repellat labore\\nmolestiae corrupti ex saepe at asperiores et perferendis\\nnatus id esse incidunt pariatur\"\n",
      "  },\n",
      "  {\n",
      "    \"userId\": 7,\n",
      "    \"id\": 66,\n",
      "    \"title\": \"repudiandae ea animi iusto\",\n",
      "    \"body\": \"officia veritatis tenetur vero qui itaque\\nsint non ratione\\nsed et ut asperiores iusto eos molestiae nostrum\\nveritatis quibusdam et nemo iusto saepe\"\n",
      "  },\n",
      "  {\n",
      "    \"userId\": 7,\n",
      "    \"id\": 67,\n",
      "    \"title\": \"aliquid eos sed fuga est maxime repellendus\",\n",
      "    \"body\": \"reprehenderit id nostrum\\nvoluptas doloremque pariatur sint et accusantium quia quod aspernatur\\net fugiat amet\\nnon sapiente et consequatur necessitatibus molestiae\"\n",
      "  },\n",
      "  {\n",
      "    \"userId\": 7,\n",
      "    \"id\": 68,\n",
      "    \"title\": \"odio quis facere architecto reiciendis optio\",\n",
      "    \"body\": \"magnam molestiae perferendis quisquam\\nqui cum reiciendis\\nquaerat animi amet hic inventore\\nea quia deleniti quidem saepe porro velit\"\n",
      "  },\n",
      "  {\n",
      "    \"userId\": 7,\n",
      "    \"id\": 69,\n",
      "    \"title\": \"fugiat quod pariatur odit minima\",\n",
      "    \"body\": \"officiis error culpa consequatur modi asperiores et\\ndolorum assumenda voluptas et vel qui aut vel rerum\\nvoluptatum quisquam perspiciatis quia rerum consequatur totam quas\\nsequi commodi repudiandae asperiores et saepe a\"\n",
      "  },\n",
      "  {\n",
      "    \"userId\": 7,\n",
      "    \"id\": 70,\n",
      "    \"title\": \"voluptatem laborum magni\",\n",
      "    \"body\": \"sunt repellendus quae\\nest asperiores aut deleniti esse accusamus repellendus quia aut\\nquia dolorem unde\\neum tempora esse dolore\"\n",
      "  },\n",
      "  {\n",
      "    \"userId\": 8,\n",
      "    \"id\": 71,\n",
      "    \"title\": \"et iusto veniam et illum aut fuga\",\n",
      "    \"body\": \"occaecati a doloribus\\niste saepe consectetur placeat eum voluptate dolorem et\\nqui quo quia voluptas\\nrerum ut id enim velit est perferendis\"\n",
      "  },\n",
      "  {\n",
      "    \"userId\": 8,\n",
      "    \"id\": 72,\n",
      "    \"title\": \"sint hic doloribus consequatur eos non id\",\n",
      "    \"body\": \"quam occaecati qui deleniti consectetur\\nconsequatur aut facere quas exercitationem aliquam hic voluptas\\nneque id sunt ut aut accusamus\\nsunt consectetur expedita inventore velit\"\n",
      "  },\n",
      "  {\n",
      "    \"userId\": 8,\n",
      "    \"id\": 73,\n",
      "    \"title\": \"consequuntur deleniti eos quia temporibus ab aliquid at\",\n",
      "    \"body\": \"voluptatem cumque tenetur consequatur expedita ipsum nemo quia explicabo\\naut eum minima consequatur\\ntempore cumque quae est et\\net in consequuntur voluptatem voluptates aut\"\n",
      "  },\n",
      "  {\n",
      "    \"userId\": 8,\n",
      "    \"id\": 74,\n",
      "    \"title\": \"enim unde ratione doloribus quas enim ut sit sapiente\",\n",
      "    \"body\": \"odit qui et et necessitatibus sint veniam\\nmollitia amet doloremque molestiae commodi similique magnam et quam\\nblanditiis est itaque\\nquo et tenetur ratione occaecati molestiae tempora\"\n",
      "  },\n",
      "  {\n",
      "    \"userId\": 8,\n",
      "    \"id\": 75,\n",
      "    \"title\": \"dignissimos eum dolor ut enim et delectus in\",\n",
      "    \"body\": \"commodi non non omnis et voluptas sit\\nautem aut nobis magnam et sapiente voluptatem\\net laborum repellat qui delectus facilis temporibus\\nrerum amet et nemo voluptate expedita adipisci error dolorem\"\n",
      "  },\n",
      "  {\n",
      "    \"userId\": 8,\n",
      "    \"id\": 76,\n",
      "    \"title\": \"doloremque officiis ad et non perferendis\",\n",
      "    \"body\": \"ut animi facere\\ntotam iusto tempore\\nmolestiae eum aut et dolorem aperiam\\nquaerat recusandae totam odio\"\n",
      "  },\n",
      "  {\n",
      "    \"userId\": 8,\n",
      "    \"id\": 77,\n",
      "    \"title\": \"necessitatibus quasi exercitationem odio\",\n",
      "    \"body\": \"modi ut in nulla repudiandae dolorum nostrum eos\\naut consequatur omnis\\nut incidunt est omnis iste et quam\\nvoluptates sapiente aliquam asperiores nobis amet corrupti repudiandae provident\"\n",
      "  },\n",
      "  {\n",
      "    \"userId\": 8,\n",
      "    \"id\": 78,\n",
      "    \"title\": \"quam voluptatibus rerum veritatis\",\n",
      "    \"body\": \"nobis facilis odit tempore cupiditate quia\\nassumenda doloribus rerum qui ea\\nillum et qui totam\\naut veniam repellendus\"\n",
      "  },\n",
      "  {\n",
      "    \"userId\": 8,\n",
      "    \"id\": 79,\n",
      "    \"title\": \"pariatur consequatur quia magnam autem omnis non amet\",\n",
      "    \"body\": \"libero accusantium et et facere incidunt sit dolorem\\nnon excepturi qui quia sed laudantium\\nquisquam molestiae ducimus est\\nofficiis esse molestiae iste et quos\"\n",
      "  },\n",
      "  {\n",
      "    \"userId\": 8,\n",
      "    \"id\": 80,\n",
      "    \"title\": \"labore in ex et explicabo corporis aut quas\",\n",
      "    \"body\": \"ex quod dolorem ea eum iure qui provident amet\\nquia qui facere excepturi et repudiandae\\nasperiores molestias provident\\nminus incidunt vero fugit rerum sint sunt excepturi provident\"\n",
      "  },\n",
      "  {\n",
      "    \"userId\": 9,\n",
      "    \"id\": 81,\n",
      "    \"title\": \"tempora rem veritatis voluptas quo dolores vero\",\n",
      "    \"body\": \"facere qui nesciunt est voluptatum voluptatem nisi\\nsequi eligendi necessitatibus ea at rerum itaque\\nharum non ratione velit laboriosam quis consequuntur\\nex officiis minima doloremque voluptas ut aut\"\n",
      "  },\n",
      "  {\n",
      "    \"userId\": 9,\n",
      "    \"id\": 82,\n",
      "    \"title\": \"laudantium voluptate suscipit sunt enim enim\",\n",
      "    \"body\": \"ut libero sit aut totam inventore sunt\\nporro sint qui sunt molestiae\\nconsequatur cupiditate qui iste ducimus adipisci\\ndolor enim assumenda soluta laboriosam amet iste delectus hic\"\n",
      "  },\n",
      "  {\n",
      "    \"userId\": 9,\n",
      "    \"id\": 83,\n",
      "    \"title\": \"odit et voluptates doloribus alias odio et\",\n",
      "    \"body\": \"est molestiae facilis quis tempora numquam nihil qui\\nvoluptate sapiente consequatur est qui\\nnecessitatibus autem aut ipsa aperiam modi dolore numquam\\nreprehenderit eius rem quibusdam\"\n",
      "  },\n",
      "  {\n",
      "    \"userId\": 9,\n",
      "    \"id\": 84,\n",
      "    \"title\": \"optio ipsam molestias necessitatibus occaecati facilis veritatis dolores aut\",\n",
      "    \"body\": \"sint molestiae magni a et quos\\neaque et quasi\\nut rerum debitis similique veniam\\nrecusandae dignissimos dolor incidunt consequatur odio\"\n",
      "  },\n",
      "  {\n",
      "    \"userId\": 9,\n",
      "    \"id\": 85,\n",
      "    \"title\": \"dolore veritatis porro provident adipisci blanditiis et sunt\",\n",
      "    \"body\": \"similique sed nisi voluptas iusto omnis\\nmollitia et quo\\nassumenda suscipit officia magnam sint sed tempora\\nenim provident pariatur praesentium atque animi amet ratione\"\n",
      "  },\n",
      "  {\n",
      "    \"userId\": 9,\n",
      "    \"id\": 86,\n",
      "    \"title\": \"placeat quia et porro iste\",\n",
      "    \"body\": \"quasi excepturi consequatur iste autem temporibus sed molestiae beatae\\net quaerat et esse ut\\nvoluptatem occaecati et vel explicabo autem\\nasperiores pariatur deserunt optio\"\n",
      "  },\n",
      "  {\n",
      "    \"userId\": 9,\n",
      "    \"id\": 87,\n",
      "    \"title\": \"nostrum quis quasi placeat\",\n",
      "    \"body\": \"eos et molestiae\\nnesciunt ut a\\ndolores perspiciatis repellendus repellat aliquid\\nmagnam sint rem ipsum est\"\n",
      "  },\n",
      "  {\n",
      "    \"userId\": 9,\n",
      "    \"id\": 88,\n",
      "    \"title\": \"sapiente omnis fugit eos\",\n",
      "    \"body\": \"consequatur omnis est praesentium\\nducimus non iste\\nneque hic deserunt\\nvoluptatibus veniam cum et rerum sed\"\n",
      "  },\n",
      "  {\n",
      "    \"userId\": 9,\n",
      "    \"id\": 89,\n",
      "    \"title\": \"sint soluta et vel magnam aut ut sed qui\",\n",
      "    \"body\": \"repellat aut aperiam totam temporibus autem et\\narchitecto magnam ut\\nconsequatur qui cupiditate rerum quia soluta dignissimos nihil iure\\ntempore quas est\"\n",
      "  },\n",
      "  {\n",
      "    \"userId\": 9,\n",
      "    \"id\": 90,\n",
      "    \"title\": \"ad iusto omnis odit dolor voluptatibus\",\n",
      "    \"body\": \"minus omnis soluta quia\\nqui sed adipisci voluptates illum ipsam voluptatem\\neligendi officia ut in\\neos soluta similique molestias praesentium blanditiis\"\n",
      "  },\n",
      "  {\n",
      "    \"userId\": 10,\n",
      "    \"id\": 91,\n",
      "    \"title\": \"aut amet sed\",\n",
      "    \"body\": \"libero voluptate eveniet aperiam sed\\nsunt placeat suscipit molestias\\nsimilique fugit nam natus\\nexpedita consequatur consequatur dolores quia eos et placeat\"\n",
      "  },\n",
      "  {\n",
      "    \"userId\": 10,\n",
      "    \"id\": 92,\n",
      "    \"title\": \"ratione ex tenetur perferendis\",\n",
      "    \"body\": \"aut et excepturi dicta laudantium sint rerum nihil\\nlaudantium et at\\na neque minima officia et similique libero et\\ncommodi voluptate qui\"\n",
      "  },\n",
      "  {\n",
      "    \"userId\": 10,\n",
      "    \"id\": 93,\n",
      "    \"title\": \"beatae soluta recusandae\",\n",
      "    \"body\": \"dolorem quibusdam ducimus consequuntur dicta aut quo laboriosam\\nvoluptatem quis enim recusandae ut sed sunt\\nnostrum est odit totam\\nsit error sed sunt eveniet provident qui nulla\"\n",
      "  },\n",
      "  {\n",
      "    \"userId\": 10,\n",
      "    \"id\": 94,\n",
      "    \"title\": \"qui qui voluptates illo iste minima\",\n",
      "    \"body\": \"aspernatur expedita soluta quo ab ut similique\\nexpedita dolores amet\\nsed temporibus distinctio magnam saepe deleniti\\nomnis facilis nam ipsum natus sint similique omnis\"\n",
      "  },\n",
      "  {\n",
      "    \"userId\": 10,\n",
      "    \"id\": 95,\n",
      "    \"title\": \"id minus libero illum nam ad officiis\",\n",
      "    \"body\": \"earum voluptatem facere provident blanditiis velit laboriosam\\npariatur accusamus odio saepe\\ncumque dolor qui a dicta ab doloribus consequatur omnis\\ncorporis cupiditate eaque assumenda ad nesciunt\"\n",
      "  },\n",
      "  {\n",
      "    \"userId\": 10,\n",
      "    \"id\": 96,\n",
      "    \"title\": \"quaerat velit veniam amet cupiditate aut numquam ut sequi\",\n",
      "    \"body\": \"in non odio excepturi sint eum\\nlabore voluptates vitae quia qui et\\ninventore itaque rerum\\nveniam non exercitationem delectus aut\"\n",
      "  },\n",
      "  {\n",
      "    \"userId\": 10,\n",
      "    \"id\": 97,\n",
      "    \"title\": \"quas fugiat ut perspiciatis vero provident\",\n",
      "    \"body\": \"eum non blanditiis soluta porro quibusdam voluptas\\nvel voluptatem qui placeat dolores qui velit aut\\nvel inventore aut cumque culpa explicabo aliquid at\\nperspiciatis est et voluptatem dignissimos dolor itaque sit nam\"\n",
      "  },\n",
      "  {\n",
      "    \"userId\": 10,\n",
      "    \"id\": 98,\n",
      "    \"title\": \"laboriosam dolor voluptates\",\n",
      "    \"body\": \"doloremque ex facilis sit sint culpa\\nsoluta assumenda eligendi non ut eius\\nsequi ducimus vel quasi\\nveritatis est dolores\"\n",
      "  },\n",
      "  {\n",
      "    \"userId\": 10,\n",
      "    \"id\": 99,\n",
      "    \"title\": \"temporibus sit alias delectus eligendi possimus magni\",\n",
      "    \"body\": \"quo deleniti praesentium dicta non quod\\naut est molestias\\nmolestias et officia quis nihil\\nitaque dolorem quia\"\n",
      "  },\n",
      "  {\n",
      "    \"userId\": 10,\n",
      "    \"id\": 100,\n",
      "    \"title\": \"at nam consequatur ea labore ea harum\",\n",
      "    \"body\": \"cupiditate quo est a modi nesciunt soluta\\nipsa voluptas error itaque dicta in\\nautem qui minus magnam et distinctio eum\\naccusamus ratione error aut\"\n",
      "  }\n",
      "]"
     ]
    }
   ],
   "source": [
    "!curl https://jsonplaceholder.typicode.com/posts\n"
   ]
  },
  {
   "cell_type": "code",
   "execution_count": 30,
   "metadata": {},
   "outputs": [
    {
     "name": "stdout",
     "output_type": "stream",
     "text": [
      "{\n",
      "  \"key\": \"value\",\n",
      "  \"name\": \"John\",\n",
      "  \"id\": 101\n",
      "}"
     ]
    }
   ],
   "source": [
    "!curl -X POST https://jsonplaceholder.typicode.com/posts \\\n",
    "-H \"Content-Type: application/json\" \\\n",
    "-d '{\"key\": \"value\", \"name\": \"John\"}'\n"
   ]
  },
  {
   "cell_type": "code",
   "execution_count": 31,
   "metadata": {},
   "outputs": [
    {
     "name": "stdout",
     "output_type": "stream",
     "text": [
      "200\n",
      "[{'userId': 1, 'id': 1, 'title': 'sunt aut facere repellat provident occaecati excepturi optio reprehenderit', 'body': 'quia et suscipit\\nsuscipit recusandae consequuntur expedita et cum\\nreprehenderit molestiae ut ut quas totam\\nnostrum rerum est autem sunt rem eveniet architecto'}, {'userId': 1, 'id': 2, 'title': 'qui est esse', 'body': 'est rerum tempore vitae\\nsequi sint nihil reprehenderit dolor beatae ea dolores neque\\nfugiat blanditiis voluptate porro vel nihil molestiae ut reiciendis\\nqui aperiam non debitis possimus qui neque nisi nulla'}]\n"
     ]
    }
   ],
   "source": [
    "import requests\n",
    "\n",
    "# Send a GET request to an API\n",
    "response = requests.get(\"https://jsonplaceholder.typicode.com/posts\")\n",
    "\n",
    "# Check the response status\n",
    "print(response.status_code)  # 200 means success\n",
    "\n",
    "# Access the response content\n",
    "data = response.json()\n",
    "print(data[:2])  # Print the first two records\n"
   ]
  },
  {
   "cell_type": "code",
   "execution_count": null,
   "metadata": {},
   "outputs": [
    {
     "name": "stdout",
     "output_type": "stream",
     "text": [
      "{'status': 'ok', 'totalResults': 21621, 'articles': [{'source': {'id': None, 'name': 'BBC News'}, 'author': None, 'title': \"Is China's AI tool DeepSeek as good as it seems?\", 'description': 'The artificial intelligence (AI) tool has shocked US markets after bursting onto the scene.', 'url': 'https://www.bbc.com/news/articles/cx2jxvn0r51o', 'urlToImage': 'https://ichef.bbci.co.uk/news/1024/branded_news/f331/live/2b4d01b0-dcd0-11ef-a37f-eba91255dc3d.jpg', 'publishedAt': '2025-01-27T20:11:50Z', 'content': \"DeepSeek, a Chinese AI-chatbot app which launched last week, has sparked chaos in the US markets and raised questions about the future of America's AI dominance. The BBC takes a look at how the app w… [+3590 chars]\"}, {'source': {'id': 'the-verge', 'name': 'The Verge'}, 'author': 'Jess Weatherbed', 'title': 'Elon Musk’s xAI adds ‘Big Brain’ reasoning to Grok-3', 'description': 'Elon Musk’s xAI unveiled Grok-3 on Tuesday, announcing that the new artificial intelligence model has “more than 10 times” the compute power of its predecessor. xAI said its latest flagship outperforms OpenAI’s GPT-4o, Google’s Gemini, and DeepSeek’s V3 model…', 'url': 'https://www.theverge.com/news/614218/elon-musk-xai-big-brain-reasoning-grok-3', 'urlToImage': 'https://platform.theverge.com/wp-content/uploads/sites/2/2025/02/STK262_GROK_A.png?quality=90&strip=all&crop=0%2C10.732984293194%2C100%2C78.534031413613&w=1200', 'publishedAt': '2025-02-18T11:42:55Z', 'content': 'X Premium Plus subscribers have first access to the flagship Grok model, but face a hefty price hike.\\r\\nX Premium Plus subscribers have first access to the flagship Grok model, but face a hefty price … [+2238 chars]'}, {'source': {'id': 'the-verge', 'name': 'The Verge'}, 'author': 'David Pierce', 'title': 'Elon Musk: agent of chaos', 'description': 'Itâ\\x80\\x99s hard to think of a time when a single figure has been so central to seemingly everything in the way that Elon Musk is right now. Musk is overseeing and overhauling the federal government, while bending it toward his own financial gain. Heâ\\x80\\x99s also ubiq…', 'url': 'https://www.theverge.com/the-vergecast/612923/elon-musk-doge-openai-vergecast', 'urlToImage': 'https://platform.theverge.com/wp-content/uploads/sites/2/2025/02/257561_VERGECAST_DOGE_CVirginia_VRG_0207_Site.png?quality=90&strip=all&crop=0%2C10.732984293194%2C100%2C78.534031413613&w=1200', 'publishedAt': '2025-02-14T14:25:55Z', 'content': 'On The Vergecast: GPT-5, DOGE, ScarJo, and Studio Displays. And a lot of fake transparency.\\r\\nOn The Vergecast: GPT-5, DOGE, ScarJo, and Studio Displays. And a lot of fake transparency.\\r\\nIts hard to t… [+2321 chars]'}, {'source': {'id': 'the-verge', 'name': 'The Verge'}, 'author': 'Jay Peters', 'title': 'Apple makes a change to its AI team and plans Siri upgrades', 'description': 'Apple’s Kim Vorrath, who helped get Vision Pro software out the door, has been brought over to Apple’s AI division, Bloomberg reports.', 'url': 'https://www.theverge.com/2025/1/24/24351391/apple-change-ai-team-siri-upgrades-kim-vorrath', 'urlToImage': 'https://cdn.vox-cdn.com/thumbor/SLPLACy9HgNc8serFgUbQqhUOEM=/0x0:2040x1360/1200x628/filters:focal(1020x680:1021x681)/cdn.vox-cdn.com/uploads/chorus_asset/file/25697385/STK071_APPLE_E.jpg', 'publishedAt': '2025-01-24T23:44:05Z', 'content': 'Apple makes a change to its AI team and plans Siri upgrades\\r\\nApple makes a change to its AI team and plans Siri upgrades\\r\\n / It appears Apple may see AI as the future, not the Vision Pro.\\r\\nByJay Pete… [+1532 chars]'}, {'source': {'id': None, 'name': 'MacRumors'}, 'author': 'Joe Rossignol', 'title': \"Apple Reportedly 'Passed Over' DeepSeek as Apple Intelligence Partner\", 'description': 'Apple in recent months \"passed over\" the Chinese artificial intelligence company DeepSeek, according to The Information.\\n\\n\\n\\n\\n\\nDeepSeek has garnered significant media attention over the past few weeks, as it developed an artificial intelligence model at a lowe…', 'url': 'https://www.macrumors.com/2025/02/11/apple-reportedly-passed-over-deepseek/', 'urlToImage': 'https://images.macrumors.com/t/M2A51Dg_0tteMenthsWX6iCzgok=/1600x/article-new/2024/09/Apple-Intelligence-iPhone-16.jpg', 'publishedAt': '2025-02-11T14:54:38Z', 'content': 'Apple in recent months \"passed over\" the Chinese artificial intelligence company DeepSeek, according to The Information.\\r\\nDeepSeek has garnered significant media attention over the past few weeks, as… [+1527 chars]'}, {'source': {'id': None, 'name': 'Gizmodo.com'}, 'author': 'Margherita Bassi', 'title': 'If Aliens Spot Us First, What Signs of Intelligence Will They See?', 'description': 'In a theoretical study, researchers explored how a twin Earth with human-like life and technology might detect our technosignatures.', 'url': 'https://gizmodo.com/if-aliens-spot-us-first-what-signs-of-intelligence-will-they-see-2000559505', 'urlToImage': 'https://gizmodo.com/app/uploads/2025/02/Earth-detecting-Earth-illustration.jpg', 'publishedAt': '2025-02-09T13:00:02Z', 'content': 'Having yet to discover any evidence of extraterrestrial life, its difficult to theorize about the kinds of beings that might exist beyond the reaches of our telescopes. Could there be an Earth-like p… [+3165 chars]'}, {'source': {'id': None, 'name': 'CNET'}, 'author': 'Samantha Kelly', 'title': 'Apple Intelligence Will Get an Adaptation for iPhones in China, Report Says', 'description': \"Apple's leaning on companies including Chinese tech giants Alibaba and Baidu to adapt its artificial intelligence system to meet regulatory requirements, according to Bloomberg.\", 'url': 'https://www.cnet.com/tech/mobile/apple-intelligence-will-get-an-adaptation-for-iphones-in-china-report-says/', 'urlToImage': 'https://www.cnet.com/a/img/resize/abe3483490732754c8fd72641ea3a1d056c79ae1/hub/2024/09/13/b683520f-aec3-40f9-86c8-bf1cf30e7044/apple-iphone-16-2782.jpg?auto=webp&fit=crop&height=675&width=1200', 'publishedAt': '2025-02-14T17:02:00Z', 'content': \"Apple is reportedly working with local partners to bring Apple Intelligence to China later this year, including adaptations to comply with the Chinese government's expectations of keeping iPhone user… [+2418 chars]\"}, {'source': {'id': 'business-insider', 'name': 'Business Insider'}, 'author': 'Lauren Edmonds,Katie Balevic', 'title': \"Timothée Chalamet and the 'Saturday Night Live' cast parody the state of AI in schools\", 'description': \"Timothée Chalamet hosted 'Saturday Night Live,' where he and cast member Bowen Yang poked fun at artificial intelligence.\", 'url': 'https://www.businessinsider.com/timothee-chalamet-snl-joke-ai-schools-2025-1', 'urlToImage': 'https://i.insider.com/6796748eeb4be2fff9a22be4?width=1200&format=jpeg', 'publishedAt': '2025-01-26T19:56:32Z', 'content': \"Timothée Chalamet hosts and acts as the musical guest on SNL.NBC/Will Heath/NBC via Getty Images\\r\\n<ul><li>Timothée Chalamet hosted 'SNL' and joked about AI's role in education.</li><li>AI is being in… [+2186 chars]\"}, {'source': {'id': 'the-verge', 'name': 'The Verge'}, 'author': 'Quentyn Kennemer', 'title': 'Google Meet’s AI transcripts will automatically create action items for you', 'description': 'Google Meet’s Gemini-powered note-taking feature is getting a bit more useful for Workspace teams. It will now generate a checklist of suggested next steps at the end of your meetings, going as far as assigning due dates and attaching a primary stakeholder to…', 'url': 'https://www.theverge.com/news/614742/google-meet-gemini-ai-note-taking-action-items', 'urlToImage': 'https://platform.theverge.com/wp-content/uploads/sites/2/2025/02/STK093_GOOGLE_B.jpg?quality=90&strip=all&crop=0%2C10.732984293194%2C100%2C78.534031413613&w=1200', 'publishedAt': '2025-02-18T20:52:51Z', 'content': 'The feature starts rolling out today.\\r\\nThe feature starts rolling out today.\\r\\nGoogle Meets Gemini-powered note-taking feature is getting a bit more useful for Workspace teams. It will now generate a … [+1112 chars]'}, {'source': {'id': None, 'name': 'BBC News'}, 'author': None, 'title': 'Musk-led group makes $97.4bn bid for ChatGPT maker OpenAI', 'description': 'The billionaire\\'s attorney, Marc Toberoff, confirmed he submitted the bid for \"all assets\" of the company on Monday.', 'url': 'https://www.bbc.com/news/articles/cpdx75zgg88o', 'urlToImage': 'https://ichef.bbci.co.uk/news/1024/branded_news/3782/live/172cffc0-e7fa-11ef-820f-454965856ce5.jpg', 'publishedAt': '2025-02-10T22:16:05Z', 'content': 'A consortium of investors led by Elon Musk offered $97.4bn to take over OpenAI, the maker of ChatGPT.\\r\\nThe billionaire\\'s attorney, Marc Toberoff, confirmed he submitted the bid for \"all assets\" of th… [+1669 chars]'}, {'source': {'id': None, 'name': 'Vatican.va'}, 'author': None, 'title': 'Note on the Relationship Between Artificial Intelligence and Human Intelligence', 'description': 'Antiqua et nova. Note\\xa0on the Relationship Between Artificial Intelligence and Human Intelligence, 28 January 2025', 'url': 'https://www.vatican.va/roman_curia/congregations/cfaith/documents/rc_ddf_doc_20250128_antiqua-et-nova_en.html', 'urlToImage': None, 'publishedAt': '2025-01-30T14:01:27Z', 'content': '[DE \\r\\n - \\r\\n EN - \\r\\n ES - \\r\\n IT] \\r\\nDICASTERY FOR THE DOCTRINE OF THE FAITHDICASTERY FOR CULTURE AND EDUCATION\\r\\nANTIQUA ET NOVA\\r\\nNote on the Relationship Between Artificial Intelligence and Human Intel… [+137702 chars]'}, {'source': {'id': None, 'name': 'Hipertextual'}, 'author': 'Gabriel Erard', 'title': 'Apple rechazó integrar DeepSeek en Apple Intelligence', 'description': 'El furor por DeepSeek parece haberse apaciguado, pero la IA china sigue siendo noticia. Según reporta The Information, Apple la tuvo en consideración para integrarla en Apple Intelligence, pero finalmente la rechazó. No obstante, no menciona cuáles habrían si…', 'url': 'http://hipertextual.com/2025/02/deepseek-apple-intelligence-china', 'urlToImage': 'https://i0.wp.com/imgs.hipertextual.com/wp-content/uploads/2024/09/Apple-iPhone-16-Apple-Intelligence-240909-scaled.jpg?fit=2560%2C1440&quality=70&strip=all&ssl=1', 'publishedAt': '2025-02-11T17:14:00Z', 'content': 'El furor por DeepSeek parece haberse apaciguado, pero la IA china sigue siendo noticia. Según reporta The Information, Apple la tuvo en consideración para integrarla en Apple Intelligence, pero final… [+2650 chars]'}, {'source': {'id': None, 'name': 'Gizmodo.com'}, 'author': 'Thomas Maxwell', 'title': 'OpenAI Is Launching Specialized ChatGPT for Government Use', 'description': 'The product is not approved for government use yet, but OpenAI of course hopes President Trump will speed things up.', 'url': 'https://gizmodo.com/openai-is-launching-specialized-chatgpt-for-government-use-2000555772', 'urlToImage': 'https://gizmodo.com/app/uploads/2024/12/GettyImages-1754907256.jpg', 'publishedAt': '2025-01-28T17:35:35Z', 'content': 'OpenAI announced on Tuesday a new version of ChatGPT tailored specifically for government use. ChatGPT Gov, as it is called, appears to be something akin to giving Malibu Stacy a new hat.\\r\\nThe major … [+3807 chars]'}, {'source': {'id': None, 'name': 'Yahoo Entertainment'}, 'author': 'South China Morning Post', 'title': 'Alibaba offers DeepSeek on cloud service after Microsoft, Amazon and Huawei', 'description': \"Alibaba Group Holding's cloud-computing services unit on Monday made available DeepSeek's artificial intelligence (AI) models on its platform, following...\", 'url': 'https://www.yahoo.com/tech/alibaba-offers-deepseek-cloud-microsoft-093000051.html', 'urlToImage': 'https://s.yimg.com/ny/api/res/1.2/gwLd9SLiWD9ub7RuVauyTQ--/YXBwaWQ9aGlnaGxhbmRlcjt3PTEyMDA7aD04MDA-/https://media.zenfs.com/en/south_china_morning_post_us_228/9f7442d11f2f0165f6aa84328717e9b8', 'publishedAt': '2025-02-03T09:30:00Z', 'content': \"Alibaba Group Holding's cloud-computing services unit on Monday made available DeepSeek's artificial intelligence (AI) models on its platform, following moves by other Big Tech companies to bring the… [+5033 chars]\"}, {'source': {'id': None, 'name': 'Gizmodo.com'}, 'author': 'Matthew Gault', 'title': 'Quartz’s New AI Slop Is Regurgitated AI Slop', 'description': \"The business website's AI writers are scraping information from other AI writers, enabling a loop of generated garbage.\", 'url': 'https://gizmodo.com/quartzs-new-ai-slop-is-regurgitated-ai-slop-2000555973', 'urlToImage': 'https://gizmodo.com/app/uploads/2025/01/AutomatedWriter.jpg', 'publishedAt': '2025-01-28T20:00:48Z', 'content': 'The Quartz Intelligence Newsroom, a generative AI writer, has churned out 20 stories today so far. To do this it digests the news from a wide range of sources, including local news affiliates, Reuter… [+3079 chars]'}, {'source': {'id': None, 'name': 'Gizmodo.com'}, 'author': 'Lorelei Kelly, The Conversation', 'title': 'The Communications Tech Used by Congress Is Absurdly Out of Date', 'description': 'The technology that runs Congress lags so far behind the modern world that its flag-tracking system just caught up to 2017-era Pizza Hut.', 'url': 'https://gizmodo.com/the-communications-tech-used-by-congress-is-absurdly-out-of-date-2000555700', 'urlToImage': 'https://gizmodo.com/app/uploads/2025/01/file-20250115-15-gjkj4m.jpg', 'publishedAt': '2025-01-28T13:22:21Z', 'content': 'On a typical day, you cant turn on the news without hearing someone say that Congress is broken. The implication is that this dereliction explains why the institution is inert and unresponsive to the… [+7125 chars]'}, {'source': {'id': 'time', 'name': 'Time'}, 'author': 'Billy Perrigo/Paris', 'title': 'Safety Takes A Backseat At Paris AI Summit, As U.S. Pushes for Less Regulation', 'description': 'At the Paris AI Action Summit, safety concerns took a backseat to optimism as world leaders backed artificial intelligence.', 'url': 'https://time.com/7221384/ai-regulation-takes-backseat-paris-summit/', 'urlToImage': 'https://api.time.com/wp-content/uploads/2025/02/ai-action-summit-paris.jpg?quality=85&w=1024&h=628&crop=1', 'publishedAt': '2025-02-11T21:35:43Z', 'content': 'Safety concerns are out, optimism is in: that was the takeaway from a major artificial intelligence summit in Paris this week, as leaders from the U.S., France, and beyond threw their weight behind t… [+4852 chars]'}, {'source': {'id': None, 'name': 'VentureBeat'}, 'author': 'Michael Nuñez', 'title': 'Anthropic CEO Dario Amodei warns: AI will match ‘country of geniuses’ by 2026', 'description': 'Anthropic CEO Dario Amodei warns AI will reach genius-level capabilities by 2026, calling Paris Summit a \"missed opportunity\" as U.S. and European leaders clash over regulation of rapidly advancing artificial intelligence systems.', 'url': 'https://venturebeat.com/ai/anthropic-ceo-dario-amodei-warns-ai-will-match-country-of-geniuses-by-2026/', 'urlToImage': 'https://venturebeat.com/wp-content/uploads/2025/02/nuneybits_Vector_art_of_artificial_intelligence_risk_exisential_d765ac11-0402-4b30-a3ac-0e723de7844e.webp?w=853?w=1200&strip=all', 'publishedAt': '2025-02-12T01:27:00Z', 'content': 'Join our daily and weekly newsletters for the latest updates and exclusive content on industry-leading AI coverage. Learn More\\r\\nArtificial intelligence will match the collective intelligence of a cou… [+3249 chars]'}, {'source': {'id': None, 'name': 'Yahoo Entertainment'}, 'author': 'Yahoo Finance', 'title': \"Big Tech's AI spending, Treasury yields plunge: Market Takeaways\", 'description': 'US stocks (^GSPC,\\xa0^IXIC,\\xa0^DJI) closed higher as Nvidia (NVDA) shares rose over 5%. This is driven by continued artificial intelligence (AI...', 'url': 'https://finance.yahoo.com/video/big-techs-ai-spending-treasury-223500025.html', 'urlToImage': 'https://s.yimg.com/ny/api/res/1.2/IaSZu3IU5gJQS4GPZlglkw--/YXBwaWQ9aGlnaGxhbmRlcjt3PTEyMDA7aD02NzY-/https://s.yimg.com/os/creatr-uploaded-images/2025-02/62a7f9c0-e410-11ef-bfdf-395da33657eb', 'publishedAt': '2025-02-05T22:35:00Z', 'content': 'US stocks (^GSPC, ^IXIC, ^DJI) closed higher as Nvidia (NVDA) shares rose over 5%. This is driven by continued artificial intelligence (AI) investments from Big Tech despite initial concerns about re… [+582 chars]'}, {'source': {'id': None, 'name': 'Yahoo Entertainment'}, 'author': 'Seana Smith', 'title': \"Does China's DeepSeek derail Big Tech earnings? Not exactly.\", 'description': \"Chinese artificial intelligence startup DeepSeek's new AI model sparks worries about global AI competition, sending US stocks (^DJI,^GSPC, ^IXIC) sharply...\", 'url': 'https://finance.yahoo.com/video/does-chinas-deepseek-derail-big-162853808.html', 'urlToImage': 'https://s.yimg.com/ny/api/res/1.2/VMXoMDm3uuFgBWUFyGIVdQ--/YXBwaWQ9aGlnaGxhbmRlcjt3PTEyMDA7aD02NzU-/https://s.yimg.com/os/creatr-uploaded-images/2025-01/0ec90da0-dcc5-11ef-b6ff-0e8091f1af08', 'publishedAt': '2025-01-27T16:28:53Z', 'content': \"Chinese artificial intelligence startup DeepSeek's new AI model sparks worries about global AI competition, sending US stocks (^DJI,^GSPC, ^IXIC) sharply lower on Monday. Chipmakers Nvidia (NVDA) and… [+1817 chars]\"}, {'source': {'id': None, 'name': 'Yahoo Entertainment'}, 'author': 'Reuters', 'title': \"China's DeepSeek sets off AI market rout\", 'description': 'SINGAPORE (Reuters) -Nasdaq futures slumped and technology shares slid in Japan on Monday as surging popularity of a Chinese discount artificial intelligence...', 'url': 'https://finance.yahoo.com/news/chinas-deepseek-sets-off-ai-071458375.html', 'urlToImage': 'https://media.zenfs.com/en/reuters-finance.com/e2f802a4d28f65fa03f577bb84b7004b', 'publishedAt': '2025-01-27T07:14:58Z', 'content': \"SINGAPORE (Reuters) -Nasdaq futures slumped and technology shares slid in Japan on Monday as surging popularity of a Chinese discount artificial intelligence model wobbled investors' faith in the pro… [+2988 chars]\"}, {'source': {'id': None, 'name': 'Yahoo Entertainment'}, 'author': 'Julie Hyman', 'title': 'What is DeepSeek?', 'description': 'DeepSeek, a Chinese artificial intelligence (AI) startup founded in 2023, is gaining attention following the January 20th release of its open-source R1 model...', 'url': 'https://finance.yahoo.com/video/deepseek-205942949.html', 'urlToImage': 'https://s.yimg.com/ny/api/res/1.2/gn8yydkYs8GpXP3CO6Xjaw--/YXBwaWQ9aGlnaGxhbmRlcjt3PTEyMDA7aD02NzY-/https://s.yimg.com/os/creatr-uploaded-images/2025-01/109f2930-dcf1-11ef-be8d-5f120c9939ee', 'publishedAt': '2025-01-27T20:59:42Z', 'content': \"DeepSeek, a Chinese artificial intelligence (AI) startup founded in 2023, is gaining attention following the January 20th release of its open-source R1 model, which rivals OpenAI's o1 model.\\r\\nMarket … [+591 chars]\"}, {'source': {'id': None, 'name': 'Yahoo Entertainment'}, 'author': 'Josh Lipton', 'title': \"Investors more 'selective' after DeepSeek sparked tech sell-off\", 'description': \"The emergence of Chinese startup DeepSeek's artificial intelligence (AI) model rattled US stock markets on Monday, triggering a broad sell-off across the...\", 'url': 'https://finance.yahoo.com/video/investors-more-selective-deepseek-sparked-222825586.html', 'urlToImage': 'https://s.yimg.com/ny/api/res/1.2/f8FLWPeXRGW2xjtW9mIJtA--/YXBwaWQ9aGlnaGxhbmRlcjt3PTEyMDA7aD02NzY-/https://s.yimg.com/os/creatr-uploaded-images/2025-01/8af46b50-ddc3-11ef-bfbd-9a5c905f7349', 'publishedAt': '2025-01-28T22:28:25Z', 'content': \"The emergence of Chinese startup DeepSeek's artificial intelligence (AI) model rattled US stock markets on Monday, triggering a broad sell-off across the technology sector. Stocktwits editor-in-chief… [+839 chars]\"}, {'source': {'id': None, 'name': 'Yahoo Entertainment'}, 'author': 'Seana Smith', 'title': \"Don't confuse consumer AI with Big Tech's enterprise initiatives\", 'description': 'Big Tech companies are spending big on artificial intelligence (AI), with Amazon (AMZN) set to spend more than $100 billion in capital expenditures in 2025. ...', 'url': 'https://finance.yahoo.com/video/dont-confuse-consumer-ai-big-174121164.html', 'urlToImage': 'https://s.yimg.com/ny/api/res/1.2/8Dr4HrbeQ1jX6mv4noE.Sg--/YXBwaWQ9aGlnaGxhbmRlcjt3PTEyMDA7aD02NzY-/https://s.yimg.com/os/creatr-uploaded-images/2025-02/d9163e70-e576-11ef-b67d-b1d6290f3a93', 'publishedAt': '2025-02-07T17:41:21Z', 'content': 'Big Tech companies are spending big on artificial intelligence (AI), with Amazon (AMZN) set to spend more than $100 billion in capital expenditures in 2025.\\r\\nFaisal Hoque, author of Transcend: Unlock… [+939 chars]'}, {'source': {'id': None, 'name': 'Gizmodo.com'}, 'author': 'Kyle Barr', 'title': 'OpenAI’s GPT-4.5 May Arrive Next Week, but GPT-5 Is Just Around the Corner', 'description': 'The next landmark version of OpenAI\\'s ChatGPT could use GPT-5, but don\\'t start assuming this will have any semblance of \"AGI.\"', 'url': 'https://gizmodo.com/openais-gpt-4-5-may-arrive-next-week-but-gpt-5-is-just-around-the-corner-2000566442', 'urlToImage': 'https://gizmodo.com/app/uploads/2024/05/72304a9885903a2bfcba79ca40608c30-e1740080089739.jpg', 'publishedAt': '2025-02-20T20:06:06Z', 'content': 'OpenAI may be preparing to slap a new coat of paint on ChatGPT with an updated AI model, GPT-4.5, as early as next week. If that’s not enough to get users excited, the Sam Altman-led company is on th… [+3418 chars]'}, {'source': {'id': None, 'name': 'Gizmodo.com'}, 'author': 'Germain Lussier', 'title': 'Mission: Impossible – The Final Reckoning Continues to Look Bonkers', 'description': 'New footage from the Tom Cruise action sequel just debuted during the Super Bowl.', 'url': 'https://gizmodo.com/mission-impossible-the-final-reckoning-trailer-superbowl-2000558529', 'urlToImage': 'https://gizmodo.com/app/uploads/2025/02/Mission-Impossible-8-Cruise.jpg', 'publishedAt': '2025-02-09T23:36:23Z', 'content': 'Your mission, should you choose to accept it, is to realize the eighth Mission: Impossible movie is finally hitting theaters this year. We know. It’s hard to believe after so many starts, stops, dela… [+1709 chars]'}, {'source': {'id': None, 'name': 'Hackaday'}, 'author': 'Bryan Cockfield', 'title': 'Genetic Algorithm Runs on Atari 800 XL', 'description': 'For the last few years or so, the story in the artificial intelligence that was accepted without question was that all of the big names in the field needed more compute, more resources, more energy…', 'url': 'https://hackaday.com/2025/02/21/genetic-algorithm-runs-on-atari-800-xl/', 'urlToImage': 'https://hackaday.com/wp-content/uploads/2025/02/genetic-basic-main.png', 'publishedAt': '2025-02-22T03:00:00Z', 'content': 'For the last few years or so, the story in the artificial intelligence that was accepted without question was that all of the big names in the field needed more compute, more resources, more energy, … [+1773 chars]'}, {'source': {'id': None, 'name': 'Hackaday'}, 'author': 'Donald Papp', 'title': 'AI Mistakes Are Different, and That’s a Problem', 'description': 'People have been making mistakes — roughly the same ones — since forever, and we’ve spent about the same amount of time learning to detect and mitigate them. Artificial Intelligence …read more', 'url': 'https://hackaday.com/2025/01/25/ai-mistakes-are-different-and-thats-a-problem/', 'urlToImage': 'https://hackaday.com/wp-content/uploads/2024/06/LargeLanguageModel.jpg', 'publishedAt': '2025-01-25T12:00:19Z', 'content': 'People have been making mistakes — roughly the same ones — since forever, and we’ve spent about the same amount of time learning to detect and mitigate them. Artificial Intelligence (AI) systems make… [+2044 chars]'}, {'source': {'id': 'the-next-web', 'name': 'The Next Web'}, 'author': 'The Conversation', 'title': 'Will AI revolutionise drug development? Researchers say it depends on how it’s\\xa0used', 'description': 'The potential of using artificial intelligence in drug discovery and development has sparked both excitement and skepticism among scientists, investors and the general public. “Artificial intelligence is taking over drug development,” claim some companies and…', 'url': 'https://thenextweb.com/news/ai-revolutionize-drug-development-researchers-say-depends', 'urlToImage': 'https://img-cdn.tnwcdn.com/image/tnw-blurple?filter_last=1&fit=1280%2C640&url=https%3A%2F%2Fcdn0.tnwcdn.com%2Fwp-content%2Fblogs.dir%2F1%2Ffiles%2F2025%2F02%2Fdanilo-alvesd-a7OdG45prSM-unsplash.jpg&signature=d58b7fce55d3a919704e85a7a3d84c06', 'publishedAt': '2025-02-05T06:30:05Z', 'content': 'The potential of using artificial intelligence in drug discovery and development has sparked both excitementand skepticism among scientists, investors and the general public.\\r\\nArtificial intelligence… [+7161 chars]'}, {'source': {'id': None, 'name': 'Thedailywtf.com'}, 'author': 'Lyle Seaman', 'title': \"Error'd: Artificial Average Intelligence\", 'description': 'I have a feeling we\\'re going to be seeing a lot of AI WTFerry at this site for a while, and fewer stupid online sales copy booboos. For today, here we go:\\n\\n\\nJet-setter\\nStewart\\n wants to sell a pound, but he\\'s going to have to cover some ground first.\\n\"Looks l…', 'url': 'https://thedailywtf.com/articles/artificial-average-intelligence', 'urlToImage': 'https://thedailywtf.com/images/imageslws/viking.jpg', 'publishedAt': '2025-02-07T06:30:00Z', 'content': \"I have a feeling we're going to be seeing a lot of AI WTFerry at this site for a while, and fewer stupid online sales copy booboos. For today, here we go:\\r\\nJet-setter\\r\\nStewart\\r\\n wants to sell a pound… [+1565 chars]\"}, {'source': {'id': 'wired', 'name': 'Wired'}, 'author': 'Dell Cameron', 'title': \"ACLU Warns DOGE's 'Unchecked' Access Could Violate Federal Law\", 'description': \"The ACLU says it stands ready to sue for access to government records that detail DOGE's access to sensitive personnel data.\", 'url': 'https://www.wired.com/story/aclu-doge-congress-musk-data/', 'urlToImage': 'https://media.wired.com/photos/67a648b3cf2b1683d0938ebb/191:100/w_1280,c_limit/politics_ACLU_GettyImages-1011178370.jpg', 'publishedAt': '2025-02-07T21:43:33Z', 'content': 'The American Civil Liberties Union (ACLU) told federal lawmakers on Friday that Elon Musk and his Department of Government Efficiency (DOGE) have seized control over a number of federal computer syst… [+3166 chars]'}, {'source': {'id': None, 'name': 'Hipertextual'}, 'author': 'Gabriel Erard', 'title': 'iOS 18.3 ya está aquí, con cambios en Apple Intelligence', 'description': 'Apple ha lanzado la actualización a la versión estable de iOS 18.3 y iPadOS 18.3. En ambos casos, las novedades que llegan no son demasiadas, aunque sí están enfocadas en tratar de mejorar la experiencia general con Apple Intelligence. Si nos enfocamos en el …', 'url': 'http://hipertextual.com/2025/01/ios-18-3-ya-esta-aqui-con-cambios-en-apple-intelligence', 'urlToImage': 'https://imgs.hipertextual.com/wp-content/uploads/2024/10/apple-visual-intelligence-iphone-16-scaled.jpg', 'publishedAt': '2025-01-27T20:26:32Z', 'content': 'Apple ha lanzado la actualización a la versión estable de iOS 18.3 y iPadOS 18.3. En ambos casos, las novedades que llegan no son demasiadas, aunque sí están enfocadas en tratar de mejorar la experie… [+3407 chars]'}, {'source': {'id': 'wired', 'name': 'Wired'}, 'author': 'Megan Farokhmanesh', 'title': 'Xbox Pushes Ahead With Muse, a New Generative AI Model. Devs Say ‘Nobody Will Want This’', 'description': 'One developer responds to the release of Muse: “We are implicitly empowering a class of people who own these tools and don’t give a fuck about how they reshape our lives.”', 'url': 'https://www.wired.com/story/xbox-muse-generative-ai-developers-say-nobody-will-want-this/', 'urlToImage': 'https://media.wired.com/photos/67b625e76a64639303b5db9c/191:100/w_1280,c_limit/XBOX-Muse-AI-Engine-Culture-1242702182.jpg', 'publishedAt': '2025-02-19T21:40:40Z', 'content': 'Microsoft is wading deeper into generative artificial intelligence for gaming with Muse, a new AI model announced today. The model, which was trained on Ninja Theorys multiplayer game Bleeding Edge, … [+2921 chars]'}, {'source': {'id': None, 'name': 'NPR'}, 'author': 'Maria Aspan', 'title': 'U.S. stock markets tumble as investors worry about DeepSeek', 'description': \"The Chinese A.I. company may be about to burst Silicon Valley's bubble.\", 'url': 'https://www.npr.org/2025/01/27/nx-s1-5276097/wall-street-stock-markets-tumble-deepseek-ai-tech-stock', 'urlToImage': 'https://npr.brightspotcdn.com/dims3/default/strip/false/crop/5337x3002+0+118/resize/1400/quality/100/format/jpeg/?url=http%3A%2F%2Fnpr-brightspot.s3.amazonaws.com%2F4a%2F14%2F18db4dcf4238b62006883cfe8121%2Fgettyimages-2195596223.jpg', 'publishedAt': '2025-01-27T16:43:15Z', 'content': \"China may be about to burst Silicon Valley's A.I. bubble\\r\\n and Wall Street is freaking out.\\r\\nU.S. tech stocks plunged on Monday, amid a wider market selloff. The culprit: DeepSeek, a Chinese artifici… [+1252 chars]\"}, {'source': {'id': None, 'name': 'Veeto.app'}, 'author': None, 'title': 'New California bill might block the \"AI did it\" defense in civil cases', 'description': 'Hold California accountable. Check out AB-316: Artificial intelligence: defenses.', 'url': 'https://www.veeto.app/bill/1941749?tab=Overview', 'urlToImage': 'https://www.veeto.app/og-image.jpg', 'publishedAt': '2025-02-01T19:50:35Z', 'content': \"Assembly Member Krell's artificial intelligence liability measure addresses a growing question in civil litigation by preventing defendants from claiming AI systems autonomously caused harm to plaint… [+1130 chars]\"}, {'source': {'id': None, 'name': 'Gizmodo.com'}, 'author': 'Matthew Gault', 'title': 'Remember When Nanotech Was the Next Big Thing?', 'description': \"As the market reckons with AI's future, it's good to remember that we've been through this boom and bust hype cycle with technology before.\", 'url': 'https://gizmodo.com/remember-when-nanotech-was-the-next-big-thing-2000555775', 'urlToImage': 'https://gizmodo.com/app/uploads/2025/01/NanoTech2005.jpg', 'publishedAt': '2025-01-28T16:15:30Z', 'content': 'Tell me if any of this sounds familiar.\\r\\nIn the early 2000s, after the collapse of the dotcom bubble, a new technology was set to change humanity and line inventors pockets. Venture capitalists inves… [+5427 chars]'}, {'source': {'id': None, 'name': 'Gizmodo.com'}, 'author': 'Sabina Graves', 'title': 'Harrison Ford Knows Real Actor Imitations of His Characters Are Way Better Than AI', 'description': 'The national treasure and star of Captain America: Brave New World dismisses the use of lifeless tech.', 'url': 'https://gizmodo.com/harrison-ford-knows-real-actor-imitations-of-his-characters-are-way-better-than-ai-2000560028', 'urlToImage': 'https://gizmodo.com/app/uploads/2025/02/indiana-jones-and-the-great-circle-1.jpg', 'publishedAt': '2025-02-06T00:45:56Z', 'content': 'Any time Harrison Ford goes on a press tour to do his actorly duty of talking about his latest projectright now that’s his Marvel Cinematic Universe debut,\\xa0Captain America: Brave New Worldhe’s unavoi… [+1719 chars]'}, {'source': {'id': None, 'name': 'Svpow.com'}, 'author': None, 'title': 'If you believe in \"Artificial Intelligence\", take five minutes to ask it', 'description': 'Here’s a Mastodon thread from a year ago. Just a quick check on how ChatGPT’s getting on … Me: Who reassigned the species Brachiosaurus brancai to its own genus, and when? ChatGPT…', 'url': 'https://svpow.com/2025/02/14/if-you-believe-in-artificial-intelligence-take-five-minutes-to-ask-it-about-stuff-you-know-well/', 'urlToImage': 'https://s0.wp.com/i/blank.jpg', 'publishedAt': '2025-02-15T08:15:59Z', 'content': 'Here’s a Mastodon thread from a year ago.\\r\\nJust a quick check on how ChatGPT’s getting on …\\r\\nMe: Who reassigned the species Brachiosaurus brancai to its own genus, and when?\\r\\nChatGPT: The species Bra… [+4976 chars]'}, {'source': {'id': None, 'name': 'Gizmodo.com'}, 'author': 'Lucas Ropek', 'title': 'Oscars Consider New AI Disclosure Rules Over Controversies with The Brutalist, Other Films', 'description': 'Currently, the Academy has optional disclosure rules for the use of artificial intelligence.', 'url': 'https://gizmodo.com/oscars-consider-new-ai-disclosure-rules-over-controversies-with-the-brutalist-other-films-2000561237', 'urlToImage': 'https://gizmodo.com/app/uploads/2019/12/ivlktb00jg2jqda6tzex.jpg', 'publishedAt': '2025-02-09T18:10:33Z', 'content': 'Brady Corbet’s The Brutalist has wowed audiences with its epic scope, striking cinematography, and vast runtime, but the film has also run into trouble over its use of AI to modulate the voices of it… [+2339 chars]'}, {'source': {'id': 'fox-news', 'name': 'Fox News'}, 'author': 'Kurt Knutsson, CyberGuy Report', 'title': 'Willing to pay $175,000 for a life-size robot friend that remembers everything about you?', 'description': 'Melody, the artificial intelligence-powered robot, is life-sized and represents a move toward creating robots that resemble people in appearance and interaction.', 'url': 'https://www.foxnews.com/tech/willing-pay-175000-life-size-robot-friend-remembers-everything-about-you', 'urlToImage': 'https://static.foxnews.com/foxnews.com/content/uploads/2025/01/1-willing-to-pay-175000-for-a-life-size-robot-friend-that-remembers-everything-about-you.jpg', 'publishedAt': '2025-01-25T11:00:00Z', 'content': 'In a world where loneliness is becoming increasingly prevalent, researchers have taken a bold step forward by introducing Melody, a life-sized artificial intelligence robot designed to combat this gr… [+4044 chars]'}, {'source': {'id': 'fox-news', 'name': 'Fox News'}, 'author': 'Kurt Knutsson, CyberGuy Report', 'title': 'How to not fall in love with AI-powered romance scammers', 'description': 'Kurt \"CyberGuy\" Knutsson explains how to protect yourself against artificial intelligence-fueled romance scams, which have become the most common type of fraud in 2025.', 'url': 'https://www.foxnews.com/tech/how-not-fall-love-ai-powered-romance-scammers', 'urlToImage': 'https://static.foxnews.com/foxnews.com/content/uploads/2025/02/2-how-to-not-fall-in-love-with-ai-powered-romance-scammers.jpg', 'publishedAt': '2025-02-12T15:00:51Z', 'content': '\"Love is blind\" takes on a more sinister meaning when so-called artificial intelligence (AI) becomes a tool for exploiting our deepest human emotions.\\xa0\\r\\nConvincing AI technologies are increasingly ta… [+10691 chars]'}, {'source': {'id': None, 'name': 'MacRumors'}, 'author': 'Juli Clover', 'title': 'Like Apple, Meta is Working on Humanoid Robots', 'description': 'Facebook parent company Meta is investing heavily in AI-powered humanoid robots, according to a report from Bloomberg. Meta wants to create robots that can act like humans and help people with physical tasks, and has developed a new team in its Reality Labs h…', 'url': 'https://www.macrumors.com/2025/02/14/meta-humanoid-robots-development/', 'urlToImage': 'https://images.macrumors.com/t/KdXjFsjzo4cHBQoKsRPq92YgURk=/2500x/article-new/2025/02/Apple-Robot-Emoji-Feature.jpg', 'publishedAt': '2025-02-14T23:22:51Z', 'content': 'Facebook parent company Meta is investing heavily in AI-powered humanoid robots, according to a report from Bloomberg. Meta wants to create robots that can act like humans and help people with physic… [+1500 chars]'}, {'source': {'id': 'bbc-news', 'name': 'BBC News'}, 'author': 'https://www.facebook.com/bbcnews', 'title': 'Apple iPhone sales dip despite AI rollout', 'description': \"The company's signature phone has been updated with artificial intelligence, but sales are down.\", 'url': 'https://www.bbc.co.uk/news/articles/cn57l2nreglo', 'urlToImage': 'https://ichef.bbci.co.uk/ace/branded_news/1200/cpsprodpb/686e/live/602b6ef0-df58-11ef-88f5-9fd60bc5cfdc.jpg', 'publishedAt': '2025-01-31T04:00:27Z', 'content': 'He has called for tariffs of up to 60% on products made in China, where Apple does much of its manufacturing. \\r\\nBut the timing and full scope of those plans, which would put a new tax on imports into… [+1441 chars]'}, {'source': {'id': None, 'name': 'Harvard Business Review'}, 'author': 'Doug J. Chung, Candace Lun Plotkin, Siamak Sarvari, Jennifer Stanley, Maria Valdivieso', 'title': '5 Gen AI Myths Holding Sales and Marketing Teams Back', 'description': 'Myth 1: The technology is only useful at the initial stages of identifying customers.', 'url': 'https://hbr.org/2025/02/5-gen-ai-myths-holding-sales-and-marketing-teams-back', 'urlToImage': 'https://hbr.org/resources/images/article_assets/2025/02/Feb25_21_1292706054.jpg', 'publishedAt': '2025-02-21T15:00:00Z', 'content': 'New and disruptive technologies often generate both excitement and anxiety, and generative artificial intelligence (gen AI) is no exception. In marketing and sales, the buzz around gen AI is particul… [+335 chars]'}, {'source': {'id': None, 'name': 'Slashdot.org'}, 'author': 'BeauHD', 'title': 'Red Hat Plans to Add AI to Fedora and GNOME', 'description': \"In his post about the future of Fedora Workstation, Christian F.K. Schaller discusses how the Red Hat team plans to integrate AI with IBM's open-source Granite engine to enhance developer tools, such as IDEs, and create an AI-powered Code Assistant. He says t…\", 'url': 'https://linux.slashdot.org/story/25/02/04/2047240/red-hat-plans-to-add-ai-to-fedora-and-gnome', 'urlToImage': 'https://a.fsdn.com/sd/topics/redhat_64.png', 'publishedAt': '2025-02-04T20:50:00Z', 'content': \"In his post about the future of Fedora Workstation, Christian F.K. Schaller discusses how the Red Hat team plans to integrate AI with IBM's open-source Granite engine to enhance developer tools, such… [+1726 chars]\"}, {'source': {'id': None, 'name': 'Slashdot.org'}, 'author': 'BeauHD', 'title': 'The Protesters Who Want To Ban AGI Before It Even Exists', 'description': 'An anonymous reader quotes a report from The Register: On Saturday at the Silverstone Cafe in San Francisco, a smattering of activists gathered to discuss plans to stop the further advancement of artificial intelligence. The name of their non-violent civil re…', 'url': 'https://slashdot.org/story/25/02/21/2157258/the-protesters-who-want-to-ban-agi-before-it-even-exists', 'urlToImage': 'https://a.fsdn.com/sd/topics/ai_64.png', 'publishedAt': '2025-02-21T23:30:00Z', 'content': 'AGI, defined by OpenAI as \"highly autonomous systems that outperform humans at most economically valuable work.\"\\r\\nGiven that human families today on this planet literally survive and thrive on their … [+1406 chars]'}, {'source': {'id': None, 'name': 'BBC News'}, 'author': None, 'title': \"'Self-healing' roads aim to solve pothole crisis\", 'description': \"Self-healing asphalt roads could soon offer a solution to the UK's pothole crisis, researchers say.\", 'url': 'https://www.bbc.com/news/articles/cgkj2dl6l78o', 'urlToImage': 'https://ichef.bbci.co.uk/news/1024/branded_news/f745/live/5d5d4640-e236-11ef-b704-0b3ab5d3ab51.jpg', 'publishedAt': '2025-02-03T18:56:17Z', 'content': \"Self-healing asphalt roads could soon offer a solution to the UK's pothole crisis, researchers say\\r\\nSelf-healing asphalt roads could soon offer a solution to the UK's pothole crisis, according to new… [+2253 chars]\"}, {'source': {'id': None, 'name': 'Github.com'}, 'author': 'US-Artificial-Intelligence', 'title': 'Self-hosted, simple web browser service – send URL, get screenshots', 'description': 'An API that takes a URL and gives back a file with browser screenshots. - US-Artificial-Intelligence/scraper', 'url': 'https://github.com/US-Artificial-Intelligence/scraper', 'urlToImage': 'https://opengraph.githubassets.com/fa7062ff46cb37470f78e683686dace2dc33035bcfe0dc6c6e32ca116ce4ea23/US-Artificial-Intelligence/scraper', 'publishedAt': '2025-02-06T18:48:05Z', 'content': 'You run the API on your machine, you send it a URL, and you get back the website data as a file plus screenshots of the site. Simple as.\\r\\nThis project was made to support Abbey, an AI platform. Its a… [+4791 chars]'}, {'source': {'id': None, 'name': 'swissinfo.ch'}, 'author': 'SWI swissinfo.ch', 'title': \"US restricts Switzerland's access to AI chips\", 'description': 'Switzerland is excluded by the US from the allied countries for unlimited access to chips required for artificial intelligence.', 'url': 'https://www.swissinfo.ch/eng/multinational-companies/us-restricts-switzerlands-access-to-ai-chips/88781270', 'urlToImage': 'https://www.swissinfo.ch/content/wp-content/uploads/sites/13/2025/01/190746801_highres.jpg?ver=82d92c72&fit=1200,801', 'publishedAt': '2025-01-27T03:39:38Z', 'content': 'Chip production at the factory of Espros Photonics Corporation (EPC) in Sargans, canton of St. Gallen (2013). \\r\\n Keystone / Christian Beutler \\r\\nSwitzerland is excluded by the US from the allied count… [+6977 chars]'}, {'source': {'id': None, 'name': 'Hipertextual'}, 'author': 'Luis Miranda', 'title': 'La nueva Siri con IA peligra: Apple podría retrasar su lanzamiento', 'description': 'Apple podría retrasar la renovación de Siri impulsada por inteligencia artificial. Un nuevo reporte afirma que los de Cupertino están experimentando problemas, por lo que la asistente inteligente no estaría lista para su lanzamiento en abril de 2025. Si los r…', 'url': 'http://hipertextual.com/2025/02/siri-peligra-apple-podria-retrasar-su-lanzamiento', 'urlToImage': 'https://imgs.hipertextual.com/wp-content/uploads/2024/06/Siri-iOS-18-scaled.jpg', 'publishedAt': '2025-02-14T23:49:25Z', 'content': 'Apple podría retrasar la renovación de Siri impulsada por inteligencia artificial. Un nuevo reporte afirma que los de Cupertino están experimentando problemas, por lo que la asistente inteligente no … [+3221 chars]'}, {'source': {'id': None, 'name': 'Gizmodo.com'}, 'author': 'Mike Fazioli', 'title': '$40 for an All-in-One AI Tool Lifetime Plan, Get Access to ChatGPT, Gemini, and More With 1minAI at 82% Off', 'description': 'Master this top-rated artificial intelligence platform and develop AI skills to keep you at the top of the job market.', 'url': 'https://gizmodo.com/40-for-an-all-in-one-ai-tool-lifetime-plan-get-access-to-chatgpt-gemini-and-more-with-1minai-at-82-off-2000562693', 'urlToImage': 'https://gizmodo.com/app/uploads/2024/11/1MinAI-1.jpg', 'publishedAt': '2025-02-12T16:50:16Z', 'content': 'You’d be excused for feeling like everything is uncertain these days, but here’s something you can take to the bankartificial intelligence isnt just here to stay, its rapidly transforming the creativ… [+2511 chars]'}, {'source': {'id': None, 'name': 'Yahoo Entertainment'}, 'author': None, 'title': 'Prediction: This Artificial Intelligence (AI) Stock Could Leave Palantir in the Dust in 2025', 'description': None, 'url': 'https://consent.yahoo.com/v2/collectConsent?sessionId=1_cc-session_9cd81df8-3dec-42b6-9345-9557b0f3f809', 'urlToImage': None, 'publishedAt': '2025-02-04T11:00:00Z', 'content': \"If you click 'Accept all', we and our partners, including 239 who are part of the IAB Transparency &amp; Consent Framework, will also store and/or access information on a device (in other words, use … [+702 chars]\"}, {'source': {'id': None, 'name': 'Yahoo Entertainment'}, 'author': None, 'title': \"Why major countries can't agree on how to regulate artificial intelligence\", 'description': None, 'url': 'https://consent.yahoo.com/v2/collectConsent?sessionId=1_cc-session_cc1d12a6-e993-4748-862a-395905c95c77', 'urlToImage': None, 'publishedAt': '2025-02-13T09:00:00Z', 'content': \"If you click 'Accept all', we and our partners, including 239 who are part of the IAB Transparency &amp; Consent Framework, will also store and/or access information on a device (in other words, use … [+702 chars]\"}, {'source': {'id': None, 'name': 'Gizmodo.com'}, 'author': 'Isaac Schultz', 'title': 'AI Unlocks 2,000-Year-Old Herculaneum Scroll Carbonized by Vesuvius', 'description': 'An method driven by artificial intelligence is making it possible to read texts scorched and left buried by the eruption of Mount Vesuvius in 79 CE.', 'url': 'https://gizmodo.com/ai-unlocks-2000-year-old-herculaneum-scroll-carbonized-by-vesuvius-2000560339', 'urlToImage': 'https://gizmodo.com/app/uploads/2024/08/papyrus-fragments-herculaneum-AI.jpg', 'publishedAt': '2025-02-06T18:55:21Z', 'content': 'Researchers at the University of Oxford’s Bodleian Libraries and the Vesuvius Challenge have deciphered yet another scroll carbonized by the eruption of Mount Vesuvius in 79 CE.\\r\\nThe scrolldesignated… [+3313 chars]'}, {'source': {'id': None, 'name': 'Slashdot.org'}, 'author': 'msmash', 'title': 'Taiwan Says Government Departments Should Not Use DeepSeek, Citing Security Concerns', 'description': \"An anonymous reader shares a report: Taiwan's digital ministry said on Friday that government departments should not use Chinese startup DeepSeek's artificial intelligence (AI) service, saying that as the product is from China it represents a security concern…\", 'url': 'https://slashdot.org/story/25/01/31/1513252/taiwan-says-government-departments-should-not-use-deepseek-citing-security-concerns', 'urlToImage': 'https://a.fsdn.com/sd/topics/ai_64.png', 'publishedAt': '2025-01-31T16:00:00Z', 'content': \"Taiwan's digital ministry said on Friday that government departments should not use Chinese startup DeepSeek's artificial intelligence (AI) service, saying that as the product is from China it repres… [+638 chars]\"}, {'source': {'id': None, 'name': 'Slashdot.org'}, 'author': 'BeauHD', 'title': 'Microsoft Reveals Its First Quantum Computing Chip, the Majorana 1', 'description': \"After two decades of quantum computing research, Microsoft has unveiled its first quantum chip: the Majorana 1. CNBC reports: Microsoft's quantum chip employs eight topological qubits using indium arsenide, which is a semiconductor, and aluminum, which is a s…\", 'url': 'https://tech.slashdot.org/story/25/02/19/1651235/microsoft-reveals-its-first-quantum-computing-chip-the-majorana-1', 'urlToImage': 'https://a.fsdn.com/sd/topics/supercomputing_64.png', 'publishedAt': '2025-02-19T17:25:00Z', 'content': \"Microsoft's quantum chip employs eight topological qubits using indium arsenide, which is a semiconductor, and aluminum, which is a superconductor. A new paper in the journal Nature describes the chi… [+793 chars]\"}, {'source': {'id': 'business-insider', 'name': 'Business Insider'}, 'author': 'Huileng Tan', 'title': 'Alibaba is going all in on trying to beat the US at developing AI that can reason like a human being', 'description': 'Alibaba shares are up 70% this year to date on the boost from DeepSeek and its AI partnership with Apple for iPhones in China.', 'url': 'https://www.businessinsider.com/alibaba-share-price-china-ecommerce-ai-agi-tech-markets-deepseek-2025-2', 'urlToImage': 'https://i.insider.com/67bbeb2dc040bd1b4ca2e8f9?width=1200&format=jpeg', 'publishedAt': '2025-02-24T07:13:27Z', 'content': 'E-commerce giant Alibaba is now focused on AGI — AI that can think like a human.VCG/Getty Images\\r\\n<ul><li>Alibaba has shifted its focus to artificial general intelligence, or AGI.</li><li>The Chinese… [+3224 chars]'}, {'source': {'id': None, 'name': 'Slashdot.org'}, 'author': 'msmash', 'title': 'Apple Announces $500 Billion US Investment Plan, To Hire 20,000 People', 'description': \"Apple said it planned to hire an additional 20,000 staff in the US over the next four years as part of a $500 billion American investment plan. Financial Times: The $500 billion figure [non-paywalled source], spread over Trump's second term in office, include…\", 'url': 'https://apple.slashdot.org/story/25/02/24/1142222/apple-announces-500-billion-us-investment-plan-to-hire-20000-people', 'urlToImage': 'https://a.fsdn.com/sd/topics/business_64.png', 'publishedAt': '2025-02-24T11:42:00Z', 'content': 'The Fine Print: The following comments are owned by whoever posted them. We are not responsible for them in any way.'}, {'source': {'id': None, 'name': 'Slashdot.org'}, 'author': 'msmash', 'title': 'Salesforce Cutting 1,000 Roles While Hiring Salespeople for AI', 'description': 'Salesforce is cutting jobs as its latest fiscal year gets underway, Bloomberg reported Monday, citing a person familiar with the matter, even as the company simultaneously hires workers to sell new artificial intelligence products. From the report: More than …', 'url': 'https://slashdot.org/story/25/02/04/041235/salesforce-cutting-1000-roles-while-hiring-salespeople-for-ai', 'urlToImage': 'https://a.fsdn.com/sd/topics/ai_64.png', 'publishedAt': '2025-02-04T04:02:00Z', 'content': 'The Fine Print: The following comments are owned by whoever posted them. We are not responsible for them in any way.'}, {'source': {'id': None, 'name': 'Slashdot.org'}, 'author': 'EditorDavid', 'title': 'Will Cryptomining Facilities Change Into AI Data Centers?', 'description': 'To capitalize on the AI boom, many crypto miners \"have begun to repurpose parts of their operations into data centers,\" reports Reuters, \"given they already have most of the infrastructure\" (including landing and \"significant\" power resources...)\\n\\n\\nToronto-ba…', 'url': 'https://hardware.slashdot.org/story/25/02/03/0452259/will-cryptomining-facilities-change-into-ai-data-centers', 'urlToImage': 'https://a.fsdn.com/sd/topics/power_64.png', 'publishedAt': '2025-02-03T06:19:00Z', 'content': 'The Fine Print: The following comments are owned by whoever posted them. We are not responsible for them in any way.'}, {'source': {'id': None, 'name': 'Slashdot.org'}, 'author': 'msmash', 'title': \"Hugging Face Researchers Are Trying To Build a More Open Version of DeepSeek's AI 'Reasoning' Model\", 'description': \"Hugging Face researchers are attempting to recreate DeepSeek's R1 artificial intelligence model in an open-source format, just days after the Chinese AI lab's release sent markets soaring. The project, called Open-R1, aims to replicate R1's reasoning capabili…\", 'url': 'https://slashdot.org/story/25/01/28/2132226/hugging-face-researchers-are-trying-to-build-a-more-open-version-of-deepseeks-ai-reasoning-model', 'urlToImage': 'https://a.fsdn.com/sd/topics/ai_64.png', 'publishedAt': '2025-01-28T21:45:00Z', 'content': 'The Fine Print: The following comments are owned by whoever posted them. We are not responsible for them in any way.'}, {'source': {'id': 'business-insider', 'name': 'Business Insider'}, 'author': 'Bradley Saacks', 'title': \"Walleye, Balyasny start 2024 strong. Here's how hedge funds did in January.\", 'description': 'In a chaotic month for markets, the biggest hedge funds were able to grind out returns.', 'url': 'https://www.businessinsider.com/january-hedge-fund-returns-how-millennium-schonfeld-balyasny-trump-ai-2025-2', 'urlToImage': 'https://i.insider.com/67a10944bfebcc4d029d8fee?width=1200&format=jpeg', 'publishedAt': '2025-02-03T18:40:57Z', 'content': 'Dmitry Balyasny founded his hedge fund in 2001.Balyasny\\r\\n<ul><li>January was filled with macro tremors and market jitters, but big-name hedge funds were positive.</li><li>Walleye and Balyasny led the… [+1925 chars]'}, {'source': {'id': None, 'name': 'Gizmodo.com'}, 'author': 'Gizmodo Deals', 'title': 'Don’t Buy Any Other Samsung Phone, The Galaxy S25 Ultra is Almost Free', 'description': 'Over $1000 off the latest and most premium Samsung smartphone.', 'url': 'https://gizmodo.com/dont-buy-any-other-samsung-phone-the-galaxy-s25-ultra-is-almost-free-2000554983', 'urlToImage': 'https://gizmodo.com/app/uploads/2025/01/s25ultra.jpg', 'publishedAt': '2025-01-26T14:04:30Z', 'content': 'Samsung has just unveiled its highly anticipated Galaxy S25 Series (check out our hands-on here and here), and the pre-order offers available until January 31, 2025 are revolutionary.\\r\\nIt is now more… [+3476 chars]'}, {'source': {'id': None, 'name': 'Gizmodo.com'}, 'author': 'Lucas Ropek', 'title': 'Neom, Saudi Arabia’s Dystopian Desert City Project, Announces $5 Billion AI Data Center', 'description': 'The urban development project has often seemed pie-in-the-sky. A new \"energy efficient\" data center project promises more of the same.', 'url': 'https://gizmodo.com/neom-saudi-arabias-dystopian-desert-city-project-announces-5-billion-ai-data-center-2000562408', 'urlToImage': 'https://gizmodo.com/app/uploads/2022/10/2306c0fd1d22828ff1e86658ff0fc20b.jpg', 'publishedAt': '2025-02-11T21:00:48Z', 'content': 'They say data is the new oil. If that’s the case, it makes total sense that the oil kings of the last century are trying to become the data kings of this one. That’s a longwinded way of saying Saudi … [+3061 chars]'}, {'source': {'id': None, 'name': 'Gizmodo.com'}, 'author': 'AJ Dellinger', 'title': 'Microsoft Study Finds Relying on AI Kills Your Critical Thinking Skills', 'description': 'Researchers from Microsoft and Carnegie Mellon University warn that the more you use AI, the more your cognitive abilities deteriorate.', 'url': 'https://gizmodo.com/microsoft-study-finds-relying-on-ai-kills-your-critical-thinking-skills-2000561788', 'urlToImage': 'https://gizmodo.com/app/uploads/2024/08/chatgpt-iran-linked-election-influence-openai.jpg', 'publishedAt': '2025-02-10T19:50:01Z', 'content': 'Artificial intelligence may one day make humans obsoletejust not in the way that you’re thinking. Instead of AI getting so good at completing tasks that it takes the place of a person, we may just be… [+3036 chars]'}, {'source': {'id': None, 'name': 'Gizmodo.com'}, 'author': 'Germain Lussier', 'title': 'New Fantastic Four Posters Were Not Created With AI, Marvel Says', 'description': 'Pedro Pascal, Vanessa Kirby, Joseph Quinn, and Ebon Moss-Bachrach star in the upcoming film.', 'url': 'https://gizmodo.com/fantastic-four-posters-ai-marvel-pedro-pascal-disney-2000559158', 'urlToImage': 'https://gizmodo.com/app/uploads/2025/02/Fantastic-Four-Poster-crop.jpg', 'publishedAt': '2025-02-04T20:15:06Z', 'content': 'What has four fingers and loves the Fantastic Four? Not an AI-generated image, according to Marvel. Along with today’s first trailer forThe Fantastic Four: First Steps, the studio also released sever… [+2615 chars]'}, {'source': {'id': None, 'name': 'Asurion.com'}, 'author': 'Asurion', 'title': 'How to turn off Apple Intelligence', 'description': 'Learn how to turn off Apple Intelligence on iPhone, iPad, or Mac. Asurion Experts show you step-by-step how to manage your Apple devices’ smart features.', 'url': 'https://www.asurion.com/connect/tech-tips/turn-off-apple-intelligence/', 'urlToImage': None, 'publishedAt': '2025-02-01T09:11:37Z', 'content': 'Apple Intelligence is an artificial intelligence (AI) system built into the latest versions of iOS®, iPadOS®, and macOS®. While it offers many useful capabilities that can enhance your experience, yo… [+2148 chars]'}, {'source': {'id': 'wired', 'name': 'Wired'}, 'author': 'Megan Farokhmanesh', 'title': 'Director of the Game ‘Avowed’ Says AI Can’t Replace Human Creativity', 'description': '“Good game stories are going to be written by good narrative designers,” says Obsidian’s Carrie Patel. The new fantasy RPG she helmed gets an early release today.', 'url': 'https://www.wired.com/story/avowed-obsidian-carrie-patel-interview/', 'urlToImage': 'https://media.wired.com/photos/67abe9dd42686fe74f68f7b5/191:100/w_1280,c_limit/Carrie-Patel-Avowed-Director-Culture-SOURCE_Obsidian.jpg', 'publishedAt': '2025-02-13T14:00:00Z', 'content': 'As the video games industry continues to face massive layoffs, narrative jobs are taking the biggest hit. The industrys job cuts over the past couple of yearsmore than 30,000 roles were eliminated in… [+3943 chars]'}, {'source': {'id': 'wired', 'name': 'Wired'}, 'author': 'Reece Rogers', 'title': 'Protect Your Phone With Android’s Theft Detection Features', 'description': 'Enable these three anti-theft features on your Android phone right now. They’ll keep your sensitive info private if attackers steal your device while it’s unlocked.', 'url': 'https://www.wired.com/story/how-to-use-android-theft-detection-features/', 'urlToImage': 'https://media.wired.com/photos/6791336fa4f975cefb9dc926/191:100/w_1280,c_limit/android-security-gear.jpg', 'publishedAt': '2025-01-25T13:30:00Z', 'content': 'After Googles beta test in Brazil, the initial suite of theft protection features for Android smartphones is now widely availablebut you have to opt in.\\r\\nWhy isnt the company automatically adding the… [+3846 chars]'}, {'source': {'id': 'wired', 'name': 'Wired'}, 'author': 'Kate Knibbs', 'title': 'This USAID Program Made Food Aid More Efficient for Decades. DOGE Gutted It Anyways', 'description': 'The Famine Early Warning Systems Network is one of USAID’s most data-driven programs, but its work has been stalled by the Trump Administration.', 'url': 'https://www.wired.com/story/usaid-famine-system-dismantled/', 'urlToImage': 'https://media.wired.com/photos/67a51afefdef54ca84dc79e5/191:100/w_1280,c_limit/usaid-doge-biz-1759298464.jpg', 'publishedAt': '2025-02-19T18:58:54Z', 'content': 'Chemonics spokesperson Payal Chandiramani says USAID has indicated that Fews Net should qualify for a waiver, and it is working with the agency to determine how it should apply. USAID and the US Stat… [+4070 chars]'}, {'source': {'id': 'business-insider', 'name': 'Business Insider'}, 'author': 'Eve Crosbie', 'title': \"'The Simpsons' voice actor Hank Azaria fears AI may soon replace him: 'It seems just plain wrong'\", 'description': \"Azaria voices a number of the show's most iconic characters, including Moe the bartender, Chief Wiggum, and Comic Book Guy.\", 'url': 'https://www.businessinsider.com/the-simpsons-voice-actor-hank-azaria-ai-tech-replace-2025-2', 'urlToImage': 'https://i.insider.com/67a780be7bb3f854015c48fc?width=1200&format=jpeg', 'publishedAt': '2025-02-09T10:07:42Z', 'content': 'Hank Azaria voices a number of characters on the show.Pool/Getty Images\\r\\n<ul><li>Voice actor Hank Azaria has said he fears being replaced by artificial intelligence.</li><li>In a New York Times op-ed… [+3005 chars]'}, {'source': {'id': None, 'name': 'Hipertextual'}, 'author': 'Quelian Sanz', 'title': 'Apple hará lo que parecía imposible en el iPhone: ahora sí vas a querer usar Apple Intelligence', 'description': 'Llevamos meses creyendo que OpenAI sería la única compañía en ofrecer sus servicios a través de Apple Intelligence, algo que la última beta de iOS 18.4 ha desmentido. ChatGPT y los modelos de lenguaje de Sam Altman no tendrían la exclusividad para gestionar c…', 'url': 'http://hipertextual.com/2025/02/apple-hara-lo-que-parecia-imposible-en-el-iphone-ahora-si-vas-a-querer-usar-apple-intelligence', 'urlToImage': 'https://imgs.hipertextual.com/wp-content/uploads/2024/06/apple-intelligence.jpg', 'publishedAt': '2025-02-24T09:08:46Z', 'content': 'Llevamos meses creyendo que OpenAI sería la única compañía en ofrecer sus servicios a través de Apple Intelligence, algo que la última beta de iOS 18.4 ha desmentido. ChatGPT y los modelos de lenguaj… [+2636 chars]'}, {'source': {'id': None, 'name': '9to5Mac'}, 'author': 'Filipe Espósito', 'title': 'Report reveals details of how Apple Intelligence will work in China', 'description': 'As reported earlier today, Apple has officially partnered with Alibaba to enable Apple Intelligence for iPhone users in China. The country has strict regulatory requirements on artificial intelligence, which has led Apple to partner with Chinese companies for…', 'url': 'https://9to5mac.com/2025/02/13/apple-intelligence-china-2/', 'urlToImage': 'https://i0.wp.com/9to5mac.com/wp-content/uploads/sites/6/2024/10/Is-Apple-really-two-years-behind-on-AI.webp?resize=1200%2C628&quality=82&strip=all&ssl=1', 'publishedAt': '2025-02-14T04:24:24Z', 'content': 'As reported earlier today, Apple has officially partnered with Alibaba to enable Apple Intelligence for iPhone users in China. The country has strict regulatory requirements on artificial intelligenc… [+2393 chars]'}, {'source': {'id': 'ign', 'name': 'IGN'}, 'author': 'Ryan Dinsdale', 'title': \"Indiana Jones and the Great Circle Is Proof 'You Don't Need AI to Steal My Soul,' Harrison Ford Says\", 'description': 'Indiana Jones actor Harrison Ford has said Troy Baker playing the beloved character in video game Indiana Jones and the Great Circle is proof \"you don\\'t need artificial intelligence to steal my soul.\"', 'url': 'https://www.ign.com/articles/indiana-jones-and-the-great-circle-is-proof-you-dont-need-ai-to-steal-my-soul-harrison-ford-says', 'urlToImage': 'https://assets-prd.ignimgs.com/2024/12/05/ij-gc-blogroll-1733396706180.jpg?width=1280', 'publishedAt': '2025-02-06T17:48:51Z', 'content': 'Indiana Jones actor Harrison Ford has said Troy Baker playing the beloved character in video game Indiana Jones and the Great Circle is proof \"you don\\'t need artificial intelligence to steal my soul.… [+1463 chars]'}, {'source': {'id': None, 'name': 'Yahoo Entertainment'}, 'author': 'Dina Bass and Shirin Ghaffary', 'title': 'Microsoft Probing If DeepSeek-Linked Group Improperly Obtained OpenAI Data', 'description': '(Bloomberg) -- Microsoft Corp. and OpenAI are investigating whether data output from OpenAI’s technology was obtained in an unauthorized manner by a group...', 'url': 'https://www.yahoo.com/news/microsoft-probing-deepseek-linked-group-025844721.html', 'urlToImage': 'https://s.yimg.com/ny/api/res/1.2/y9qJWaRCN_tWABeT78AU9A--/YXBwaWQ9aGlnaGxhbmRlcjt3PTEyMDA7aD04MDI-/https://media.zenfs.com/en/bloomberg_technology_68/6b92d7250fef451c25b05673fbc5b142', 'publishedAt': '2025-01-29T02:58:44Z', 'content': '(Bloomberg) -- Microsoft Corp. and OpenAI are investigating whether data output from OpenAIs technology was obtained in an unauthorized manner by a group linked to Chinese artificial intelligence sta… [+3041 chars]'}, {'source': {'id': None, 'name': 'CNET'}, 'author': 'Patrick Holland', 'title': \"Apple Launched the iPhone 16E. Here's What You Get for $599\", 'description': \"At a surprising time, Apple unveiled a new phone that runs Apple Intelligence and has Apple's first 5G modem. Here are the main features and specs.\", 'url': 'https://www.cnet.com/tech/mobile/apple-just-launched-the-iphone-16e-heres-what-you-get-for-599/', 'urlToImage': 'https://www.cnet.com/a/img/resize/ad45118a0f908b5db52679e2e36a340a076f5e34/hub/2025/02/19/897cfe3f-9de4-4f03-8d08-14dca2f5bf02/apple-se-16e-03.png?auto=webp&fit=crop&height=675&width=1200', 'publishedAt': '2025-02-19T21:35:36Z', 'content': 'A new iPhone in February?! Apple launched the iPhone 16E on its site Wednesday, expanding the iPhone 16 line while also bringing a much-needed overhaul to the 2022\\xa0iPhone SE\\xa0with an all-new name, des… [+9585 chars]'}, {'source': {'id': None, 'name': 'BBC News'}, 'author': None, 'title': \"Zizians: What we know about the vegan 'cult' linked to six deaths\", 'description': 'A US border patrol agent and a landowner stabbed 50 times are among alleged victims of the group.', 'url': 'https://www.bbc.com/news/articles/cy83958r2d0o', 'urlToImage': 'https://ichef.bbci.co.uk/news/1024/branded_news/422c/live/6e4e2150-efc3-11ef-bd1b-d536627785f2.png', 'publishedAt': '2025-02-21T02:05:38Z', 'content': 'Jack Lasota pictured in a California mugshot dating from 2019\\r\\nA cult-like US group known as Zizians has been linked to a string of murders, sparking several arrests who are the people behind this gr… [+7567 chars]'}, {'source': {'id': 'business-insider', 'name': 'Business Insider'}, 'author': 'tspirlet@insider.com (Thibault Spirlet)', 'title': \"Tech stocks stage partial recovery after market rout sparked by DeepSeek's rise\", 'description': 'Nvidia closed higher on Tuesday as some investors seized an opportunity to buy the chip giant at a discount following its record wipeout on Monday.', 'url': 'https://markets.businessinsider.com/news/stocks/tech-stocks-rebound-deepseek-selloff-nvidia-asml-nasdaq-2025-1', 'urlToImage': 'https://i.insider.com/679a00a0eb4be2fff9a2b38c?width=1200&format=jpeg', 'publishedAt': '2025-01-29T11:30:00Z', 'content': \"AI-related stocks staged a partial recovery following Monday's tech rout sparked by the sudden rise of Chinese startup DeepSeek.\\r\\nChip titan Nvidia closed almost 9% higher on Tuesday, recovering abou… [+1183 chars]\"}, {'source': {'id': None, 'name': 'AppleInsider'}, 'author': 'news@appleinsider.com (Chip Loder)', 'title': 'How to unplug from Apple Intelligence on iOS and macOS', 'description': \"Apple Intelligence is still in its infancy, but not everyone wants to use it. Here's how to disconnect from Apple Intelligence on iOS and macOS.Unplug from Apple Intelligence.While artificial intelligence is gaining in popularity at an accelerated rate, some …\", 'url': 'https://appleinsider.com/inside/apple-intelligence/tips/how-to-unplug-from-apple-intelligence-on-ios-and-macos', 'urlToImage': 'https://photos5.appleinsider.com/gallery/62482-129609-lede-unplug-xl.jpg', 'publishedAt': '2025-02-14T04:52:46Z', 'content': \"Apple Intelligence is still in its infancy, but not everyone wants to use it. Here's how to disconnect from Apple Intelligence on iOS and macOS.\\r\\nWhile artificial intelligence is gaining in popularit… [+3615 chars]\"}, {'source': {'id': None, 'name': 'Samaltman.com'}, 'author': None, 'title': 'Three Observations', 'description': 'Our mission is to ensure that AGI (Artificial General Intelligence) benefits all of humanity.\\xa0\\n\\nSystems that start to point to AGI* are coming into view, and so we think it’s important to...', 'url': 'https://blog.samaltman.com/three-observations', 'urlToImage': None, 'publishedAt': '2025-02-09T21:06:55Z', 'content': 'Our mission is to ensure that AGI (Artificial General Intelligence) benefits all of humanity.\\xa0\\r\\nSystems that start to point to AGI* are coming into view, and so we think its important to understand t… [+7555 chars]'}, {'source': {'id': None, 'name': 'VentureBeat'}, 'author': 'Michael Nuñez', 'title': 'Microsoft’s Muse AI can design video game worlds after watching you play', 'description': \"Microsoft new Muse AI system learns to generate interactive 3D game worlds by watching gameplay footage, marking a major advance in artificial intelligence's ability to understand spatial environments and human interactions.\", 'url': 'https://venturebeat.com/ai/microsofts-muse-ai-can-design-video-game-worlds-after-watching-you-play/', 'urlToImage': 'https://venturebeat.com/wp-content/uploads/2025/02/nuneybits_Vector_art_of_a_friendly_robot_thoughtfully_watching__49af2d1e-0295-447f-8104-56b0889088ef.webp?w=853?w=1200&strip=all', 'publishedAt': '2025-02-19T16:00:00Z', 'content': 'Join our daily and weekly newsletters for the latest updates and exclusive content on industry-leading AI coverage. Learn More\\r\\nMicrosoft researchers have achieved what many in artificial intelligenc… [+4997 chars]'}, {'source': {'id': None, 'name': 'cleveland.com'}, 'author': 'Lucas Daprile, cleveland.com', 'title': 'Cleveland police used AI to justify a search warrant. It derailed a murder case', 'description': 'Cleveland police used artificial intelligence software to justify a search warrant in a murder case. A judge, however, threw out the results of that search, including the gun authorities say was the murder weapon.', 'url': 'https://www.cleveland.com/news/2025/01/cleveland-police-used-ai-to-justify-a-search-warrant-it-has-derailed-a-murder-case.html', 'urlToImage': 'https://www.cleveland.com/resizer/v2/RZPXC4APYFC5DPINRUJRKYGDIM.jpg?auth=c04c6a0feae2af43c2a8b4b0986a8d3e9173690134e814493e12fa99ad6792d7&width=1280&quality=90', 'publishedAt': '2025-01-28T11:17:54Z', 'content': 'CLEVELAND, Ohio A jury may never see the gun that authorities say was used to kill Blake Story last year.\\r\\nThats because Cleveland police used a facial recognition program one that explicitly says it… [+12083 chars]'}, {'source': {'id': None, 'name': 'MacRumors'}, 'author': 'Hartley Charlton', 'title': \"Apple Continues to Be the World's Most Admired Company\", 'description': \"Apple has been ranked as Fortune's Most Admired Company for the 18th consecutive year.\\n\\n\\n\\n\\n\\nThe Fortune rankings are based on a survey of 3,380 business leaders across a range of industries, who assess companies on nine criteria, including innovation, investm…\", 'url': 'https://www.macrumors.com/2025/01/30/apple-continues-as-most-admired-company/', 'urlToImage': 'https://images.macrumors.com/t/sJR4ML-uwT8mRNH0yIK6zAfSCG8=/2048x/article-new/2024/09/Apple-Logo-Top-Half.jpeg', 'publishedAt': '2025-01-30T14:05:57Z', 'content': \"Apple has been ranked as Fortune's Most Admired Company for the 18th consecutive year.\\r\\nThe Fortune rankings are based on a survey of 3,380 business leaders across a range of industries, who assess c… [+1196 chars]\"}, {'source': {'id': None, 'name': 'BBC News'}, 'author': None, 'title': \"'This battle is my 9 to 5 - I won't stop until I have my £620m of Bitcoin back'\", 'description': 'James Howells claimed his ex-girlfriend threw out the hard drive, today worth £620m, in 2013.', 'url': 'https://www.bbc.com/news/articles/czdl6er0369o', 'urlToImage': 'https://ichef.bbci.co.uk/news/1024/branded_news/bc34/live/df2953e0-eae6-11ef-bd1b-d536627785f2.jpg', 'publishedAt': '2025-02-15T21:57:29Z', 'content': \"James Howells tried to sue Newport council to gain access to the tip where his hard drive ended up\\r\\nIt has been more than a decade since James Howells' hard drive - containing Bitcoin now worth hundr… [+6747 chars]\"}, {'source': {'id': None, 'name': 'Yahoo Entertainment'}, 'author': 'Madison Mills', 'title': \"The 'AI game continues,' IG CEO says\", 'description': 'Tastytrade at IG CEO JJ Kinahan joins Catalysts to share his perspective on artificial intelligence (AI) developments and broader technology trends. Kinahan ...', 'url': 'https://finance.yahoo.com/video/ai-game-continues-ig-ceo-164351619.html', 'urlToImage': 'https://s.yimg.com/ny/api/res/1.2/w.9xT2tVoEp4mhYD3OzBrQ--/YXBwaWQ9aGlnaGxhbmRlcjt3PTEyMDA7aD02NzY-/https://s.yimg.com/os/creatr-uploaded-images/2025-02/3269a400-eeda-11ef-b2dc-a732f9e48eed', 'publishedAt': '2025-02-19T16:43:51Z', 'content': 'Tastytrade at IG CEO JJ Kinahan joins Catalysts to share his perspective on artificial intelligence (AI) developments and broader technology trends.\\r\\nKinahan emphasizes that the \"AI game continues\" w… [+832 chars]'}, {'source': {'id': 'fox-news', 'name': 'Fox News'}, 'author': 'Fox News Staff', 'title': 'Fox News AI Newsletter: Harrison Ford addresses AI fears', 'description': 'Stay up to date on the latest AI technology advancements and learn about the challenges and opportunities AI presents', 'url': 'https://www.foxnews.com/tech/ai-newsletter-harrison-ford-addresses-ai-fears', 'urlToImage': 'https://static.foxnews.com/foxnews.com/content/uploads/2024/08/Harrrison-ford-red-hulk.jpg', 'publishedAt': '2025-02-22T13:30:18Z', 'content': \"Welcome to Fox News' Artificial Intelligence newsletter with the latest AI technology advancements.\\r\\nIN TODAY'S NEWSLETTER:\\r\\n Harrison Ford shuts down AI fears, dismisses technology's power to 'steal… [+1520 chars]\"}, {'source': {'id': None, 'name': 'Yahoo Entertainment'}, 'author': 'Evolve Editors', 'title': 'Scarlett Johansson Responds to AI Video Targeting Kanye West', 'description': 'Scarlett Johansson is speaking out after an AI-generated video supposedly condemning Kanye West’s antisemitism and featuring her likeness surfaced online...', 'url': 'https://www.yahoo.com/news/scarlett-johansson-responds-ai-video-102419446.html', 'urlToImage': 'https://media.zenfs.com/en/mandatory_995/39b35fbc0816f4d41166895ab6745a01', 'publishedAt': '2025-02-13T10:24:19Z', 'content': 'Scarlett Johansson is speaking out after an AI-generated video supposedly condemning Kanye Wests antisemitism and featuring her likeness surfaced online. The altered clip, which also includes several… [+2000 chars]'}, {'source': {'id': None, 'name': 'Yahoo Entertainment'}, 'author': 'Mariella Moon', 'title': \"China's DeepSeek AI hit by information request from Italy's data protection watchdog\", 'description': \"China's DeepSeek AI has already caught the eye of a data protection watchdog, shortly after it went viral and became the top-rated free app on Apple's App Store in the US and other regions. As TechCrunch reports, Garante, or the Italian Data Protection Author…\", 'url': 'https://consent.yahoo.com/v2/collectConsent?sessionId=1_cc-session_a1e0f2b7-212f-4432-8297-68f6ca101b8b', 'urlToImage': None, 'publishedAt': '2025-01-29T13:30:25Z', 'content': \"If you click 'Accept all', we and our partners, including 239 who are part of the IAB Transparency &amp; Consent Framework, will also store and/or access information on a device (in other words, use … [+703 chars]\"}, {'source': {'id': None, 'name': 'Theregister.com'}, 'author': 'Thomas Claburn', 'title': 'We meet the protesters who want to ban Artificial General Intelligence before it even exists', 'description': 'STOP AI warns of doomsday scenario, demands governments pull the plug on advanced models\\nFeature On Saturday at the Silverstone Cafe in San Francisco, a smattering of activists gathered to discuss plans to stop the further advancement of artificial intelligen…', 'url': 'https://www.theregister.com/2025/02/19/ai_activists_seek_ban_agi/', 'urlToImage': 'https://regmedia.co.uk/2025/02/19/stop_ai_main_pic.jpg', 'publishedAt': '2025-02-19T19:32:08Z', 'content': 'Feature On Saturday at the Silverstone Cafe in San Francisco, a smattering of activists gathered to discuss plans to stop the further advancement of artificial intelligence.\\r\\nThe name of their non-vi… [+10646 chars]'}, {'source': {'id': None, 'name': 'Applesfera.com'}, 'author': 'Isra Fdez', 'title': 'Apple Intelligence, todos los iPhone, iPad y Mac compatibles con la inteligencia artificial de Apple', 'description': 'La inteligencia artificial de Apple, bautizada como Apple Intelligence\\r\\n, acaba de llegar a Europa. Si bien ya estaba disponible en ordenadores Mac, solo lo estaba en inglés y con algunas limitaciones. A partir del 21 de febrero la cosa cambia y la beta para …', 'url': 'https://www.applesfera.com/servicios-apple/apple-intelligence-todos-iphone-ipad-mac-compatibles-inteligencia-artificial-apple', 'urlToImage': 'https://i.blogs.es/9035a2/apple-intelligence-lo-cambia-todo/840_560.jpeg', 'publishedAt': '2025-02-21T16:01:56Z', 'content': 'La inteligencia artificial de Apple, bautizada como Apple Intelligence\\r\\n, acaba de llegar a Europa. Si bien ya estaba disponible en ordenadores Mac, solo lo estaba en inglés y con algunas limitacione… [+3486 chars]'}, {'source': {'id': 'fox-news', 'name': 'Fox News'}, 'author': 'Fox News Staff', 'title': 'Fox News AI Newsletter: DeepSeek underscores US-China race for AI dominance, OpenAI says', 'description': 'Stay up to date on the latest AI technology advancements and learn about the challenges and opportunities AI presents now and for the future.', 'url': 'https://www.foxnews.com/tech/fox-news-ai-newsletter-deepseek-underscores-us-china-race-ai-dominance-openai-says', 'urlToImage': 'https://static.foxnews.com/foxnews.com/content/uploads/2025/01/2-deepseek-ai-china.png', 'publishedAt': '2025-01-29T17:09:15Z', 'content': 'Welcome to Fox News Artificial Intelligence newsletter with the latest AI technology advancements.\\r\\nIN TODAYS NEWSLETTER:\\r\\n- DeepSeek is the newest front in the AI competition between the US and Chin… [+2036 chars]'}, {'source': {'id': 'fox-news', 'name': 'Fox News'}, 'author': 'Fox News Staff', 'title': 'Fox News AI Newsletter: AI takes big step forward with 3D-printed shoe', 'description': 'Stay up to date on the latest AI technology advancements and learn about the challenges and opportunities AI presents now and for the future.', 'url': 'https://www.foxnews.com/tech/fox-news-ai-newsletter-ai-takes-big-step-forward-3d-printed-shoe', 'urlToImage': 'https://static.foxnews.com/foxnews.com/content/uploads/2025/01/2-worlds-first-ai-designed-3d-printed-shoe-wants-to-be-the-next-crocs.jpg', 'publishedAt': '2025-02-05T16:56:10Z', 'content': \"Welcome to Fox News Artificial Intelligence newsletter with the latest AI technology advancements.\\r\\nIN TODAYS NEWSLETTER:\\r\\n- World's first AI-designed, 3D-printed shoe wants to be the next Crocs\\r\\n- T… [+2068 chars]\"}, {'source': {'id': 'business-insider', 'name': 'Business Insider'}, 'author': 'Shubhangi Goel', 'title': \"Meta's head of AI advises Europe to keep open-source models — like DeepSeek — legal\", 'description': 'LeCun has advocated for open-source models, saying that these systems should not be controlled by a small number of people.', 'url': 'https://www.businessinsider.com/europe-should-keep-open-source-ai-legal-yann-lecun-2025-2', 'urlToImage': 'https://i.insider.com/653262e096908fd7cdb3775b?width=1200&format=jpeg', 'publishedAt': '2025-02-11T07:40:06Z', 'content': \"Meta's AI chief says Europe should keep its AI models open source.Kevin Dietsch/Getty Images\\r\\n<ul><li>Europe should keep AI models open source or risk falling behind, said Meta's chief AI scientist.<… [+2763 chars]\"}, {'source': {'id': 'business-insider', 'name': 'Business Insider'}, 'author': 'Julia Hornstein', 'title': \"Google's latest change to its AI policies signals how Silicon Valley is warming up to the defense industry\", 'description': \"Google's latest update of its ethical AI guidelines included omitting previous commitments against using technology for weapons and surveillance.\", 'url': 'https://www.businessinsider.com/google-changes-its-ai-policy-defense-tech-2025-2', 'urlToImage': 'https://i.insider.com/67a29d157bb3f854015bc0e0?width=1200&format=jpeg', 'publishedAt': '2025-02-05T00:18:40Z', 'content': 'Google headquarters in Mountain View, California.Tayfun Coskun/Anadolu via Getty Images\\r\\n<ul><li>Google updated its ethical AI guidelines in a blog post on Tuesday.</li><li>The post omitted a 2018 st… [+3403 chars]'}, {'source': {'id': 'the-next-web', 'name': 'The Next Web'}, 'author': 'The Conversation', 'title': 'Knowing less about AI makes people more open to having it in their lives', 'description': 'The rapid spread of artificial intelligence has people wondering: who’s most likely to embrace AI in their daily lives? Many assume it’s the tech-savvy — those who understand how AI works — who are most eager to adopt it. Surprisingly, our new research (publi…', 'url': 'https://thenextweb.com/news/knowing-less-ai-makes-people-more-open', 'urlToImage': 'https://img-cdn.tnwcdn.com/image/tnw-blurple?filter_last=1&fit=1280%2C640&url=https%3A%2F%2Fcdn0.tnwcdn.com%2Fwp-content%2Fblogs.dir%2F1%2Ffiles%2F2025%2F01%2FUntitled-design-2-1.jpg&signature=fb968b888fc029abc8ea845e0c688987', 'publishedAt': '2025-01-31T16:54:01Z', 'content': 'The rapid spread of artificial intelligence has people wondering: whos most likely to embrace AI in their daily lives? Many assume its the tech-savvy those who understand how AI works who are most ea… [+3917 chars]'}, {'source': {'id': 'the-next-web', 'name': 'The Next Web'}, 'author': 'The Conversation', 'title': 'DeepSeek: China’s gamechanging AI system has big implications for UK tech\\xa0development', 'description': 'DeepSeek sent ripples through the global tech landscape this week as it soared above ChatGPT in Apple’s app store. The meteoric rise has shifted the dynamics of US-China tech competition, shocked global tech stock valuations, and reshaped the future direction…', 'url': 'https://thenextweb.com/news/deepseek-chinas-ai-system-implications-uk-tech-development', 'urlToImage': 'https://img-cdn.tnwcdn.com/image/tnw-blurple?filter_last=1&fit=1280%2C640&url=https%3A%2F%2Fcdn0.tnwcdn.com%2Fwp-content%2Fblogs.dir%2F1%2Ffiles%2F2025%2F01%2FUntitled-design-4.jpg&signature=d6edd5119c569a204701671ef4e368d4', 'publishedAt': '2025-01-28T21:48:09Z', 'content': 'DeepSeek sent ripples through the global tech landscape this week as it soared above ChatGPT in Apples app store. The meteoric rise has shifted the dynamics of US-China tech competition, shocked glob… [+5839 chars]'}, {'source': {'id': None, 'name': 'VentureBeat'}, 'author': 'Michael Nuñez', 'title': 'Crunchbase’s AI can predict startup success with 95% accuracy—will it change investing?', 'description': 'Crunchbase pivots to AI-powered predictions engine with 95% accuracy for startup funding rounds, abandoning historical data in favor of predictive intelligence that forecasts acquisitions and company growth.', 'url': 'https://venturebeat.com/ai/crunchbases-ai-can-predict-startup-success-with-95-accuracy-will-it-change-investing/', 'urlToImage': 'https://venturebeat.com/wp-content/uploads/2025/02/nuneybits_Vector_art_of_venture_capital_industry_San_Francisco__06c777d3-1a1d-4bbb-8a12-b08fda4b29b6.webp?w=853?w=1200&strip=all', 'publishedAt': '2025-02-19T17:00:00Z', 'content': 'Join our daily and weekly newsletters for the latest updates and exclusive content on industry-leading AI coverage. Learn More\\r\\nCrunchbase will abandon its roots as a historical data provider to beco… [+4954 chars]'}, {'source': {'id': None, 'name': 'Theregister.com'}, 'author': 'Simon Sharwood', 'title': 'As China embraces big tech again, Alibaba plans vast spend to push for artificial general intelligence', 'description': 'PLUS: Samsung exec jailed for selling DRAM secrets; ASUS launches sweetly scented mouse; Toyota’s smart city nears opening; and more\\nAsia In Brief PLUS: Samsung exec jailed for selling DRAM secrets; ASUS launches sweetly scented mouse; Toyota’s smart city nea…', 'url': 'https://www.theregister.com/2025/02/23/asia_tech_news_roundup/', 'urlToImage': 'https://regmedia.co.uk/2025/02/23/shutterstock_china_humanoid.jpg', 'publishedAt': '2025-02-23T22:32:08Z', 'content': 'Asia In Brief PLUS: Samsung exec jailed for selling DRAM secrets; ASUS launches sweetly scented mouse; Toyotas smart city nears opening; and more Chinese president Xi Jinping last week staged an even… [+5458 chars]'}]}\n"
     ]
    }
   ],
   "source": [
    "import os\n",
    "import requests\n",
    "\n",
    "# The key below is fake, you'll have to set your own\n",
    "# os.environ[\"NEWSAPI_API_KEY\"] = \"ea3f3f2f74824b8a80a3bf3faf1a6068\"\n",
    "\n",
    "api_key = os.getenv(\"NEWSAPI_API_KEY\")\n",
    "query = \"artificial intelligence\"\n",
    "url = f\"https://newsapi.org/v2/everything?q={query}&apiKey={api_key}\"\n",
    "\n",
    "response = requests.get(url)\n",
    "\n",
    "# Check if the request was successful\n",
    "if response.status_code == 200:\n",
    "    news_data = response.json()\n",
    "    print(news_data)\n",
    "else:\n",
    "    print(f\"Error: {response.status_code}\")\n"
   ]
  },
  {
   "cell_type": "code",
   "execution_count": 33,
   "metadata": {},
   "outputs": [
    {
     "name": "stdout",
     "output_type": "stream",
     "text": [
      "dict_keys(['status', 'totalResults', 'articles'])\n",
      "'Is China's AI tool DeepSeek as good as it seems?' from BBC News\n",
      "'Elon Musk’s xAI adds ‘Big Brain’ reasoning to Grok-3' from The Verge\n",
      "'Elon Musk: agent of chaos' from The Verge\n"
     ]
    }
   ],
   "source": [
    "# A successful response will contain text, which is a string (e.g. HTML, JSON, XML)\n",
    "response_text = response.text\n",
    "\n",
    "# It will also contain content, which is the same data but in the raw binary format\n",
    "# (requests automatically decodes this for us when we ask for response.text)\n",
    "response_text = response.content\n",
    "\n",
    "# Since we know that this data is in JSON format, we can parse it as a dictionary\n",
    "news_data = response.json()\n",
    "print(news_data.keys())\n",
    "\n",
    "# Extract key details\n",
    "articles = news_data[\"articles\"]\n",
    "\n",
    "for article in articles[:3]:  # Print first 3 articles\n",
    "    title = article[\"title\"]\n",
    "    source = article[\"source\"][\"name\"]\n",
    "    print(f\"'{title}' from {source}\")\n"
   ]
  },
  {
   "cell_type": "code",
   "execution_count": null,
   "metadata": {},
   "outputs": [
    {
     "name": "stdout",
     "output_type": "stream",
     "text": [
      "201\n",
      "{'title': 'AI Engineering with Python', 'body': 'APIs are essential for building data-driven applications.', 'userId': 1, 'id': 101}\n"
     ]
    }
   ],
   "source": [
    "url = 'https://jsonplaceholder.typicode.com/posts'\n",
    "payload = {\n",
    "    'title': 'AI Engineering with Python',\n",
    "    'body': 'APIs are essential for building data-driven applications.',\n",
    "    'userId': 1\n",
    "}\n",
    "\n",
    "response = requests.post(url, json=payload)\n",
    "\n",
    "# Check the response\n",
    "print(response.status_code)  # 201 means created\n",
    "print(response.json())"
   ]
  },
  {
   "cell_type": "code",
   "execution_count": 35,
   "metadata": {},
   "outputs": [
    {
     "name": "stdout",
     "output_type": "stream",
     "text": [
      "['AI', 'ML', 'Data']\n"
     ]
    }
   ],
   "source": [
    "import numpy as np\n",
    "\n",
    "class DataProcessor:\n",
    "    def __init__(self, data):\n",
    "        self.data = data\n",
    "\n",
    "    def clean_data(self):\n",
    "        return [item.strip() for item in self.data if item]\n",
    "\n",
    "processor = DataProcessor([\" AI \", \"  ML\", \"Data \"])\n",
    "print(processor.clean_data())\n"
   ]
  },
  {
   "cell_type": "code",
   "execution_count": 36,
   "metadata": {},
   "outputs": [
    {
     "name": "stderr",
     "output_type": "stream",
     "text": [
      "INFO:root:Processing 3 items.\n",
      "INFO:root:Processing 0 items.\n",
      "WARNING:root:No data to process.\n"
     ]
    }
   ],
   "source": [
    "import logging\n",
    "import re\n",
    "\n",
    "logging.basicConfig(level=logging.INFO)\n",
    "\n",
    "def process_data(data: list[str]) -> list[str] | None:\n",
    "    \"\"\"\n",
    "    Extract the first number from each string in the input list.\n",
    "\n",
    "    Args:\n",
    "        data (list[str]): List of strings containing numbers\n",
    "\n",
    "    Returns:\n",
    "        list[str]: List of extracted numbers as strings, or None\n",
    "    \"\"\"\n",
    "    logging.info(f\"Processing {len(data)} items.\")\n",
    "\n",
    "    if not data:\n",
    "        logging.warning(\"No data to process.\")\n",
    "        return None\n",
    "\n",
    "    try:\n",
    "        processed_data = [re.findall(r'\\d+', item)[0] for item in data]\n",
    "    except IndexError as e:\n",
    "        logging.error(\"Failed to extract number from string. No numbers found.\")\n",
    "        return None\n",
    "\n",
    "    return processed_data\n",
    "\n",
    "# Example usage\n",
    "sample_data = [\"user123\", \"order456\", \"item789\"]\n",
    "result = process_data(sample_data)  # Returns ['123', '456', '789']\n",
    "process_data([])  # Returns None\n"
   ]
  },
  {
   "cell_type": "code",
   "execution_count": null,
   "metadata": {},
   "outputs": [],
   "source": []
  }
 ],
 "metadata": {
  "kernelspec": {
   "display_name": "venv",
   "language": "python",
   "name": "python3"
  },
  "language_info": {
   "codemirror_mode": {
    "name": "ipython",
    "version": 3
   },
   "file_extension": ".py",
   "mimetype": "text/x-python",
   "name": "python",
   "nbconvert_exporter": "python",
   "pygments_lexer": "ipython3",
   "version": "3.12.7"
  }
 },
 "nbformat": 4,
 "nbformat_minor": 2
}
