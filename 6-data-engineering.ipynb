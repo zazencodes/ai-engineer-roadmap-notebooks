{
 "cells": [
  {
   "cell_type": "markdown",
   "metadata": {},
   "source": [
    "# AI Engineer Roadmap\n",
    "## Deep Learning\n",
    "### https://zazencodes.com/courses/ai-engineer-roadmap#deep-learning"
   ]
  },
  {
   "cell_type": "code",
   "execution_count": 2,
   "metadata": {},
   "outputs": [
    {
     "name": "stdout",
     "output_type": "stream",
     "text": [
      "Predictions (10 iters): [0 0 0 0 1 0 0 0 0 0]\n",
      "Predictions (100 iter): [1 0 0 1 1 0 1 1 0 0]\n"
     ]
    }
   ],
   "source": [
    "import numpy as np\n",
    "\n",
    "class Perceptron:\n",
    "    def __init__(self, learning_rate=0.01, n_iter=1000):\n",
    "        \"\"\"\n",
    "        Initialize perceptron with learning rate and number of iterations\n",
    "        \"\"\"\n",
    "        self.learning_rate = learning_rate  # Controls how much weights are updated\n",
    "        self.n_iter = n_iter  # Number of passes over the training data\n",
    "        self.weights = None  # Weight coefficients for each feature\n",
    "        self.bias = None  # Bias term\n",
    "\n",
    "    def fit(self, X, y):\n",
    "        \"\"\"\n",
    "        Train the perceptron on training data X and labels y\n",
    "        X: array of shape (n_samples, n_features)\n",
    "        y: array of shape (n_samples,) with binary labels 0/1\n",
    "        \"\"\"\n",
    "        # Initialize weights to zeros and bias to 0\n",
    "        n_samples, n_features = X.shape\n",
    "        self.weights = np.zeros(n_features)\n",
    "        self.bias = 0\n",
    "\n",
    "        # Training process - iterate n_iter times over all samples\n",
    "        for _ in range(self.n_iter):\n",
    "            for idx, x_i in enumerate(X):\n",
    "                # Calculate predicted output for current sample\n",
    "                linear_output = np.dot(x_i, self.weights) + self.bias\n",
    "                y_pred = self._activation(linear_output)\n",
    "\n",
    "                # Update weights and bias based on prediction error\n",
    "                update = self.learning_rate * (y[idx] - y_pred)\n",
    "                self.weights += update * x_i  # Update each weight\n",
    "                self.bias += update  # Update bias term\n",
    "\n",
    "    def predict(self, X):\n",
    "        \"\"\"\n",
    "        Make predictions on new samples X\n",
    "        Returns binary predictions 0/1\n",
    "        \"\"\"\n",
    "        linear_output = np.dot(X, self.weights) + self.bias\n",
    "        return self._activation(linear_output)\n",
    "\n",
    "    def _activation(self, x):\n",
    "        \"\"\"\n",
    "        Step activation function that returns:\n",
    "        1 if input >= 0\n",
    "        0 if input < 0\n",
    "        \"\"\"\n",
    "        return np.where(x >= 0, 1, 0)\n",
    "\n",
    "# Create simple linearly-separable dataset\n",
    "X = np.array([\n",
    "    [2, 4], [1, 1], [2, 1], [3, 5], [1, 5],\n",
    "    [4, 1], [5, 3], [4, 5], [2, 2], [3, 2]\n",
    "])\n",
    "y = np.array([1, 0, 0, 1, 1, 0, 1, 1, 0, 0])\n",
    "\n",
    "# Instantiate and train the perceptron\n",
    "perceptron = Perceptron(learning_rate=0.1, n_iter=10)\n",
    "perceptron.fit(X, y)\n",
    "\n",
    "# Predict and evaluate\n",
    "print(\"Predictions (10 iters):\", perceptron.predict(X))\n",
    "\n",
    "# Increase number of learning iterations\n",
    "perceptron = Perceptron(learning_rate=0.1, n_iter=100)\n",
    "perceptron.fit(X, y)\n",
    "print(\"Predictions (100 iter):\", perceptron.predict(X))\n"
   ]
  },
  {
   "cell_type": "code",
   "execution_count": null,
   "metadata": {},
   "outputs": [],
   "source": []
  },
  {
   "cell_type": "code",
   "execution_count": null,
   "metadata": {},
   "outputs": [],
   "source": []
  }
 ],
 "metadata": {
  "kernelspec": {
   "display_name": "venv",
   "language": "python",
   "name": "python3"
  },
  "language_info": {
   "codemirror_mode": {
    "name": "ipython",
    "version": 3
   },
   "file_extension": ".py",
   "mimetype": "text/x-python",
   "name": "python",
   "nbconvert_exporter": "python",
   "pygments_lexer": "ipython3",
   "version": "3.12.7"
  }
 },
 "nbformat": 4,
 "nbformat_minor": 2
}
